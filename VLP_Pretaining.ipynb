{
 "cells": [
  {
   "cell_type": "code",
   "execution_count": 1,
   "id": "429489c9",
   "metadata": {
    "scrolled": true
   },
   "outputs": [
    {
     "name": "stderr",
     "output_type": "stream",
     "text": [
      "\n",
      "Bad key text.latex.unicode in file C:\\Users\\lab\\anaconda3\\envs\\visualbert\\lib\\site-packages\\matplotlib\\mpl-data\\stylelib\\_classic_test.mplstyle, line 112 ('text.latex.unicode : False # use \"ucs\" and \"inputenc\" LaTeX packages for handling')\n",
      "You probably need to get an updated matplotlibrc file from\n",
      "https://github.com/matplotlib/matplotlib/blob/v3.5.1/matplotlibrc.template\n",
      "or from the matplotlib source distribution\n",
      "\n",
      "Bad key text.latex.preview in file C:\\Users\\lab\\anaconda3\\envs\\visualbert\\lib\\site-packages\\matplotlib\\mpl-data\\stylelib\\_classic_test.mplstyle, line 125 ('text.latex.preview : False')\n",
      "You probably need to get an updated matplotlibrc file from\n",
      "https://github.com/matplotlib/matplotlib/blob/v3.5.1/matplotlibrc.template\n",
      "or from the matplotlib source distribution\n",
      "\n",
      "Bad key mathtext.fallback_to_cm in file C:\\Users\\lab\\anaconda3\\envs\\visualbert\\lib\\site-packages\\matplotlib\\mpl-data\\stylelib\\_classic_test.mplstyle, line 157 ('mathtext.fallback_to_cm : True  # When True, use symbols from the Computer Modern')\n",
      "You probably need to get an updated matplotlibrc file from\n",
      "https://github.com/matplotlib/matplotlib/blob/v3.5.1/matplotlibrc.template\n",
      "or from the matplotlib source distribution\n",
      "\n",
      "Bad key savefig.jpeg_quality in file C:\\Users\\lab\\anaconda3\\envs\\visualbert\\lib\\site-packages\\matplotlib\\mpl-data\\stylelib\\_classic_test.mplstyle, line 420 ('savefig.jpeg_quality: 95       # when a jpeg is saved, the default quality parameter.')\n",
      "You probably need to get an updated matplotlibrc file from\n",
      "https://github.com/matplotlib/matplotlib/blob/v3.5.1/matplotlibrc.template\n",
      "or from the matplotlib source distribution\n",
      "\n",
      "Bad key savefig.frameon in file C:\\Users\\lab\\anaconda3\\envs\\visualbert\\lib\\site-packages\\matplotlib\\mpl-data\\stylelib\\_classic_test.mplstyle, line 423 ('savefig.frameon : True')\n",
      "You probably need to get an updated matplotlibrc file from\n",
      "https://github.com/matplotlib/matplotlib/blob/v3.5.1/matplotlibrc.template\n",
      "or from the matplotlib source distribution\n",
      "\n",
      "Bad key pgf.debug in file C:\\Users\\lab\\anaconda3\\envs\\visualbert\\lib\\site-packages\\matplotlib\\mpl-data\\stylelib\\_classic_test.mplstyle, line 444 ('pgf.debug           : False')\n",
      "You probably need to get an updated matplotlibrc file from\n",
      "https://github.com/matplotlib/matplotlib/blob/v3.5.1/matplotlibrc.template\n",
      "or from the matplotlib source distribution\n",
      "\n",
      "Bad key verbose.level in file C:\\Users\\lab\\anaconda3\\envs\\visualbert\\lib\\site-packages\\matplotlib\\mpl-data\\stylelib\\_classic_test.mplstyle, line 475 ('verbose.level  : silent      # one of silent, helpful, debug, debug-annoying')\n",
      "You probably need to get an updated matplotlibrc file from\n",
      "https://github.com/matplotlib/matplotlib/blob/v3.5.1/matplotlibrc.template\n",
      "or from the matplotlib source distribution\n",
      "\n",
      "Bad key verbose.fileo in file C:\\Users\\lab\\anaconda3\\envs\\visualbert\\lib\\site-packages\\matplotlib\\mpl-data\\stylelib\\_classic_test.mplstyle, line 476 ('verbose.fileo  : sys.stdout  # a log filename, sys.stdout or sys.stderr')\n",
      "You probably need to get an updated matplotlibrc file from\n",
      "https://github.com/matplotlib/matplotlib/blob/v3.5.1/matplotlibrc.template\n",
      "or from the matplotlib source distribution\n",
      "\n",
      "Bad key keymap.all_axes in file C:\\Users\\lab\\anaconda3\\envs\\visualbert\\lib\\site-packages\\matplotlib\\mpl-data\\stylelib\\_classic_test.mplstyle, line 493 ('keymap.all_axes : a                 # enable all axes')\n",
      "You probably need to get an updated matplotlibrc file from\n",
      "https://github.com/matplotlib/matplotlib/blob/v3.5.1/matplotlibrc.template\n",
      "or from the matplotlib source distribution\n",
      "\n",
      "Bad key animation.avconv_path in file C:\\Users\\lab\\anaconda3\\envs\\visualbert\\lib\\site-packages\\matplotlib\\mpl-data\\stylelib\\_classic_test.mplstyle, line 504 ('animation.avconv_path: avconv     # Path to avconv binary. Without full path')\n",
      "You probably need to get an updated matplotlibrc file from\n",
      "https://github.com/matplotlib/matplotlib/blob/v3.5.1/matplotlibrc.template\n",
      "or from the matplotlib source distribution\n",
      "\n",
      "Bad key animation.avconv_args in file C:\\Users\\lab\\anaconda3\\envs\\visualbert\\lib\\site-packages\\matplotlib\\mpl-data\\stylelib\\_classic_test.mplstyle, line 506 ('animation.avconv_args:            # Additional arguments to pass to avconv')\n",
      "You probably need to get an updated matplotlibrc file from\n",
      "https://github.com/matplotlib/matplotlib/blob/v3.5.1/matplotlibrc.template\n",
      "or from the matplotlib source distribution\n"
     ]
    },
    {
     "name": "stdout",
     "output_type": "stream",
     "text": [
      "Populating the interactive namespace from numpy and matplotlib\n"
     ]
    }
   ],
   "source": [
    "%pylab inline"
   ]
  },
  {
   "cell_type": "code",
   "execution_count": 4,
   "id": "4f72c3b4",
   "metadata": {},
   "outputs": [],
   "source": [
    "import os\n",
    "import collections\n",
    "\n",
    "import torch\n",
    "import torch.nn as nn\n",
    "from torch.utils.data.dataloader import DataLoader\n",
    "from tqdm import tqdm\n",
    "import h5py\n",
    "import pandas as pd\n"
   ]
  },
  {
   "cell_type": "code",
   "execution_count": 5,
   "id": "bd51dfa5",
   "metadata": {},
   "outputs": [],
   "source": [
    "\n",
    "from param import args\n",
    "\n",
    "'''predefined at param.py'''\n"
   ]
  },
  {
   "cell_type": "code",
   "execution_count": 7,
   "id": "b967379e",
   "metadata": {},
   "outputs": [
    {
     "name": "stdout",
     "output_type": "stream",
     "text": [
      "data/vocabs/attributes_vocab.txt\n",
      "data/vocabs/attributes_de_vocab.txt\n",
      "data/vocabs/objects_vocab.txt\n",
      "data/vocabs/objects_de_vocab.txt\n"
     ]
    }
   ],
   "source": [
    "from lxrt.symbolic_vocabulary import SymbolicVocab\n",
    "symbolic_vocab = SymbolicVocab(args.objects_vocab, args.attributes_vocab)\n"
   ]
  },
  {
   "cell_type": "code",
   "execution_count": 11,
   "id": "8085d7ac",
   "metadata": {
    "scrolled": true
   },
   "outputs": [
    {
     "name": "stdout",
     "output_type": "stream",
     "text": [
      "data/vocabs/attributes_vocab.txt\n",
      "data/vocabs/attributes_de_vocab.txt\n",
      "data/vocabs/objects_vocab.txt\n",
      "data/vocabs/objects_de_vocab.txt\n",
      "data/vocabs/attributes_vocab.txt\n",
      "data/vocabs/attributes_de_vocab.txt\n",
      "data/vocabs/objects_vocab.txt\n",
      "data/vocabs/objects_de_vocab.txt\n"
     ]
    }
   ],
   "source": [
    "import collections\n",
    "import os\n",
    "import random\n",
    "\n",
    "from tqdm import tqdm\n",
    "import numpy as np\n",
    "import torch\n",
    "import torch.nn as nn\n",
    "from torch.utils.data import DataLoader\n",
    "import json\n",
    "#from param import args\n",
    "from pretrain.lxmert_data import LXMERTDataset, LXMERTTorchDataset, LXMERTEvaluator\n",
    "from pretrain.text_data import GeneralCorpusNP,GeneralCorpusNP2\n",
    "from pretrain.lxmert_pretrain import TrainingMeter, get_tuple, get_tuple_hybrid,LXMERT,get_tuple_multilingual_hybrid_pretrain\n",
    "\n",
    "from lxrt.tokenization import BertTokenizer\n",
    "from lxrt.modeling import LXRTPretraining\n",
    "\n",
    "from collections import defaultdict"
   ]
  },
  {
   "cell_type": "code",
   "execution_count": 13,
   "id": "5c2ceb3d",
   "metadata": {},
   "outputs": [
    {
     "name": "stderr",
     "output_type": "stream",
     "text": [
      "INFO:lxrt.tokenization:loading vocabulary file C:/Users/lab/work/Anna/nlp-tutorial/5-2.BERT/bert-base-multilingual-uncased\\vocab.txt\n"
     ]
    }
   ],
   "source": [
    "'''load tokenizer'''\n",
    "from lxrt.tokenization import BertTokenizer\n",
    "\n",
    "tokenizer = BertTokenizer.from_pretrained(\n",
    "    args.huggingface+args.tokenizer,\n",
    "    do_lower_case=True\n",
    ")\n",
    "# tokenizer = BertTokenizer.from_pretrained(\n",
    "#     args.huggingface+args.tokenizer,\n",
    "#     do_lower_case=True\n",
    "# )"
   ]
  },
  {
   "cell_type": "code",
   "execution_count": 19,
   "id": "359ecce3",
   "metadata": {
    "scrolled": true
   },
   "outputs": [
    {
     "name": "stdout",
     "output_type": "stream",
     "text": [
      "COCO captions\n",
      "source: mscoco_train\n",
      "Load 82783 data from mscoco_train\n",
      "Load an answer table of size 9500.\n"
     ]
    },
    {
     "name": "stderr",
     "output_type": "stream",
     "text": [
      "INFO:lxrt.tokenization:loading vocabulary file C:/Users/lab/work/Anna/nlp-tutorial/5-2.BERT/bert-base-multilingual-uncased\\vocab.txt\n"
     ]
    },
    {
     "name": "stdout",
     "output_type": "stream",
     "text": [
      "['mscoco_train']\n",
      "False\n",
      "hahaha\n",
      "'train2014_obj36.h5_boxes': returning memmapped view.\n",
      "'train2014_obj36.h5_objects_id': returning memmapped view.\n",
      "'train2014_obj36.h5_objects_conf': returning memmapped view.\n",
      "'train2014_obj36.h5_attrs_id': returning memmapped view.\n",
      "'train2014_obj36.h5_attrs_conf': returning memmapped view.\n",
      "data/mscoco_imgfeat/train2014_obj36.h5 82783\n",
      "Created ['mscoco_train']\n",
      "Use 414113 data in text_only torch dataset, {'mscoco'}, limit_source ['visual7w', 'gqa', 'vqa', 'vg']\n",
      "image_only False\n",
      "text_only True\n",
      "'data_imonly_img_id_mscoco_train': returning memmapped view.\n",
      "'data_txtonly_sent_mscoco_train': returning memmapped view.\n"
     ]
    },
    {
     "name": "stderr",
     "output_type": "stream",
     "text": [
      "INFO:lxrt.tokenization:loading vocabulary file C:/Users/lab/work/Anna/nlp-tutorial/5-2.BERT/bert-base-multilingual-uncased\\vocab.txt\n"
     ]
    },
    {
     "name": "stdout",
     "output_type": "stream",
     "text": [
      "['data/multilingual/dewiki-20220201-clean-point2M.txt', 'data/lxmert/bc1g-halfM.txt']\n",
      "self.use_mismatch_objective False\n",
      "load_corpus\n",
      "Loading text only corpus...\n",
      "# of sentences: 700000 data/multilingual/dewiki-20220201-clean-point2M.txt+data/lxmert/bc1g-halfM.txt\n",
      "source: mscoco_train\n",
      "Load 82783 data from mscoco_train\n",
      "Load an answer table of size 9500.\n"
     ]
    },
    {
     "name": "stderr",
     "output_type": "stream",
     "text": [
      "INFO:lxrt.tokenization:loading vocabulary file C:/Users/lab/work/Anna/nlp-tutorial/5-2.BERT/bert-base-multilingual-uncased\\vocab.txt\n"
     ]
    },
    {
     "name": "stdout",
     "output_type": "stream",
     "text": [
      "['mscoco_train']\n",
      "False\n",
      "hahaha\n",
      "'train2014_obj36.h5_boxes': returning memmapped view.\n",
      "'train2014_obj36.h5_objects_id': returning memmapped view.\n",
      "'train2014_obj36.h5_objects_conf': returning memmapped view.\n",
      "'train2014_obj36.h5_attrs_id': returning memmapped view.\n",
      "'train2014_obj36.h5_attrs_conf': returning memmapped view.\n",
      "data/mscoco_imgfeat/train2014_obj36.h5 82783\n",
      "Created ['mscoco_train']\n",
      "Use 82783 data in image_only torch dataset, {'vg', 'visual7w', 'vqa', 'gqa', 'mscoco'}, limit_source []\n",
      "image_only True\n",
      "text_only False\n",
      "'data_imonly_img_id_mscoco_train': returning memmapped view.\n",
      "'data_txtonly_sent_mscoco_train': returning memmapped view.\n",
      "source: mscoco_minival\n",
      "Load 5000 data from mscoco_minival\n",
      "Load an answer table of size 9500.\n"
     ]
    },
    {
     "name": "stderr",
     "output_type": "stream",
     "text": [
      "INFO:lxrt.tokenization:loading vocabulary file C:/Users/lab/work/Anna/nlp-tutorial/5-2.BERT/bert-base-multilingual-uncased\\vocab.txt\n"
     ]
    },
    {
     "name": "stdout",
     "output_type": "stream",
     "text": [
      "['mscoco_minival']\n",
      "False\n",
      "hahaha\n",
      "'val2014_obj36.h5_boxes': returning memmapped view.\n",
      "'val2014_obj36.h5_objects_id': returning memmapped view.\n",
      "'val2014_obj36.h5_objects_conf': returning memmapped view.\n",
      "'val2014_obj36.h5_attrs_id': returning memmapped view.\n",
      "'val2014_obj36.h5_attrs_conf': returning memmapped view.\n",
      "data/mscoco_imgfeat/val2014_obj36.h5 40504\n",
      "Created ['mscoco_minival']\n",
      "Use 25021 data in vision and language torch dataset, {'mscoco'}, limit_source ['visual7w', 'gqa', 'vqa', 'vg']\n",
      "image_only False\n",
      "text_only False\n",
      "'data_imonly_img_id_mscoco_minival': returning memmapped view.\n",
      "'data_txtonly_sent_mscoco_minival': returning memmapped view.\n",
      "\n"
     ]
    }
   ],
   "source": [
    "train_tuple = get_tuple_multilingual_hybrid_pretrain(args.train, args.batch_size, shuffle=True, \n",
    "                               num_workers = args.num_workers, drop_last=True, \n",
    "                               image_only_splits = args.train_image_only, \n",
    "                               text_only_splits = args.get(\"train_text_only\", None), \n",
    "                               limit_source = args.get(\"limit_source\", []))\n",
    "\n",
    "valid_batch_size = args.get(\"valid_batch_size\", 128)\n",
    "\n",
    "valid_tuple = get_tuple(args.valid, valid_batch_size, shuffle=False, \n",
    "                        num_workers = args.get(\"val_num_workers\", 2), drop_last=False, topk=5000, \n",
    "                        limit_source = args.get(\"limit_source_for_val\", []))\n",
    "\n"
   ]
  },
  {
   "cell_type": "markdown",
   "id": "fced8650",
   "metadata": {},
   "source": [
    "# 1) Training"
   ]
  },
  {
   "cell_type": "code",
   "execution_count": 26,
   "id": "a4b5edbb",
   "metadata": {
    "scrolled": true
   },
   "outputs": [
    {
     "name": "stderr",
     "output_type": "stream",
     "text": [
      "INFO:lxrt.tokenization:loading vocabulary file C:/Users/lab/work/Anna/nlp-tutorial/5-2.BERT/bert-base-multilingual-uncased\\vocab.txt\n",
      "INFO:lxrt.modeling:loading archive file C:/Users/lab/work/Anna/nlp-tutorial/5-2.BERT/bert-base-multilingual-uncased\n",
      "INFO:lxrt.modeling:Model config {\n",
      "  \"architectures\": [\n",
      "    \"BertForMaskedLM\"\n",
      "  ],\n",
      "  \"attention_probs_dropout_prob\": 0.1,\n",
      "  \"directionality\": \"bidi\",\n",
      "  \"hidden_act\": \"gelu\",\n",
      "  \"hidden_dropout_prob\": 0.1,\n",
      "  \"hidden_size\": 768,\n",
      "  \"initializer_range\": 0.02,\n",
      "  \"intermediate_size\": 3072,\n",
      "  \"layer_norm_eps\": 1e-12,\n",
      "  \"max_position_embeddings\": 512,\n",
      "  \"model_type\": \"bert\",\n",
      "  \"num_attention_heads\": 12,\n",
      "  \"num_hidden_layers\": 12,\n",
      "  \"pad_token_id\": 0,\n",
      "  \"pooler_fc_size\": 768,\n",
      "  \"pooler_num_attention_heads\": 12,\n",
      "  \"pooler_num_fc_layers\": 3,\n",
      "  \"pooler_size_per_head\": 128,\n",
      "  \"pooler_type\": \"first_token_transform\",\n",
      "  \"type_vocab_size\": 2,\n",
      "  \"vocab_size\": 105879\n",
      "}\n",
      "\n"
     ]
    },
    {
     "name": "stdout",
     "output_type": "stream",
     "text": [
      "LXRT encoder with 12 l_layers, 0 x_layers, and 0 r_layers.\n",
      "\n",
      "\n",
      "!! Has 12 layers\n"
     ]
    },
    {
     "name": "stderr",
     "output_type": "stream",
     "text": [
      "INFO:lxrt.modeling:Weights of LXRTPretraining not initialized from pretrained model: ['bert.embeddings.symbolic_embedding.weight', 'bert.embeddings.token_type_embeddings_visual.weight', 'bert.embeddings.position_embeddings_visual.weight', 'bert.embeddings.visn_fc.weight', 'bert.embeddings.visn_fc.bias', 'bert.embeddings.visn_layer_norm.weight', 'bert.embeddings.visn_layer_norm.bias', 'bert.embeddings.box_fc.weight', 'bert.embeddings.box_fc.bias', 'bert.embeddings.box_layer_norm.weight', 'bert.embeddings.box_layer_norm.bias', 'bert.embeddings.tag_layer_norm.weight', 'bert.embeddings.tag_layer_norm.bias', 'bert.encoder.visn_fc.visn_fc.weight', 'bert.encoder.visn_fc.visn_fc.bias', 'bert.encoder.visn_fc.visn_layer_norm.weight', 'bert.encoder.visn_fc.visn_layer_norm.bias', 'bert.encoder.visn_fc.box_fc.weight', 'bert.encoder.visn_fc.box_fc.bias', 'bert.encoder.visn_fc.box_layer_norm.weight', 'bert.encoder.visn_fc.box_layer_norm.bias', 'obj_predict_head.transform.dense.weight', 'obj_predict_head.transform.dense.bias', 'obj_predict_head.transform.LayerNorm.weight', 'obj_predict_head.transform.LayerNorm.bias', 'obj_predict_head.decoder_dict.obj.weight', 'obj_predict_head.decoder_dict.obj.bias', 'obj_predict_head.decoder_dict.attr.weight', 'obj_predict_head.decoder_dict.attr.bias', 'obj_predict_head.decoder_dict.feat.weight', 'obj_predict_head.decoder_dict.feat.bias', 'symbolic_head.predictions.bias', 'symbolic_head.predictions.transform.dense.weight', 'symbolic_head.predictions.transform.dense.bias', 'symbolic_head.predictions.transform.LayerNorm.weight', 'symbolic_head.predictions.transform.LayerNorm.bias', 'symbolic_head.predictions.decoder.weight', 'symbolic_head.seq_relationship.weight', 'symbolic_head.seq_relationship.bias']\n"
     ]
    }
   ],
   "source": [
    "lxmert = LXMERT(max_seq_length=args.get(\"max_seq_length\", 20))"
   ]
  },
  {
   "cell_type": "code",
   "execution_count": null,
   "id": "4a3275af",
   "metadata": {
    "scrolled": true
   },
   "outputs": [
    {
     "name": "stdout",
     "output_type": "stream",
     "text": [
      "Total Iters: 3740200\n",
      "!! Changing to specified t_toal in args: 611240\n",
      "Batch per epoch: 37402\n",
      "Warm up Iters: 12224\n",
      "BERTAdam lr 6e-05 total_steps 611240  warmup 0.02\n"
     ]
    },
    {
     "name": "stderr",
     "output_type": "stream",
     "text": [
      "  0%|                                                                                        | 0/37402 [00:00<?, ?it/s]C:\\Users\\lab\\work\\Anna\\VisualBERT\\visualbert\\unsupervised_visualbert\\src\\lxrt\\optimization.py:145: UserWarning: This overload of add_ is deprecated:\n",
      "\tadd_(Number alpha, Tensor other)\n",
      "Consider using one of the following signatures instead:\n",
      "\tadd_(Tensor other, *, Number alpha) (Triggered internally at  ..\\torch\\csrc\\utils\\python_arg_parser.cpp:1050.)\n",
      "  next_m.mul_(beta1).add_(1 - beta1, grad)\n",
      "  1%|█                                                                           | 501/37402 [03:27<5:10:44,  1.98it/s]"
     ]
    },
    {
     "name": "stdout",
     "output_type": "stream",
     "text": [
      "Folder: snap/vqa_test \n",
      " Epoch 0 Iter: 500/37402\n",
      "  Masked Tags : 8.883992\n",
      "  Text Only Masked LM : 2.471671\n",
      "  attr : 1.216717\n",
      "  feat : 0.08261254\n",
      "  obj : 3.290015\n",
      "\n"
     ]
    },
    {
     "name": "stderr",
     "output_type": "stream",
     "text": [
      "  3%|██                                                                         | 1001/37402 [06:53<3:26:07,  2.94it/s]"
     ]
    },
    {
     "name": "stdout",
     "output_type": "stream",
     "text": [
      "Folder: snap/vqa_test \n",
      " Epoch 0 Iter: 1000/37402\n",
      "  Masked Tags : 7.24391\n",
      "  Text Only Masked LM : 2.263058\n",
      "  attr : 1.224771\n",
      "  feat : 0.08260139\n",
      "  obj : 3.313845\n",
      "\n"
     ]
    },
    {
     "name": "stderr",
     "output_type": "stream",
     "text": [
      "  4%|███                                                                        | 1501/37402 [10:20<3:50:37,  2.59it/s]"
     ]
    },
    {
     "name": "stdout",
     "output_type": "stream",
     "text": [
      "Folder: snap/vqa_test \n",
      " Epoch 0 Iter: 1500/37402\n",
      "  Masked Tags : 6.548311\n",
      "  Text Only Masked LM : 2.224115\n",
      "  attr : 1.213692\n",
      "  feat : 0.0821609\n",
      "  obj : 3.324414\n",
      "\n"
     ]
    },
    {
     "name": "stderr",
     "output_type": "stream",
     "text": [
      "  5%|████                                                                       | 2001/37402 [13:46<4:00:46,  2.45it/s]"
     ]
    },
    {
     "name": "stdout",
     "output_type": "stream",
     "text": [
      "Folder: snap/vqa_test \n",
      " Epoch 0 Iter: 2000/37402\n",
      "  Masked Tags : 6.181983\n",
      "  Text Only Masked LM : 2.16664\n",
      "  attr : 1.212767\n",
      "  feat : 0.08252938\n",
      "  obj : 3.2924\n",
      "\n"
     ]
    },
    {
     "name": "stderr",
     "output_type": "stream",
     "text": [
      "  7%|█████                                                                      | 2501/37402 [17:10<3:34:50,  2.71it/s]"
     ]
    },
    {
     "name": "stdout",
     "output_type": "stream",
     "text": [
      "Folder: snap/vqa_test \n",
      " Epoch 0 Iter: 2500/37402\n",
      "  Masked Tags : 5.827278\n",
      "  Text Only Masked LM : 2.130927\n",
      "  attr : 1.209703\n",
      "  feat : 0.08296553\n",
      "  obj : 3.283159\n",
      "\n"
     ]
    },
    {
     "name": "stderr",
     "output_type": "stream",
     "text": [
      "  8%|██████                                                                     | 3001/37402 [20:37<3:52:08,  2.47it/s]"
     ]
    },
    {
     "name": "stdout",
     "output_type": "stream",
     "text": [
      "Folder: snap/vqa_test \n",
      " Epoch 0 Iter: 3000/37402\n",
      "  Masked Tags : 5.74272\n",
      "  Text Only Masked LM : 2.113901\n",
      "  attr : 1.236179\n",
      "  feat : 0.08197478\n",
      "  obj : 3.290427\n",
      "\n"
     ]
    },
    {
     "name": "stderr",
     "output_type": "stream",
     "text": [
      "  9%|███████                                                                    | 3501/37402 [23:57<3:33:29,  2.65it/s]"
     ]
    },
    {
     "name": "stdout",
     "output_type": "stream",
     "text": [
      "Folder: snap/vqa_test \n",
      " Epoch 0 Iter: 3500/37402\n",
      "  Masked Tags : 5.560286\n",
      "  Text Only Masked LM : 2.125591\n",
      "  attr : 1.240079\n",
      "  feat : 0.08358088\n",
      "  obj : 3.303318\n",
      "\n"
     ]
    },
    {
     "name": "stderr",
     "output_type": "stream",
     "text": [
      " 11%|████████                                                                   | 4001/37402 [27:21<3:23:07,  2.74it/s]"
     ]
    },
    {
     "name": "stdout",
     "output_type": "stream",
     "text": [
      "Folder: snap/vqa_test \n",
      " Epoch 0 Iter: 4000/37402\n",
      "  Masked Tags : 5.396484\n",
      "  Text Only Masked LM : 2.141028\n",
      "  attr : 1.232155\n",
      "  feat : 0.08480294\n",
      "  obj : 3.296758\n",
      "\n"
     ]
    },
    {
     "name": "stderr",
     "output_type": "stream",
     "text": [
      " 12%|█████████                                                                  | 4501/37402 [30:37<3:32:05,  2.59it/s]"
     ]
    },
    {
     "name": "stdout",
     "output_type": "stream",
     "text": [
      "Folder: snap/vqa_test \n",
      " Epoch 0 Iter: 4500/37402\n",
      "  Masked Tags : 5.245669\n",
      "  Text Only Masked LM : 2.129683\n",
      "  attr : 1.225402\n",
      "  feat : 0.08344936\n",
      "  obj : 3.312819\n",
      "\n"
     ]
    },
    {
     "name": "stderr",
     "output_type": "stream",
     "text": [
      " 13%|██████████                                                                 | 5001/37402 [33:54<4:06:21,  2.19it/s]"
     ]
    },
    {
     "name": "stdout",
     "output_type": "stream",
     "text": [
      "Folder: snap/vqa_test \n",
      " Epoch 0 Iter: 5000/37402\n",
      "  Masked Tags : 5.120808\n",
      "  Text Only Masked LM : 2.120666\n",
      "  attr : 1.215238\n",
      "  feat : 0.08357086\n",
      "  obj : 3.291159\n",
      "\n"
     ]
    },
    {
     "name": "stderr",
     "output_type": "stream",
     "text": [
      " 15%|███████████                                                                | 5502/37402 [37:15<2:45:07,  3.22it/s]"
     ]
    },
    {
     "name": "stdout",
     "output_type": "stream",
     "text": [
      "Folder: snap/vqa_test \n",
      " Epoch 0 Iter: 5500/37402\n",
      "  Masked Tags : 5.102059\n",
      "  Text Only Masked LM : 2.145501\n",
      "  attr : 1.245415\n",
      "  feat : 0.08286824\n",
      "  obj : 3.272477\n",
      "\n"
     ]
    },
    {
     "name": "stderr",
     "output_type": "stream",
     "text": [
      " 16%|████████████                                                               | 6001/37402 [40:31<2:53:21,  3.02it/s]"
     ]
    },
    {
     "name": "stdout",
     "output_type": "stream",
     "text": [
      "Folder: snap/vqa_test \n",
      " Epoch 0 Iter: 6000/37402\n",
      "  Masked Tags : 4.946618\n",
      "  Text Only Masked LM : 2.120949\n",
      "  attr : 1.236954\n",
      "  feat : 0.08172108\n",
      "  obj : 3.362304\n",
      "\n"
     ]
    },
    {
     "name": "stderr",
     "output_type": "stream",
     "text": [
      " 17%|█████████████                                                              | 6501/37402 [43:59<4:30:04,  1.91it/s]"
     ]
    },
    {
     "name": "stdout",
     "output_type": "stream",
     "text": [
      "Folder: snap/vqa_test \n",
      " Epoch 0 Iter: 6500/37402\n",
      "  Masked Tags : 4.796545\n",
      "  Text Only Masked LM : 2.146283\n",
      "  attr : 1.232353\n",
      "  feat : 0.08288561\n",
      "  obj : 3.317236\n",
      "\n"
     ]
    },
    {
     "name": "stderr",
     "output_type": "stream",
     "text": [
      " 19%|██████████████                                                             | 7001/37402 [47:18<3:09:42,  2.67it/s]"
     ]
    },
    {
     "name": "stdout",
     "output_type": "stream",
     "text": [
      "Folder: snap/vqa_test \n",
      " Epoch 0 Iter: 7000/37402\n",
      "  Masked Tags : 4.760169\n",
      "  Text Only Masked LM : 2.155492\n",
      "  attr : 1.228663\n",
      "  feat : 0.08176386\n",
      "  obj : 3.28874\n",
      "\n"
     ]
    },
    {
     "name": "stderr",
     "output_type": "stream",
     "text": [
      " 20%|███████████████                                                            | 7502/37402 [50:34<2:29:50,  3.33it/s]"
     ]
    },
    {
     "name": "stdout",
     "output_type": "stream",
     "text": [
      "Folder: snap/vqa_test \n",
      " Epoch 0 Iter: 7500/37402\n",
      "  Masked Tags : 4.591247\n",
      "  Text Only Masked LM : 2.161521\n",
      "  attr : 1.213063\n",
      "  feat : 0.08171503\n",
      "  obj : 3.274432\n",
      "\n"
     ]
    },
    {
     "name": "stderr",
     "output_type": "stream",
     "text": [
      " 21%|████████████████                                                           | 8001/37402 [53:53<2:28:40,  3.30it/s]"
     ]
    },
    {
     "name": "stdout",
     "output_type": "stream",
     "text": [
      "Folder: snap/vqa_test \n",
      " Epoch 0 Iter: 8000/37402\n",
      "  Masked Tags : 4.38561\n",
      "  Text Only Masked LM : 2.157028\n",
      "  attr : 1.231716\n",
      "  feat : 0.08122066\n",
      "  obj : 3.286896\n",
      "\n"
     ]
    },
    {
     "name": "stderr",
     "output_type": "stream",
     "text": [
      " 23%|█████████████████                                                          | 8501/37402 [57:16<3:15:19,  2.47it/s]"
     ]
    },
    {
     "name": "stdout",
     "output_type": "stream",
     "text": [
      "Folder: snap/vqa_test \n",
      " Epoch 0 Iter: 8500/37402\n",
      "  Masked Tags : 4.332577\n",
      "  Text Only Masked LM : 2.151446\n",
      "  attr : 1.24593\n",
      "  feat : 0.08169738\n",
      "  obj : 3.296834\n",
      "\n"
     ]
    },
    {
     "name": "stderr",
     "output_type": "stream",
     "text": [
      " 24%|█████████████████▌                                                       | 9001/37402 [1:00:38<2:58:35,  2.65it/s]"
     ]
    },
    {
     "name": "stdout",
     "output_type": "stream",
     "text": [
      "Folder: snap/vqa_test \n",
      " Epoch 0 Iter: 9000/37402\n",
      "  Masked Tags : 4.257062\n",
      "  Text Only Masked LM : 2.184247\n",
      "  attr : 1.228997\n",
      "  feat : 0.08187979\n",
      "  obj : 3.293077\n",
      "\n"
     ]
    },
    {
     "name": "stderr",
     "output_type": "stream",
     "text": [
      " 25%|██████████████████▌                                                      | 9501/37402 [1:03:58<5:02:19,  1.54it/s]"
     ]
    },
    {
     "name": "stdout",
     "output_type": "stream",
     "text": [
      "Folder: snap/vqa_test \n",
      " Epoch 0 Iter: 9500/37402\n",
      "  Masked Tags : 4.149006\n",
      "  Text Only Masked LM : 2.168877\n",
      "  attr : 1.223639\n",
      "  feat : 0.08251579\n",
      "  obj : 3.257136\n",
      "\n"
     ]
    },
    {
     "name": "stderr",
     "output_type": "stream",
     "text": [
      " 27%|███████████████████▎                                                    | 10001/37402 [1:07:14<2:56:25,  2.59it/s]"
     ]
    },
    {
     "name": "stdout",
     "output_type": "stream",
     "text": [
      "Folder: snap/vqa_test \n",
      " Epoch 0 Iter: 10000/37402\n",
      "  Masked Tags : 4.106308\n",
      "  Text Only Masked LM : 2.162275\n",
      "  attr : 1.254508\n",
      "  feat : 0.08171391\n",
      "  obj : 3.276305\n",
      "\n"
     ]
    },
    {
     "name": "stderr",
     "output_type": "stream",
     "text": [
      " 28%|████████████████████▏                                                   | 10501/37402 [1:10:37<2:35:47,  2.88it/s]"
     ]
    },
    {
     "name": "stdout",
     "output_type": "stream",
     "text": [
      "Folder: snap/vqa_test \n",
      " Epoch 0 Iter: 10500/37402\n",
      "  Masked Tags : 3.993161\n",
      "  Text Only Masked LM : 2.224402\n",
      "  attr : 1.256554\n",
      "  feat : 0.08326356\n",
      "  obj : 3.27462\n",
      "\n"
     ]
    },
    {
     "name": "stderr",
     "output_type": "stream",
     "text": [
      " 29%|█████████████████████▏                                                  | 11001/37402 [1:13:56<2:45:17,  2.66it/s]"
     ]
    },
    {
     "name": "stdout",
     "output_type": "stream",
     "text": [
      "Folder: snap/vqa_test \n",
      " Epoch 0 Iter: 11000/37402\n",
      "  Masked Tags : 4.269203\n",
      "  Text Only Masked LM : 2.202284\n",
      "  attr : 1.252721\n",
      "  feat : 0.08350923\n",
      "  obj : 3.278749\n",
      "\n"
     ]
    },
    {
     "name": "stderr",
     "output_type": "stream",
     "text": [
      " 31%|██████████████████████▏                                                 | 11501/37402 [1:17:16<3:16:57,  2.19it/s]"
     ]
    },
    {
     "name": "stdout",
     "output_type": "stream",
     "text": [
      "Folder: snap/vqa_test \n",
      " Epoch 0 Iter: 11500/37402\n",
      "  Masked Tags : 3.954685\n",
      "  Text Only Masked LM : 2.218178\n",
      "  attr : 1.241408\n",
      "  feat : 0.08407425\n",
      "  obj : 3.297291\n",
      "\n"
     ]
    },
    {
     "name": "stderr",
     "output_type": "stream",
     "text": [
      " 32%|███████████████████████                                                 | 12001/37402 [1:20:38<2:55:42,  2.41it/s]"
     ]
    },
    {
     "name": "stdout",
     "output_type": "stream",
     "text": [
      "Folder: snap/vqa_test \n",
      " Epoch 0 Iter: 12000/37402\n",
      "  Masked Tags : 3.825505\n",
      "  Text Only Masked LM : 2.243814\n",
      "  attr : 1.25965\n",
      "  feat : 0.0833515\n",
      "  obj : 3.279434\n",
      "\n"
     ]
    },
    {
     "name": "stderr",
     "output_type": "stream",
     "text": [
      " 33%|████████████████████████                                                | 12501/37402 [1:23:59<2:31:46,  2.73it/s]"
     ]
    },
    {
     "name": "stdout",
     "output_type": "stream",
     "text": [
      "Folder: snap/vqa_test \n",
      " Epoch 0 Iter: 12500/37402\n",
      "  Masked Tags : 3.829488\n",
      "  Text Only Masked LM : 2.183164\n",
      "  attr : 1.251953\n",
      "  feat : 0.08183705\n",
      "  obj : 3.258062\n",
      "\n"
     ]
    },
    {
     "name": "stderr",
     "output_type": "stream",
     "text": [
      " 35%|█████████████████████████                                               | 13001/37402 [1:27:22<3:02:10,  2.23it/s]"
     ]
    },
    {
     "name": "stdout",
     "output_type": "stream",
     "text": [
      "Folder: snap/vqa_test \n",
      " Epoch 0 Iter: 13000/37402\n",
      "  Masked Tags : 3.677137\n",
      "  Text Only Masked LM : 2.245499\n",
      "  attr : 1.255953\n",
      "  feat : 0.08257659\n",
      "  obj : 3.248695\n",
      "\n"
     ]
    },
    {
     "name": "stderr",
     "output_type": "stream",
     "text": [
      " 36%|█████████████████████████▉                                              | 13501/37402 [1:30:43<2:36:25,  2.55it/s]"
     ]
    },
    {
     "name": "stdout",
     "output_type": "stream",
     "text": [
      "Folder: snap/vqa_test \n",
      " Epoch 0 Iter: 13500/37402\n",
      "  Masked Tags : 3.631942\n",
      "  Text Only Masked LM : 2.263409\n",
      "  attr : 1.236021\n",
      "  feat : 0.08179906\n",
      "  obj : 3.298994\n",
      "\n"
     ]
    },
    {
     "name": "stderr",
     "output_type": "stream",
     "text": [
      " 37%|██████████████████████████▉                                             | 14001/37402 [1:34:09<2:19:14,  2.80it/s]"
     ]
    },
    {
     "name": "stdout",
     "output_type": "stream",
     "text": [
      "Folder: snap/vqa_test \n",
      " Epoch 0 Iter: 14000/37402\n",
      "  Masked Tags : 3.697271\n",
      "  Text Only Masked LM : 2.258386\n",
      "  attr : 1.233124\n",
      "  feat : 0.08266961\n",
      "  obj : 3.291998\n",
      "\n"
     ]
    },
    {
     "name": "stderr",
     "output_type": "stream",
     "text": [
      " 39%|███████████████████████████▉                                            | 14501/37402 [1:37:30<3:12:59,  1.98it/s]"
     ]
    },
    {
     "name": "stdout",
     "output_type": "stream",
     "text": [
      "Folder: snap/vqa_test \n",
      " Epoch 0 Iter: 14500/37402\n",
      "  Masked Tags : 3.524445\n",
      "  Text Only Masked LM : 2.260083\n",
      "  attr : 1.2307\n",
      "  feat : 0.08209701\n",
      "  obj : 3.292306\n",
      "\n"
     ]
    },
    {
     "name": "stderr",
     "output_type": "stream",
     "text": [
      " 40%|████████████████████████████▉                                           | 15001/37402 [1:40:53<2:03:55,  3.01it/s]"
     ]
    },
    {
     "name": "stdout",
     "output_type": "stream",
     "text": [
      "Folder: snap/vqa_test \n",
      " Epoch 0 Iter: 15000/37402\n",
      "  Masked Tags : 3.581984\n",
      "  Text Only Masked LM : 2.242879\n",
      "  attr : 1.225465\n",
      "  feat : 0.08081144\n",
      "  obj : 3.270468\n",
      "\n"
     ]
    },
    {
     "name": "stderr",
     "output_type": "stream",
     "text": [
      " 41%|█████████████████████████████▊                                          | 15501/37402 [1:44:16<3:28:36,  1.75it/s]"
     ]
    },
    {
     "name": "stdout",
     "output_type": "stream",
     "text": [
      "Folder: snap/vqa_test \n",
      " Epoch 0 Iter: 15500/37402\n",
      "  Masked Tags : 3.521263\n",
      "  Text Only Masked LM : 2.21627\n",
      "  attr : 1.231226\n",
      "  feat : 0.08229971\n",
      "  obj : 3.24899\n",
      "\n"
     ]
    },
    {
     "name": "stderr",
     "output_type": "stream",
     "text": [
      " 43%|██████████████████████████████▊                                         | 16001/37402 [1:47:42<2:17:27,  2.59it/s]"
     ]
    },
    {
     "name": "stdout",
     "output_type": "stream",
     "text": [
      "Folder: snap/vqa_test \n",
      " Epoch 0 Iter: 16000/37402\n",
      "  Masked Tags : 3.483876\n",
      "  Text Only Masked LM : 2.277091\n",
      "  attr : 1.262792\n",
      "  feat : 0.08350881\n",
      "  obj : 3.267674\n",
      "\n"
     ]
    },
    {
     "name": "stderr",
     "output_type": "stream",
     "text": [
      " 44%|███████████████████████████████▊                                        | 16501/37402 [1:50:59<2:24:02,  2.42it/s]"
     ]
    },
    {
     "name": "stdout",
     "output_type": "stream",
     "text": [
      "Folder: snap/vqa_test \n",
      " Epoch 0 Iter: 16500/37402\n",
      "  Masked Tags : 3.381936\n",
      "  Text Only Masked LM : 2.163043\n",
      "  attr : 1.221775\n",
      "  feat : 0.08373258\n",
      "  obj : 3.2939\n",
      "\n"
     ]
    },
    {
     "name": "stderr",
     "output_type": "stream",
     "text": [
      " 45%|████████████████████████████████▋                                       | 17001/37402 [1:54:24<2:14:28,  2.53it/s]"
     ]
    },
    {
     "name": "stdout",
     "output_type": "stream",
     "text": [
      "Folder: snap/vqa_test \n",
      " Epoch 0 Iter: 17000/37402\n",
      "  Masked Tags : 3.392923\n",
      "  Text Only Masked LM : 2.156475\n",
      "  attr : 1.228834\n",
      "  feat : 0.08247599\n",
      "  obj : 3.262407\n",
      "\n"
     ]
    },
    {
     "name": "stderr",
     "output_type": "stream",
     "text": [
      " 47%|█████████████████████████████████▋                                      | 17501/37402 [1:57:39<1:42:56,  3.22it/s]"
     ]
    },
    {
     "name": "stdout",
     "output_type": "stream",
     "text": [
      "Folder: snap/vqa_test \n",
      " Epoch 0 Iter: 17500/37402\n",
      "  Masked Tags : 3.433653\n",
      "  Text Only Masked LM : 2.235687\n",
      "  attr : 1.213801\n",
      "  feat : 0.0827137\n",
      "  obj : 3.25242\n",
      "\n"
     ]
    },
    {
     "name": "stderr",
     "output_type": "stream",
     "text": [
      " 48%|██████████████████████████████████▋                                     | 18001/37402 [2:00:51<2:34:56,  2.09it/s]"
     ]
    },
    {
     "name": "stdout",
     "output_type": "stream",
     "text": [
      "Folder: snap/vqa_test \n",
      " Epoch 0 Iter: 18000/37402\n",
      "  Masked Tags : 3.346659\n",
      "  Text Only Masked LM : 2.194146\n",
      "  attr : 1.223482\n",
      "  feat : 0.08214711\n",
      "  obj : 3.262393\n",
      "\n"
     ]
    },
    {
     "name": "stderr",
     "output_type": "stream",
     "text": [
      " 49%|███████████████████████████████████▌                                    | 18501/37402 [2:04:23<2:11:46,  2.39it/s]"
     ]
    },
    {
     "name": "stdout",
     "output_type": "stream",
     "text": [
      "Folder: snap/vqa_test \n",
      " Epoch 0 Iter: 18500/37402\n",
      "  Masked Tags : 3.317725\n",
      "  Text Only Masked LM : 2.263822\n",
      "  attr : 1.235993\n",
      "  feat : 0.08362602\n",
      "  obj : 3.281004\n",
      "\n"
     ]
    },
    {
     "name": "stderr",
     "output_type": "stream",
     "text": [
      " 51%|████████████████████████████████████▌                                   | 19001/37402 [2:07:43<2:07:41,  2.40it/s]"
     ]
    },
    {
     "name": "stdout",
     "output_type": "stream",
     "text": [
      "Folder: snap/vqa_test \n",
      " Epoch 0 Iter: 19000/37402\n",
      "  Masked Tags : 3.344378\n",
      "  Text Only Masked LM : 2.206633\n",
      "  attr : 1.239941\n",
      "  feat : 0.08309297\n",
      "  obj : 3.268775\n",
      "\n"
     ]
    },
    {
     "name": "stderr",
     "output_type": "stream",
     "text": [
      " 52%|█████████████████████████████████████▌                                  | 19501/37402 [2:11:09<2:26:14,  2.04it/s]"
     ]
    },
    {
     "name": "stdout",
     "output_type": "stream",
     "text": [
      "Folder: snap/vqa_test \n",
      " Epoch 0 Iter: 19500/37402\n",
      "  Masked Tags : 3.210783\n",
      "  Text Only Masked LM : 2.233939\n",
      "  attr : 1.238304\n",
      "  feat : 0.08322869\n",
      "  obj : 3.285901\n",
      "\n"
     ]
    },
    {
     "name": "stderr",
     "output_type": "stream",
     "text": [
      " 53%|██████████████████████████████████████▌                                 | 20001/37402 [2:14:28<1:35:39,  3.03it/s]"
     ]
    },
    {
     "name": "stdout",
     "output_type": "stream",
     "text": [
      "Folder: snap/vqa_test \n",
      " Epoch 0 Iter: 20000/37402\n",
      "  Masked Tags : 3.21949\n",
      "  Text Only Masked LM : 2.222502\n",
      "  attr : 1.230013\n",
      "  feat : 0.08442006\n",
      "  obj : 3.267857\n",
      "\n"
     ]
    },
    {
     "name": "stderr",
     "output_type": "stream",
     "text": [
      " 55%|███████████████████████████████████████▍                                | 20501/37402 [2:17:57<2:15:26,  2.08it/s]"
     ]
    },
    {
     "name": "stdout",
     "output_type": "stream",
     "text": [
      "Folder: snap/vqa_test \n",
      " Epoch 0 Iter: 20500/37402\n",
      "  Masked Tags : 3.19539\n",
      "  Text Only Masked LM : 2.199267\n",
      "  attr : 1.230125\n",
      "  feat : 0.08264537\n",
      "  obj : 3.29238\n",
      "\n"
     ]
    },
    {
     "name": "stderr",
     "output_type": "stream",
     "text": [
      " 56%|████████████████████████████████████████▍                               | 21001/37402 [2:21:21<2:10:47,  2.09it/s]"
     ]
    },
    {
     "name": "stdout",
     "output_type": "stream",
     "text": [
      "Folder: snap/vqa_test \n",
      " Epoch 0 Iter: 21000/37402\n",
      "  Masked Tags : 3.171075\n",
      "  Text Only Masked LM : 2.193754\n",
      "  attr : 1.246052\n",
      "  feat : 0.08264785\n",
      "  obj : 3.308774\n",
      "\n"
     ]
    },
    {
     "name": "stderr",
     "output_type": "stream",
     "text": [
      " 57%|█████████████████████████████████████████▍                              | 21501/37402 [2:24:40<1:34:52,  2.79it/s]"
     ]
    },
    {
     "name": "stdout",
     "output_type": "stream",
     "text": [
      "Folder: snap/vqa_test \n",
      " Epoch 0 Iter: 21500/37402\n",
      "  Masked Tags : 3.10437\n",
      "  Text Only Masked LM : 2.179816\n",
      "  attr : 1.226214\n",
      "  feat : 0.08201968\n",
      "  obj : 3.334621\n",
      "\n"
     ]
    },
    {
     "name": "stderr",
     "output_type": "stream",
     "text": [
      " 59%|██████████████████████████████████████████▎                             | 22001/37402 [2:27:54<1:45:52,  2.42it/s]"
     ]
    },
    {
     "name": "stdout",
     "output_type": "stream",
     "text": [
      "Folder: snap/vqa_test \n",
      " Epoch 0 Iter: 22000/37402\n",
      "  Masked Tags : 3.094533\n",
      "  Text Only Masked LM : 2.170949\n",
      "  attr : 1.243165\n",
      "  feat : 0.0827532\n",
      "  obj : 3.311792\n",
      "\n"
     ]
    },
    {
     "name": "stderr",
     "output_type": "stream",
     "text": [
      " 60%|███████████████████████████████████████████▎                            | 22501/37402 [2:31:11<1:25:32,  2.90it/s]"
     ]
    },
    {
     "name": "stdout",
     "output_type": "stream",
     "text": [
      "Folder: snap/vqa_test \n",
      " Epoch 0 Iter: 22500/37402\n",
      "  Masked Tags : 3.099943\n",
      "  Text Only Masked LM : 2.19806\n",
      "  attr : 1.246424\n",
      "  feat : 0.08331825\n",
      "  obj : 3.311255\n",
      "\n"
     ]
    },
    {
     "name": "stderr",
     "output_type": "stream",
     "text": [
      " 61%|████████████████████████████████████████████▎                           | 23001/37402 [2:34:22<1:33:15,  2.57it/s]"
     ]
    },
    {
     "name": "stdout",
     "output_type": "stream",
     "text": [
      "Folder: snap/vqa_test \n",
      " Epoch 0 Iter: 23000/37402\n",
      "  Masked Tags : 3.13461\n",
      "  Text Only Masked LM : 2.183036\n",
      "  attr : 1.237401\n",
      "  feat : 0.08467116\n",
      "  obj : 3.272186\n",
      "\n"
     ]
    },
    {
     "name": "stderr",
     "output_type": "stream",
     "text": [
      " 63%|█████████████████████████████████████████████▏                          | 23501/37402 [2:37:42<1:13:36,  3.15it/s]"
     ]
    },
    {
     "name": "stdout",
     "output_type": "stream",
     "text": [
      "Folder: snap/vqa_test \n",
      " Epoch 0 Iter: 23500/37402\n",
      "  Masked Tags : 3.133409\n",
      "  Text Only Masked LM : 2.202622\n",
      "  attr : 1.250784\n",
      "  feat : 0.08332174\n",
      "  obj : 3.307029\n",
      "\n"
     ]
    },
    {
     "name": "stderr",
     "output_type": "stream",
     "text": [
      " 64%|██████████████████████████████████████████████▏                         | 24001/37402 [2:41:11<1:09:06,  3.23it/s]"
     ]
    },
    {
     "name": "stdout",
     "output_type": "stream",
     "text": [
      "Folder: snap/vqa_test \n",
      " Epoch 0 Iter: 24000/37402\n",
      "  Masked Tags : 3.080286\n",
      "  Text Only Masked LM : 2.165128\n",
      "  attr : 1.247548\n",
      "  feat : 0.08220373\n",
      "  obj : 3.266552\n",
      "\n"
     ]
    },
    {
     "name": "stderr",
     "output_type": "stream",
     "text": [
      " 66%|███████████████████████████████████████████████▏                        | 24501/37402 [2:44:35<1:18:57,  2.72it/s]"
     ]
    },
    {
     "name": "stdout",
     "output_type": "stream",
     "text": [
      "Folder: snap/vqa_test \n",
      " Epoch 0 Iter: 24500/37402\n",
      "  Masked Tags : 2.96085\n",
      "  Text Only Masked LM : 2.166055\n",
      "  attr : 1.244366\n",
      "  feat : 0.0815408\n",
      "  obj : 3.303737\n",
      "\n"
     ]
    },
    {
     "name": "stderr",
     "output_type": "stream",
     "text": [
      " 67%|████████████████████████████████████████████████▏                       | 25001/37402 [2:47:49<1:24:15,  2.45it/s]"
     ]
    },
    {
     "name": "stdout",
     "output_type": "stream",
     "text": [
      "Folder: snap/vqa_test \n",
      " Epoch 0 Iter: 25000/37402\n",
      "  Masked Tags : 2.966077\n",
      "  Text Only Masked LM : 2.158829\n",
      "  attr : 1.22252\n",
      "  feat : 0.08465921\n",
      "  obj : 3.286799\n",
      "\n"
     ]
    },
    {
     "name": "stderr",
     "output_type": "stream",
     "text": [
      " 68%|██████████████████████████████████████████████████▍                       | 25502/37402 [2:51:13<56:38,  3.50it/s]"
     ]
    },
    {
     "name": "stdout",
     "output_type": "stream",
     "text": [
      "Folder: snap/vqa_test \n",
      " Epoch 0 Iter: 25500/37402\n",
      "  Masked Tags : 2.901533\n",
      "  Text Only Masked LM : 2.154741\n",
      "  attr : 1.231755\n",
      "  feat : 0.08254506\n",
      "  obj : 3.312379\n",
      "\n"
     ]
    },
    {
     "name": "stderr",
     "output_type": "stream",
     "text": [
      " 70%|██████████████████████████████████████████████████                      | 26001/37402 [2:54:33<1:02:04,  3.06it/s]"
     ]
    },
    {
     "name": "stdout",
     "output_type": "stream",
     "text": [
      "Folder: snap/vqa_test \n",
      " Epoch 0 Iter: 26000/37402\n",
      "  Masked Tags : 2.936918\n",
      "  Text Only Masked LM : 2.167748\n",
      "  attr : 1.242359\n",
      "  feat : 0.08289268\n",
      "  obj : 3.305913\n",
      "\n"
     ]
    },
    {
     "name": "stderr",
     "output_type": "stream",
     "text": [
      " 71%|████████████████████████████████████████████████████▍                     | 26501/37402 [2:57:54<55:50,  3.25it/s]"
     ]
    },
    {
     "name": "stdout",
     "output_type": "stream",
     "text": [
      "Folder: snap/vqa_test \n",
      " Epoch 0 Iter: 26500/37402\n",
      "  Masked Tags : 2.903985\n",
      "  Text Only Masked LM : 2.154932\n",
      "  attr : 1.22837\n",
      "  feat : 0.08374672\n",
      "  obj : 3.318326\n",
      "\n"
     ]
    },
    {
     "name": "stderr",
     "output_type": "stream",
     "text": [
      " 72%|███████████████████████████████████████████████████▉                    | 27001/37402 [3:01:17<1:14:31,  2.33it/s]"
     ]
    },
    {
     "name": "stdout",
     "output_type": "stream",
     "text": [
      "Folder: snap/vqa_test \n",
      " Epoch 0 Iter: 27000/37402\n",
      "  Masked Tags : 2.944303\n",
      "  Text Only Masked LM : 2.192029\n",
      "  attr : 1.230036\n",
      "  feat : 0.08131292\n",
      "  obj : 3.276735\n",
      "\n"
     ]
    },
    {
     "name": "stderr",
     "output_type": "stream",
     "text": [
      " 74%|████████████████████████████████████████████████████▉                   | 27501/37402 [3:04:52<1:14:23,  2.22it/s]"
     ]
    },
    {
     "name": "stdout",
     "output_type": "stream",
     "text": [
      "Folder: snap/vqa_test \n",
      " Epoch 0 Iter: 27500/37402\n",
      "  Masked Tags : 2.861321\n",
      "  Text Only Masked LM : 2.185887\n",
      "  attr : 1.229213\n",
      "  feat : 0.08235378\n",
      "  obj : 3.311555\n",
      "\n"
     ]
    },
    {
     "name": "stderr",
     "output_type": "stream",
     "text": [
      " 75%|█████████████████████████████████████████████████████▉                  | 28001/37402 [3:08:38<1:06:55,  2.34it/s]"
     ]
    },
    {
     "name": "stdout",
     "output_type": "stream",
     "text": [
      "Folder: snap/vqa_test \n",
      " Epoch 0 Iter: 28000/37402\n",
      "  Masked Tags : 2.867625\n",
      "  Text Only Masked LM : 2.184673\n",
      "  attr : 1.211629\n",
      "  feat : 0.08245283\n",
      "  obj : 3.313836\n",
      "\n"
     ]
    },
    {
     "name": "stderr",
     "output_type": "stream",
     "text": [
      " 76%|████████████████████████████████████████████████████████▍                 | 28501/37402 [3:12:07<59:17,  2.50it/s]"
     ]
    },
    {
     "name": "stdout",
     "output_type": "stream",
     "text": [
      "Folder: snap/vqa_test \n",
      " Epoch 0 Iter: 28500/37402\n",
      "  Masked Tags : 2.852192\n",
      "  Text Only Masked LM : 2.187333\n",
      "  attr : 1.200615\n",
      "  feat : 0.08209379\n",
      "  obj : 3.264756\n",
      "\n"
     ]
    },
    {
     "name": "stderr",
     "output_type": "stream",
     "text": [
      " 78%|███████████████████████████████████████████████████████▊                | 29001/37402 [3:15:38<1:14:24,  1.88it/s]"
     ]
    },
    {
     "name": "stdout",
     "output_type": "stream",
     "text": [
      "Folder: snap/vqa_test \n",
      " Epoch 0 Iter: 29000/37402\n",
      "  Masked Tags : 2.91831\n",
      "  Text Only Masked LM : 2.181789\n",
      "  attr : 1.243131\n",
      "  feat : 0.08124322\n",
      "  obj : 3.291483\n",
      "\n"
     ]
    },
    {
     "name": "stderr",
     "output_type": "stream",
     "text": [
      " 79%|██████████████████████████████████████████████████████████▎               | 29501/37402 [3:19:05<51:23,  2.56it/s]"
     ]
    },
    {
     "name": "stdout",
     "output_type": "stream",
     "text": [
      "Folder: snap/vqa_test \n",
      " Epoch 0 Iter: 29500/37402\n",
      "  Masked Tags : 2.852\n",
      "  Text Only Masked LM : 2.132423\n",
      "  attr : 1.23705\n",
      "  feat : 0.08113624\n",
      "  obj : 3.308862\n",
      "\n"
     ]
    },
    {
     "name": "stderr",
     "output_type": "stream",
     "text": [
      " 80%|███████████████████████████████████████████████████████████▎              | 30001/37402 [3:22:38<43:39,  2.83it/s]"
     ]
    },
    {
     "name": "stdout",
     "output_type": "stream",
     "text": [
      "Folder: snap/vqa_test \n",
      " Epoch 0 Iter: 30000/37402\n",
      "  Masked Tags : 2.774844\n",
      "  Text Only Masked LM : 2.145687\n",
      "  attr : 1.226527\n",
      "  feat : 0.08203289\n",
      "  obj : 3.334136\n",
      "\n"
     ]
    },
    {
     "name": "stderr",
     "output_type": "stream",
     "text": [
      " 82%|████████████████████████████████████████████████████████████▎             | 30501/37402 [3:26:04<46:58,  2.45it/s]"
     ]
    },
    {
     "name": "stdout",
     "output_type": "stream",
     "text": [
      "Folder: snap/vqa_test \n",
      " Epoch 0 Iter: 30500/37402\n",
      "  Masked Tags : 2.9057\n",
      "  Text Only Masked LM : 2.163525\n",
      "  attr : 1.232745\n",
      "  feat : 0.08488588\n",
      "  obj : 3.283055\n",
      "\n"
     ]
    },
    {
     "name": "stderr",
     "output_type": "stream",
     "text": [
      " 83%|█████████████████████████████████████████████████████████████▎            | 31001/37402 [3:29:22<44:21,  2.41it/s]"
     ]
    },
    {
     "name": "stdout",
     "output_type": "stream",
     "text": [
      "Folder: snap/vqa_test \n",
      " Epoch 0 Iter: 31000/37402\n",
      "  Masked Tags : 2.803363\n",
      "  Text Only Masked LM : 2.096198\n",
      "  attr : 1.229364\n",
      "  feat : 0.08175128\n",
      "  obj : 3.298021\n",
      "\n"
     ]
    },
    {
     "name": "stderr",
     "output_type": "stream",
     "text": [
      " 84%|██████████████████████████████████████████████████████████████▎           | 31501/37402 [3:32:46<41:29,  2.37it/s]"
     ]
    },
    {
     "name": "stdout",
     "output_type": "stream",
     "text": [
      "Folder: snap/vqa_test \n",
      " Epoch 0 Iter: 31500/37402\n",
      "  Masked Tags : 2.773057\n",
      "  Text Only Masked LM : 2.175001\n",
      "  attr : 1.234492\n",
      "  feat : 0.08248966\n",
      "  obj : 3.298214\n",
      "\n"
     ]
    },
    {
     "name": "stderr",
     "output_type": "stream",
     "text": [
      " 86%|███████████████████████████████████████████████████████████████▎          | 32001/37402 [3:36:13<39:47,  2.26it/s]"
     ]
    },
    {
     "name": "stdout",
     "output_type": "stream",
     "text": [
      "Folder: snap/vqa_test \n",
      " Epoch 0 Iter: 32000/37402\n",
      "  Masked Tags : 2.727814\n",
      "  Text Only Masked LM : 2.176356\n",
      "  attr : 1.226689\n",
      "  feat : 0.08147264\n",
      "  obj : 3.318639\n",
      "\n"
     ]
    },
    {
     "name": "stderr",
     "output_type": "stream",
     "text": [
      " 87%|████████████████████████████████████████████████████████████████▎         | 32501/37402 [3:39:31<31:30,  2.59it/s]"
     ]
    },
    {
     "name": "stdout",
     "output_type": "stream",
     "text": [
      "Folder: snap/vqa_test \n",
      " Epoch 0 Iter: 32500/37402\n",
      "  Masked Tags : 2.845622\n",
      "  Text Only Masked LM : 2.160024\n",
      "  attr : 1.222883\n",
      "  feat : 0.08341421\n",
      "  obj : 3.283144\n",
      "\n"
     ]
    },
    {
     "name": "stderr",
     "output_type": "stream",
     "text": [
      " 88%|█████████████████████████████████████████████████████████████████▎        | 33001/37402 [3:42:52<33:35,  2.18it/s]"
     ]
    },
    {
     "name": "stdout",
     "output_type": "stream",
     "text": [
      "Folder: snap/vqa_test \n",
      " Epoch 0 Iter: 33000/37402\n",
      "  Masked Tags : 2.755491\n",
      "  Text Only Masked LM : 2.139298\n",
      "  attr : 1.239672\n",
      "  feat : 0.08324793\n",
      "  obj : 3.305381\n",
      "\n"
     ]
    },
    {
     "name": "stderr",
     "output_type": "stream",
     "text": [
      " 90%|██████████████████████████████████████████████████████████████████▎       | 33501/37402 [3:46:08<19:36,  3.31it/s]"
     ]
    },
    {
     "name": "stdout",
     "output_type": "stream",
     "text": [
      "Folder: snap/vqa_test \n",
      " Epoch 0 Iter: 33500/37402\n",
      "  Masked Tags : 2.703504\n",
      "  Text Only Masked LM : 2.170484\n",
      "  attr : 1.222059\n",
      "  feat : 0.08168185\n",
      "  obj : 3.327599\n",
      "\n"
     ]
    },
    {
     "name": "stderr",
     "output_type": "stream",
     "text": [
      " 91%|███████████████████████████████████████████████████████████████████▎      | 34001/37402 [3:49:26<19:04,  2.97it/s]"
     ]
    },
    {
     "name": "stdout",
     "output_type": "stream",
     "text": [
      "Folder: snap/vqa_test \n",
      " Epoch 0 Iter: 34000/37402\n",
      "  Masked Tags : 2.670627\n",
      "  Text Only Masked LM : 2.130955\n",
      "  attr : 1.220225\n",
      "  feat : 0.08308447\n",
      "  obj : 3.293434\n",
      "\n"
     ]
    },
    {
     "name": "stderr",
     "output_type": "stream",
     "text": [
      " 92%|████████████████████████████████████████████████████████████████████▎     | 34501/37402 [3:52:54<26:30,  1.82it/s]"
     ]
    },
    {
     "name": "stdout",
     "output_type": "stream",
     "text": [
      "Folder: snap/vqa_test \n",
      " Epoch 0 Iter: 34500/37402\n",
      "  Masked Tags : 2.679501\n",
      "  Text Only Masked LM : 2.163723\n",
      "  attr : 1.229239\n",
      "  feat : 0.08131941\n",
      "  obj : 3.280357\n",
      "\n"
     ]
    },
    {
     "name": "stderr",
     "output_type": "stream",
     "text": [
      " 94%|█████████████████████████████████████████████████████████████████████▏    | 35001/37402 [3:56:22<14:55,  2.68it/s]"
     ]
    },
    {
     "name": "stdout",
     "output_type": "stream",
     "text": [
      "Folder: snap/vqa_test \n",
      " Epoch 0 Iter: 35000/37402\n",
      "  Masked Tags : 2.615733\n",
      "  Text Only Masked LM : 2.174322\n",
      "  attr : 1.232179\n",
      "  feat : 0.08248817\n",
      "  obj : 3.298471\n",
      "\n"
     ]
    },
    {
     "name": "stderr",
     "output_type": "stream",
     "text": [
      " 95%|██████████████████████████████████████████████████████████████████████▏   | 35501/37402 [3:59:49<14:34,  2.17it/s]"
     ]
    },
    {
     "name": "stdout",
     "output_type": "stream",
     "text": [
      "Folder: snap/vqa_test \n",
      " Epoch 0 Iter: 35500/37402\n",
      "  Masked Tags : 2.711507\n",
      "  Text Only Masked LM : 2.146089\n",
      "  attr : 1.240083\n",
      "  feat : 0.08175186\n",
      "  obj : 3.298111\n",
      "\n"
     ]
    },
    {
     "name": "stderr",
     "output_type": "stream",
     "text": [
      " 96%|███████████████████████████████████████████████████████████████████████▏  | 36001/37402 [4:03:16<07:47,  3.00it/s]"
     ]
    },
    {
     "name": "stdout",
     "output_type": "stream",
     "text": [
      "Folder: snap/vqa_test \n",
      " Epoch 0 Iter: 36000/37402\n",
      "  Masked Tags : 2.636157\n",
      "  Text Only Masked LM : 2.172118\n",
      "  attr : 1.234131\n",
      "  feat : 0.08256454\n",
      "  obj : 3.317164\n",
      "\n"
     ]
    },
    {
     "name": "stderr",
     "output_type": "stream",
     "text": [
      " 98%|████████████████████████████████████████████████████████████████████████▏ | 36501/37402 [4:06:49<06:12,  2.42it/s]"
     ]
    },
    {
     "name": "stdout",
     "output_type": "stream",
     "text": [
      "Folder: snap/vqa_test \n",
      " Epoch 0 Iter: 36500/37402\n",
      "  Masked Tags : 2.650891\n",
      "  Text Only Masked LM : 2.146961\n",
      "  attr : 1.233204\n",
      "  feat : 0.08272655\n",
      "  obj : 3.28747\n",
      "\n"
     ]
    },
    {
     "name": "stderr",
     "output_type": "stream",
     "text": [
      " 99%|█████████████████████████████████████████████████████████████████████████▏| 37001/37402 [4:10:19<02:26,  2.74it/s]"
     ]
    },
    {
     "name": "stdout",
     "output_type": "stream",
     "text": [
      "Folder: snap/vqa_test \n",
      " Epoch 0 Iter: 37000/37402\n",
      "  Masked Tags : 2.564758\n",
      "  Text Only Masked LM : 2.137537\n",
      "  attr : 1.258189\n",
      "  feat : 0.0826644\n",
      "  obj : 3.294633\n",
      "\n"
     ]
    },
    {
     "name": "stderr",
     "output_type": "stream",
     "text": [
      "100%|██████████████████████████████████████████████████████████████████████████| 37402/37402 [4:13:40<00:00,  2.46it/s]\n"
     ]
    },
    {
     "name": "stdout",
     "output_type": "stream",
     "text": [
      "The training loss for Epoch 0 is 2.2861\n"
     ]
    },
    {
     "name": "stderr",
     "output_type": "stream",
     "text": [
      "100%|████████████████████████████████████████████████████████████████████████████████| 782/782 [08:33<00:00,  1.52it/s]\n"
     ]
    },
    {
     "name": "stdout",
     "output_type": "stream",
     "text": [
      "Evaluation:\n",
      "  Masked LM : 2.878129\n",
      "  Masked Tags : 2.675901\n",
      "  attr : 1.282947\n",
      "  feat : 0.08282088\n",
      "  obj : 3.233649\n",
      "\n",
      "\n",
      "\n",
      "\n",
      "\n",
      "\n",
      "\n",
      "\n",
      "\n"
     ]
    },
    {
     "name": "stderr",
     "output_type": "stream",
     "text": [
      "  1%|█                                                                           | 501/37402 [03:20<3:45:59,  2.72it/s]"
     ]
    },
    {
     "name": "stdout",
     "output_type": "stream",
     "text": [
      "Folder: snap/vqa_test \n",
      " Epoch 1 Iter: 500/37402\n",
      "  Masked Tags : 2.487484\n",
      "  Text Only Masked LM : 2.121424\n",
      "  attr : 1.241296\n",
      "  feat : 0.08154713\n",
      "  obj : 3.302211\n",
      "\n"
     ]
    },
    {
     "name": "stderr",
     "output_type": "stream",
     "text": [
      "  3%|██                                                                         | 1001/37402 [06:41<3:23:58,  2.97it/s]"
     ]
    },
    {
     "name": "stdout",
     "output_type": "stream",
     "text": [
      "Folder: snap/vqa_test \n",
      " Epoch 1 Iter: 1000/37402\n",
      "  Masked Tags : 2.478204\n",
      "  Text Only Masked LM : 2.080919\n",
      "  attr : 1.252619\n",
      "  feat : 0.08228527\n",
      "  obj : 3.304182\n",
      "\n"
     ]
    },
    {
     "name": "stderr",
     "output_type": "stream",
     "text": [
      "  4%|███                                                                        | 1501/37402 [10:07<4:30:11,  2.21it/s]"
     ]
    },
    {
     "name": "stdout",
     "output_type": "stream",
     "text": [
      "Folder: snap/vqa_test \n",
      " Epoch 1 Iter: 1500/37402\n",
      "  Masked Tags : 2.51433\n",
      "  Text Only Masked LM : 2.099003\n",
      "  attr : 1.23349\n",
      "  feat : 0.08241587\n",
      "  obj : 3.263801\n",
      "\n"
     ]
    },
    {
     "name": "stderr",
     "output_type": "stream",
     "text": [
      "  5%|████                                                                       | 2001/37402 [13:33<3:37:43,  2.71it/s]"
     ]
    },
    {
     "name": "stdout",
     "output_type": "stream",
     "text": [
      "Folder: snap/vqa_test \n",
      " Epoch 1 Iter: 2000/37402\n",
      "  Masked Tags : 2.470167\n",
      "  Text Only Masked LM : 2.112324\n",
      "  attr : 1.247859\n",
      "  feat : 0.08176001\n",
      "  obj : 3.312189\n",
      "\n"
     ]
    },
    {
     "name": "stderr",
     "output_type": "stream",
     "text": [
      "  7%|█████                                                                      | 2501/37402 [17:01<4:22:51,  2.21it/s]"
     ]
    },
    {
     "name": "stdout",
     "output_type": "stream",
     "text": [
      "Folder: snap/vqa_test \n",
      " Epoch 1 Iter: 2500/37402\n",
      "  Masked Tags : 2.48086\n",
      "  Text Only Masked LM : 2.103668\n",
      "  attr : 1.244105\n",
      "  feat : 0.08294829\n",
      "  obj : 3.292782\n",
      "\n"
     ]
    },
    {
     "name": "stderr",
     "output_type": "stream",
     "text": [
      "  8%|██████                                                                     | 3001/37402 [20:25<3:18:04,  2.89it/s]"
     ]
    },
    {
     "name": "stdout",
     "output_type": "stream",
     "text": [
      "Folder: snap/vqa_test \n",
      " Epoch 1 Iter: 3000/37402\n",
      "  Masked Tags : 2.475587\n",
      "  Text Only Masked LM : 2.123892\n",
      "  attr : 1.233782\n",
      "  feat : 0.08202847\n",
      "  obj : 3.306158\n",
      "\n"
     ]
    },
    {
     "name": "stderr",
     "output_type": "stream",
     "text": [
      "  9%|███████                                                                    | 3501/37402 [24:00<3:22:21,  2.79it/s]"
     ]
    },
    {
     "name": "stdout",
     "output_type": "stream",
     "text": [
      "Folder: snap/vqa_test \n",
      " Epoch 1 Iter: 3500/37402\n",
      "  Masked Tags : 2.430217\n",
      "  Text Only Masked LM : 2.13516\n",
      "  attr : 1.224492\n",
      "  feat : 0.08163678\n",
      "  obj : 3.300231\n",
      "\n"
     ]
    },
    {
     "name": "stderr",
     "output_type": "stream",
     "text": [
      " 11%|████████                                                                   | 4001/37402 [27:28<3:57:34,  2.34it/s]"
     ]
    },
    {
     "name": "stdout",
     "output_type": "stream",
     "text": [
      "Folder: snap/vqa_test \n",
      " Epoch 1 Iter: 4000/37402\n",
      "  Masked Tags : 2.449602\n",
      "  Text Only Masked LM : 2.095769\n",
      "  attr : 1.234664\n",
      "  feat : 0.08305817\n",
      "  obj : 3.28223\n",
      "\n"
     ]
    },
    {
     "name": "stderr",
     "output_type": "stream",
     "text": [
      " 12%|█████████                                                                  | 4501/37402 [31:00<3:47:23,  2.41it/s]"
     ]
    },
    {
     "name": "stdout",
     "output_type": "stream",
     "text": [
      "Folder: snap/vqa_test \n",
      " Epoch 1 Iter: 4500/37402\n",
      "  Masked Tags : 2.41719\n",
      "  Text Only Masked LM : 2.128769\n",
      "  attr : 1.245879\n",
      "  feat : 0.08285849\n",
      "  obj : 3.288905\n",
      "\n"
     ]
    },
    {
     "name": "stderr",
     "output_type": "stream",
     "text": [
      " 13%|██████████                                                                 | 5001/37402 [34:24<2:53:34,  3.11it/s]"
     ]
    },
    {
     "name": "stdout",
     "output_type": "stream",
     "text": [
      "Folder: snap/vqa_test \n",
      " Epoch 1 Iter: 5000/37402\n",
      "  Masked Tags : 2.454299\n",
      "  Text Only Masked LM : 2.094459\n",
      "  attr : 1.241466\n",
      "  feat : 0.08457965\n",
      "  obj : 3.279697\n",
      "\n"
     ]
    },
    {
     "name": "stderr",
     "output_type": "stream",
     "text": [
      " 15%|███████████                                                                | 5501/37402 [37:50<3:35:23,  2.47it/s]"
     ]
    },
    {
     "name": "stdout",
     "output_type": "stream",
     "text": [
      "Folder: snap/vqa_test \n",
      " Epoch 1 Iter: 5500/37402\n",
      "  Masked Tags : 2.392475\n",
      "  Text Only Masked LM : 2.064145\n",
      "  attr : 1.235735\n",
      "  feat : 0.08120821\n",
      "  obj : 3.287365\n",
      "\n"
     ]
    },
    {
     "name": "stderr",
     "output_type": "stream",
     "text": [
      " 16%|████████████                                                               | 6001/37402 [41:18<4:27:09,  1.96it/s]"
     ]
    },
    {
     "name": "stdout",
     "output_type": "stream",
     "text": [
      "Folder: snap/vqa_test \n",
      " Epoch 1 Iter: 6000/37402\n",
      "  Masked Tags : 2.409569\n",
      "  Text Only Masked LM : 2.080053\n",
      "  attr : 1.242272\n",
      "  feat : 0.08209691\n",
      "  obj : 3.287553\n",
      "\n"
     ]
    },
    {
     "name": "stderr",
     "output_type": "stream",
     "text": [
      " 17%|█████████████                                                              | 6501/37402 [44:34<3:33:26,  2.41it/s]"
     ]
    },
    {
     "name": "stdout",
     "output_type": "stream",
     "text": [
      "Folder: snap/vqa_test \n",
      " Epoch 1 Iter: 6500/37402\n",
      "  Masked Tags : 2.386584\n",
      "  Text Only Masked LM : 2.110336\n",
      "  attr : 1.265645\n",
      "  feat : 0.08367985\n",
      "  obj : 3.287193\n",
      "\n"
     ]
    },
    {
     "name": "stderr",
     "output_type": "stream",
     "text": [
      " 19%|██████████████                                                             | 7001/37402 [47:58<2:25:19,  3.49it/s]"
     ]
    },
    {
     "name": "stdout",
     "output_type": "stream",
     "text": [
      "Folder: snap/vqa_test \n",
      " Epoch 1 Iter: 7000/37402\n",
      "  Masked Tags : 2.380525\n",
      "  Text Only Masked LM : 2.080441\n",
      "  attr : 1.236823\n",
      "  feat : 0.08244999\n",
      "  obj : 3.323768\n",
      "\n"
     ]
    },
    {
     "name": "stderr",
     "output_type": "stream",
     "text": [
      " 20%|███████████████                                                            | 7501/37402 [51:19<3:16:43,  2.53it/s]"
     ]
    },
    {
     "name": "stdout",
     "output_type": "stream",
     "text": [
      "Folder: snap/vqa_test \n",
      " Epoch 1 Iter: 7500/37402\n",
      "  Masked Tags : 2.431893\n",
      "  Text Only Masked LM : 2.054536\n",
      "  attr : 1.247815\n",
      "  feat : 0.08181487\n",
      "  obj : 3.272791\n",
      "\n"
     ]
    },
    {
     "name": "stderr",
     "output_type": "stream",
     "text": [
      " 21%|████████████████                                                           | 8001/37402 [54:55<3:45:28,  2.17it/s]"
     ]
    },
    {
     "name": "stdout",
     "output_type": "stream",
     "text": [
      "Folder: snap/vqa_test \n",
      " Epoch 1 Iter: 8000/37402\n",
      "  Masked Tags : 2.397207\n",
      "  Text Only Masked LM : 2.126362\n",
      "  attr : 1.234687\n",
      "  feat : 0.08188097\n",
      "  obj : 3.274755\n",
      "\n"
     ]
    },
    {
     "name": "stderr",
     "output_type": "stream",
     "text": [
      " 23%|█████████████████                                                          | 8501/37402 [58:25<3:14:44,  2.47it/s]"
     ]
    },
    {
     "name": "stdout",
     "output_type": "stream",
     "text": [
      "Folder: snap/vqa_test \n",
      " Epoch 1 Iter: 8500/37402\n",
      "  Masked Tags : 2.312683\n",
      "  Text Only Masked LM : 2.072553\n",
      "  attr : 1.23665\n",
      "  feat : 0.08187717\n",
      "  obj : 3.290837\n",
      "\n"
     ]
    },
    {
     "name": "stderr",
     "output_type": "stream",
     "text": [
      " 24%|█████████████████▌                                                       | 9001/37402 [1:01:58<4:55:05,  1.60it/s]"
     ]
    },
    {
     "name": "stdout",
     "output_type": "stream",
     "text": [
      "Folder: snap/vqa_test \n",
      " Epoch 1 Iter: 9000/37402\n",
      "  Masked Tags : 2.372862\n",
      "  Text Only Masked LM : 2.087954\n",
      "  attr : 1.265058\n",
      "  feat : 0.08216726\n",
      "  obj : 3.292118\n",
      "\n"
     ]
    },
    {
     "name": "stderr",
     "output_type": "stream",
     "text": [
      " 25%|██████████████████▌                                                      | 9501/37402 [1:05:23<3:22:59,  2.29it/s]"
     ]
    },
    {
     "name": "stdout",
     "output_type": "stream",
     "text": [
      "Folder: snap/vqa_test \n",
      " Epoch 1 Iter: 9500/37402\n",
      "  Masked Tags : 2.34934\n",
      "  Text Only Masked LM : 2.106658\n",
      "  attr : 1.260541\n",
      "  feat : 0.08152162\n",
      "  obj : 3.302487\n",
      "\n"
     ]
    },
    {
     "name": "stderr",
     "output_type": "stream",
     "text": [
      " 27%|███████████████████▎                                                    | 10001/37402 [1:08:53<3:21:50,  2.26it/s]"
     ]
    },
    {
     "name": "stdout",
     "output_type": "stream",
     "text": [
      "Folder: snap/vqa_test \n",
      " Epoch 1 Iter: 10000/37402\n",
      "  Masked Tags : 2.414203\n",
      "  Text Only Masked LM : 2.065891\n",
      "  attr : 1.239583\n",
      "  feat : 0.08341452\n",
      "  obj : 3.282329\n",
      "\n"
     ]
    },
    {
     "name": "stderr",
     "output_type": "stream",
     "text": [
      " 28%|████████████████████▏                                                   | 10501/37402 [1:12:18<2:42:09,  2.76it/s]"
     ]
    },
    {
     "name": "stdout",
     "output_type": "stream",
     "text": [
      "Folder: snap/vqa_test \n",
      " Epoch 1 Iter: 10500/37402\n",
      "  Masked Tags : 2.286623\n",
      "  Text Only Masked LM : 2.105111\n",
      "  attr : 1.262915\n",
      "  feat : 0.08446993\n",
      "  obj : 3.324217\n",
      "\n"
     ]
    },
    {
     "name": "stderr",
     "output_type": "stream",
     "text": [
      " 29%|█████████████████████▏                                                  | 11001/37402 [1:15:44<2:39:25,  2.76it/s]"
     ]
    },
    {
     "name": "stdout",
     "output_type": "stream",
     "text": [
      "Folder: snap/vqa_test \n",
      " Epoch 1 Iter: 11000/37402\n",
      "  Masked Tags : 2.286863\n",
      "  Text Only Masked LM : 2.125481\n",
      "  attr : 1.24074\n",
      "  feat : 0.08067964\n",
      "  obj : 3.305283\n",
      "\n"
     ]
    },
    {
     "name": "stderr",
     "output_type": "stream",
     "text": [
      " 31%|██████████████████████▏                                                 | 11501/37402 [1:19:08<3:27:21,  2.08it/s]"
     ]
    },
    {
     "name": "stdout",
     "output_type": "stream",
     "text": [
      "Folder: snap/vqa_test \n",
      " Epoch 1 Iter: 11500/37402\n",
      "  Masked Tags : 2.360996\n",
      "  Text Only Masked LM : 2.121638\n",
      "  attr : 1.239537\n",
      "  feat : 0.08107416\n",
      "  obj : 3.262798\n",
      "\n"
     ]
    },
    {
     "name": "stderr",
     "output_type": "stream",
     "text": [
      " 32%|███████████████████████                                                 | 12001/37402 [1:22:37<3:22:38,  2.09it/s]"
     ]
    },
    {
     "name": "stdout",
     "output_type": "stream",
     "text": [
      "Folder: snap/vqa_test \n",
      " Epoch 1 Iter: 12000/37402\n",
      "  Masked Tags : 2.344604\n",
      "  Text Only Masked LM : 2.122147\n",
      "  attr : 1.24324\n",
      "  feat : 0.0823951\n",
      "  obj : 3.255749\n",
      "\n"
     ]
    },
    {
     "name": "stderr",
     "output_type": "stream",
     "text": [
      " 33%|████████████████████████                                                | 12501/37402 [1:25:59<2:41:37,  2.57it/s]"
     ]
    },
    {
     "name": "stdout",
     "output_type": "stream",
     "text": [
      "Folder: snap/vqa_test \n",
      " Epoch 1 Iter: 12500/37402\n",
      "  Masked Tags : 2.262133\n",
      "  Text Only Masked LM : 2.056912\n",
      "  attr : 1.231041\n",
      "  feat : 0.08071802\n",
      "  obj : 3.288972\n",
      "\n"
     ]
    },
    {
     "name": "stderr",
     "output_type": "stream",
     "text": [
      " 35%|█████████████████████████                                               | 13001/37402 [1:29:27<3:03:12,  2.22it/s]"
     ]
    },
    {
     "name": "stdout",
     "output_type": "stream",
     "text": [
      "Folder: snap/vqa_test \n",
      " Epoch 1 Iter: 13000/37402\n",
      "  Masked Tags : 2.279017\n",
      "  Text Only Masked LM : 2.092265\n",
      "  attr : 1.243628\n",
      "  feat : 0.08204188\n",
      "  obj : 3.272763\n",
      "\n"
     ]
    },
    {
     "name": "stderr",
     "output_type": "stream",
     "text": [
      " 36%|█████████████████████████▉                                              | 13501/37402 [1:32:52<2:14:07,  2.97it/s]"
     ]
    },
    {
     "name": "stdout",
     "output_type": "stream",
     "text": [
      "Folder: snap/vqa_test \n",
      " Epoch 1 Iter: 13500/37402\n",
      "  Masked Tags : 2.204531\n",
      "  Text Only Masked LM : 2.098182\n",
      "  attr : 1.229389\n",
      "  feat : 0.0802605\n",
      "  obj : 3.292498\n",
      "\n"
     ]
    },
    {
     "name": "stderr",
     "output_type": "stream",
     "text": [
      " 37%|██████████████████████████▉                                             | 14001/37402 [1:36:19<2:31:36,  2.57it/s]"
     ]
    },
    {
     "name": "stdout",
     "output_type": "stream",
     "text": [
      "Folder: snap/vqa_test \n",
      " Epoch 1 Iter: 14000/37402\n",
      "  Masked Tags : 2.196986\n",
      "  Text Only Masked LM : 2.06778\n",
      "  attr : 1.249436\n",
      "  feat : 0.08070054\n",
      "  obj : 3.303503\n",
      "\n"
     ]
    },
    {
     "name": "stderr",
     "output_type": "stream",
     "text": [
      " 39%|███████████████████████████▉                                            | 14501/37402 [1:39:44<2:05:35,  3.04it/s]"
     ]
    },
    {
     "name": "stdout",
     "output_type": "stream",
     "text": [
      "Folder: snap/vqa_test \n",
      " Epoch 1 Iter: 14500/37402\n",
      "  Masked Tags : 2.242306\n",
      "  Text Only Masked LM : 2.071179\n",
      "  attr : 1.225172\n",
      "  feat : 0.08193265\n",
      "  obj : 3.245669\n",
      "\n"
     ]
    },
    {
     "name": "stderr",
     "output_type": "stream",
     "text": [
      " 40%|████████████████████████████▉                                           | 15001/37402 [1:43:11<2:38:15,  2.36it/s]"
     ]
    },
    {
     "name": "stdout",
     "output_type": "stream",
     "text": [
      "Folder: snap/vqa_test \n",
      " Epoch 1 Iter: 15000/37402\n",
      "  Masked Tags : 2.225859\n",
      "  Text Only Masked LM : 2.038762\n",
      "  attr : 1.223636\n",
      "  feat : 0.08224836\n",
      "  obj : 3.248743\n",
      "\n"
     ]
    },
    {
     "name": "stderr",
     "output_type": "stream",
     "text": [
      " 41%|█████████████████████████████▊                                          | 15501/37402 [1:46:28<2:40:03,  2.28it/s]"
     ]
    },
    {
     "name": "stdout",
     "output_type": "stream",
     "text": [
      "Folder: snap/vqa_test \n",
      " Epoch 1 Iter: 15500/37402\n",
      "  Masked Tags : 2.203194\n",
      "  Text Only Masked LM : 2.05381\n",
      "  attr : 1.235278\n",
      "  feat : 0.08086726\n",
      "  obj : 3.249504\n",
      "\n"
     ]
    },
    {
     "name": "stderr",
     "output_type": "stream",
     "text": [
      " 43%|██████████████████████████████▊                                         | 16001/37402 [1:49:57<2:35:13,  2.30it/s]"
     ]
    },
    {
     "name": "stdout",
     "output_type": "stream",
     "text": [
      "Folder: snap/vqa_test \n",
      " Epoch 1 Iter: 16000/37402\n",
      "  Masked Tags : 2.187059\n",
      "  Text Only Masked LM : 2.027678\n",
      "  attr : 1.233617\n",
      "  feat : 0.08153127\n",
      "  obj : 3.286521\n",
      "\n"
     ]
    },
    {
     "name": "stderr",
     "output_type": "stream",
     "text": [
      " 44%|███████████████████████████████▊                                        | 16501/37402 [1:53:25<2:56:05,  1.98it/s]"
     ]
    },
    {
     "name": "stdout",
     "output_type": "stream",
     "text": [
      "Folder: snap/vqa_test \n",
      " Epoch 1 Iter: 16500/37402\n",
      "  Masked Tags : 2.172157\n",
      "  Text Only Masked LM : 2.07394\n",
      "  attr : 1.234356\n",
      "  feat : 0.08329305\n",
      "  obj : 3.291124\n",
      "\n"
     ]
    },
    {
     "name": "stderr",
     "output_type": "stream",
     "text": [
      " 45%|████████████████████████████████▋                                       | 17001/37402 [1:56:44<2:39:19,  2.13it/s]"
     ]
    },
    {
     "name": "stdout",
     "output_type": "stream",
     "text": [
      "Folder: snap/vqa_test \n",
      " Epoch 1 Iter: 17000/37402\n",
      "  Masked Tags : 2.201071\n",
      "  Text Only Masked LM : 2.082434\n",
      "  attr : 1.224121\n",
      "  feat : 0.08257815\n",
      "  obj : 3.253768\n",
      "\n"
     ]
    },
    {
     "name": "stderr",
     "output_type": "stream",
     "text": [
      " 47%|█████████████████████████████████▋                                      | 17501/37402 [2:00:09<1:52:37,  2.95it/s]"
     ]
    },
    {
     "name": "stdout",
     "output_type": "stream",
     "text": [
      "Folder: snap/vqa_test \n",
      " Epoch 1 Iter: 17500/37402\n",
      "  Masked Tags : 2.188726\n",
      "  Text Only Masked LM : 2.085241\n",
      "  attr : 1.224175\n",
      "  feat : 0.08165224\n",
      "  obj : 3.284763\n",
      "\n"
     ]
    },
    {
     "name": "stderr",
     "output_type": "stream",
     "text": [
      " 48%|██████████████████████████████████▋                                     | 18001/37402 [2:03:40<1:50:43,  2.92it/s]"
     ]
    },
    {
     "name": "stdout",
     "output_type": "stream",
     "text": [
      "Folder: snap/vqa_test \n",
      " Epoch 1 Iter: 18000/37402\n",
      "  Masked Tags : 2.161273\n",
      "  Text Only Masked LM : 2.063477\n",
      "  attr : 1.237338\n",
      "  feat : 0.08254079\n",
      "  obj : 3.27704\n",
      "\n"
     ]
    },
    {
     "name": "stderr",
     "output_type": "stream",
     "text": [
      " 49%|███████████████████████████████████▌                                    | 18501/37402 [2:07:04<2:32:39,  2.06it/s]"
     ]
    },
    {
     "name": "stdout",
     "output_type": "stream",
     "text": [
      "Folder: snap/vqa_test \n",
      " Epoch 1 Iter: 18500/37402\n",
      "  Masked Tags : 2.131798\n",
      "  Text Only Masked LM : 2.096775\n",
      "  attr : 1.224798\n",
      "  feat : 0.08144598\n",
      "  obj : 3.266135\n",
      "\n"
     ]
    },
    {
     "name": "stderr",
     "output_type": "stream",
     "text": [
      " 51%|████████████████████████████████████▌                                   | 19001/37402 [2:10:32<2:27:50,  2.07it/s]"
     ]
    },
    {
     "name": "stdout",
     "output_type": "stream",
     "text": [
      "Folder: snap/vqa_test \n",
      " Epoch 1 Iter: 19000/37402\n",
      "  Masked Tags : 2.14143\n",
      "  Text Only Masked LM : 2.090289\n",
      "  attr : 1.22166\n",
      "  feat : 0.08241133\n",
      "  obj : 3.256643\n",
      "\n"
     ]
    },
    {
     "name": "stderr",
     "output_type": "stream",
     "text": [
      " 52%|█████████████████████████████████████▌                                  | 19501/37402 [2:14:01<2:04:38,  2.39it/s]"
     ]
    },
    {
     "name": "stdout",
     "output_type": "stream",
     "text": [
      "Folder: snap/vqa_test \n",
      " Epoch 1 Iter: 19500/37402\n",
      "  Masked Tags : 2.134909\n",
      "  Text Only Masked LM : 2.138304\n",
      "  attr : 1.227883\n",
      "  feat : 0.08074629\n",
      "  obj : 3.289452\n",
      "\n"
     ]
    },
    {
     "name": "stderr",
     "output_type": "stream",
     "text": [
      " 53%|██████████████████████████████████████▌                                 | 20001/37402 [2:17:24<2:01:52,  2.38it/s]"
     ]
    },
    {
     "name": "stdout",
     "output_type": "stream",
     "text": [
      "Folder: snap/vqa_test \n",
      " Epoch 1 Iter: 20000/37402\n",
      "  Masked Tags : 2.214967\n",
      "  Text Only Masked LM : 2.096351\n",
      "  attr : 1.22798\n",
      "  feat : 0.08216057\n",
      "  obj : 3.301342\n",
      "\n"
     ]
    },
    {
     "name": "stderr",
     "output_type": "stream",
     "text": [
      " 55%|███████████████████████████████████████▍                                | 20502/37402 [2:20:47<1:48:12,  2.60it/s]"
     ]
    },
    {
     "name": "stdout",
     "output_type": "stream",
     "text": [
      "Folder: snap/vqa_test \n",
      " Epoch 1 Iter: 20500/37402\n",
      "  Masked Tags : 2.193675\n",
      "  Text Only Masked LM : 2.013801\n",
      "  attr : 1.224311\n",
      "  feat : 0.08095349\n",
      "  obj : 3.27942\n",
      "\n"
     ]
    },
    {
     "name": "stderr",
     "output_type": "stream",
     "text": [
      " 56%|████████████████████████████████████████▍                               | 21001/37402 [2:24:11<1:28:55,  3.07it/s]"
     ]
    },
    {
     "name": "stdout",
     "output_type": "stream",
     "text": [
      "Folder: snap/vqa_test \n",
      " Epoch 1 Iter: 21000/37402\n",
      "  Masked Tags : 2.09135\n",
      "  Text Only Masked LM : 2.072135\n",
      "  attr : 1.229377\n",
      "  feat : 0.08259592\n",
      "  obj : 3.276473\n",
      "\n"
     ]
    },
    {
     "name": "stderr",
     "output_type": "stream",
     "text": [
      " 57%|█████████████████████████████████████████▍                              | 21501/37402 [2:27:32<1:49:07,  2.43it/s]"
     ]
    },
    {
     "name": "stdout",
     "output_type": "stream",
     "text": [
      "Folder: snap/vqa_test \n",
      " Epoch 1 Iter: 21500/37402\n",
      "  Masked Tags : 2.158351\n",
      "  Text Only Masked LM : 2.059422\n",
      "  attr : 1.224588\n",
      "  feat : 0.08038543\n",
      "  obj : 3.28354\n",
      "\n"
     ]
    },
    {
     "name": "stderr",
     "output_type": "stream",
     "text": [
      " 59%|██████████████████████████████████████████▎                             | 22001/37402 [2:30:59<1:14:50,  3.43it/s]"
     ]
    },
    {
     "name": "stdout",
     "output_type": "stream",
     "text": [
      "Folder: snap/vqa_test \n",
      " Epoch 1 Iter: 22000/37402\n",
      "  Masked Tags : 2.141605\n",
      "  Text Only Masked LM : 2.097584\n",
      "  attr : 1.237577\n",
      "  feat : 0.08193659\n",
      "  obj : 3.296375\n",
      "\n"
     ]
    },
    {
     "name": "stderr",
     "output_type": "stream",
     "text": [
      " 60%|███████████████████████████████████████████▎                            | 22501/37402 [2:34:29<1:42:25,  2.42it/s]"
     ]
    },
    {
     "name": "stdout",
     "output_type": "stream",
     "text": [
      "Folder: snap/vqa_test \n",
      " Epoch 1 Iter: 22500/37402\n",
      "  Masked Tags : 2.088494\n",
      "  Text Only Masked LM : 2.073226\n",
      "  attr : 1.235514\n",
      "  feat : 0.08147418\n",
      "  obj : 3.272362\n",
      "\n"
     ]
    },
    {
     "name": "stderr",
     "output_type": "stream",
     "text": [
      " 61%|████████████████████████████████████████████▎                           | 23001/37402 [2:37:57<1:43:19,  2.32it/s]"
     ]
    },
    {
     "name": "stdout",
     "output_type": "stream",
     "text": [
      "Folder: snap/vqa_test \n",
      " Epoch 1 Iter: 23000/37402\n",
      "  Masked Tags : 2.107139\n",
      "  Text Only Masked LM : 2.087245\n",
      "  attr : 1.228928\n",
      "  feat : 0.08443038\n",
      "  obj : 3.26699\n",
      "\n"
     ]
    },
    {
     "name": "stderr",
     "output_type": "stream",
     "text": [
      " 63%|█████████████████████████████████████████████▏                          | 23501/37402 [2:41:26<1:36:20,  2.40it/s]"
     ]
    },
    {
     "name": "stdout",
     "output_type": "stream",
     "text": [
      "Folder: snap/vqa_test \n",
      " Epoch 1 Iter: 23500/37402\n",
      "  Masked Tags : 2.097798\n",
      "  Text Only Masked LM : 2.0962\n",
      "  attr : 1.234534\n",
      "  feat : 0.08290097\n",
      "  obj : 3.287985\n",
      "\n"
     ]
    },
    {
     "name": "stderr",
     "output_type": "stream",
     "text": [
      " 64%|██████████████████████████████████████████████▏                         | 24001/37402 [2:44:54<1:32:27,  2.42it/s]"
     ]
    },
    {
     "name": "stdout",
     "output_type": "stream",
     "text": [
      "Folder: snap/vqa_test \n",
      " Epoch 1 Iter: 24000/37402\n",
      "  Masked Tags : 2.139644\n",
      "  Text Only Masked LM : 2.098982\n",
      "  attr : 1.225893\n",
      "  feat : 0.08148953\n",
      "  obj : 3.251933\n",
      "\n"
     ]
    },
    {
     "name": "stderr",
     "output_type": "stream",
     "text": [
      " 66%|███████████████████████████████████████████████▏                        | 24501/37402 [2:48:20<1:38:55,  2.17it/s]"
     ]
    },
    {
     "name": "stdout",
     "output_type": "stream",
     "text": [
      "Folder: snap/vqa_test \n",
      " Epoch 1 Iter: 24500/37402\n",
      "  Masked Tags : 2.087867\n",
      "  Text Only Masked LM : 2.063116\n",
      "  attr : 1.241021\n",
      "  feat : 0.08208959\n",
      "  obj : 3.280422\n",
      "\n"
     ]
    },
    {
     "name": "stderr",
     "output_type": "stream",
     "text": [
      " 67%|████████████████████████████████████████████████▏                       | 25002/37402 [2:51:49<1:12:56,  2.83it/s]"
     ]
    },
    {
     "name": "stdout",
     "output_type": "stream",
     "text": [
      "Folder: snap/vqa_test \n",
      " Epoch 1 Iter: 25000/37402\n",
      "  Masked Tags : 2.080648\n",
      "  Text Only Masked LM : 2.093538\n",
      "  attr : 1.237871\n",
      "  feat : 0.0822232\n",
      "  obj : 3.305386\n",
      "\n"
     ]
    },
    {
     "name": "stderr",
     "output_type": "stream",
     "text": [
      " 68%|█████████████████████████████████████████████████                       | 25501/37402 [2:55:17<1:33:22,  2.12it/s]"
     ]
    },
    {
     "name": "stdout",
     "output_type": "stream",
     "text": [
      "Folder: snap/vqa_test \n",
      " Epoch 1 Iter: 25500/37402\n",
      "  Masked Tags : 2.067904\n",
      "  Text Only Masked LM : 2.055153\n",
      "  attr : 1.223409\n",
      "  feat : 0.08271155\n",
      "  obj : 3.277554\n",
      "\n"
     ]
    },
    {
     "name": "stderr",
     "output_type": "stream",
     "text": [
      " 70%|██████████████████████████████████████████████████                      | 26001/37402 [2:58:44<1:23:28,  2.28it/s]"
     ]
    },
    {
     "name": "stdout",
     "output_type": "stream",
     "text": [
      "Folder: snap/vqa_test \n",
      " Epoch 1 Iter: 26000/37402\n",
      "  Masked Tags : 2.075175\n",
      "  Text Only Masked LM : 2.078981\n",
      "  attr : 1.237637\n",
      "  feat : 0.08220483\n",
      "  obj : 3.250975\n",
      "\n"
     ]
    },
    {
     "name": "stderr",
     "output_type": "stream",
     "text": [
      " 71%|███████████████████████████████████████████████████                     | 26501/37402 [3:02:11<1:19:36,  2.28it/s]"
     ]
    },
    {
     "name": "stdout",
     "output_type": "stream",
     "text": [
      "Folder: snap/vqa_test \n",
      " Epoch 1 Iter: 26500/37402\n",
      "  Masked Tags : 2.038254\n",
      "  Text Only Masked LM : 2.096036\n",
      "  attr : 1.259202\n",
      "  feat : 0.08248916\n",
      "  obj : 3.263406\n",
      "\n"
     ]
    },
    {
     "name": "stderr",
     "output_type": "stream",
     "text": [
      " 72%|███████████████████████████████████████████████████▉                    | 27001/37402 [3:05:28<1:12:50,  2.38it/s]"
     ]
    },
    {
     "name": "stdout",
     "output_type": "stream",
     "text": [
      "Folder: snap/vqa_test \n",
      " Epoch 1 Iter: 27000/37402\n",
      "  Masked Tags : 2.048717\n",
      "  Text Only Masked LM : 2.042059\n",
      "  attr : 1.234771\n",
      "  feat : 0.08273307\n",
      "  obj : 3.303249\n",
      "\n"
     ]
    },
    {
     "name": "stderr",
     "output_type": "stream",
     "text": [
      " 74%|████████████████████████████████████████████████████▉                   | 27501/37402 [3:08:59<1:30:01,  1.83it/s]"
     ]
    },
    {
     "name": "stdout",
     "output_type": "stream",
     "text": [
      "Folder: snap/vqa_test \n",
      " Epoch 1 Iter: 27500/37402\n",
      "  Masked Tags : 2.021312\n",
      "  Text Only Masked LM : 2.055193\n",
      "  attr : 1.239824\n",
      "  feat : 0.0814379\n",
      "  obj : 3.292783\n",
      "\n"
     ]
    },
    {
     "name": "stderr",
     "output_type": "stream",
     "text": [
      " 75%|█████████████████████████████████████████████████████▉                  | 28001/37402 [3:12:22<1:02:47,  2.50it/s]"
     ]
    },
    {
     "name": "stdout",
     "output_type": "stream",
     "text": [
      "Folder: snap/vqa_test \n",
      " Epoch 1 Iter: 28000/37402\n",
      "  Masked Tags : 2.067624\n",
      "  Text Only Masked LM : 2.048635\n",
      "  attr : 1.228713\n",
      "  feat : 0.08257844\n",
      "  obj : 3.28971\n",
      "\n"
     ]
    },
    {
     "name": "stderr",
     "output_type": "stream",
     "text": [
      " 76%|████████████████████████████████████████████████████████▍                 | 28501/37402 [3:15:52<57:54,  2.56it/s]"
     ]
    },
    {
     "name": "stdout",
     "output_type": "stream",
     "text": [
      "Folder: snap/vqa_test \n",
      " Epoch 1 Iter: 28500/37402\n",
      "  Masked Tags : 2.041068\n",
      "  Text Only Masked LM : 2.088037\n",
      "  attr : 1.238736\n",
      "  feat : 0.08134038\n",
      "  obj : 3.287671\n",
      "\n"
     ]
    },
    {
     "name": "stderr",
     "output_type": "stream",
     "text": [
      " 78%|█████████████████████████████████████████████████████████▍                | 29001/37402 [3:19:20<58:58,  2.37it/s]"
     ]
    },
    {
     "name": "stdout",
     "output_type": "stream",
     "text": [
      "Folder: snap/vqa_test \n",
      " Epoch 1 Iter: 29000/37402\n",
      "  Masked Tags : 2.008795\n",
      "  Text Only Masked LM : 2.069889\n",
      "  attr : 1.231125\n",
      "  feat : 0.08175562\n",
      "  obj : 3.318255\n",
      "\n"
     ]
    },
    {
     "name": "stderr",
     "output_type": "stream",
     "text": [
      " 79%|██████████████████████████████████████████████████████████▎               | 29501/37402 [3:22:36<53:49,  2.45it/s]"
     ]
    },
    {
     "name": "stdout",
     "output_type": "stream",
     "text": [
      "Folder: snap/vqa_test \n",
      " Epoch 1 Iter: 29500/37402\n",
      "  Masked Tags : 2.045481\n",
      "  Text Only Masked LM : 2.031471\n",
      "  attr : 1.246147\n",
      "  feat : 0.08184233\n",
      "  obj : 3.315544\n",
      "\n"
     ]
    },
    {
     "name": "stderr",
     "output_type": "stream",
     "text": [
      " 80%|███████████████████████████████████████████████████████████▎              | 30001/37402 [3:26:06<45:16,  2.72it/s]"
     ]
    },
    {
     "name": "stdout",
     "output_type": "stream",
     "text": [
      "Folder: snap/vqa_test \n",
      " Epoch 1 Iter: 30000/37402\n",
      "  Masked Tags : 2.026244\n",
      "  Text Only Masked LM : 2.035614\n",
      "  attr : 1.238693\n",
      "  feat : 0.08042826\n",
      "  obj : 3.282051\n",
      "\n"
     ]
    },
    {
     "name": "stderr",
     "output_type": "stream",
     "text": [
      " 82%|████████████████████████████████████████████████████████████▎             | 30501/37402 [3:29:34<51:21,  2.24it/s]"
     ]
    },
    {
     "name": "stdout",
     "output_type": "stream",
     "text": [
      "Folder: snap/vqa_test \n",
      " Epoch 1 Iter: 30500/37402\n",
      "  Masked Tags : 2.006077\n",
      "  Text Only Masked LM : 2.048088\n",
      "  attr : 1.238496\n",
      "  feat : 0.08060813\n",
      "  obj : 3.277672\n",
      "\n"
     ]
    },
    {
     "name": "stderr",
     "output_type": "stream",
     "text": [
      " 83%|█████████████████████████████████████████████████████████████▎            | 31001/37402 [3:33:03<37:01,  2.88it/s]"
     ]
    },
    {
     "name": "stdout",
     "output_type": "stream",
     "text": [
      "Folder: snap/vqa_test \n",
      " Epoch 1 Iter: 31000/37402\n",
      "  Masked Tags : 2.000791\n",
      "  Text Only Masked LM : 2.069536\n",
      "  attr : 1.220609\n",
      "  feat : 0.08274708\n",
      "  obj : 3.260543\n",
      "\n"
     ]
    },
    {
     "name": "stderr",
     "output_type": "stream",
     "text": [
      " 84%|██████████████████████████████████████████████████████████████▎           | 31501/37402 [3:36:38<33:48,  2.91it/s]"
     ]
    },
    {
     "name": "stdout",
     "output_type": "stream",
     "text": [
      "Folder: snap/vqa_test \n",
      " Epoch 1 Iter: 31500/37402\n",
      "  Masked Tags : 1.964667\n",
      "  Text Only Masked LM : 2.075559\n",
      "  attr : 1.235402\n",
      "  feat : 0.08217612\n",
      "  obj : 3.284907\n",
      "\n"
     ]
    },
    {
     "name": "stderr",
     "output_type": "stream",
     "text": [
      " 86%|███████████████████████████████████████████████████████████████▎          | 32001/37402 [3:40:05<41:19,  2.18it/s]"
     ]
    },
    {
     "name": "stdout",
     "output_type": "stream",
     "text": [
      "Folder: snap/vqa_test \n",
      " Epoch 1 Iter: 32000/37402\n",
      "  Masked Tags : 2.004582\n",
      "  Text Only Masked LM : 1.991696\n",
      "  attr : 1.221428\n",
      "  feat : 0.08267356\n",
      "  obj : 3.267279\n",
      "\n"
     ]
    },
    {
     "name": "stderr",
     "output_type": "stream",
     "text": [
      " 87%|████████████████████████████████████████████████████████████████▎         | 32501/37402 [3:43:28<39:58,  2.04it/s]"
     ]
    },
    {
     "name": "stdout",
     "output_type": "stream",
     "text": [
      "Folder: snap/vqa_test \n",
      " Epoch 1 Iter: 32500/37402\n",
      "  Masked Tags : 2.014367\n",
      "  Text Only Masked LM : 2.052358\n",
      "  attr : 1.230362\n",
      "  feat : 0.08192487\n",
      "  obj : 3.244463\n",
      "\n"
     ]
    },
    {
     "name": "stderr",
     "output_type": "stream",
     "text": [
      " 88%|█████████████████████████████████████████████████████████████████▎        | 33001/37402 [3:46:51<27:20,  2.68it/s]"
     ]
    },
    {
     "name": "stdout",
     "output_type": "stream",
     "text": [
      "Folder: snap/vqa_test \n",
      " Epoch 1 Iter: 33000/37402\n",
      "  Masked Tags : 1.942916\n",
      "  Text Only Masked LM : 2.062161\n",
      "  attr : 1.224006\n",
      "  feat : 0.08251379\n",
      "  obj : 3.294582\n",
      "\n"
     ]
    },
    {
     "name": "stderr",
     "output_type": "stream",
     "text": [
      " 90%|██████████████████████████████████████████████████████████████████▎       | 33501/37402 [3:50:07<27:11,  2.39it/s]"
     ]
    },
    {
     "name": "stdout",
     "output_type": "stream",
     "text": [
      "Folder: snap/vqa_test \n",
      " Epoch 1 Iter: 33500/37402\n",
      "  Masked Tags : 2.052409\n",
      "  Text Only Masked LM : 2.026429\n",
      "  attr : 1.223899\n",
      "  feat : 0.08268736\n",
      "  obj : 3.269689\n",
      "\n"
     ]
    },
    {
     "name": "stderr",
     "output_type": "stream",
     "text": [
      " 91%|███████████████████████████████████████████████████████████████████▎      | 34001/37402 [3:53:33<23:26,  2.42it/s]"
     ]
    },
    {
     "name": "stdout",
     "output_type": "stream",
     "text": [
      "Folder: snap/vqa_test \n",
      " Epoch 1 Iter: 34000/37402\n",
      "  Masked Tags : 1.935935\n",
      "  Text Only Masked LM : 2.073834\n",
      "  attr : 1.231427\n",
      "  feat : 0.08080581\n",
      "  obj : 3.27179\n",
      "\n"
     ]
    },
    {
     "name": "stderr",
     "output_type": "stream",
     "text": [
      " 92%|████████████████████████████████████████████████████████████████████▎     | 34501/37402 [3:57:01<20:52,  2.32it/s]"
     ]
    },
    {
     "name": "stdout",
     "output_type": "stream",
     "text": [
      "Folder: snap/vqa_test \n",
      " Epoch 1 Iter: 34500/37402\n",
      "  Masked Tags : 1.992202\n",
      "  Text Only Masked LM : 2.029347\n",
      "  attr : 1.248304\n",
      "  feat : 0.08397481\n",
      "  obj : 3.2623\n",
      "\n"
     ]
    },
    {
     "name": "stderr",
     "output_type": "stream",
     "text": [
      " 94%|█████████████████████████████████████████████████████████████████████▏    | 35001/37402 [4:00:16<14:57,  2.67it/s]"
     ]
    },
    {
     "name": "stdout",
     "output_type": "stream",
     "text": [
      "Folder: snap/vqa_test \n",
      " Epoch 1 Iter: 35000/37402\n",
      "  Masked Tags : 1.952075\n",
      "  Text Only Masked LM : 2.032135\n",
      "  attr : 1.214333\n",
      "  feat : 0.08303021\n",
      "  obj : 3.273218\n",
      "\n"
     ]
    },
    {
     "name": "stderr",
     "output_type": "stream",
     "text": [
      " 95%|██████████████████████████████████████████████████████████████████████▏   | 35501/37402 [4:03:41<10:25,  3.04it/s]"
     ]
    },
    {
     "name": "stdout",
     "output_type": "stream",
     "text": [
      "Folder: snap/vqa_test \n",
      " Epoch 1 Iter: 35500/37402\n",
      "  Masked Tags : 1.984394\n",
      "  Text Only Masked LM : 2.057284\n",
      "  attr : 1.243906\n",
      "  feat : 0.08274936\n",
      "  obj : 3.252982\n",
      "\n"
     ]
    },
    {
     "name": "stderr",
     "output_type": "stream",
     "text": [
      " 96%|███████████████████████████████████████████████████████████████████████▏  | 36001/37402 [4:07:09<07:22,  3.17it/s]"
     ]
    },
    {
     "name": "stdout",
     "output_type": "stream",
     "text": [
      "Folder: snap/vqa_test \n",
      " Epoch 1 Iter: 36000/37402\n",
      "  Masked Tags : 1.987379\n",
      "  Text Only Masked LM : 2.003704\n",
      "  attr : 1.222687\n",
      "  feat : 0.08317044\n",
      "  obj : 3.272299\n",
      "\n"
     ]
    },
    {
     "name": "stderr",
     "output_type": "stream",
     "text": [
      " 98%|████████████████████████████████████████████████████████████████████████▏ | 36501/37402 [4:10:39<05:53,  2.55it/s]"
     ]
    },
    {
     "name": "stdout",
     "output_type": "stream",
     "text": [
      "Folder: snap/vqa_test \n",
      " Epoch 1 Iter: 36500/37402\n",
      "  Masked Tags : 2.008734\n",
      "  Text Only Masked LM : 2.06515\n",
      "  attr : 1.231956\n",
      "  feat : 0.08125344\n",
      "  obj : 3.263706\n",
      "\n"
     ]
    },
    {
     "name": "stderr",
     "output_type": "stream",
     "text": [
      " 99%|█████████████████████████████████████████████████████████████████████████▏| 37001/37402 [4:13:49<01:58,  3.40it/s]"
     ]
    },
    {
     "name": "stdout",
     "output_type": "stream",
     "text": [
      "Folder: snap/vqa_test \n",
      " Epoch 1 Iter: 37000/37402\n",
      "  Masked Tags : 1.974999\n",
      "  Text Only Masked LM : 2.029286\n",
      "  attr : 1.244521\n",
      "  feat : 0.08351191\n",
      "  obj : 3.297901\n",
      "\n"
     ]
    },
    {
     "name": "stderr",
     "output_type": "stream",
     "text": [
      "100%|██████████████████████████████████████████████████████████████████████████| 37402/37402 [4:16:22<00:00,  2.43it/s]\n"
     ]
    },
    {
     "name": "stdout",
     "output_type": "stream",
     "text": [
      "The training loss for Epoch 1 is 2.0854\n"
     ]
    },
    {
     "name": "stderr",
     "output_type": "stream",
     "text": [
      "100%|████████████████████████████████████████████████████████████████████████████████| 782/782 [08:05<00:00,  1.61it/s]\n"
     ]
    },
    {
     "name": "stdout",
     "output_type": "stream",
     "text": [
      "Evaluation:\n",
      "  Masked LM : 3.133213\n",
      "  Masked Tags : 2.308288\n",
      "  attr : 1.292216\n",
      "  feat : 0.08258437\n",
      "  obj : 3.226792\n",
      "\n",
      "\n",
      "\n",
      "\n",
      "\n",
      "\n",
      "\n",
      "\n",
      "\n"
     ]
    },
    {
     "name": "stderr",
     "output_type": "stream",
     "text": [
      "  1%|█                                                                           | 501/37402 [03:19<3:39:56,  2.80it/s]"
     ]
    },
    {
     "name": "stdout",
     "output_type": "stream",
     "text": [
      "Folder: snap/vqa_test \n",
      " Epoch 2 Iter: 500/37402\n",
      "  Masked Tags : 2.022417\n",
      "  Text Only Masked LM : 2.135446\n",
      "  attr : 1.233155\n",
      "  feat : 0.08214994\n",
      "  obj : 3.265236\n",
      "\n"
     ]
    },
    {
     "name": "stderr",
     "output_type": "stream",
     "text": [
      "  3%|██                                                                         | 1001/37402 [06:36<5:01:55,  2.01it/s]"
     ]
    },
    {
     "name": "stdout",
     "output_type": "stream",
     "text": [
      "Folder: snap/vqa_test \n",
      " Epoch 2 Iter: 1000/37402\n",
      "  Masked Tags : 1.999404\n",
      "  Text Only Masked LM : 2.034624\n",
      "  attr : 1.232172\n",
      "  feat : 0.0825217\n",
      "  obj : 3.298058\n",
      "\n"
     ]
    },
    {
     "name": "stderr",
     "output_type": "stream",
     "text": [
      "  4%|███                                                                        | 1501/37402 [10:04<4:04:12,  2.45it/s]"
     ]
    },
    {
     "name": "stdout",
     "output_type": "stream",
     "text": [
      "Folder: snap/vqa_test \n",
      " Epoch 2 Iter: 1500/37402\n",
      "  Masked Tags : 1.965079\n",
      "  Text Only Masked LM : 2.019266\n",
      "  attr : 1.23387\n",
      "  feat : 0.08084419\n",
      "  obj : 3.264654\n",
      "\n"
     ]
    },
    {
     "name": "stderr",
     "output_type": "stream",
     "text": [
      "  5%|████                                                                       | 2001/37402 [13:31<3:47:33,  2.59it/s]"
     ]
    },
    {
     "name": "stdout",
     "output_type": "stream",
     "text": [
      "Folder: snap/vqa_test \n",
      " Epoch 2 Iter: 2000/37402\n",
      "  Masked Tags : 1.961125\n",
      "  Text Only Masked LM : 2.036844\n",
      "  attr : 1.236664\n",
      "  feat : 0.08181761\n",
      "  obj : 3.288523\n",
      "\n"
     ]
    },
    {
     "name": "stderr",
     "output_type": "stream",
     "text": [
      "  7%|█████                                                                      | 2501/37402 [16:51<3:39:28,  2.65it/s]"
     ]
    },
    {
     "name": "stdout",
     "output_type": "stream",
     "text": [
      "Folder: snap/vqa_test \n",
      " Epoch 2 Iter: 2500/37402\n",
      "  Masked Tags : 1.889987\n",
      "  Text Only Masked LM : 2.016137\n",
      "  attr : 1.231466\n",
      "  feat : 0.08127881\n",
      "  obj : 3.249226\n",
      "\n"
     ]
    },
    {
     "name": "stderr",
     "output_type": "stream",
     "text": [
      "  8%|██████                                                                     | 3001/37402 [20:19<3:35:33,  2.66it/s]"
     ]
    },
    {
     "name": "stdout",
     "output_type": "stream",
     "text": [
      "Folder: snap/vqa_test \n",
      " Epoch 2 Iter: 3000/37402\n",
      "  Masked Tags : 1.949849\n",
      "  Text Only Masked LM : 2.010663\n",
      "  attr : 1.222557\n",
      "  feat : 0.08132504\n",
      "  obj : 3.265265\n",
      "\n"
     ]
    },
    {
     "name": "stderr",
     "output_type": "stream",
     "text": [
      "  9%|███████                                                                    | 3501/37402 [23:43<4:37:32,  2.04it/s]"
     ]
    },
    {
     "name": "stdout",
     "output_type": "stream",
     "text": [
      "Folder: snap/vqa_test \n",
      " Epoch 2 Iter: 3500/37402\n",
      "  Masked Tags : 1.908648\n",
      "  Text Only Masked LM : 2.081689\n",
      "  attr : 1.206496\n",
      "  feat : 0.08333649\n",
      "  obj : 3.286991\n",
      "\n"
     ]
    },
    {
     "name": "stderr",
     "output_type": "stream",
     "text": [
      " 11%|████████                                                                   | 4001/37402 [27:06<4:10:35,  2.22it/s]"
     ]
    },
    {
     "name": "stdout",
     "output_type": "stream",
     "text": [
      "Folder: snap/vqa_test \n",
      " Epoch 2 Iter: 4000/37402\n",
      "  Masked Tags : 1.925399\n",
      "  Text Only Masked LM : 2.057849\n",
      "  attr : 1.228533\n",
      "  feat : 0.08197823\n",
      "  obj : 3.26913\n",
      "\n"
     ]
    },
    {
     "name": "stderr",
     "output_type": "stream",
     "text": [
      " 12%|█████████                                                                  | 4501/37402 [30:31<3:39:22,  2.50it/s]"
     ]
    },
    {
     "name": "stdout",
     "output_type": "stream",
     "text": [
      "Folder: snap/vqa_test \n",
      " Epoch 2 Iter: 4500/37402\n",
      "  Masked Tags : 1.932845\n",
      "  Text Only Masked LM : 2.016708\n",
      "  attr : 1.221047\n",
      "  feat : 0.08171311\n",
      "  obj : 3.265426\n",
      "\n"
     ]
    },
    {
     "name": "stderr",
     "output_type": "stream",
     "text": [
      " 13%|██████████                                                                 | 5001/37402 [33:58<4:18:19,  2.09it/s]"
     ]
    },
    {
     "name": "stdout",
     "output_type": "stream",
     "text": [
      "Folder: snap/vqa_test \n",
      " Epoch 2 Iter: 5000/37402\n",
      "  Masked Tags : 1.907822\n",
      "  Text Only Masked LM : 2.041185\n",
      "  attr : 1.2051\n",
      "  feat : 0.08205624\n",
      "  obj : 3.262246\n",
      "\n"
     ]
    },
    {
     "name": "stderr",
     "output_type": "stream",
     "text": [
      " 15%|███████████                                                                | 5501/37402 [37:19<2:56:18,  3.02it/s]"
     ]
    },
    {
     "name": "stdout",
     "output_type": "stream",
     "text": [
      "Folder: snap/vqa_test \n",
      " Epoch 2 Iter: 5500/37402\n",
      "  Masked Tags : 1.896978\n",
      "  Text Only Masked LM : 2.059641\n",
      "  attr : 1.222181\n",
      "  feat : 0.08171139\n",
      "  obj : 3.293456\n",
      "\n"
     ]
    },
    {
     "name": "stderr",
     "output_type": "stream",
     "text": [
      " 16%|████████████                                                               | 6001/37402 [40:51<4:39:41,  1.87it/s]"
     ]
    },
    {
     "name": "stdout",
     "output_type": "stream",
     "text": [
      "Folder: snap/vqa_test \n",
      " Epoch 2 Iter: 6000/37402\n",
      "  Masked Tags : 1.93243\n",
      "  Text Only Masked LM : 2.045894\n",
      "  attr : 1.216437\n",
      "  feat : 0.0822169\n",
      "  obj : 3.298453\n",
      "\n"
     ]
    },
    {
     "name": "stderr",
     "output_type": "stream",
     "text": [
      " 17%|█████████████                                                              | 6502/37402 [44:11<2:56:47,  2.91it/s]"
     ]
    },
    {
     "name": "stdout",
     "output_type": "stream",
     "text": [
      "Folder: snap/vqa_test \n",
      " Epoch 2 Iter: 6500/37402\n",
      "  Masked Tags : 1.899219\n",
      "  Text Only Masked LM : 1.996736\n",
      "  attr : 1.233808\n",
      "  feat : 0.08229918\n",
      "  obj : 3.278296\n",
      "\n"
     ]
    },
    {
     "name": "stderr",
     "output_type": "stream",
     "text": [
      " 19%|██████████████                                                             | 7001/37402 [47:33<3:48:14,  2.22it/s]"
     ]
    },
    {
     "name": "stdout",
     "output_type": "stream",
     "text": [
      "Folder: snap/vqa_test \n",
      " Epoch 2 Iter: 7000/37402\n",
      "  Masked Tags : 1.876041\n",
      "  Text Only Masked LM : 1.959514\n",
      "  attr : 1.224039\n",
      "  feat : 0.08254992\n",
      "  obj : 3.277107\n",
      "\n"
     ]
    },
    {
     "name": "stderr",
     "output_type": "stream",
     "text": [
      " 20%|███████████████                                                            | 7501/37402 [50:56<3:21:26,  2.47it/s]"
     ]
    },
    {
     "name": "stdout",
     "output_type": "stream",
     "text": [
      "Folder: snap/vqa_test \n",
      " Epoch 2 Iter: 7500/37402\n",
      "  Masked Tags : 1.892406\n",
      "  Text Only Masked LM : 1.994356\n",
      "  attr : 1.221204\n",
      "  feat : 0.08273063\n",
      "  obj : 3.289395\n",
      "\n"
     ]
    },
    {
     "name": "stderr",
     "output_type": "stream",
     "text": [
      " 21%|████████████████                                                           | 8001/37402 [54:13<4:00:25,  2.04it/s]"
     ]
    },
    {
     "name": "stdout",
     "output_type": "stream",
     "text": [
      "Folder: snap/vqa_test \n",
      " Epoch 2 Iter: 8000/37402\n",
      "  Masked Tags : 1.881132\n",
      "  Text Only Masked LM : 2.032445\n",
      "  attr : 1.238021\n",
      "  feat : 0.08166667\n",
      "  obj : 3.281656\n",
      "\n"
     ]
    },
    {
     "name": "stderr",
     "output_type": "stream",
     "text": [
      " 23%|█████████████████                                                          | 8501/37402 [57:38<3:10:31,  2.53it/s]"
     ]
    },
    {
     "name": "stdout",
     "output_type": "stream",
     "text": [
      "Folder: snap/vqa_test \n",
      " Epoch 2 Iter: 8500/37402\n",
      "  Masked Tags : 1.903841\n",
      "  Text Only Masked LM : 2.025905\n",
      "  attr : 1.234883\n",
      "  feat : 0.08193296\n",
      "  obj : 3.270204\n",
      "\n"
     ]
    },
    {
     "name": "stderr",
     "output_type": "stream",
     "text": [
      " 24%|█████████████████▌                                                       | 9001/37402 [1:01:02<2:46:44,  2.84it/s]"
     ]
    },
    {
     "name": "stdout",
     "output_type": "stream",
     "text": [
      "Folder: snap/vqa_test \n",
      " Epoch 2 Iter: 9000/37402\n",
      "  Masked Tags : 1.883192\n",
      "  Text Only Masked LM : 1.993526\n",
      "  attr : 1.22667\n",
      "  feat : 0.08274316\n",
      "  obj : 3.296489\n",
      "\n"
     ]
    },
    {
     "name": "stderr",
     "output_type": "stream",
     "text": [
      " 25%|██████████████████▌                                                      | 9501/37402 [1:04:33<4:09:13,  1.87it/s]"
     ]
    },
    {
     "name": "stdout",
     "output_type": "stream",
     "text": [
      "Folder: snap/vqa_test \n",
      " Epoch 2 Iter: 9500/37402\n",
      "  Masked Tags : 1.860535\n",
      "  Text Only Masked LM : 2.024374\n",
      "  attr : 1.236726\n",
      "  feat : 0.0831667\n",
      "  obj : 3.271482\n",
      "\n"
     ]
    },
    {
     "name": "stderr",
     "output_type": "stream",
     "text": [
      " 27%|███████████████████▎                                                    | 10001/37402 [1:08:02<2:40:18,  2.85it/s]"
     ]
    },
    {
     "name": "stdout",
     "output_type": "stream",
     "text": [
      "Folder: snap/vqa_test \n",
      " Epoch 2 Iter: 10000/37402\n",
      "  Masked Tags : 1.901984\n",
      "  Text Only Masked LM : 2.001887\n",
      "  attr : 1.226956\n",
      "  feat : 0.08252476\n",
      "  obj : 3.260772\n",
      "\n"
     ]
    },
    {
     "name": "stderr",
     "output_type": "stream",
     "text": [
      " 28%|████████████████████▏                                                   | 10501/37402 [1:11:33<2:38:24,  2.83it/s]"
     ]
    },
    {
     "name": "stdout",
     "output_type": "stream",
     "text": [
      "Folder: snap/vqa_test \n",
      " Epoch 2 Iter: 10500/37402\n",
      "  Masked Tags : 1.873222\n",
      "  Text Only Masked LM : 2.048251\n",
      "  attr : 1.245852\n",
      "  feat : 0.08276437\n",
      "  obj : 3.295107\n",
      "\n"
     ]
    },
    {
     "name": "stderr",
     "output_type": "stream",
     "text": [
      " 29%|█████████████████████▏                                                  | 11001/37402 [1:14:54<3:23:12,  2.17it/s]"
     ]
    },
    {
     "name": "stdout",
     "output_type": "stream",
     "text": [
      "Folder: snap/vqa_test \n",
      " Epoch 2 Iter: 11000/37402\n",
      "  Masked Tags : 1.865755\n",
      "  Text Only Masked LM : 1.99054\n",
      "  attr : 1.230565\n",
      "  feat : 0.08059176\n",
      "  obj : 3.260052\n",
      "\n"
     ]
    },
    {
     "name": "stderr",
     "output_type": "stream",
     "text": [
      " 31%|██████████████████████▏                                                 | 11501/37402 [1:18:14<3:41:40,  1.95it/s]"
     ]
    },
    {
     "name": "stdout",
     "output_type": "stream",
     "text": [
      "Folder: snap/vqa_test \n",
      " Epoch 2 Iter: 11500/37402\n",
      "  Masked Tags : 1.854119\n",
      "  Text Only Masked LM : 2.027952\n",
      "  attr : 1.246649\n",
      "  feat : 0.08265841\n",
      "  obj : 3.269063\n",
      "\n"
     ]
    },
    {
     "name": "stderr",
     "output_type": "stream",
     "text": [
      " 32%|███████████████████████                                                 | 12001/37402 [1:21:41<2:32:54,  2.77it/s]"
     ]
    },
    {
     "name": "stdout",
     "output_type": "stream",
     "text": [
      "Folder: snap/vqa_test \n",
      " Epoch 2 Iter: 12000/37402\n",
      "  Masked Tags : 1.863995\n",
      "  Text Only Masked LM : 2.027524\n",
      "  attr : 1.22011\n",
      "  feat : 0.08417076\n",
      "  obj : 3.280074\n",
      "\n"
     ]
    },
    {
     "name": "stderr",
     "output_type": "stream",
     "text": [
      " 33%|████████████████████████                                                | 12502/37402 [1:25:02<2:06:34,  3.28it/s]"
     ]
    },
    {
     "name": "stdout",
     "output_type": "stream",
     "text": [
      "Folder: snap/vqa_test \n",
      " Epoch 2 Iter: 12500/37402\n",
      "  Masked Tags : 1.897631\n",
      "  Text Only Masked LM : 2.003788\n",
      "  attr : 1.233859\n",
      "  feat : 0.08201111\n",
      "  obj : 3.267163\n",
      "\n"
     ]
    },
    {
     "name": "stderr",
     "output_type": "stream",
     "text": [
      " 35%|█████████████████████████                                               | 13001/37402 [1:28:21<2:28:06,  2.75it/s]"
     ]
    },
    {
     "name": "stdout",
     "output_type": "stream",
     "text": [
      "Folder: snap/vqa_test \n",
      " Epoch 2 Iter: 13000/37402\n",
      "  Masked Tags : 1.867516\n",
      "  Text Only Masked LM : 1.995922\n",
      "  attr : 1.23902\n",
      "  feat : 0.08218776\n",
      "  obj : 3.268384\n",
      "\n"
     ]
    },
    {
     "name": "stderr",
     "output_type": "stream",
     "text": [
      " 36%|█████████████████████████▉                                              | 13501/37402 [1:31:46<2:20:06,  2.84it/s]"
     ]
    },
    {
     "name": "stdout",
     "output_type": "stream",
     "text": [
      "Folder: snap/vqa_test \n",
      " Epoch 2 Iter: 13500/37402\n",
      "  Masked Tags : 1.85853\n",
      "  Text Only Masked LM : 2.042816\n",
      "  attr : 1.240865\n",
      "  feat : 0.0810773\n",
      "  obj : 3.297387\n",
      "\n"
     ]
    },
    {
     "name": "stderr",
     "output_type": "stream",
     "text": [
      " 37%|██████████████████████████▉                                             | 14001/37402 [1:35:12<2:00:59,  3.22it/s]"
     ]
    },
    {
     "name": "stdout",
     "output_type": "stream",
     "text": [
      "Folder: snap/vqa_test \n",
      " Epoch 2 Iter: 14000/37402\n",
      "  Masked Tags : 1.890657\n",
      "  Text Only Masked LM : 2.003681\n",
      "  attr : 1.242336\n",
      "  feat : 0.08029335\n",
      "  obj : 3.28037\n",
      "\n"
     ]
    },
    {
     "name": "stderr",
     "output_type": "stream",
     "text": [
      " 39%|███████████████████████████▉                                            | 14501/37402 [1:38:44<3:05:20,  2.06it/s]"
     ]
    },
    {
     "name": "stdout",
     "output_type": "stream",
     "text": [
      "Folder: snap/vqa_test \n",
      " Epoch 2 Iter: 14500/37402\n",
      "  Masked Tags : 1.866751\n",
      "  Text Only Masked LM : 1.962575\n",
      "  attr : 1.234237\n",
      "  feat : 0.0817149\n",
      "  obj : 3.294873\n",
      "\n"
     ]
    },
    {
     "name": "stderr",
     "output_type": "stream",
     "text": [
      " 40%|████████████████████████████▉                                           | 15001/37402 [1:42:05<2:57:24,  2.10it/s]"
     ]
    },
    {
     "name": "stdout",
     "output_type": "stream",
     "text": [
      "Folder: snap/vqa_test \n",
      " Epoch 2 Iter: 15000/37402\n",
      "  Masked Tags : 1.852748\n",
      "  Text Only Masked LM : 1.962955\n",
      "  attr : 1.219941\n",
      "  feat : 0.08362107\n",
      "  obj : 3.286531\n",
      "\n"
     ]
    },
    {
     "name": "stderr",
     "output_type": "stream",
     "text": [
      " 41%|█████████████████████████████▊                                          | 15501/37402 [1:45:24<2:13:13,  2.74it/s]"
     ]
    },
    {
     "name": "stdout",
     "output_type": "stream",
     "text": [
      "Folder: snap/vqa_test \n",
      " Epoch 2 Iter: 15500/37402\n",
      "  Masked Tags : 1.848089\n",
      "  Text Only Masked LM : 1.982171\n",
      "  attr : 1.239709\n",
      "  feat : 0.08113001\n",
      "  obj : 3.286723\n",
      "\n"
     ]
    },
    {
     "name": "stderr",
     "output_type": "stream",
     "text": [
      " 43%|██████████████████████████████▊                                         | 16001/37402 [1:48:56<2:11:02,  2.72it/s]"
     ]
    },
    {
     "name": "stdout",
     "output_type": "stream",
     "text": [
      "Folder: snap/vqa_test \n",
      " Epoch 2 Iter: 16000/37402\n",
      "  Masked Tags : 1.825819\n",
      "  Text Only Masked LM : 1.9907\n",
      "  attr : 1.242709\n",
      "  feat : 0.08217017\n",
      "  obj : 3.287008\n",
      "\n"
     ]
    },
    {
     "name": "stderr",
     "output_type": "stream",
     "text": [
      " 44%|███████████████████████████████▊                                        | 16501/37402 [1:52:10<2:00:18,  2.90it/s]"
     ]
    },
    {
     "name": "stdout",
     "output_type": "stream",
     "text": [
      "Folder: snap/vqa_test \n",
      " Epoch 2 Iter: 16500/37402\n",
      "  Masked Tags : 1.889864\n",
      "  Text Only Masked LM : 1.989622\n",
      "  attr : 1.229578\n",
      "  feat : 0.08467983\n",
      "  obj : 3.251997\n",
      "\n"
     ]
    },
    {
     "name": "stderr",
     "output_type": "stream",
     "text": [
      " 45%|████████████████████████████████▋                                       | 17001/37402 [1:55:43<2:06:06,  2.70it/s]"
     ]
    },
    {
     "name": "stdout",
     "output_type": "stream",
     "text": [
      "Folder: snap/vqa_test \n",
      " Epoch 2 Iter: 17000/37402\n",
      "  Masked Tags : 1.854569\n",
      "  Text Only Masked LM : 2.008192\n",
      "  attr : 1.220977\n",
      "  feat : 0.08353928\n",
      "  obj : 3.277606\n",
      "\n"
     ]
    },
    {
     "name": "stderr",
     "output_type": "stream",
     "text": [
      " 47%|█████████████████████████████████▋                                      | 17501/37402 [1:59:13<1:49:25,  3.03it/s]"
     ]
    },
    {
     "name": "stdout",
     "output_type": "stream",
     "text": [
      "Folder: snap/vqa_test \n",
      " Epoch 2 Iter: 17500/37402\n",
      "  Masked Tags : 1.849321\n",
      "  Text Only Masked LM : 1.980027\n",
      "  attr : 1.230311\n",
      "  feat : 0.08244499\n",
      "  obj : 3.283218\n",
      "\n"
     ]
    },
    {
     "name": "stderr",
     "output_type": "stream",
     "text": [
      " 48%|██████████████████████████████████▋                                     | 18001/37402 [2:02:38<1:56:19,  2.78it/s]"
     ]
    },
    {
     "name": "stdout",
     "output_type": "stream",
     "text": [
      "Folder: snap/vqa_test \n",
      " Epoch 2 Iter: 18000/37402\n",
      "  Masked Tags : 1.836404\n",
      "  Text Only Masked LM : 1.978706\n",
      "  attr : 1.241847\n",
      "  feat : 0.08174106\n",
      "  obj : 3.291349\n",
      "\n"
     ]
    },
    {
     "name": "stderr",
     "output_type": "stream",
     "text": [
      " 49%|███████████████████████████████████▌                                    | 18501/37402 [2:06:06<2:00:25,  2.62it/s]"
     ]
    },
    {
     "name": "stdout",
     "output_type": "stream",
     "text": [
      "Folder: snap/vqa_test \n",
      " Epoch 2 Iter: 18500/37402\n",
      "  Masked Tags : 1.830515\n",
      "  Text Only Masked LM : 2.001164\n",
      "  attr : 1.238309\n",
      "  feat : 0.08264793\n",
      "  obj : 3.303577\n",
      "\n"
     ]
    },
    {
     "name": "stderr",
     "output_type": "stream",
     "text": [
      " 51%|████████████████████████████████████▌                                   | 19001/37402 [2:09:26<1:59:33,  2.57it/s]"
     ]
    },
    {
     "name": "stdout",
     "output_type": "stream",
     "text": [
      "Folder: snap/vqa_test \n",
      " Epoch 2 Iter: 19000/37402\n",
      "  Masked Tags : 1.859068\n",
      "  Text Only Masked LM : 2.01412\n",
      "  attr : 1.241357\n",
      "  feat : 0.08320935\n",
      "  obj : 3.26808\n",
      "\n"
     ]
    },
    {
     "name": "stderr",
     "output_type": "stream",
     "text": [
      " 52%|█████████████████████████████████████▌                                  | 19501/37402 [2:12:46<1:55:42,  2.58it/s]"
     ]
    },
    {
     "name": "stdout",
     "output_type": "stream",
     "text": [
      "Folder: snap/vqa_test \n",
      " Epoch 2 Iter: 19500/37402\n",
      "  Masked Tags : 1.776992\n",
      "  Text Only Masked LM : 1.987891\n",
      "  attr : 1.223837\n",
      "  feat : 0.08121335\n",
      "  obj : 3.296387\n",
      "\n"
     ]
    },
    {
     "name": "stderr",
     "output_type": "stream",
     "text": [
      " 53%|██████████████████████████████████████▌                                 | 20001/37402 [2:16:12<1:51:08,  2.61it/s]"
     ]
    },
    {
     "name": "stdout",
     "output_type": "stream",
     "text": [
      "Folder: snap/vqa_test \n",
      " Epoch 2 Iter: 20000/37402\n",
      "  Masked Tags : 1.820817\n",
      "  Text Only Masked LM : 2.043409\n",
      "  attr : 1.248118\n",
      "  feat : 0.08269022\n",
      "  obj : 3.32431\n",
      "\n"
     ]
    },
    {
     "name": "stderr",
     "output_type": "stream",
     "text": [
      " 55%|███████████████████████████████████████▍                                | 20501/37402 [2:19:37<1:38:24,  2.86it/s]"
     ]
    },
    {
     "name": "stdout",
     "output_type": "stream",
     "text": [
      "Folder: snap/vqa_test \n",
      " Epoch 2 Iter: 20500/37402\n",
      "  Masked Tags : 1.788978\n",
      "  Text Only Masked LM : 1.958152\n",
      "  attr : 1.238691\n",
      "  feat : 0.08196012\n",
      "  obj : 3.298477\n",
      "\n"
     ]
    },
    {
     "name": "stderr",
     "output_type": "stream",
     "text": [
      " 56%|████████████████████████████████████████▍                               | 21001/37402 [2:23:13<1:50:19,  2.48it/s]"
     ]
    },
    {
     "name": "stdout",
     "output_type": "stream",
     "text": [
      "Folder: snap/vqa_test \n",
      " Epoch 2 Iter: 21000/37402\n",
      "  Masked Tags : 1.787841\n",
      "  Text Only Masked LM : 2.027864\n",
      "  attr : 1.22527\n",
      "  feat : 0.0822858\n",
      "  obj : 3.261963\n",
      "\n"
     ]
    },
    {
     "name": "stderr",
     "output_type": "stream",
     "text": [
      " 57%|█████████████████████████████████████████▍                              | 21501/37402 [2:26:43<2:01:21,  2.18it/s]"
     ]
    },
    {
     "name": "stdout",
     "output_type": "stream",
     "text": [
      "Folder: snap/vqa_test \n",
      " Epoch 2 Iter: 21500/37402\n",
      "  Masked Tags : 1.799372\n",
      "  Text Only Masked LM : 2.005165\n",
      "  attr : 1.233356\n",
      "  feat : 0.08322562\n",
      "  obj : 3.264048\n",
      "\n"
     ]
    },
    {
     "name": "stderr",
     "output_type": "stream",
     "text": [
      " 59%|██████████████████████████████████████████▎                             | 22001/37402 [2:30:11<1:48:54,  2.36it/s]"
     ]
    },
    {
     "name": "stdout",
     "output_type": "stream",
     "text": [
      "Folder: snap/vqa_test \n",
      " Epoch 2 Iter: 22000/37402\n",
      "  Masked Tags : 1.803492\n",
      "  Text Only Masked LM : 1.977826\n",
      "  attr : 1.238269\n",
      "  feat : 0.08208914\n",
      "  obj : 3.263471\n",
      "\n"
     ]
    },
    {
     "name": "stderr",
     "output_type": "stream",
     "text": [
      " 60%|███████████████████████████████████████████▎                            | 22501/37402 [2:33:25<1:50:40,  2.24it/s]"
     ]
    },
    {
     "name": "stdout",
     "output_type": "stream",
     "text": [
      "Folder: snap/vqa_test \n",
      " Epoch 2 Iter: 22500/37402\n",
      "  Masked Tags : 1.811903\n",
      "  Text Only Masked LM : 1.999603\n",
      "  attr : 1.241292\n",
      "  feat : 0.08125777\n",
      "  obj : 3.253934\n",
      "\n"
     ]
    },
    {
     "name": "stderr",
     "output_type": "stream",
     "text": [
      " 61%|████████████████████████████████████████████▎                           | 23001/37402 [2:37:00<1:23:31,  2.87it/s]"
     ]
    },
    {
     "name": "stdout",
     "output_type": "stream",
     "text": [
      "Folder: snap/vqa_test \n",
      " Epoch 2 Iter: 23000/37402\n",
      "  Masked Tags : 1.786411\n",
      "  Text Only Masked LM : 2.011651\n",
      "  attr : 1.243859\n",
      "  feat : 0.08283399\n",
      "  obj : 3.264811\n",
      "\n"
     ]
    },
    {
     "name": "stderr",
     "output_type": "stream",
     "text": [
      " 63%|█████████████████████████████████████████████▏                          | 23501/37402 [2:40:32<1:36:44,  2.39it/s]"
     ]
    },
    {
     "name": "stdout",
     "output_type": "stream",
     "text": [
      "Folder: snap/vqa_test \n",
      " Epoch 2 Iter: 23500/37402\n",
      "  Masked Tags : 1.769685\n",
      "  Text Only Masked LM : 2.030786\n",
      "  attr : 1.240439\n",
      "  feat : 0.08175458\n",
      "  obj : 3.2852\n",
      "\n"
     ]
    },
    {
     "name": "stderr",
     "output_type": "stream",
     "text": [
      " 64%|██████████████████████████████████████████████▏                         | 24001/37402 [2:43:59<1:38:11,  2.27it/s]"
     ]
    },
    {
     "name": "stdout",
     "output_type": "stream",
     "text": [
      "Folder: snap/vqa_test \n",
      " Epoch 2 Iter: 24000/37402\n",
      "  Masked Tags : 1.778189\n",
      "  Text Only Masked LM : 1.985207\n",
      "  attr : 1.236522\n",
      "  feat : 0.08278961\n",
      "  obj : 3.285985\n",
      "\n"
     ]
    },
    {
     "name": "stderr",
     "output_type": "stream",
     "text": [
      " 66%|███████████████████████████████████████████████▏                        | 24501/37402 [2:47:30<1:40:42,  2.14it/s]"
     ]
    },
    {
     "name": "stdout",
     "output_type": "stream",
     "text": [
      "Folder: snap/vqa_test \n",
      " Epoch 2 Iter: 24500/37402\n",
      "  Masked Tags : 1.771968\n",
      "  Text Only Masked LM : 1.983397\n",
      "  attr : 1.240372\n",
      "  feat : 0.08210229\n",
      "  obj : 3.280225\n",
      "\n"
     ]
    },
    {
     "name": "stderr",
     "output_type": "stream",
     "text": [
      " 67%|████████████████████████████████████████████████▏                       | 25001/37402 [2:50:56<1:26:18,  2.39it/s]"
     ]
    },
    {
     "name": "stdout",
     "output_type": "stream",
     "text": [
      "Folder: snap/vqa_test \n",
      " Epoch 2 Iter: 25000/37402\n",
      "  Masked Tags : 1.757181\n",
      "  Text Only Masked LM : 1.96259\n",
      "  attr : 1.242067\n",
      "  feat : 0.08263239\n",
      "  obj : 3.288087\n",
      "\n"
     ]
    },
    {
     "name": "stderr",
     "output_type": "stream",
     "text": [
      " 68%|█████████████████████████████████████████████████                       | 25501/37402 [2:54:15<1:18:09,  2.54it/s]"
     ]
    },
    {
     "name": "stdout",
     "output_type": "stream",
     "text": [
      "Folder: snap/vqa_test \n",
      " Epoch 2 Iter: 25500/37402\n",
      "  Masked Tags : 1.809938\n",
      "  Text Only Masked LM : 1.995361\n",
      "  attr : 1.237559\n",
      "  feat : 0.0820975\n",
      "  obj : 3.275379\n",
      "\n"
     ]
    },
    {
     "name": "stderr",
     "output_type": "stream",
     "text": [
      " 70%|██████████████████████████████████████████████████                      | 26001/37402 [2:57:44<1:03:21,  3.00it/s]"
     ]
    },
    {
     "name": "stdout",
     "output_type": "stream",
     "text": [
      "Folder: snap/vqa_test \n",
      " Epoch 2 Iter: 26000/37402\n",
      "  Masked Tags : 1.769599\n",
      "  Text Only Masked LM : 1.987376\n",
      "  attr : 1.238688\n",
      "  feat : 0.08244584\n",
      "  obj : 3.290083\n",
      "\n"
     ]
    },
    {
     "name": "stderr",
     "output_type": "stream",
     "text": [
      " 71%|███████████████████████████████████████████████████                     | 26501/37402 [3:01:13<1:14:41,  2.43it/s]"
     ]
    },
    {
     "name": "stdout",
     "output_type": "stream",
     "text": [
      "Folder: snap/vqa_test \n",
      " Epoch 2 Iter: 26500/37402\n",
      "  Masked Tags : 1.767161\n",
      "  Text Only Masked LM : 2.011266\n",
      "  attr : 1.253434\n",
      "  feat : 0.08260693\n",
      "  obj : 3.258341\n",
      "\n"
     ]
    },
    {
     "name": "stderr",
     "output_type": "stream",
     "text": [
      " 72%|███████████████████████████████████████████████████▉                    | 27001/37402 [3:04:41<1:09:21,  2.50it/s]"
     ]
    },
    {
     "name": "stdout",
     "output_type": "stream",
     "text": [
      "Folder: snap/vqa_test \n",
      " Epoch 2 Iter: 27000/37402\n",
      "  Masked Tags : 1.770727\n",
      "  Text Only Masked LM : 2.013329\n",
      "  attr : 1.237049\n",
      "  feat : 0.08150523\n",
      "  obj : 3.302456\n",
      "\n"
     ]
    },
    {
     "name": "stderr",
     "output_type": "stream",
     "text": [
      " 74%|████████████████████████████████████████████████████▉                   | 27501/37402 [3:08:10<1:05:44,  2.51it/s]"
     ]
    },
    {
     "name": "stdout",
     "output_type": "stream",
     "text": [
      "Folder: snap/vqa_test \n",
      " Epoch 2 Iter: 27500/37402\n",
      "  Masked Tags : 1.779049\n",
      "  Text Only Masked LM : 1.970353\n",
      "  attr : 1.245656\n",
      "  feat : 0.08169378\n",
      "  obj : 3.290709\n",
      "\n"
     ]
    },
    {
     "name": "stderr",
     "output_type": "stream",
     "text": [
      " 75%|███████████████████████████████████████████████████████▍                  | 28001/37402 [3:11:36<52:44,  2.97it/s]"
     ]
    },
    {
     "name": "stdout",
     "output_type": "stream",
     "text": [
      "Folder: snap/vqa_test \n",
      " Epoch 2 Iter: 28000/37402\n",
      "  Masked Tags : 1.763926\n",
      "  Text Only Masked LM : 1.988639\n",
      "  attr : 1.248456\n",
      "  feat : 0.08175293\n",
      "  obj : 3.250785\n",
      "\n"
     ]
    },
    {
     "name": "stderr",
     "output_type": "stream",
     "text": [
      " 76%|████████████████████████████████████████████████████████▍                 | 28501/37402 [3:15:01<55:43,  2.66it/s]"
     ]
    },
    {
     "name": "stdout",
     "output_type": "stream",
     "text": [
      "Folder: snap/vqa_test \n",
      " Epoch 2 Iter: 28500/37402\n",
      "  Masked Tags : 1.785433\n",
      "  Text Only Masked LM : 2.023618\n",
      "  attr : 1.234532\n",
      "  feat : 0.08235753\n",
      "  obj : 3.268145\n",
      "\n"
     ]
    },
    {
     "name": "stderr",
     "output_type": "stream",
     "text": [
      " 78%|█████████████████████████████████████████████████████████▍                | 29001/37402 [3:18:30<57:52,  2.42it/s]"
     ]
    },
    {
     "name": "stdout",
     "output_type": "stream",
     "text": [
      "Folder: snap/vqa_test \n",
      " Epoch 2 Iter: 29000/37402\n",
      "  Masked Tags : 1.739043\n",
      "  Text Only Masked LM : 1.985822\n",
      "  attr : 1.258259\n",
      "  feat : 0.08063511\n",
      "  obj : 3.301092\n",
      "\n"
     ]
    },
    {
     "name": "stderr",
     "output_type": "stream",
     "text": [
      " 79%|██████████████████████████████████████████████████████████▎               | 29502/37402 [3:21:57<42:27,  3.10it/s]"
     ]
    },
    {
     "name": "stdout",
     "output_type": "stream",
     "text": [
      "Folder: snap/vqa_test \n",
      " Epoch 2 Iter: 29500/37402\n",
      "  Masked Tags : 1.735446\n",
      "  Text Only Masked LM : 1.950338\n",
      "  attr : 1.246677\n",
      "  feat : 0.08118307\n",
      "  obj : 3.307315\n",
      "\n"
     ]
    },
    {
     "name": "stderr",
     "output_type": "stream",
     "text": [
      " 80%|███████████████████████████████████████████████████████████▎              | 30001/37402 [3:25:24<49:09,  2.51it/s]"
     ]
    },
    {
     "name": "stdout",
     "output_type": "stream",
     "text": [
      "Folder: snap/vqa_test \n",
      " Epoch 2 Iter: 30000/37402\n",
      "  Masked Tags : 1.73857\n",
      "  Text Only Masked LM : 2.067003\n",
      "  attr : 1.229918\n",
      "  feat : 0.08238755\n",
      "  obj : 3.265339\n",
      "\n"
     ]
    },
    {
     "name": "stderr",
     "output_type": "stream",
     "text": [
      " 82%|████████████████████████████████████████████████████████████▎             | 30501/37402 [3:28:53<36:33,  3.15it/s]"
     ]
    },
    {
     "name": "stdout",
     "output_type": "stream",
     "text": [
      "Folder: snap/vqa_test \n",
      " Epoch 2 Iter: 30500/37402\n",
      "  Masked Tags : 1.765464\n",
      "  Text Only Masked LM : 2.021165\n",
      "  attr : 1.263916\n",
      "  feat : 0.08116475\n",
      "  obj : 3.316332\n",
      "\n"
     ]
    },
    {
     "name": "stderr",
     "output_type": "stream",
     "text": [
      " 83%|█████████████████████████████████████████████████████████████▎            | 31001/37402 [3:32:24<41:33,  2.57it/s]"
     ]
    },
    {
     "name": "stdout",
     "output_type": "stream",
     "text": [
      "Folder: snap/vqa_test \n",
      " Epoch 2 Iter: 31000/37402\n",
      "  Masked Tags : 1.781037\n",
      "  Text Only Masked LM : 1.986995\n",
      "  attr : 1.26658\n",
      "  feat : 0.0816603\n",
      "  obj : 3.256105\n",
      "\n"
     ]
    },
    {
     "name": "stderr",
     "output_type": "stream",
     "text": [
      " 84%|██████████████████████████████████████████████████████████████▎           | 31501/37402 [3:35:52<44:00,  2.23it/s]"
     ]
    },
    {
     "name": "stdout",
     "output_type": "stream",
     "text": [
      "Folder: snap/vqa_test \n",
      " Epoch 2 Iter: 31500/37402\n",
      "  Masked Tags : 1.72689\n",
      "  Text Only Masked LM : 2.005068\n",
      "  attr : 1.258727\n",
      "  feat : 0.08021753\n",
      "  obj : 3.307965\n",
      "\n"
     ]
    },
    {
     "name": "stderr",
     "output_type": "stream",
     "text": [
      " 86%|███████████████████████████████████████████████████████████████▎          | 32001/37402 [3:39:14<34:13,  2.63it/s]"
     ]
    },
    {
     "name": "stdout",
     "output_type": "stream",
     "text": [
      "Folder: snap/vqa_test \n",
      " Epoch 2 Iter: 32000/37402\n",
      "  Masked Tags : 1.764036\n",
      "  Text Only Masked LM : 2.000419\n",
      "  attr : 1.246755\n",
      "  feat : 0.08138483\n",
      "  obj : 3.272964\n",
      "\n"
     ]
    },
    {
     "name": "stderr",
     "output_type": "stream",
     "text": [
      " 87%|████████████████████████████████████████████████████████████████▎         | 32501/37402 [3:42:40<28:10,  2.90it/s]"
     ]
    },
    {
     "name": "stdout",
     "output_type": "stream",
     "text": [
      "Folder: snap/vqa_test \n",
      " Epoch 2 Iter: 32500/37402\n",
      "  Masked Tags : 1.80233\n",
      "  Text Only Masked LM : 1.99453\n",
      "  attr : 1.262423\n",
      "  feat : 0.0822238\n",
      "  obj : 3.281324\n",
      "\n"
     ]
    },
    {
     "name": "stderr",
     "output_type": "stream",
     "text": [
      " 88%|█████████████████████████████████████████████████████████████████▎        | 33001/37402 [3:46:10<34:46,  2.11it/s]"
     ]
    },
    {
     "name": "stdout",
     "output_type": "stream",
     "text": [
      "Folder: snap/vqa_test \n",
      " Epoch 2 Iter: 33000/37402\n",
      "  Masked Tags : 1.767051\n",
      "  Text Only Masked LM : 2.013468\n",
      "  attr : 1.24389\n",
      "  feat : 0.08198896\n",
      "  obj : 3.265827\n",
      "\n"
     ]
    },
    {
     "name": "stderr",
     "output_type": "stream",
     "text": [
      " 90%|██████████████████████████████████████████████████████████████████▎       | 33501/37402 [3:49:42<27:00,  2.41it/s]"
     ]
    },
    {
     "name": "stdout",
     "output_type": "stream",
     "text": [
      "Folder: snap/vqa_test \n",
      " Epoch 2 Iter: 33500/37402\n",
      "  Masked Tags : 1.713266\n",
      "  Text Only Masked LM : 2.015899\n",
      "  attr : 1.256428\n",
      "  feat : 0.08112121\n",
      "  obj : 3.26491\n",
      "\n"
     ]
    },
    {
     "name": "stderr",
     "output_type": "stream",
     "text": [
      " 91%|███████████████████████████████████████████████████████████████████▎      | 34001/37402 [3:53:09<20:31,  2.76it/s]"
     ]
    },
    {
     "name": "stdout",
     "output_type": "stream",
     "text": [
      "Folder: snap/vqa_test \n",
      " Epoch 2 Iter: 34000/37402\n",
      "  Masked Tags : 1.723654\n",
      "  Text Only Masked LM : 1.959069\n",
      "  attr : 1.242317\n",
      "  feat : 0.08221923\n",
      "  obj : 3.285615\n",
      "\n"
     ]
    },
    {
     "name": "stderr",
     "output_type": "stream",
     "text": [
      " 92%|████████████████████████████████████████████████████████████████████▎     | 34501/37402 [3:56:41<23:08,  2.09it/s]"
     ]
    },
    {
     "name": "stdout",
     "output_type": "stream",
     "text": [
      "Folder: snap/vqa_test \n",
      " Epoch 2 Iter: 34500/37402\n",
      "  Masked Tags : 1.74996\n",
      "  Text Only Masked LM : 1.996913\n",
      "  attr : 1.234497\n",
      "  feat : 0.08330018\n",
      "  obj : 3.259012\n",
      "\n"
     ]
    },
    {
     "name": "stderr",
     "output_type": "stream",
     "text": [
      " 94%|█████████████████████████████████████████████████████████████████████▏    | 35001/37402 [3:59:59<16:19,  2.45it/s]"
     ]
    },
    {
     "name": "stdout",
     "output_type": "stream",
     "text": [
      "Folder: snap/vqa_test \n",
      " Epoch 2 Iter: 35000/37402\n",
      "  Masked Tags : 1.710511\n",
      "  Text Only Masked LM : 1.953262\n",
      "  attr : 1.252874\n",
      "  feat : 0.08355076\n",
      "  obj : 3.261186\n",
      "\n"
     ]
    },
    {
     "name": "stderr",
     "output_type": "stream",
     "text": [
      " 95%|██████████████████████████████████████████████████████████████████████▏   | 35501/37402 [4:03:16<12:45,  2.48it/s]"
     ]
    },
    {
     "name": "stdout",
     "output_type": "stream",
     "text": [
      "Folder: snap/vqa_test \n",
      " Epoch 2 Iter: 35500/37402\n",
      "  Masked Tags : 1.764001\n",
      "  Text Only Masked LM : 1.980684\n",
      "  attr : 1.24501\n",
      "  feat : 0.0809103\n",
      "  obj : 3.267479\n",
      "\n"
     ]
    },
    {
     "name": "stderr",
     "output_type": "stream",
     "text": [
      " 96%|███████████████████████████████████████████████████████████████████████▏  | 36001/37402 [4:06:35<08:57,  2.60it/s]"
     ]
    },
    {
     "name": "stdout",
     "output_type": "stream",
     "text": [
      "Folder: snap/vqa_test \n",
      " Epoch 2 Iter: 36000/37402\n",
      "  Masked Tags : 1.707071\n",
      "  Text Only Masked LM : 1.991188\n",
      "  attr : 1.213707\n",
      "  feat : 0.08107711\n",
      "  obj : 3.247985\n",
      "\n"
     ]
    },
    {
     "name": "stderr",
     "output_type": "stream",
     "text": [
      " 98%|████████████████████████████████████████████████████████████████████████▏ | 36501/37402 [4:09:45<06:24,  2.34it/s]"
     ]
    },
    {
     "name": "stdout",
     "output_type": "stream",
     "text": [
      "Folder: snap/vqa_test \n",
      " Epoch 2 Iter: 36500/37402\n",
      "  Masked Tags : 1.669642\n",
      "  Text Only Masked LM : 1.976698\n",
      "  attr : 1.258361\n",
      "  feat : 0.08069566\n",
      "  obj : 3.248881\n",
      "\n"
     ]
    },
    {
     "name": "stderr",
     "output_type": "stream",
     "text": [
      " 99%|█████████████████████████████████████████████████████████████████████████▏| 37001/37402 [4:12:48<02:06,  3.16it/s]"
     ]
    },
    {
     "name": "stdout",
     "output_type": "stream",
     "text": [
      "Folder: snap/vqa_test \n",
      " Epoch 2 Iter: 37000/37402\n",
      "  Text Only Masked LM : 1.992703\n",
      "\n"
     ]
    },
    {
     "name": "stderr",
     "output_type": "stream",
     "text": [
      "100%|██████████████████████████████████████████████████████████████████████████| 37402/37402 [4:15:06<00:00,  2.44it/s]\n"
     ]
    },
    {
     "name": "stdout",
     "output_type": "stream",
     "text": [
      "The training loss for Epoch 2 is 1.9908\n"
     ]
    },
    {
     "name": "stderr",
     "output_type": "stream",
     "text": [
      "100%|████████████████████████████████████████████████████████████████████████████████| 782/782 [08:18<00:00,  1.57it/s]\n"
     ]
    },
    {
     "name": "stdout",
     "output_type": "stream",
     "text": [
      "Evaluation:\n",
      "  Masked LM : 2.15177\n",
      "  Masked Tags : 1.951048\n",
      "  attr : 1.286618\n",
      "  feat : 0.08224318\n",
      "  obj : 3.246483\n",
      "\n",
      "\n",
      "\n",
      "\n",
      "\n",
      "\n",
      "\n",
      "\n",
      "\n"
     ]
    },
    {
     "name": "stderr",
     "output_type": "stream",
     "text": [
      "  1%|█                                                                           | 502/37402 [03:20<2:47:11,  3.68it/s]"
     ]
    },
    {
     "name": "stdout",
     "output_type": "stream",
     "text": [
      "Folder: snap/vqa_test \n",
      " Epoch 3 Iter: 500/37402\n",
      "  Masked Tags : 1.770368\n",
      "  Text Only Masked LM : 1.880692\n",
      "  attr : 1.244336\n",
      "  feat : 0.08304493\n",
      "  obj : 3.321724\n",
      "\n"
     ]
    },
    {
     "name": "stderr",
     "output_type": "stream",
     "text": [
      "  3%|██                                                                         | 1001/37402 [06:50<3:49:17,  2.65it/s]"
     ]
    },
    {
     "name": "stdout",
     "output_type": "stream",
     "text": [
      "Folder: snap/vqa_test \n",
      " Epoch 3 Iter: 1000/37402\n",
      "  Masked Tags : 1.722407\n",
      "  Text Only Masked LM : 1.981642\n",
      "  attr : 1.260008\n",
      "  feat : 0.08215654\n",
      "  obj : 3.274911\n",
      "\n"
     ]
    },
    {
     "name": "stderr",
     "output_type": "stream",
     "text": [
      "  4%|███                                                                        | 1501/37402 [10:17<4:09:48,  2.40it/s]"
     ]
    },
    {
     "name": "stdout",
     "output_type": "stream",
     "text": [
      "Folder: snap/vqa_test \n",
      " Epoch 3 Iter: 1500/37402\n",
      "  Masked Tags : 1.744569\n",
      "  Text Only Masked LM : 1.952755\n",
      "  attr : 1.248897\n",
      "  feat : 0.08358244\n",
      "  obj : 3.276285\n",
      "\n"
     ]
    },
    {
     "name": "stderr",
     "output_type": "stream",
     "text": [
      "  5%|████                                                                       | 2001/37402 [13:45<3:54:08,  2.52it/s]"
     ]
    },
    {
     "name": "stdout",
     "output_type": "stream",
     "text": [
      "Folder: snap/vqa_test \n",
      " Epoch 3 Iter: 2000/37402\n",
      "  Masked Tags : 1.73095\n",
      "  Text Only Masked LM : 1.994388\n",
      "  attr : 1.238593\n",
      "  feat : 0.08100836\n",
      "  obj : 3.256939\n",
      "\n"
     ]
    },
    {
     "name": "stderr",
     "output_type": "stream",
     "text": [
      "  7%|█████                                                                      | 2501/37402 [17:01<3:36:57,  2.68it/s]"
     ]
    },
    {
     "name": "stdout",
     "output_type": "stream",
     "text": [
      "Folder: snap/vqa_test \n",
      " Epoch 3 Iter: 2500/37402\n",
      "  Masked Tags : 1.740426\n",
      "  Text Only Masked LM : 1.945521\n",
      "  attr : 1.242875\n",
      "  feat : 0.0826232\n",
      "  obj : 3.259612\n",
      "\n"
     ]
    },
    {
     "name": "stderr",
     "output_type": "stream",
     "text": [
      "  8%|██████                                                                     | 3001/37402 [20:22<4:44:21,  2.02it/s]"
     ]
    },
    {
     "name": "stdout",
     "output_type": "stream",
     "text": [
      "Folder: snap/vqa_test \n",
      " Epoch 3 Iter: 3000/37402\n",
      "  Masked Tags : 1.755106\n",
      "  Text Only Masked LM : 1.932671\n",
      "  attr : 1.24562\n",
      "  feat : 0.08280283\n",
      "  obj : 3.264481\n",
      "\n"
     ]
    },
    {
     "name": "stderr",
     "output_type": "stream",
     "text": [
      "  9%|███████                                                                    | 3501/37402 [23:38<2:44:53,  3.43it/s]"
     ]
    },
    {
     "name": "stdout",
     "output_type": "stream",
     "text": [
      "Folder: snap/vqa_test \n",
      " Epoch 3 Iter: 3500/37402\n",
      "  Masked Tags : 1.689644\n",
      "  Text Only Masked LM : 1.944816\n",
      "  attr : 1.23619\n",
      "  feat : 0.08273139\n",
      "  obj : 3.284072\n",
      "\n"
     ]
    },
    {
     "name": "stderr",
     "output_type": "stream",
     "text": [
      " 11%|████████                                                                   | 4002/37402 [27:10<2:06:43,  4.39it/s]"
     ]
    },
    {
     "name": "stdout",
     "output_type": "stream",
     "text": [
      "Folder: snap/vqa_test \n",
      " Epoch 3 Iter: 4000/37402\n",
      "  Masked Tags : 1.780255\n",
      "  Text Only Masked LM : 1.91559\n",
      "  attr : 1.241425\n",
      "  feat : 0.08357058\n",
      "  obj : 3.284661\n",
      "\n"
     ]
    },
    {
     "name": "stderr",
     "output_type": "stream",
     "text": [
      " 12%|█████████                                                                  | 4501/37402 [30:40<4:20:52,  2.10it/s]"
     ]
    },
    {
     "name": "stdout",
     "output_type": "stream",
     "text": [
      "Folder: snap/vqa_test \n",
      " Epoch 3 Iter: 4500/37402\n",
      "  Masked Tags : 1.681181\n",
      "  Text Only Masked LM : 1.950202\n",
      "  attr : 1.234588\n",
      "  feat : 0.07988002\n",
      "  obj : 3.295496\n",
      "\n"
     ]
    },
    {
     "name": "stderr",
     "output_type": "stream",
     "text": [
      " 13%|██████████                                                                 | 5001/37402 [34:02<2:55:57,  3.07it/s]"
     ]
    },
    {
     "name": "stdout",
     "output_type": "stream",
     "text": [
      "Folder: snap/vqa_test \n",
      " Epoch 3 Iter: 5000/37402\n",
      "  Masked Tags : 1.736302\n",
      "  Text Only Masked LM : 1.991549\n",
      "  attr : 1.229032\n",
      "  feat : 0.08325994\n",
      "  obj : 3.257716\n",
      "\n"
     ]
    },
    {
     "name": "stderr",
     "output_type": "stream",
     "text": [
      " 15%|███████████                                                                | 5501/37402 [37:32<3:31:43,  2.51it/s]"
     ]
    },
    {
     "name": "stdout",
     "output_type": "stream",
     "text": [
      "Folder: snap/vqa_test \n",
      " Epoch 3 Iter: 5500/37402\n",
      "  Masked Tags : 1.748151\n",
      "  Text Only Masked LM : 1.948477\n",
      "  attr : 1.220411\n",
      "  feat : 0.08223486\n",
      "  obj : 3.26806\n",
      "\n"
     ]
    },
    {
     "name": "stderr",
     "output_type": "stream",
     "text": [
      " 16%|████████████                                                               | 6001/37402 [40:51<4:01:24,  2.17it/s]"
     ]
    },
    {
     "name": "stdout",
     "output_type": "stream",
     "text": [
      "Folder: snap/vqa_test \n",
      " Epoch 3 Iter: 6000/37402\n",
      "  Masked Tags : 1.690879\n",
      "  Text Only Masked LM : 1.97342\n",
      "  attr : 1.233189\n",
      "  feat : 0.08134811\n",
      "  obj : 3.283924\n",
      "\n"
     ]
    },
    {
     "name": "stderr",
     "output_type": "stream",
     "text": [
      " 17%|█████████████                                                              | 6501/37402 [44:12<3:12:45,  2.67it/s]"
     ]
    },
    {
     "name": "stdout",
     "output_type": "stream",
     "text": [
      "Folder: snap/vqa_test \n",
      " Epoch 3 Iter: 6500/37402\n",
      "  Masked Tags : 1.735743\n",
      "  Text Only Masked LM : 2.003554\n",
      "  attr : 1.23032\n",
      "  feat : 0.08323162\n",
      "  obj : 3.248657\n",
      "\n"
     ]
    },
    {
     "name": "stderr",
     "output_type": "stream",
     "text": [
      " 19%|██████████████                                                             | 7001/37402 [47:34<3:15:33,  2.59it/s]"
     ]
    },
    {
     "name": "stdout",
     "output_type": "stream",
     "text": [
      "Folder: snap/vqa_test \n",
      " Epoch 3 Iter: 7000/37402\n",
      "  Masked Tags : 1.738775\n",
      "  Text Only Masked LM : 1.969568\n",
      "  attr : 1.242069\n",
      "  feat : 0.08228078\n",
      "  obj : 3.271508\n",
      "\n"
     ]
    },
    {
     "name": "stderr",
     "output_type": "stream",
     "text": [
      " 20%|███████████████                                                            | 7501/37402 [51:00<2:22:53,  3.49it/s]"
     ]
    },
    {
     "name": "stdout",
     "output_type": "stream",
     "text": [
      "Folder: snap/vqa_test \n",
      " Epoch 3 Iter: 7500/37402\n",
      "  Masked Tags : 1.70033\n",
      "  Text Only Masked LM : 1.936823\n",
      "  attr : 1.264052\n",
      "  feat : 0.0813986\n",
      "  obj : 3.313489\n",
      "\n"
     ]
    },
    {
     "name": "stderr",
     "output_type": "stream",
     "text": [
      " 21%|████████████████                                                           | 8001/37402 [54:28<2:59:45,  2.73it/s]"
     ]
    },
    {
     "name": "stdout",
     "output_type": "stream",
     "text": [
      "Folder: snap/vqa_test \n",
      " Epoch 3 Iter: 8000/37402\n",
      "  Masked Tags : 1.697312\n",
      "  Text Only Masked LM : 1.990915\n",
      "  attr : 1.244555\n",
      "  feat : 0.08238701\n",
      "  obj : 3.272922\n",
      "\n"
     ]
    },
    {
     "name": "stderr",
     "output_type": "stream",
     "text": [
      " 23%|█████████████████                                                          | 8501/37402 [57:52<4:10:09,  1.93it/s]"
     ]
    },
    {
     "name": "stdout",
     "output_type": "stream",
     "text": [
      "Folder: snap/vqa_test \n",
      " Epoch 3 Iter: 8500/37402\n",
      "  Masked Tags : 1.695639\n",
      "  Text Only Masked LM : 1.95959\n",
      "  attr : 1.227399\n",
      "  feat : 0.08246988\n",
      "  obj : 3.263883\n",
      "\n"
     ]
    },
    {
     "name": "stderr",
     "output_type": "stream",
     "text": [
      " 24%|█████████████████▌                                                       | 9001/37402 [1:01:13<3:22:55,  2.33it/s]"
     ]
    },
    {
     "name": "stdout",
     "output_type": "stream",
     "text": [
      "Folder: snap/vqa_test \n",
      " Epoch 3 Iter: 9000/37402\n",
      "  Masked Tags : 1.711719\n",
      "  Text Only Masked LM : 1.919141\n",
      "  attr : 1.228443\n",
      "  feat : 0.0832107\n",
      "  obj : 3.28755\n",
      "\n"
     ]
    },
    {
     "name": "stderr",
     "output_type": "stream",
     "text": [
      " 25%|██████████████████▌                                                      | 9501/37402 [1:04:36<3:06:19,  2.50it/s]"
     ]
    },
    {
     "name": "stdout",
     "output_type": "stream",
     "text": [
      "Folder: snap/vqa_test \n",
      " Epoch 3 Iter: 9500/37402\n",
      "  Masked Tags : 1.694233\n",
      "  Text Only Masked LM : 1.975774\n",
      "  attr : 1.229966\n",
      "  feat : 0.08284342\n",
      "  obj : 3.322864\n",
      "\n"
     ]
    },
    {
     "name": "stderr",
     "output_type": "stream",
     "text": [
      " 27%|███████████████████▎                                                    | 10001/37402 [1:08:13<2:40:42,  2.84it/s]"
     ]
    },
    {
     "name": "stdout",
     "output_type": "stream",
     "text": [
      "Folder: snap/vqa_test \n",
      " Epoch 3 Iter: 10000/37402\n",
      "  Masked Tags : 1.686834\n",
      "  Text Only Masked LM : 1.969513\n",
      "  attr : 1.235499\n",
      "  feat : 0.08171744\n",
      "  obj : 3.291997\n",
      "\n"
     ]
    },
    {
     "name": "stderr",
     "output_type": "stream",
     "text": [
      " 28%|████████████████████▏                                                   | 10501/37402 [1:11:41<4:13:52,  1.77it/s]"
     ]
    },
    {
     "name": "stdout",
     "output_type": "stream",
     "text": [
      "Folder: snap/vqa_test \n",
      " Epoch 3 Iter: 10500/37402\n",
      "  Masked Tags : 1.690503\n",
      "  Text Only Masked LM : 1.919265\n",
      "  attr : 1.23218\n",
      "  feat : 0.08248756\n",
      "  obj : 3.285033\n",
      "\n"
     ]
    },
    {
     "name": "stderr",
     "output_type": "stream",
     "text": [
      " 29%|█████████████████████▏                                                  | 11001/37402 [1:15:06<3:16:15,  2.24it/s]"
     ]
    },
    {
     "name": "stdout",
     "output_type": "stream",
     "text": [
      "Folder: snap/vqa_test \n",
      " Epoch 3 Iter: 11000/37402\n",
      "  Masked Tags : 1.74023\n",
      "  Text Only Masked LM : 1.927887\n",
      "  attr : 1.231945\n",
      "  feat : 0.07951141\n",
      "  obj : 3.2859\n",
      "\n"
     ]
    },
    {
     "name": "stderr",
     "output_type": "stream",
     "text": [
      " 31%|██████████████████████▏                                                 | 11501/37402 [1:18:36<2:59:11,  2.41it/s]"
     ]
    },
    {
     "name": "stdout",
     "output_type": "stream",
     "text": [
      "Folder: snap/vqa_test \n",
      " Epoch 3 Iter: 11500/37402\n",
      "  Masked Tags : 1.695258\n",
      "  Text Only Masked LM : 1.951105\n",
      "  attr : 1.246006\n",
      "  feat : 0.08302029\n",
      "  obj : 3.289241\n",
      "\n"
     ]
    },
    {
     "name": "stderr",
     "output_type": "stream",
     "text": [
      " 32%|███████████████████████                                                 | 12001/37402 [1:21:59<2:52:12,  2.46it/s]"
     ]
    },
    {
     "name": "stdout",
     "output_type": "stream",
     "text": [
      "Folder: snap/vqa_test \n",
      " Epoch 3 Iter: 12000/37402\n",
      "  Masked Tags : 1.725208\n",
      "  Text Only Masked LM : 1.946037\n",
      "  attr : 1.245122\n",
      "  feat : 0.08325289\n",
      "  obj : 3.295885\n",
      "\n"
     ]
    },
    {
     "name": "stderr",
     "output_type": "stream",
     "text": [
      " 33%|████████████████████████                                                | 12501/37402 [1:25:28<2:55:12,  2.37it/s]"
     ]
    },
    {
     "name": "stdout",
     "output_type": "stream",
     "text": [
      "Folder: snap/vqa_test \n",
      " Epoch 3 Iter: 12500/37402\n",
      "  Masked Tags : 1.706328\n",
      "  Text Only Masked LM : 1.957804\n",
      "  attr : 1.250193\n",
      "  feat : 0.08325672\n",
      "  obj : 3.29388\n",
      "\n"
     ]
    },
    {
     "name": "stderr",
     "output_type": "stream",
     "text": [
      " 35%|█████████████████████████                                               | 13001/37402 [1:28:51<2:55:29,  2.32it/s]"
     ]
    },
    {
     "name": "stdout",
     "output_type": "stream",
     "text": [
      "Folder: snap/vqa_test \n",
      " Epoch 3 Iter: 13000/37402\n",
      "  Masked Tags : 1.702945\n",
      "  Text Only Masked LM : 1.954577\n",
      "  attr : 1.236887\n",
      "  feat : 0.08145438\n",
      "  obj : 3.268507\n",
      "\n"
     ]
    },
    {
     "name": "stderr",
     "output_type": "stream",
     "text": [
      " 36%|█████████████████████████▉                                              | 13501/37402 [1:32:23<2:39:38,  2.50it/s]"
     ]
    },
    {
     "name": "stdout",
     "output_type": "stream",
     "text": [
      "Folder: snap/vqa_test \n",
      " Epoch 3 Iter: 13500/37402\n",
      "  Masked Tags : 1.686399\n",
      "  Text Only Masked LM : 1.919591\n",
      "  attr : 1.246882\n",
      "  feat : 0.08226002\n",
      "  obj : 3.280131\n",
      "\n"
     ]
    },
    {
     "name": "stderr",
     "output_type": "stream",
     "text": [
      " 37%|██████████████████████████▉                                             | 14001/37402 [1:35:57<3:03:00,  2.13it/s]"
     ]
    },
    {
     "name": "stdout",
     "output_type": "stream",
     "text": [
      "Folder: snap/vqa_test \n",
      " Epoch 3 Iter: 14000/37402\n",
      "  Masked Tags : 1.698814\n",
      "  Text Only Masked LM : 1.967942\n",
      "  attr : 1.244824\n",
      "  feat : 0.08159204\n",
      "  obj : 3.266088\n",
      "\n"
     ]
    },
    {
     "name": "stderr",
     "output_type": "stream",
     "text": [
      " 39%|███████████████████████████▉                                            | 14501/37402 [1:39:27<2:21:37,  2.69it/s]"
     ]
    },
    {
     "name": "stdout",
     "output_type": "stream",
     "text": [
      "Folder: snap/vqa_test \n",
      " Epoch 3 Iter: 14500/37402\n",
      "  Masked Tags : 1.653064\n",
      "  Text Only Masked LM : 1.954553\n",
      "  attr : 1.235595\n",
      "  feat : 0.08114024\n",
      "  obj : 3.288242\n",
      "\n"
     ]
    },
    {
     "name": "stderr",
     "output_type": "stream",
     "text": [
      " 40%|████████████████████████████▉                                           | 15001/37402 [1:43:04<2:21:58,  2.63it/s]"
     ]
    },
    {
     "name": "stdout",
     "output_type": "stream",
     "text": [
      "Folder: snap/vqa_test \n",
      " Epoch 3 Iter: 15000/37402\n",
      "  Masked Tags : 1.726035\n",
      "  Text Only Masked LM : 1.997294\n",
      "  attr : 1.24392\n",
      "  feat : 0.08075818\n",
      "  obj : 3.269366\n",
      "\n"
     ]
    },
    {
     "name": "stderr",
     "output_type": "stream",
     "text": [
      " 41%|█████████████████████████████▊                                          | 15501/37402 [1:46:26<2:45:41,  2.20it/s]"
     ]
    },
    {
     "name": "stdout",
     "output_type": "stream",
     "text": [
      "Folder: snap/vqa_test \n",
      " Epoch 3 Iter: 15500/37402\n",
      "  Masked Tags : 1.683292\n",
      "  Text Only Masked LM : 1.924505\n",
      "  attr : 1.24765\n",
      "  feat : 0.08015549\n",
      "  obj : 3.251126\n",
      "\n"
     ]
    },
    {
     "name": "stderr",
     "output_type": "stream",
     "text": [
      " 43%|██████████████████████████████▊                                         | 16001/37402 [1:49:49<2:09:36,  2.75it/s]"
     ]
    },
    {
     "name": "stdout",
     "output_type": "stream",
     "text": [
      "Folder: snap/vqa_test \n",
      " Epoch 3 Iter: 16000/37402\n",
      "  Masked Tags : 1.638901\n",
      "  Text Only Masked LM : 1.928545\n",
      "  attr : 1.218554\n",
      "  feat : 0.08100658\n",
      "  obj : 3.298708\n",
      "\n"
     ]
    },
    {
     "name": "stderr",
     "output_type": "stream",
     "text": [
      " 44%|███████████████████████████████▊                                        | 16501/37402 [1:53:15<2:13:37,  2.61it/s]"
     ]
    },
    {
     "name": "stdout",
     "output_type": "stream",
     "text": [
      "Folder: snap/vqa_test \n",
      " Epoch 3 Iter: 16500/37402\n",
      "  Masked Tags : 1.678091\n",
      "  Text Only Masked LM : 1.967777\n",
      "  attr : 1.234451\n",
      "  feat : 0.08444174\n",
      "  obj : 3.26766\n",
      "\n"
     ]
    },
    {
     "name": "stderr",
     "output_type": "stream",
     "text": [
      " 45%|████████████████████████████████▋                                       | 17001/37402 [1:56:38<2:51:06,  1.99it/s]"
     ]
    },
    {
     "name": "stdout",
     "output_type": "stream",
     "text": [
      "Folder: snap/vqa_test \n",
      " Epoch 3 Iter: 17000/37402\n",
      "  Masked Tags : 1.668782\n",
      "  Text Only Masked LM : 1.964993\n",
      "  attr : 1.234959\n",
      "  feat : 0.08019628\n",
      "  obj : 3.310045\n",
      "\n"
     ]
    },
    {
     "name": "stderr",
     "output_type": "stream",
     "text": [
      " 47%|█████████████████████████████████▋                                      | 17501/37402 [2:00:04<1:33:26,  3.55it/s]"
     ]
    },
    {
     "name": "stdout",
     "output_type": "stream",
     "text": [
      "Folder: snap/vqa_test \n",
      " Epoch 3 Iter: 17500/37402\n",
      "  Masked Tags : 1.685245\n",
      "  Text Only Masked LM : 1.964281\n",
      "  attr : 1.225955\n",
      "  feat : 0.0827419\n",
      "  obj : 3.280376\n",
      "\n"
     ]
    },
    {
     "name": "stderr",
     "output_type": "stream",
     "text": [
      " 48%|██████████████████████████████████▋                                     | 18001/37402 [2:03:25<1:58:25,  2.73it/s]"
     ]
    },
    {
     "name": "stdout",
     "output_type": "stream",
     "text": [
      "Folder: snap/vqa_test \n",
      " Epoch 3 Iter: 18000/37402\n",
      "  Masked Tags : 1.68256\n",
      "  Text Only Masked LM : 1.95118\n",
      "  attr : 1.242546\n",
      "  feat : 0.08175549\n",
      "  obj : 3.251458\n",
      "\n"
     ]
    },
    {
     "name": "stderr",
     "output_type": "stream",
     "text": [
      " 49%|███████████████████████████████████▌                                    | 18501/37402 [2:06:51<2:18:07,  2.28it/s]"
     ]
    },
    {
     "name": "stdout",
     "output_type": "stream",
     "text": [
      "Folder: snap/vqa_test \n",
      " Epoch 3 Iter: 18500/37402\n",
      "  Masked Tags : 1.669305\n",
      "  Text Only Masked LM : 1.913572\n",
      "  attr : 1.218717\n",
      "  feat : 0.08140816\n",
      "  obj : 3.265528\n",
      "\n"
     ]
    },
    {
     "name": "stderr",
     "output_type": "stream",
     "text": [
      " 51%|████████████████████████████████████▌                                   | 19002/37402 [2:10:19<2:24:59,  2.12it/s]"
     ]
    },
    {
     "name": "stdout",
     "output_type": "stream",
     "text": [
      "Folder: snap/vqa_test \n",
      " Epoch 3 Iter: 19000/37402\n",
      "  Masked Tags : 1.689656\n",
      "  Text Only Masked LM : 1.965788\n",
      "  attr : 1.239609\n",
      "  feat : 0.0822602\n",
      "  obj : 3.279324\n",
      "\n"
     ]
    },
    {
     "name": "stderr",
     "output_type": "stream",
     "text": [
      " 52%|█████████████████████████████████████▌                                  | 19501/37402 [2:13:57<1:56:53,  2.55it/s]"
     ]
    },
    {
     "name": "stdout",
     "output_type": "stream",
     "text": [
      "Folder: snap/vqa_test \n",
      " Epoch 3 Iter: 19500/37402\n",
      "  Masked Tags : 1.643175\n",
      "  Text Only Masked LM : 1.973633\n",
      "  attr : 1.237319\n",
      "  feat : 0.08084731\n",
      "  obj : 3.288558\n",
      "\n"
     ]
    },
    {
     "name": "stderr",
     "output_type": "stream",
     "text": [
      " 53%|██████████████████████████████████████▌                                 | 20001/37402 [2:17:21<2:33:04,  1.89it/s]"
     ]
    },
    {
     "name": "stdout",
     "output_type": "stream",
     "text": [
      "Folder: snap/vqa_test \n",
      " Epoch 3 Iter: 20000/37402\n",
      "  Masked Tags : 1.659035\n",
      "  Text Only Masked LM : 1.964548\n",
      "  attr : 1.230535\n",
      "  feat : 0.08200203\n",
      "  obj : 3.275127\n",
      "\n"
     ]
    },
    {
     "name": "stderr",
     "output_type": "stream",
     "text": [
      " 55%|███████████████████████████████████████▍                                | 20501/37402 [2:20:45<1:56:20,  2.42it/s]"
     ]
    },
    {
     "name": "stdout",
     "output_type": "stream",
     "text": [
      "Folder: snap/vqa_test \n",
      " Epoch 3 Iter: 20500/37402\n",
      "  Masked Tags : 1.640893\n",
      "  Text Only Masked LM : 1.923245\n",
      "  attr : 1.243887\n",
      "  feat : 0.08077996\n",
      "  obj : 3.302943\n",
      "\n"
     ]
    },
    {
     "name": "stderr",
     "output_type": "stream",
     "text": [
      " 56%|████████████████████████████████████████▍                               | 21001/37402 [2:24:14<1:33:56,  2.91it/s]"
     ]
    },
    {
     "name": "stdout",
     "output_type": "stream",
     "text": [
      "Folder: snap/vqa_test \n",
      " Epoch 3 Iter: 21000/37402\n",
      "  Masked Tags : 1.636162\n",
      "  Text Only Masked LM : 1.959698\n",
      "  attr : 1.2362\n",
      "  feat : 0.08146861\n",
      "  obj : 3.317394\n",
      "\n"
     ]
    },
    {
     "name": "stderr",
     "output_type": "stream",
     "text": [
      " 57%|█████████████████████████████████████████▍                              | 21501/37402 [2:27:42<1:40:02,  2.65it/s]"
     ]
    },
    {
     "name": "stdout",
     "output_type": "stream",
     "text": [
      "Folder: snap/vqa_test \n",
      " Epoch 3 Iter: 21500/37402\n",
      "  Masked Tags : 1.674189\n",
      "  Text Only Masked LM : 1.909292\n",
      "  attr : 1.237413\n",
      "  feat : 0.08196393\n",
      "  obj : 3.283099\n",
      "\n"
     ]
    },
    {
     "name": "stderr",
     "output_type": "stream",
     "text": [
      " 59%|██████████████████████████████████████████▎                             | 22001/37402 [2:31:06<1:19:07,  3.24it/s]"
     ]
    },
    {
     "name": "stdout",
     "output_type": "stream",
     "text": [
      "Folder: snap/vqa_test \n",
      " Epoch 3 Iter: 22000/37402\n",
      "  Masked Tags : 1.628825\n",
      "  Text Only Masked LM : 1.941603\n",
      "  attr : 1.257804\n",
      "  feat : 0.08014159\n",
      "  obj : 3.282074\n",
      "\n"
     ]
    },
    {
     "name": "stderr",
     "output_type": "stream",
     "text": [
      " 60%|███████████████████████████████████████████▎                            | 22501/37402 [2:34:30<1:22:18,  3.02it/s]"
     ]
    },
    {
     "name": "stdout",
     "output_type": "stream",
     "text": [
      "Folder: snap/vqa_test \n",
      " Epoch 3 Iter: 22500/37402\n",
      "  Masked Tags : 1.628353\n",
      "  Text Only Masked LM : 1.907288\n",
      "  attr : 1.23597\n",
      "  feat : 0.08343703\n",
      "  obj : 3.266965\n",
      "\n"
     ]
    },
    {
     "name": "stderr",
     "output_type": "stream",
     "text": [
      " 61%|████████████████████████████████████████████▎                           | 23001/37402 [2:37:59<1:38:52,  2.43it/s]"
     ]
    },
    {
     "name": "stdout",
     "output_type": "stream",
     "text": [
      "Folder: snap/vqa_test \n",
      " Epoch 3 Iter: 23000/37402\n",
      "  Masked Tags : 1.658241\n",
      "  Text Only Masked LM : 1.991606\n",
      "  attr : 1.232329\n",
      "  feat : 0.08314967\n",
      "  obj : 3.273604\n",
      "\n"
     ]
    },
    {
     "name": "stderr",
     "output_type": "stream",
     "text": [
      " 63%|█████████████████████████████████████████████▏                          | 23501/37402 [2:41:29<1:20:47,  2.87it/s]"
     ]
    },
    {
     "name": "stdout",
     "output_type": "stream",
     "text": [
      "Folder: snap/vqa_test \n",
      " Epoch 3 Iter: 23500/37402\n",
      "  Masked Tags : 1.627019\n",
      "  Text Only Masked LM : 1.972476\n",
      "  attr : 1.231806\n",
      "  feat : 0.08109889\n",
      "  obj : 3.266072\n",
      "\n"
     ]
    },
    {
     "name": "stderr",
     "output_type": "stream",
     "text": [
      " 64%|██████████████████████████████████████████████▏                         | 24001/37402 [2:44:51<1:36:29,  2.31it/s]"
     ]
    },
    {
     "name": "stdout",
     "output_type": "stream",
     "text": [
      "Folder: snap/vqa_test \n",
      " Epoch 3 Iter: 24000/37402\n",
      "  Masked Tags : 1.670039\n",
      "  Text Only Masked LM : 1.939153\n",
      "  attr : 1.24111\n",
      "  feat : 0.08215837\n",
      "  obj : 3.29261\n",
      "\n"
     ]
    },
    {
     "name": "stderr",
     "output_type": "stream",
     "text": [
      " 66%|███████████████████████████████████████████████▏                        | 24501/37402 [2:48:16<1:45:48,  2.03it/s]"
     ]
    },
    {
     "name": "stdout",
     "output_type": "stream",
     "text": [
      "Folder: snap/vqa_test \n",
      " Epoch 3 Iter: 24500/37402\n",
      "  Masked Tags : 1.624146\n",
      "  Text Only Masked LM : 1.924806\n",
      "  attr : 1.250105\n",
      "  feat : 0.08337838\n",
      "  obj : 3.257949\n",
      "\n"
     ]
    },
    {
     "name": "stderr",
     "output_type": "stream",
     "text": [
      " 67%|████████████████████████████████████████████████▏                       | 25001/37402 [2:51:48<1:34:24,  2.19it/s]"
     ]
    },
    {
     "name": "stdout",
     "output_type": "stream",
     "text": [
      "Folder: snap/vqa_test \n",
      " Epoch 3 Iter: 25000/37402\n",
      "  Masked Tags : 1.654923\n",
      "  Text Only Masked LM : 1.934805\n",
      "  attr : 1.235432\n",
      "  feat : 0.08117356\n",
      "  obj : 3.280689\n",
      "\n"
     ]
    },
    {
     "name": "stderr",
     "output_type": "stream",
     "text": [
      " 68%|█████████████████████████████████████████████████                       | 25502/37402 [2:55:29<1:08:55,  2.88it/s]"
     ]
    },
    {
     "name": "stdout",
     "output_type": "stream",
     "text": [
      "Folder: snap/vqa_test \n",
      " Epoch 3 Iter: 25500/37402\n",
      "  Masked Tags : 1.618017\n",
      "  Text Only Masked LM : 1.988\n",
      "  attr : 1.237955\n",
      "  feat : 0.08060172\n",
      "  obj : 3.303749\n",
      "\n"
     ]
    },
    {
     "name": "stderr",
     "output_type": "stream",
     "text": [
      " 70%|██████████████████████████████████████████████████                      | 26001/37402 [2:59:10<1:20:31,  2.36it/s]"
     ]
    },
    {
     "name": "stdout",
     "output_type": "stream",
     "text": [
      "Folder: snap/vqa_test \n",
      " Epoch 3 Iter: 26000/37402\n",
      "  Masked Tags : 1.633104\n",
      "  Text Only Masked LM : 1.951827\n",
      "  attr : 1.217917\n",
      "  feat : 0.08071333\n",
      "  obj : 3.260416\n",
      "\n"
     ]
    },
    {
     "name": "stderr",
     "output_type": "stream",
     "text": [
      " 71%|███████████████████████████████████████████████████                     | 26501/37402 [3:02:48<1:35:30,  1.90it/s]"
     ]
    },
    {
     "name": "stdout",
     "output_type": "stream",
     "text": [
      "Folder: snap/vqa_test \n",
      " Epoch 3 Iter: 26500/37402\n",
      "  Masked Tags : 1.615999\n",
      "  Text Only Masked LM : 1.950216\n",
      "  attr : 1.221873\n",
      "  feat : 0.08309681\n",
      "  obj : 3.277587\n",
      "\n"
     ]
    },
    {
     "name": "stderr",
     "output_type": "stream",
     "text": [
      " 72%|███████████████████████████████████████████████████▉                    | 27001/37402 [3:06:27<1:05:29,  2.65it/s]"
     ]
    },
    {
     "name": "stdout",
     "output_type": "stream",
     "text": [
      "Folder: snap/vqa_test \n",
      " Epoch 3 Iter: 27000/37402\n",
      "  Masked Tags : 1.627935\n",
      "  Text Only Masked LM : 1.975551\n",
      "  attr : 1.246291\n",
      "  feat : 0.08211835\n",
      "  obj : 3.26826\n",
      "\n"
     ]
    },
    {
     "name": "stderr",
     "output_type": "stream",
     "text": [
      " 74%|████████████████████████████████████████████████████▉                   | 27501/37402 [3:10:02<1:15:59,  2.17it/s]"
     ]
    },
    {
     "name": "stdout",
     "output_type": "stream",
     "text": [
      "Folder: snap/vqa_test \n",
      " Epoch 3 Iter: 27500/37402\n",
      "  Masked Tags : 1.614826\n",
      "  Text Only Masked LM : 1.966906\n",
      "  attr : 1.234809\n",
      "  feat : 0.08250663\n",
      "  obj : 3.282969\n",
      "\n"
     ]
    },
    {
     "name": "stderr",
     "output_type": "stream",
     "text": [
      " 75%|█████████████████████████████████████████████████████▉                  | 28001/37402 [3:13:31<1:09:29,  2.25it/s]"
     ]
    },
    {
     "name": "stdout",
     "output_type": "stream",
     "text": [
      "Folder: snap/vqa_test \n",
      " Epoch 3 Iter: 28000/37402\n",
      "  Masked Tags : 1.66565\n",
      "  Text Only Masked LM : 1.942683\n",
      "  attr : 1.236439\n",
      "  feat : 0.0812244\n",
      "  obj : 3.264948\n",
      "\n"
     ]
    },
    {
     "name": "stderr",
     "output_type": "stream",
     "text": [
      " 76%|██████████████████████████████████████████████████████▊                 | 28501/37402 [3:16:57<1:11:16,  2.08it/s]"
     ]
    },
    {
     "name": "stdout",
     "output_type": "stream",
     "text": [
      "Folder: snap/vqa_test \n",
      " Epoch 3 Iter: 28500/37402\n",
      "  Masked Tags : 1.608797\n",
      "  Text Only Masked LM : 1.941249\n",
      "  attr : 1.225937\n",
      "  feat : 0.08262509\n",
      "  obj : 3.282391\n",
      "\n"
     ]
    },
    {
     "name": "stderr",
     "output_type": "stream",
     "text": [
      " 78%|█████████████████████████████████████████████████████████▍                | 29001/37402 [3:20:28<55:34,  2.52it/s]"
     ]
    },
    {
     "name": "stdout",
     "output_type": "stream",
     "text": [
      "Folder: snap/vqa_test \n",
      " Epoch 3 Iter: 29000/37402\n",
      "  Masked Tags : 1.647321\n",
      "  Text Only Masked LM : 1.988756\n",
      "  attr : 1.232882\n",
      "  feat : 0.08088451\n",
      "  obj : 3.276512\n",
      "\n"
     ]
    },
    {
     "name": "stderr",
     "output_type": "stream",
     "text": [
      " 79%|██████████████████████████████████████████████████████████▎               | 29501/37402 [3:23:55<53:15,  2.47it/s]"
     ]
    },
    {
     "name": "stdout",
     "output_type": "stream",
     "text": [
      "Folder: snap/vqa_test \n",
      " Epoch 3 Iter: 29500/37402\n",
      "  Masked Tags : 1.656789\n",
      "  Text Only Masked LM : 1.956705\n",
      "  attr : 1.251212\n",
      "  feat : 0.08113178\n",
      "  obj : 3.294686\n",
      "\n"
     ]
    },
    {
     "name": "stderr",
     "output_type": "stream",
     "text": [
      " 80%|███████████████████████████████████████████████████████████▎              | 30001/37402 [3:27:38<35:41,  3.46it/s]"
     ]
    },
    {
     "name": "stdout",
     "output_type": "stream",
     "text": [
      "Folder: snap/vqa_test \n",
      " Epoch 3 Iter: 30000/37402\n",
      "  Masked Tags : 1.635983\n",
      "  Text Only Masked LM : 1.923125\n",
      "  attr : 1.251287\n",
      "  feat : 0.08281406\n",
      "  obj : 3.256795\n",
      "\n"
     ]
    },
    {
     "name": "stderr",
     "output_type": "stream",
     "text": [
      " 82%|████████████████████████████████████████████████████████████▎             | 30501/37402 [3:30:59<41:21,  2.78it/s]"
     ]
    },
    {
     "name": "stdout",
     "output_type": "stream",
     "text": [
      "Folder: snap/vqa_test \n",
      " Epoch 3 Iter: 30500/37402\n",
      "  Masked Tags : 1.618462\n",
      "  Text Only Masked LM : 1.924605\n",
      "  attr : 1.230335\n",
      "  feat : 0.08414042\n",
      "  obj : 3.263275\n",
      "\n"
     ]
    },
    {
     "name": "stderr",
     "output_type": "stream",
     "text": [
      " 83%|█████████████████████████████████████████████████████████████▎            | 31001/37402 [3:34:24<55:26,  1.92it/s]"
     ]
    },
    {
     "name": "stdout",
     "output_type": "stream",
     "text": [
      "Folder: snap/vqa_test \n",
      " Epoch 3 Iter: 31000/37402\n",
      "  Masked Tags : 1.668415\n",
      "  Text Only Masked LM : 1.928641\n",
      "  attr : 1.252731\n",
      "  feat : 0.08227445\n",
      "  obj : 3.285962\n",
      "\n"
     ]
    },
    {
     "name": "stderr",
     "output_type": "stream",
     "text": [
      " 84%|██████████████████████████████████████████████████████████████▎           | 31501/37402 [3:37:48<55:56,  1.76it/s]"
     ]
    },
    {
     "name": "stdout",
     "output_type": "stream",
     "text": [
      "Folder: snap/vqa_test \n",
      " Epoch 3 Iter: 31500/37402\n",
      "  Masked Tags : 1.613082\n",
      "  Text Only Masked LM : 1.936082\n",
      "  attr : 1.236977\n",
      "  feat : 0.08291349\n",
      "  obj : 3.282635\n",
      "\n"
     ]
    },
    {
     "name": "stderr",
     "output_type": "stream",
     "text": [
      " 86%|███████████████████████████████████████████████████████████████▎          | 32001/37402 [3:41:13<28:49,  3.12it/s]"
     ]
    },
    {
     "name": "stdout",
     "output_type": "stream",
     "text": [
      "Folder: snap/vqa_test \n",
      " Epoch 3 Iter: 32000/37402\n",
      "  Masked Tags : 1.591814\n",
      "  Text Only Masked LM : 1.973958\n",
      "  attr : 1.238518\n",
      "  feat : 0.08252171\n",
      "  obj : 3.270864\n",
      "\n"
     ]
    },
    {
     "name": "stderr",
     "output_type": "stream",
     "text": [
      " 87%|████████████████████████████████████████████████████████████████▎         | 32501/37402 [3:44:42<31:07,  2.62it/s]"
     ]
    },
    {
     "name": "stdout",
     "output_type": "stream",
     "text": [
      "Folder: snap/vqa_test \n",
      " Epoch 3 Iter: 32500/37402\n",
      "  Masked Tags : 1.624651\n",
      "  Text Only Masked LM : 1.933886\n",
      "  attr : 1.225802\n",
      "  feat : 0.08290928\n",
      "  obj : 3.269237\n",
      "\n"
     ]
    },
    {
     "name": "stderr",
     "output_type": "stream",
     "text": [
      " 88%|█████████████████████████████████████████████████████████████████▎        | 33001/37402 [3:48:09<31:13,  2.35it/s]"
     ]
    },
    {
     "name": "stdout",
     "output_type": "stream",
     "text": [
      "Folder: snap/vqa_test \n",
      " Epoch 3 Iter: 33000/37402\n",
      "  Masked Tags : 1.609779\n",
      "  Text Only Masked LM : 1.905201\n",
      "  attr : 1.230046\n",
      "  feat : 0.08374778\n",
      "  obj : 3.259619\n",
      "\n"
     ]
    },
    {
     "name": "stderr",
     "output_type": "stream",
     "text": [
      " 90%|██████████████████████████████████████████████████████████████████▎       | 33501/37402 [3:51:32<24:45,  2.63it/s]"
     ]
    },
    {
     "name": "stdout",
     "output_type": "stream",
     "text": [
      "Folder: snap/vqa_test \n",
      " Epoch 3 Iter: 33500/37402\n",
      "  Masked Tags : 1.653172\n",
      "  Text Only Masked LM : 1.929369\n",
      "  attr : 1.225683\n",
      "  feat : 0.08118314\n",
      "  obj : 3.290733\n",
      "\n"
     ]
    },
    {
     "name": "stderr",
     "output_type": "stream",
     "text": [
      " 91%|███████████████████████████████████████████████████████████████████▎      | 34001/37402 [3:55:10<24:02,  2.36it/s]"
     ]
    },
    {
     "name": "stdout",
     "output_type": "stream",
     "text": [
      "Folder: snap/vqa_test \n",
      " Epoch 3 Iter: 34000/37402\n",
      "  Masked Tags : 1.608605\n",
      "  Text Only Masked LM : 1.981188\n",
      "  attr : 1.2418\n",
      "  feat : 0.0810567\n",
      "  obj : 3.272032\n",
      "\n"
     ]
    },
    {
     "name": "stderr",
     "output_type": "stream",
     "text": [
      " 92%|████████████████████████████████████████████████████████████████████▎     | 34501/37402 [3:58:41<16:47,  2.88it/s]"
     ]
    },
    {
     "name": "stdout",
     "output_type": "stream",
     "text": [
      "Folder: snap/vqa_test \n",
      " Epoch 3 Iter: 34500/37402\n",
      "  Masked Tags : 1.641371\n",
      "  Text Only Masked LM : 1.908871\n",
      "  attr : 1.230935\n",
      "  feat : 0.08324799\n",
      "  obj : 3.262878\n",
      "\n"
     ]
    },
    {
     "name": "stderr",
     "output_type": "stream",
     "text": [
      " 94%|█████████████████████████████████████████████████████████████████████▏    | 35001/37402 [4:02:15<14:27,  2.77it/s]"
     ]
    },
    {
     "name": "stdout",
     "output_type": "stream",
     "text": [
      "Folder: snap/vqa_test \n",
      " Epoch 3 Iter: 35000/37402\n",
      "  Masked Tags : 1.629006\n",
      "  Text Only Masked LM : 1.916773\n",
      "  attr : 1.224451\n",
      "  feat : 0.08225084\n",
      "  obj : 3.265424\n",
      "\n"
     ]
    },
    {
     "name": "stderr",
     "output_type": "stream",
     "text": [
      " 95%|██████████████████████████████████████████████████████████████████████▏   | 35502/37402 [4:05:51<09:35,  3.30it/s]"
     ]
    },
    {
     "name": "stdout",
     "output_type": "stream",
     "text": [
      "Folder: snap/vqa_test \n",
      " Epoch 3 Iter: 35500/37402\n",
      "  Masked Tags : 1.625929\n",
      "  Text Only Masked LM : 1.929004\n",
      "  attr : 1.23856\n",
      "  feat : 0.08230387\n",
      "  obj : 3.25747\n",
      "\n"
     ]
    },
    {
     "name": "stderr",
     "output_type": "stream",
     "text": [
      " 96%|███████████████████████████████████████████████████████████████████████▏  | 36001/37402 [4:09:12<12:38,  1.85it/s]"
     ]
    },
    {
     "name": "stdout",
     "output_type": "stream",
     "text": [
      "Folder: snap/vqa_test \n",
      " Epoch 3 Iter: 36000/37402\n",
      "  Masked Tags : 1.602538\n",
      "  Text Only Masked LM : 1.903702\n",
      "  attr : 1.235259\n",
      "  feat : 0.08110937\n",
      "  obj : 3.301195\n",
      "\n"
     ]
    },
    {
     "name": "stderr",
     "output_type": "stream",
     "text": [
      " 98%|████████████████████████████████████████████████████████████████████████▏ | 36501/37402 [4:12:46<04:52,  3.08it/s]"
     ]
    },
    {
     "name": "stdout",
     "output_type": "stream",
     "text": [
      "Folder: snap/vqa_test \n",
      " Epoch 3 Iter: 36500/37402\n",
      "  Masked Tags : 1.601536\n",
      "  Text Only Masked LM : 1.956199\n",
      "  attr : 1.234266\n",
      "  feat : 0.08203739\n",
      "  obj : 3.275893\n",
      "\n"
     ]
    },
    {
     "name": "stderr",
     "output_type": "stream",
     "text": [
      " 99%|█████████████████████████████████████████████████████████████████████████▏| 37001/37402 [4:16:04<02:37,  2.55it/s]"
     ]
    },
    {
     "name": "stdout",
     "output_type": "stream",
     "text": [
      "Folder: snap/vqa_test \n",
      " Epoch 3 Iter: 37000/37402\n",
      "  Masked Tags : 1.64529\n",
      "  Text Only Masked LM : 1.947448\n",
      "  attr : 1.238416\n",
      "  feat : 0.08232621\n",
      "  obj : 3.249858\n",
      "\n"
     ]
    },
    {
     "name": "stderr",
     "output_type": "stream",
     "text": [
      "100%|██████████████████████████████████████████████████████████████████████████| 37402/37402 [4:18:48<00:00,  2.41it/s]\n"
     ]
    },
    {
     "name": "stdout",
     "output_type": "stream",
     "text": [
      "The training loss for Epoch 3 is 1.9325\n"
     ]
    },
    {
     "name": "stderr",
     "output_type": "stream",
     "text": [
      "100%|████████████████████████████████████████████████████████████████████████████████| 782/782 [08:22<00:00,  1.56it/s]\n"
     ]
    },
    {
     "name": "stdout",
     "output_type": "stream",
     "text": [
      "Evaluation:\n",
      "  Masked LM : 2.478822\n",
      "  Masked Tags : 2.137665\n",
      "  attr : 1.286775\n",
      "  feat : 0.08264439\n",
      "  obj : 3.235265\n",
      "\n",
      "\n",
      "\n",
      "\n",
      "\n",
      "\n",
      "\n",
      "\n",
      "\n"
     ]
    },
    {
     "name": "stderr",
     "output_type": "stream",
     "text": [
      "  1%|█                                                                           | 501/37402 [03:17<3:53:52,  2.63it/s]"
     ]
    },
    {
     "name": "stdout",
     "output_type": "stream",
     "text": [
      "Folder: snap/vqa_test \n",
      " Epoch 4 Iter: 500/37402\n",
      "  Masked Tags : 1.601091\n",
      "  Text Only Masked LM : 2.032421\n",
      "  attr : 1.234304\n",
      "  feat : 0.08132055\n",
      "  obj : 3.299631\n",
      "\n"
     ]
    },
    {
     "name": "stderr",
     "output_type": "stream",
     "text": [
      "  3%|██                                                                         | 1001/37402 [06:40<3:44:11,  2.71it/s]"
     ]
    },
    {
     "name": "stdout",
     "output_type": "stream",
     "text": [
      "Folder: snap/vqa_test \n",
      " Epoch 4 Iter: 1000/37402\n",
      "  Masked Tags : 1.614678\n",
      "  Text Only Masked LM : 1.944522\n",
      "  attr : 1.236532\n",
      "  feat : 0.0819481\n",
      "  obj : 3.281174\n",
      "\n"
     ]
    },
    {
     "name": "stderr",
     "output_type": "stream",
     "text": [
      "  4%|███                                                                        | 1501/37402 [10:07<4:04:47,  2.44it/s]"
     ]
    },
    {
     "name": "stdout",
     "output_type": "stream",
     "text": [
      "Folder: snap/vqa_test \n",
      " Epoch 4 Iter: 1500/37402\n",
      "  Masked Tags : 1.620038\n",
      "  Text Only Masked LM : 1.930191\n",
      "  attr : 1.236024\n",
      "  feat : 0.08340066\n",
      "  obj : 3.263772\n",
      "\n"
     ]
    },
    {
     "name": "stderr",
     "output_type": "stream",
     "text": [
      "  5%|████                                                                       | 2001/37402 [13:27<3:24:12,  2.89it/s]"
     ]
    },
    {
     "name": "stdout",
     "output_type": "stream",
     "text": [
      "Folder: snap/vqa_test \n",
      " Epoch 4 Iter: 2000/37402\n",
      "  Masked Tags : 1.617243\n",
      "  Text Only Masked LM : 1.88209\n",
      "  attr : 1.24336\n",
      "  feat : 0.08198344\n",
      "  obj : 3.262872\n",
      "\n"
     ]
    },
    {
     "name": "stderr",
     "output_type": "stream",
     "text": [
      "  7%|█████                                                                      | 2501/37402 [16:54<3:37:56,  2.67it/s]"
     ]
    },
    {
     "name": "stdout",
     "output_type": "stream",
     "text": [
      "Folder: snap/vqa_test \n",
      " Epoch 4 Iter: 2500/37402\n",
      "  Masked Tags : 1.637764\n",
      "  Text Only Masked LM : 1.926076\n",
      "  attr : 1.228358\n",
      "  feat : 0.08300135\n",
      "  obj : 3.292189\n",
      "\n"
     ]
    },
    {
     "name": "stderr",
     "output_type": "stream",
     "text": [
      "  8%|██████                                                                     | 3001/37402 [20:22<3:56:50,  2.42it/s]"
     ]
    },
    {
     "name": "stdout",
     "output_type": "stream",
     "text": [
      "Folder: snap/vqa_test \n",
      " Epoch 4 Iter: 3000/37402\n",
      "  Masked Tags : 1.583163\n",
      "  Text Only Masked LM : 1.898436\n",
      "  attr : 1.233602\n",
      "  feat : 0.08305781\n",
      "  obj : 3.277656\n",
      "\n"
     ]
    },
    {
     "name": "stderr",
     "output_type": "stream",
     "text": [
      "  9%|███████                                                                    | 3501/37402 [23:54<3:49:02,  2.47it/s]"
     ]
    },
    {
     "name": "stdout",
     "output_type": "stream",
     "text": [
      "Folder: snap/vqa_test \n",
      " Epoch 4 Iter: 3500/37402\n",
      "  Masked Tags : 1.594307\n",
      "  Text Only Masked LM : 1.916083\n",
      "  attr : 1.241013\n",
      "  feat : 0.08298849\n",
      "  obj : 3.282689\n",
      "\n"
     ]
    },
    {
     "name": "stderr",
     "output_type": "stream",
     "text": [
      " 11%|████████                                                                   | 4001/37402 [27:17<3:34:37,  2.59it/s]"
     ]
    },
    {
     "name": "stdout",
     "output_type": "stream",
     "text": [
      "Folder: snap/vqa_test \n",
      " Epoch 4 Iter: 4000/37402\n",
      "  Masked Tags : 1.563066\n",
      "  Text Only Masked LM : 1.855302\n",
      "  attr : 1.227266\n",
      "  feat : 0.08121819\n",
      "  obj : 3.275333\n",
      "\n"
     ]
    },
    {
     "name": "stderr",
     "output_type": "stream",
     "text": [
      " 12%|█████████                                                                  | 4501/37402 [30:50<4:47:25,  1.91it/s]"
     ]
    },
    {
     "name": "stdout",
     "output_type": "stream",
     "text": [
      "Folder: snap/vqa_test \n",
      " Epoch 4 Iter: 4500/37402\n",
      "  Masked Tags : 1.614259\n",
      "  Text Only Masked LM : 1.928961\n",
      "  attr : 1.248024\n",
      "  feat : 0.08172224\n",
      "  obj : 3.282186\n",
      "\n"
     ]
    },
    {
     "name": "stderr",
     "output_type": "stream",
     "text": [
      " 13%|██████████                                                                 | 5001/37402 [34:14<4:34:31,  1.97it/s]"
     ]
    },
    {
     "name": "stdout",
     "output_type": "stream",
     "text": [
      "Folder: snap/vqa_test \n",
      " Epoch 4 Iter: 5000/37402\n",
      "  Masked Tags : 1.581127\n",
      "  Text Only Masked LM : 1.912455\n",
      "  attr : 1.2253\n",
      "  feat : 0.08079853\n",
      "  obj : 3.268383\n",
      "\n"
     ]
    },
    {
     "name": "stderr",
     "output_type": "stream",
     "text": [
      " 15%|███████████                                                                | 5501/37402 [37:38<3:47:57,  2.33it/s]"
     ]
    },
    {
     "name": "stdout",
     "output_type": "stream",
     "text": [
      "Folder: snap/vqa_test \n",
      " Epoch 4 Iter: 5500/37402\n",
      "  Masked Tags : 1.596128\n",
      "  Text Only Masked LM : 1.934802\n",
      "  attr : 1.225327\n",
      "  feat : 0.0822753\n",
      "  obj : 3.237666\n",
      "\n"
     ]
    },
    {
     "name": "stderr",
     "output_type": "stream",
     "text": [
      " 16%|████████████                                                               | 6001/37402 [41:10<3:11:49,  2.73it/s]"
     ]
    },
    {
     "name": "stdout",
     "output_type": "stream",
     "text": [
      "Folder: snap/vqa_test \n",
      " Epoch 4 Iter: 6000/37402\n",
      "  Masked Tags : 1.590162\n",
      "  Text Only Masked LM : 1.930787\n",
      "  attr : 1.238278\n",
      "  feat : 0.08296896\n",
      "  obj : 3.25682\n",
      "\n"
     ]
    },
    {
     "name": "stderr",
     "output_type": "stream",
     "text": [
      " 17%|█████████████                                                              | 6501/37402 [44:42<4:09:28,  2.06it/s]"
     ]
    },
    {
     "name": "stdout",
     "output_type": "stream",
     "text": [
      "Folder: snap/vqa_test \n",
      " Epoch 4 Iter: 6500/37402\n",
      "  Masked Tags : 1.565355\n",
      "  Text Only Masked LM : 1.890266\n",
      "  attr : 1.217337\n",
      "  feat : 0.08138514\n",
      "  obj : 3.266819\n",
      "\n"
     ]
    },
    {
     "name": "stderr",
     "output_type": "stream",
     "text": [
      " 19%|██████████████                                                             | 7001/37402 [48:09<3:09:40,  2.67it/s]"
     ]
    },
    {
     "name": "stdout",
     "output_type": "stream",
     "text": [
      "Folder: snap/vqa_test \n",
      " Epoch 4 Iter: 7000/37402\n",
      "  Masked Tags : 1.588145\n",
      "  Text Only Masked LM : 1.96462\n",
      "  attr : 1.23706\n",
      "  feat : 0.08051428\n",
      "  obj : 3.284162\n",
      "\n"
     ]
    },
    {
     "name": "stderr",
     "output_type": "stream",
     "text": [
      " 20%|███████████████                                                            | 7501/37402 [51:39<3:11:28,  2.60it/s]"
     ]
    },
    {
     "name": "stdout",
     "output_type": "stream",
     "text": [
      "Folder: snap/vqa_test \n",
      " Epoch 4 Iter: 7500/37402\n",
      "  Masked Tags : 1.57102\n",
      "  Text Only Masked LM : 1.941881\n",
      "  attr : 1.239571\n",
      "  feat : 0.08203657\n",
      "  obj : 3.259227\n",
      "\n"
     ]
    },
    {
     "name": "stderr",
     "output_type": "stream",
     "text": [
      " 21%|████████████████                                                           | 8001/37402 [54:58<2:48:52,  2.90it/s]"
     ]
    },
    {
     "name": "stdout",
     "output_type": "stream",
     "text": [
      "Folder: snap/vqa_test \n",
      " Epoch 4 Iter: 8000/37402\n",
      "  Masked Tags : 1.606362\n",
      "  Text Only Masked LM : 1.897172\n",
      "  attr : 1.245567\n",
      "  feat : 0.0811494\n",
      "  obj : 3.290537\n",
      "\n"
     ]
    },
    {
     "name": "stderr",
     "output_type": "stream",
     "text": [
      " 23%|█████████████████                                                          | 8501/37402 [58:30<2:52:03,  2.80it/s]"
     ]
    },
    {
     "name": "stdout",
     "output_type": "stream",
     "text": [
      "Folder: snap/vqa_test \n",
      " Epoch 4 Iter: 8500/37402\n",
      "  Masked Tags : 1.560701\n",
      "  Text Only Masked LM : 1.944995\n",
      "  attr : 1.23136\n",
      "  feat : 0.08165785\n",
      "  obj : 3.302792\n",
      "\n"
     ]
    },
    {
     "name": "stderr",
     "output_type": "stream",
     "text": [
      " 24%|█████████████████▌                                                       | 9001/37402 [1:01:50<2:24:30,  3.28it/s]"
     ]
    },
    {
     "name": "stdout",
     "output_type": "stream",
     "text": [
      "Folder: snap/vqa_test \n",
      " Epoch 4 Iter: 9000/37402\n",
      "  Masked Tags : 1.577382\n",
      "  Text Only Masked LM : 1.867342\n",
      "  attr : 1.234869\n",
      "  feat : 0.08303732\n",
      "  obj : 3.285499\n",
      "\n"
     ]
    },
    {
     "name": "stderr",
     "output_type": "stream",
     "text": [
      " 25%|██████████████████▌                                                      | 9501/37402 [1:05:15<4:18:15,  1.80it/s]"
     ]
    },
    {
     "name": "stdout",
     "output_type": "stream",
     "text": [
      "Folder: snap/vqa_test \n",
      " Epoch 4 Iter: 9500/37402\n",
      "  Masked Tags : 1.565155\n",
      "  Text Only Masked LM : 1.902266\n",
      "  attr : 1.229005\n",
      "  feat : 0.08026105\n",
      "  obj : 3.283851\n",
      "\n"
     ]
    },
    {
     "name": "stderr",
     "output_type": "stream",
     "text": [
      " 27%|███████████████████▎                                                    | 10001/37402 [1:08:40<2:59:37,  2.54it/s]"
     ]
    },
    {
     "name": "stdout",
     "output_type": "stream",
     "text": [
      "Folder: snap/vqa_test \n",
      " Epoch 4 Iter: 10000/37402\n",
      "  Masked Tags : 1.597743\n",
      "  Text Only Masked LM : 1.903129\n",
      "  attr : 1.217987\n",
      "  feat : 0.0834195\n",
      "  obj : 3.260395\n",
      "\n"
     ]
    },
    {
     "name": "stderr",
     "output_type": "stream",
     "text": [
      " 28%|████████████████████▏                                                   | 10501/37402 [1:12:06<3:15:39,  2.29it/s]"
     ]
    },
    {
     "name": "stdout",
     "output_type": "stream",
     "text": [
      "Folder: snap/vqa_test \n",
      " Epoch 4 Iter: 10500/37402\n",
      "  Masked Tags : 1.578032\n",
      "  Text Only Masked LM : 1.915243\n",
      "  attr : 1.235275\n",
      "  feat : 0.08294737\n",
      "  obj : 3.278683\n",
      "\n"
     ]
    },
    {
     "name": "stderr",
     "output_type": "stream",
     "text": [
      " 29%|█████████████████████▏                                                  | 11001/37402 [1:15:37<3:13:52,  2.27it/s]"
     ]
    },
    {
     "name": "stdout",
     "output_type": "stream",
     "text": [
      "Folder: snap/vqa_test \n",
      " Epoch 4 Iter: 11000/37402\n",
      "  Masked Tags : 1.58796\n",
      "  Text Only Masked LM : 1.8928\n",
      "  attr : 1.254192\n",
      "  feat : 0.08144393\n",
      "  obj : 3.286801\n",
      "\n"
     ]
    },
    {
     "name": "stderr",
     "output_type": "stream",
     "text": [
      " 31%|██████████████████████▏                                                 | 11501/37402 [1:19:08<3:04:34,  2.34it/s]"
     ]
    },
    {
     "name": "stdout",
     "output_type": "stream",
     "text": [
      "Folder: snap/vqa_test \n",
      " Epoch 4 Iter: 11500/37402\n",
      "  Masked Tags : 1.537962\n",
      "  Text Only Masked LM : 1.869895\n",
      "  attr : 1.230771\n",
      "  feat : 0.08107466\n",
      "  obj : 3.322863\n",
      "\n"
     ]
    },
    {
     "name": "stderr",
     "output_type": "stream",
     "text": [
      " 32%|███████████████████████                                                 | 12001/37402 [1:22:41<3:40:55,  1.92it/s]"
     ]
    },
    {
     "name": "stdout",
     "output_type": "stream",
     "text": [
      "Folder: snap/vqa_test \n",
      " Epoch 4 Iter: 12000/37402\n",
      "  Masked Tags : 1.573774\n",
      "  Text Only Masked LM : 1.964843\n",
      "  attr : 1.237689\n",
      "  feat : 0.08342685\n",
      "  obj : 3.270399\n",
      "\n"
     ]
    },
    {
     "name": "stderr",
     "output_type": "stream",
     "text": [
      " 33%|████████████████████████                                                | 12501/37402 [1:26:13<2:38:46,  2.61it/s]"
     ]
    },
    {
     "name": "stdout",
     "output_type": "stream",
     "text": [
      "Folder: snap/vqa_test \n",
      " Epoch 4 Iter: 12500/37402\n",
      "  Masked Tags : 1.559386\n",
      "  Text Only Masked LM : 1.924257\n",
      "  attr : 1.237812\n",
      "  feat : 0.08263887\n",
      "  obj : 3.274204\n",
      "\n"
     ]
    },
    {
     "name": "stderr",
     "output_type": "stream",
     "text": [
      " 35%|█████████████████████████                                               | 13001/37402 [1:29:41<2:57:55,  2.29it/s]"
     ]
    },
    {
     "name": "stdout",
     "output_type": "stream",
     "text": [
      "Folder: snap/vqa_test \n",
      " Epoch 4 Iter: 13000/37402\n",
      "  Masked Tags : 1.536513\n",
      "  Text Only Masked LM : 1.893183\n",
      "  attr : 1.232995\n",
      "  feat : 0.0814404\n",
      "  obj : 3.266307\n",
      "\n"
     ]
    },
    {
     "name": "stderr",
     "output_type": "stream",
     "text": [
      " 36%|█████████████████████████▉                                              | 13501/37402 [1:33:14<3:24:12,  1.95it/s]"
     ]
    },
    {
     "name": "stdout",
     "output_type": "stream",
     "text": [
      "Folder: snap/vqa_test \n",
      " Epoch 4 Iter: 13500/37402\n",
      "  Masked Tags : 1.58676\n",
      "  Text Only Masked LM : 1.891689\n",
      "  attr : 1.22904\n",
      "  feat : 0.08241434\n",
      "  obj : 3.261905\n",
      "\n"
     ]
    },
    {
     "name": "stderr",
     "output_type": "stream",
     "text": [
      " 37%|██████████████████████████▉                                             | 14001/37402 [1:36:47<2:56:41,  2.21it/s]"
     ]
    },
    {
     "name": "stdout",
     "output_type": "stream",
     "text": [
      "Folder: snap/vqa_test \n",
      " Epoch 4 Iter: 14000/37402\n",
      "  Masked Tags : 1.574933\n",
      "  Text Only Masked LM : 1.871018\n",
      "  attr : 1.239749\n",
      "  feat : 0.08203371\n",
      "  obj : 3.298826\n",
      "\n"
     ]
    },
    {
     "name": "stderr",
     "output_type": "stream",
     "text": [
      " 39%|███████████████████████████▉                                            | 14501/37402 [1:40:15<2:40:11,  2.38it/s]"
     ]
    },
    {
     "name": "stdout",
     "output_type": "stream",
     "text": [
      "Folder: snap/vqa_test \n",
      " Epoch 4 Iter: 14500/37402\n",
      "  Masked Tags : 1.541166\n",
      "  Text Only Masked LM : 1.893625\n",
      "  attr : 1.224696\n",
      "  feat : 0.0816077\n",
      "  obj : 3.267247\n",
      "\n"
     ]
    },
    {
     "name": "stderr",
     "output_type": "stream",
     "text": [
      " 40%|████████████████████████████▉                                           | 15001/37402 [1:43:33<2:31:00,  2.47it/s]"
     ]
    },
    {
     "name": "stdout",
     "output_type": "stream",
     "text": [
      "Folder: snap/vqa_test \n",
      " Epoch 4 Iter: 15000/37402\n",
      "  Masked Tags : 1.59636\n",
      "  Text Only Masked LM : 1.817883\n",
      "  attr : 1.227545\n",
      "  feat : 0.08180964\n",
      "  obj : 3.276189\n",
      "\n"
     ]
    },
    {
     "name": "stderr",
     "output_type": "stream",
     "text": [
      " 41%|█████████████████████████████▊                                          | 15501/37402 [1:47:08<3:11:20,  1.91it/s]"
     ]
    },
    {
     "name": "stdout",
     "output_type": "stream",
     "text": [
      "Folder: snap/vqa_test \n",
      " Epoch 4 Iter: 15500/37402\n",
      "  Masked Tags : 1.576605\n",
      "  Text Only Masked LM : 1.898769\n",
      "  attr : 1.235575\n",
      "  feat : 0.0808003\n",
      "  obj : 3.269821\n",
      "\n"
     ]
    },
    {
     "name": "stderr",
     "output_type": "stream",
     "text": [
      " 43%|██████████████████████████████▊                                         | 16001/37402 [1:50:28<1:44:40,  3.41it/s]"
     ]
    },
    {
     "name": "stdout",
     "output_type": "stream",
     "text": [
      "Folder: snap/vqa_test \n",
      " Epoch 4 Iter: 16000/37402\n",
      "  Masked Tags : 1.580586\n",
      "  Text Only Masked LM : 1.899975\n",
      "  attr : 1.229339\n",
      "  feat : 0.08269259\n",
      "  obj : 3.215938\n",
      "\n"
     ]
    },
    {
     "name": "stderr",
     "output_type": "stream",
     "text": [
      " 44%|███████████████████████████████▊                                        | 16501/37402 [1:53:55<2:53:52,  2.00it/s]"
     ]
    },
    {
     "name": "stdout",
     "output_type": "stream",
     "text": [
      "Folder: snap/vqa_test \n",
      " Epoch 4 Iter: 16500/37402\n",
      "  Masked Tags : 1.542927\n",
      "  Text Only Masked LM : 1.88698\n",
      "  attr : 1.241948\n",
      "  feat : 0.08090566\n",
      "  obj : 3.276788\n",
      "\n"
     ]
    },
    {
     "name": "stderr",
     "output_type": "stream",
     "text": [
      " 45%|████████████████████████████████▋                                       | 17001/37402 [1:57:25<3:06:32,  1.82it/s]"
     ]
    },
    {
     "name": "stdout",
     "output_type": "stream",
     "text": [
      "Folder: snap/vqa_test \n",
      " Epoch 4 Iter: 17000/37402\n",
      "  Masked Tags : 1.567284\n",
      "  Text Only Masked LM : 1.916448\n",
      "  attr : 1.22875\n",
      "  feat : 0.08212642\n",
      "  obj : 3.281136\n",
      "\n"
     ]
    },
    {
     "name": "stderr",
     "output_type": "stream",
     "text": [
      " 47%|█████████████████████████████████▋                                      | 17501/37402 [2:01:01<2:29:46,  2.21it/s]"
     ]
    },
    {
     "name": "stdout",
     "output_type": "stream",
     "text": [
      "Folder: snap/vqa_test \n",
      " Epoch 4 Iter: 17500/37402\n",
      "  Masked Tags : 1.54685\n",
      "  Text Only Masked LM : 1.937122\n",
      "  attr : 1.22229\n",
      "  feat : 0.08199537\n",
      "  obj : 3.259708\n",
      "\n"
     ]
    },
    {
     "name": "stderr",
     "output_type": "stream",
     "text": [
      " 48%|██████████████████████████████████▋                                     | 18001/37402 [2:04:33<2:28:32,  2.18it/s]"
     ]
    },
    {
     "name": "stdout",
     "output_type": "stream",
     "text": [
      "Folder: snap/vqa_test \n",
      " Epoch 4 Iter: 18000/37402\n",
      "  Masked Tags : 1.55043\n",
      "  Text Only Masked LM : 1.898856\n",
      "  attr : 1.237522\n",
      "  feat : 0.08100855\n",
      "  obj : 3.2815\n",
      "\n"
     ]
    },
    {
     "name": "stderr",
     "output_type": "stream",
     "text": [
      " 49%|███████████████████████████████████▌                                    | 18501/37402 [2:08:03<1:54:51,  2.74it/s]"
     ]
    },
    {
     "name": "stdout",
     "output_type": "stream",
     "text": [
      "Folder: snap/vqa_test \n",
      " Epoch 4 Iter: 18500/37402\n",
      "  Masked Tags : 1.547521\n",
      "  Text Only Masked LM : 1.933536\n",
      "  attr : 1.238578\n",
      "  feat : 0.08177517\n",
      "  obj : 3.296045\n",
      "\n"
     ]
    },
    {
     "name": "stderr",
     "output_type": "stream",
     "text": [
      " 51%|████████████████████████████████████▌                                   | 19001/37402 [2:11:37<1:43:53,  2.95it/s]"
     ]
    },
    {
     "name": "stdout",
     "output_type": "stream",
     "text": [
      "Folder: snap/vqa_test \n",
      " Epoch 4 Iter: 19000/37402\n",
      "  Masked Tags : 1.543038\n",
      "  Text Only Masked LM : 1.859971\n",
      "  attr : 1.230906\n",
      "  feat : 0.08195347\n",
      "  obj : 3.272505\n",
      "\n"
     ]
    },
    {
     "name": "stderr",
     "output_type": "stream",
     "text": [
      " 52%|█████████████████████████████████████▌                                  | 19501/37402 [2:15:09<1:20:57,  3.69it/s]"
     ]
    },
    {
     "name": "stdout",
     "output_type": "stream",
     "text": [
      "Folder: snap/vqa_test \n",
      " Epoch 4 Iter: 19500/37402\n",
      "  Masked Tags : 1.608062\n",
      "  Text Only Masked LM : 1.913341\n",
      "  attr : 1.218484\n",
      "  feat : 0.0811995\n",
      "  obj : 3.25345\n",
      "\n"
     ]
    },
    {
     "name": "stderr",
     "output_type": "stream",
     "text": [
      " 53%|██████████████████████████████████████▌                                 | 20001/37402 [2:18:37<1:43:36,  2.80it/s]"
     ]
    },
    {
     "name": "stdout",
     "output_type": "stream",
     "text": [
      "Folder: snap/vqa_test \n",
      " Epoch 4 Iter: 20000/37402\n",
      "  Masked Tags : 1.522175\n",
      "  Text Only Masked LM : 1.869069\n",
      "  attr : 1.223572\n",
      "  feat : 0.08123814\n",
      "  obj : 3.307191\n",
      "\n"
     ]
    },
    {
     "name": "stderr",
     "output_type": "stream",
     "text": [
      " 55%|███████████████████████████████████████▍                                | 20501/37402 [2:22:14<2:50:59,  1.65it/s]"
     ]
    },
    {
     "name": "stdout",
     "output_type": "stream",
     "text": [
      "Folder: snap/vqa_test \n",
      " Epoch 4 Iter: 20500/37402\n",
      "  Masked Tags : 1.545878\n",
      "  Text Only Masked LM : 1.924109\n",
      "  attr : 1.231469\n",
      "  feat : 0.08067113\n",
      "  obj : 3.278079\n",
      "\n"
     ]
    },
    {
     "name": "stderr",
     "output_type": "stream",
     "text": [
      " 56%|████████████████████████████████████████▍                               | 21001/37402 [2:25:47<2:05:50,  2.17it/s]"
     ]
    },
    {
     "name": "stdout",
     "output_type": "stream",
     "text": [
      "Folder: snap/vqa_test \n",
      " Epoch 4 Iter: 21000/37402\n",
      "  Masked Tags : 1.524663\n",
      "  Text Only Masked LM : 1.918766\n",
      "  attr : 1.236229\n",
      "  feat : 0.08148709\n",
      "  obj : 3.262186\n",
      "\n"
     ]
    },
    {
     "name": "stderr",
     "output_type": "stream",
     "text": [
      " 57%|█████████████████████████████████████████▍                              | 21501/37402 [2:29:18<1:27:03,  3.04it/s]"
     ]
    },
    {
     "name": "stdout",
     "output_type": "stream",
     "text": [
      "Folder: snap/vqa_test \n",
      " Epoch 4 Iter: 21500/37402\n",
      "  Masked Tags : 1.569118\n",
      "  Text Only Masked LM : 1.899322\n",
      "  attr : 1.244357\n",
      "  feat : 0.08160863\n",
      "  obj : 3.304124\n",
      "\n"
     ]
    },
    {
     "name": "stderr",
     "output_type": "stream",
     "text": [
      " 59%|██████████████████████████████████████████▎                             | 22001/37402 [2:32:50<1:45:36,  2.43it/s]"
     ]
    },
    {
     "name": "stdout",
     "output_type": "stream",
     "text": [
      "Folder: snap/vqa_test \n",
      " Epoch 4 Iter: 22000/37402\n",
      "  Masked Tags : 1.533997\n",
      "  Text Only Masked LM : 1.929133\n",
      "  attr : 1.232626\n",
      "  feat : 0.08087359\n",
      "  obj : 3.280779\n",
      "\n"
     ]
    },
    {
     "name": "stderr",
     "output_type": "stream",
     "text": [
      " 60%|███████████████████████████████████████████▎                            | 22502/37402 [2:36:33<1:37:57,  2.53it/s]"
     ]
    },
    {
     "name": "stdout",
     "output_type": "stream",
     "text": [
      "Folder: snap/vqa_test \n",
      " Epoch 4 Iter: 22500/37402\n",
      "  Masked Tags : 1.513628\n",
      "  Text Only Masked LM : 1.922646\n",
      "  attr : 1.244204\n",
      "  feat : 0.08188817\n",
      "  obj : 3.29076\n",
      "\n"
     ]
    },
    {
     "name": "stderr",
     "output_type": "stream",
     "text": [
      " 61%|████████████████████████████████████████████▎                           | 23001/37402 [2:39:55<2:19:24,  1.72it/s]"
     ]
    },
    {
     "name": "stdout",
     "output_type": "stream",
     "text": [
      "Folder: snap/vqa_test \n",
      " Epoch 4 Iter: 23000/37402\n",
      "  Masked Tags : 1.563577\n",
      "  Text Only Masked LM : 1.885109\n",
      "  attr : 1.225461\n",
      "  feat : 0.08269818\n",
      "  obj : 3.253615\n",
      "\n"
     ]
    },
    {
     "name": "stderr",
     "output_type": "stream",
     "text": [
      " 63%|█████████████████████████████████████████████▏                          | 23501/37402 [2:43:24<1:21:15,  2.85it/s]"
     ]
    },
    {
     "name": "stdout",
     "output_type": "stream",
     "text": [
      "Folder: snap/vqa_test \n",
      " Epoch 4 Iter: 23500/37402\n",
      "  Masked Tags : 1.541623\n",
      "  Text Only Masked LM : 1.957783\n",
      "  attr : 1.232934\n",
      "  feat : 0.08238308\n",
      "  obj : 3.259548\n",
      "\n"
     ]
    },
    {
     "name": "stderr",
     "output_type": "stream",
     "text": [
      " 64%|██████████████████████████████████████████████▏                         | 24001/37402 [2:47:02<1:43:18,  2.16it/s]"
     ]
    },
    {
     "name": "stdout",
     "output_type": "stream",
     "text": [
      "Folder: snap/vqa_test \n",
      " Epoch 4 Iter: 24000/37402\n",
      "  Masked Tags : 1.582573\n",
      "  Text Only Masked LM : 1.912667\n",
      "  attr : 1.255483\n",
      "  feat : 0.0824228\n",
      "  obj : 3.260036\n",
      "\n"
     ]
    },
    {
     "name": "stderr",
     "output_type": "stream",
     "text": [
      " 66%|███████████████████████████████████████████████▏                        | 24502/37402 [2:50:34<1:12:47,  2.95it/s]"
     ]
    },
    {
     "name": "stdout",
     "output_type": "stream",
     "text": [
      "Folder: snap/vqa_test \n",
      " Epoch 4 Iter: 24500/37402\n",
      "  Masked Tags : 1.523699\n",
      "  Text Only Masked LM : 1.876223\n",
      "  attr : 1.246783\n",
      "  feat : 0.08204324\n",
      "  obj : 3.300615\n",
      "\n"
     ]
    },
    {
     "name": "stderr",
     "output_type": "stream",
     "text": [
      " 67%|████████████████████████████████████████████████▏                       | 25001/37402 [2:54:04<1:37:40,  2.12it/s]"
     ]
    },
    {
     "name": "stdout",
     "output_type": "stream",
     "text": [
      "Folder: snap/vqa_test \n",
      " Epoch 4 Iter: 25000/37402\n",
      "  Masked Tags : 1.521433\n",
      "  Text Only Masked LM : 1.910296\n",
      "  attr : 1.240499\n",
      "  feat : 0.08248515\n",
      "  obj : 3.272086\n",
      "\n"
     ]
    },
    {
     "name": "stderr",
     "output_type": "stream",
     "text": [
      " 68%|█████████████████████████████████████████████████                       | 25501/37402 [2:57:40<1:32:51,  2.14it/s]"
     ]
    },
    {
     "name": "stdout",
     "output_type": "stream",
     "text": [
      "Folder: snap/vqa_test \n",
      " Epoch 4 Iter: 25500/37402\n",
      "  Masked Tags : 1.544715\n",
      "  Text Only Masked LM : 1.923991\n",
      "  attr : 1.248574\n",
      "  feat : 0.08247786\n",
      "  obj : 3.259663\n",
      "\n"
     ]
    },
    {
     "name": "stderr",
     "output_type": "stream",
     "text": [
      " 70%|██████████████████████████████████████████████████                      | 26001/37402 [3:01:19<1:24:33,  2.25it/s]"
     ]
    },
    {
     "name": "stdout",
     "output_type": "stream",
     "text": [
      "Folder: snap/vqa_test \n",
      " Epoch 4 Iter: 26000/37402\n",
      "  Masked Tags : 1.558152\n",
      "  Text Only Masked LM : 1.8986\n",
      "  attr : 1.232641\n",
      "  feat : 0.0827345\n",
      "  obj : 3.272043\n",
      "\n"
     ]
    },
    {
     "name": "stderr",
     "output_type": "stream",
     "text": [
      " 71%|███████████████████████████████████████████████████                     | 26501/37402 [3:04:56<1:19:51,  2.28it/s]"
     ]
    },
    {
     "name": "stdout",
     "output_type": "stream",
     "text": [
      "Folder: snap/vqa_test \n",
      " Epoch 4 Iter: 26500/37402\n",
      "  Masked Tags : 1.524331\n",
      "  Text Only Masked LM : 1.910309\n",
      "  attr : 1.248052\n",
      "  feat : 0.08187829\n",
      "  obj : 3.278385\n",
      "\n"
     ]
    },
    {
     "name": "stderr",
     "output_type": "stream",
     "text": [
      " 72%|█████████████████████████████████████████████████████▍                    | 27001/37402 [3:08:32<53:27,  3.24it/s]"
     ]
    },
    {
     "name": "stdout",
     "output_type": "stream",
     "text": [
      "Folder: snap/vqa_test \n",
      " Epoch 4 Iter: 27000/37402\n",
      "  Masked Tags : 1.546745\n",
      "  Text Only Masked LM : 1.923314\n",
      "  attr : 1.247487\n",
      "  feat : 0.08475544\n",
      "  obj : 3.285325\n",
      "\n"
     ]
    },
    {
     "name": "stderr",
     "output_type": "stream",
     "text": [
      " 74%|████████████████████████████████████████████████████▉                   | 27501/37402 [3:12:02<1:28:31,  1.86it/s]"
     ]
    },
    {
     "name": "stdout",
     "output_type": "stream",
     "text": [
      "Folder: snap/vqa_test \n",
      " Epoch 4 Iter: 27500/37402\n",
      "  Masked Tags : 1.524227\n",
      "  Text Only Masked LM : 1.928915\n",
      "  attr : 1.257187\n",
      "  feat : 0.08221045\n",
      "  obj : 3.310918\n",
      "\n"
     ]
    },
    {
     "name": "stderr",
     "output_type": "stream",
     "text": [
      " 75%|█████████████████████████████████████████████████████▉                  | 28001/37402 [3:15:37<1:07:09,  2.33it/s]"
     ]
    },
    {
     "name": "stdout",
     "output_type": "stream",
     "text": [
      "Folder: snap/vqa_test \n",
      " Epoch 4 Iter: 28000/37402\n",
      "  Masked Tags : 1.519085\n",
      "  Text Only Masked LM : 1.950173\n",
      "  attr : 1.236575\n",
      "  feat : 0.08373888\n",
      "  obj : 3.244702\n",
      "\n"
     ]
    },
    {
     "name": "stderr",
     "output_type": "stream",
     "text": [
      " 76%|██████████████████████████████████████████████████████▊                 | 28501/37402 [3:19:12<1:03:24,  2.34it/s]"
     ]
    },
    {
     "name": "stdout",
     "output_type": "stream",
     "text": [
      "Folder: snap/vqa_test \n",
      " Epoch 4 Iter: 28500/37402\n",
      "  Masked Tags : 1.551748\n",
      "  Text Only Masked LM : 1.945219\n",
      "  attr : 1.250682\n",
      "  feat : 0.08145481\n",
      "  obj : 3.274786\n",
      "\n"
     ]
    },
    {
     "name": "stderr",
     "output_type": "stream",
     "text": [
      " 78%|█████████████████████████████████████████████████████████▍                | 29001/37402 [3:22:40<43:45,  3.20it/s]"
     ]
    },
    {
     "name": "stdout",
     "output_type": "stream",
     "text": [
      "Folder: snap/vqa_test \n",
      " Epoch 4 Iter: 29000/37402\n",
      "  Masked Tags : 1.526165\n",
      "  Text Only Masked LM : 1.914436\n",
      "  attr : 1.269524\n",
      "  feat : 0.0821975\n",
      "  obj : 3.290763\n",
      "\n"
     ]
    },
    {
     "name": "stderr",
     "output_type": "stream",
     "text": [
      " 79%|██████████████████████████████████████████████████████████▎               | 29501/37402 [3:26:09<47:09,  2.79it/s]"
     ]
    },
    {
     "name": "stdout",
     "output_type": "stream",
     "text": [
      "Folder: snap/vqa_test \n",
      " Epoch 4 Iter: 29500/37402\n",
      "  Masked Tags : 1.553374\n",
      "  Text Only Masked LM : 1.884421\n",
      "  attr : 1.236538\n",
      "  feat : 0.08339704\n",
      "  obj : 3.291379\n",
      "\n"
     ]
    },
    {
     "name": "stderr",
     "output_type": "stream",
     "text": [
      " 80%|███████████████████████████████████████████████████████████▎              | 30001/37402 [3:29:35<50:13,  2.46it/s]"
     ]
    },
    {
     "name": "stdout",
     "output_type": "stream",
     "text": [
      "Folder: snap/vqa_test \n",
      " Epoch 4 Iter: 30000/37402\n",
      "  Masked Tags : 1.570717\n",
      "  Text Only Masked LM : 1.893959\n",
      "  attr : 1.244289\n",
      "  feat : 0.08233868\n",
      "  obj : 3.263672\n",
      "\n"
     ]
    },
    {
     "name": "stderr",
     "output_type": "stream",
     "text": [
      " 82%|████████████████████████████████████████████████████████████▎             | 30501/37402 [3:33:09<44:07,  2.61it/s]"
     ]
    },
    {
     "name": "stdout",
     "output_type": "stream",
     "text": [
      "Folder: snap/vqa_test \n",
      " Epoch 4 Iter: 30500/37402\n",
      "  Masked Tags : 1.562527\n",
      "  Text Only Masked LM : 1.972298\n",
      "  attr : 1.229409\n",
      "  feat : 0.08358327\n",
      "  obj : 3.268632\n",
      "\n"
     ]
    },
    {
     "name": "stderr",
     "output_type": "stream",
     "text": [
      " 83%|█████████████████████████████████████████████████████████████▎            | 31001/37402 [3:36:39<39:17,  2.72it/s]"
     ]
    },
    {
     "name": "stdout",
     "output_type": "stream",
     "text": [
      "Folder: snap/vqa_test \n",
      " Epoch 4 Iter: 31000/37402\n",
      "  Masked Tags : 1.561734\n",
      "  Text Only Masked LM : 1.925691\n",
      "  attr : 1.253983\n",
      "  feat : 0.08167824\n",
      "  obj : 3.27355\n",
      "\n"
     ]
    },
    {
     "name": "stderr",
     "output_type": "stream",
     "text": [
      " 84%|██████████████████████████████████████████████████████████████▎           | 31501/37402 [3:40:13<48:56,  2.01it/s]"
     ]
    },
    {
     "name": "stdout",
     "output_type": "stream",
     "text": [
      "Folder: snap/vqa_test \n",
      " Epoch 4 Iter: 31500/37402\n",
      "  Masked Tags : 1.558671\n",
      "  Text Only Masked LM : 1.879041\n",
      "  attr : 1.225591\n",
      "  feat : 0.08427502\n",
      "  obj : 3.267001\n",
      "\n"
     ]
    },
    {
     "name": "stderr",
     "output_type": "stream",
     "text": [
      " 86%|███████████████████████████████████████████████████████████████▎          | 32001/37402 [3:43:40<37:07,  2.42it/s]"
     ]
    },
    {
     "name": "stdout",
     "output_type": "stream",
     "text": [
      "Folder: snap/vqa_test \n",
      " Epoch 4 Iter: 32000/37402\n",
      "  Masked Tags : 1.533539\n",
      "  Text Only Masked LM : 1.899539\n",
      "  attr : 1.238799\n",
      "  feat : 0.08138418\n",
      "  obj : 3.280907\n",
      "\n"
     ]
    },
    {
     "name": "stderr",
     "output_type": "stream",
     "text": [
      " 87%|████████████████████████████████████████████████████████████████▎         | 32501/37402 [3:47:07<32:00,  2.55it/s]"
     ]
    },
    {
     "name": "stdout",
     "output_type": "stream",
     "text": [
      "Folder: snap/vqa_test \n",
      " Epoch 4 Iter: 32500/37402\n",
      "  Masked Tags : 1.543238\n",
      "  Text Only Masked LM : 1.9128\n",
      "  attr : 1.223578\n",
      "  feat : 0.08342512\n",
      "  obj : 3.300255\n",
      "\n"
     ]
    },
    {
     "name": "stderr",
     "output_type": "stream",
     "text": [
      " 88%|█████████████████████████████████████████████████████████████████▎        | 33001/37402 [3:50:43<33:55,  2.16it/s]"
     ]
    },
    {
     "name": "stdout",
     "output_type": "stream",
     "text": [
      "Folder: snap/vqa_test \n",
      " Epoch 4 Iter: 33000/37402\n",
      "  Masked Tags : 1.54825\n",
      "  Text Only Masked LM : 1.90789\n",
      "  attr : 1.235811\n",
      "  feat : 0.08357894\n",
      "  obj : 3.303199\n",
      "\n"
     ]
    },
    {
     "name": "stderr",
     "output_type": "stream",
     "text": [
      " 90%|██████████████████████████████████████████████████████████████████▎       | 33501/37402 [3:54:10<22:09,  2.93it/s]"
     ]
    },
    {
     "name": "stdout",
     "output_type": "stream",
     "text": [
      "Folder: snap/vqa_test \n",
      " Epoch 4 Iter: 33500/37402\n",
      "  Masked Tags : 1.506383\n",
      "  Text Only Masked LM : 1.888232\n",
      "  attr : 1.255907\n",
      "  feat : 0.08161474\n",
      "  obj : 3.285253\n",
      "\n"
     ]
    },
    {
     "name": "stderr",
     "output_type": "stream",
     "text": [
      " 91%|███████████████████████████████████████████████████████████████████▎      | 34001/37402 [3:57:40<22:32,  2.51it/s]"
     ]
    },
    {
     "name": "stdout",
     "output_type": "stream",
     "text": [
      "Folder: snap/vqa_test \n",
      " Epoch 4 Iter: 34000/37402\n",
      "  Masked Tags : 1.52386\n",
      "  Text Only Masked LM : 1.967082\n",
      "  attr : 1.242985\n",
      "  feat : 0.08219753\n",
      "  obj : 3.266912\n",
      "\n"
     ]
    },
    {
     "name": "stderr",
     "output_type": "stream",
     "text": [
      " 92%|████████████████████████████████████████████████████████████████████▎     | 34501/37402 [4:01:11<20:37,  2.34it/s]"
     ]
    },
    {
     "name": "stdout",
     "output_type": "stream",
     "text": [
      "Folder: snap/vqa_test \n",
      " Epoch 4 Iter: 34500/37402\n",
      "  Masked Tags : 1.536967\n",
      "  Text Only Masked LM : 1.960589\n",
      "  attr : 1.222204\n",
      "  feat : 0.08160377\n",
      "  obj : 3.250395\n",
      "\n"
     ]
    },
    {
     "name": "stderr",
     "output_type": "stream",
     "text": [
      " 94%|█████████████████████████████████████████████████████████████████████▏    | 35001/37402 [4:04:37<16:57,  2.36it/s]"
     ]
    },
    {
     "name": "stdout",
     "output_type": "stream",
     "text": [
      "Folder: snap/vqa_test \n",
      " Epoch 4 Iter: 35000/37402\n",
      "  Masked Tags : 1.53021\n",
      "  Text Only Masked LM : 1.892638\n",
      "  attr : 1.230498\n",
      "  feat : 0.08131805\n",
      "  obj : 3.251261\n",
      "\n"
     ]
    },
    {
     "name": "stderr",
     "output_type": "stream",
     "text": [
      " 95%|██████████████████████████████████████████████████████████████████████▏   | 35501/37402 [4:08:12<11:36,  2.73it/s]"
     ]
    },
    {
     "name": "stdout",
     "output_type": "stream",
     "text": [
      "Folder: snap/vqa_test \n",
      " Epoch 4 Iter: 35500/37402\n",
      "  Masked Tags : 1.526137\n",
      "  Text Only Masked LM : 1.918843\n",
      "  attr : 1.230549\n",
      "  feat : 0.08368338\n",
      "  obj : 3.281234\n",
      "\n"
     ]
    },
    {
     "name": "stderr",
     "output_type": "stream",
     "text": [
      " 96%|███████████████████████████████████████████████████████████████████████▏  | 36001/37402 [4:11:43<11:56,  1.95it/s]"
     ]
    },
    {
     "name": "stdout",
     "output_type": "stream",
     "text": [
      "Folder: snap/vqa_test \n",
      " Epoch 4 Iter: 36000/37402\n",
      "  Masked Tags : 1.490993\n",
      "  Text Only Masked LM : 1.892258\n",
      "  attr : 1.245962\n",
      "  feat : 0.08256042\n",
      "  obj : 3.298244\n",
      "\n"
     ]
    },
    {
     "name": "stderr",
     "output_type": "stream",
     "text": [
      " 98%|████████████████████████████████████████████████████████████████████████▏ | 36501/37402 [4:15:14<05:08,  2.92it/s]"
     ]
    },
    {
     "name": "stdout",
     "output_type": "stream",
     "text": [
      "Folder: snap/vqa_test \n",
      " Epoch 4 Iter: 36500/37402\n",
      "  Masked Tags : 1.521917\n",
      "  Text Only Masked LM : 1.865713\n",
      "  attr : 1.251194\n",
      "  feat : 0.08285913\n",
      "  obj : 3.294424\n",
      "\n"
     ]
    },
    {
     "name": "stderr",
     "output_type": "stream",
     "text": [
      " 99%|█████████████████████████████████████████████████████████████████████████▏| 37001/37402 [4:18:50<02:20,  2.85it/s]"
     ]
    },
    {
     "name": "stdout",
     "output_type": "stream",
     "text": [
      "Folder: snap/vqa_test \n",
      " Epoch 4 Iter: 37000/37402\n",
      "  Masked Tags : 1.52699\n",
      "  Text Only Masked LM : 1.876955\n",
      "  attr : 1.253213\n",
      "  feat : 0.08259238\n",
      "  obj : 3.263066\n",
      "\n"
     ]
    },
    {
     "name": "stderr",
     "output_type": "stream",
     "text": [
      "100%|██████████████████████████████████████████████████████████████████████████| 37402/37402 [4:21:09<00:00,  2.39it/s]\n"
     ]
    },
    {
     "name": "stdout",
     "output_type": "stream",
     "text": [
      "The training loss for Epoch 4 is 1.8816\n"
     ]
    },
    {
     "name": "stderr",
     "output_type": "stream",
     "text": [
      "100%|████████████████████████████████████████████████████████████████████████████████| 782/782 [08:17<00:00,  1.57it/s]\n"
     ]
    },
    {
     "name": "stdout",
     "output_type": "stream",
     "text": [
      "Evaluation:\n",
      "  Masked LM : 2.387714\n",
      "  Masked Tags : 1.684777\n",
      "  attr : 1.296692\n",
      "  feat : 0.08294787\n",
      "  obj : 3.239344\n",
      "\n",
      "\n",
      "\n",
      "\n",
      "\n",
      "\n",
      "\n",
      "\n",
      "\n"
     ]
    },
    {
     "name": "stderr",
     "output_type": "stream",
     "text": [
      "  1%|█                                                                           | 502/37402 [03:19<3:58:54,  2.57it/s]"
     ]
    },
    {
     "name": "stdout",
     "output_type": "stream",
     "text": [
      "Folder: snap/vqa_test \n",
      " Epoch 5 Iter: 500/37402\n",
      "  Masked Tags : 1.507715\n",
      "  Text Only Masked LM : 1.703968\n",
      "  attr : 1.258531\n",
      "  feat : 0.08214215\n",
      "  obj : 3.292578\n",
      "\n"
     ]
    },
    {
     "name": "stderr",
     "output_type": "stream",
     "text": [
      "  3%|██                                                                         | 1001/37402 [06:48<5:09:09,  1.96it/s]"
     ]
    },
    {
     "name": "stdout",
     "output_type": "stream",
     "text": [
      "Folder: snap/vqa_test \n",
      " Epoch 5 Iter: 1000/37402\n",
      "  Masked Tags : 1.521578\n",
      "  Text Only Masked LM : 1.896611\n",
      "  attr : 1.241659\n",
      "  feat : 0.08331529\n",
      "  obj : 3.271781\n",
      "\n"
     ]
    },
    {
     "name": "stderr",
     "output_type": "stream",
     "text": [
      "  4%|███                                                                        | 1501/37402 [10:24<5:06:08,  1.95it/s]"
     ]
    },
    {
     "name": "stdout",
     "output_type": "stream",
     "text": [
      "Folder: snap/vqa_test \n",
      " Epoch 5 Iter: 1500/37402\n",
      "  Masked Tags : 1.498489\n",
      "  Text Only Masked LM : 1.858733\n",
      "  attr : 1.25774\n",
      "  feat : 0.08115068\n",
      "  obj : 3.304446\n",
      "\n"
     ]
    },
    {
     "name": "stderr",
     "output_type": "stream",
     "text": [
      "  5%|████                                                                       | 2001/37402 [13:48<3:59:43,  2.46it/s]"
     ]
    },
    {
     "name": "stdout",
     "output_type": "stream",
     "text": [
      "Folder: snap/vqa_test \n",
      " Epoch 5 Iter: 2000/37402\n",
      "  Masked Tags : 1.511857\n",
      "  Text Only Masked LM : 1.884103\n",
      "  attr : 1.255105\n",
      "  feat : 0.08352821\n",
      "  obj : 3.292192\n",
      "\n"
     ]
    },
    {
     "name": "stderr",
     "output_type": "stream",
     "text": [
      "  7%|█████                                                                      | 2501/37402 [17:10<3:52:26,  2.50it/s]"
     ]
    },
    {
     "name": "stdout",
     "output_type": "stream",
     "text": [
      "Folder: snap/vqa_test \n",
      " Epoch 5 Iter: 2500/37402\n",
      "  Masked Tags : 1.509567\n",
      "  Text Only Masked LM : 1.848164\n",
      "  attr : 1.254347\n",
      "  feat : 0.08264197\n",
      "  obj : 3.280977\n",
      "\n"
     ]
    },
    {
     "name": "stderr",
     "output_type": "stream",
     "text": [
      "  8%|██████                                                                     | 3001/37402 [20:35<3:57:15,  2.42it/s]"
     ]
    },
    {
     "name": "stdout",
     "output_type": "stream",
     "text": [
      "Folder: snap/vqa_test \n",
      " Epoch 5 Iter: 3000/37402\n",
      "  Masked Tags : 1.50584\n",
      "  Text Only Masked LM : 1.873135\n",
      "  attr : 1.252327\n",
      "  feat : 0.08245487\n",
      "  obj : 3.291522\n",
      "\n"
     ]
    },
    {
     "name": "stderr",
     "output_type": "stream",
     "text": [
      "  9%|███████                                                                    | 3501/37402 [23:58<3:24:24,  2.76it/s]"
     ]
    },
    {
     "name": "stdout",
     "output_type": "stream",
     "text": [
      "Folder: snap/vqa_test \n",
      " Epoch 5 Iter: 3500/37402\n",
      "  Masked Tags : 1.463635\n",
      "  Text Only Masked LM : 1.875569\n",
      "  attr : 1.247109\n",
      "  feat : 0.08217165\n",
      "  obj : 3.298759\n",
      "\n"
     ]
    },
    {
     "name": "stderr",
     "output_type": "stream",
     "text": [
      " 11%|████████                                                                   | 4001/37402 [27:18<4:39:58,  1.99it/s]"
     ]
    },
    {
     "name": "stdout",
     "output_type": "stream",
     "text": [
      "Folder: snap/vqa_test \n",
      " Epoch 5 Iter: 4000/37402\n",
      "  Masked Tags : 1.506297\n",
      "  Text Only Masked LM : 1.855664\n",
      "  attr : 1.250941\n",
      "  feat : 0.08275103\n",
      "  obj : 3.281885\n",
      "\n"
     ]
    },
    {
     "name": "stderr",
     "output_type": "stream",
     "text": [
      " 12%|█████████                                                                  | 4501/37402 [30:49<3:32:27,  2.58it/s]"
     ]
    },
    {
     "name": "stdout",
     "output_type": "stream",
     "text": [
      "Folder: snap/vqa_test \n",
      " Epoch 5 Iter: 4500/37402\n",
      "  Masked Tags : 1.51117\n",
      "  Text Only Masked LM : 1.889876\n",
      "  attr : 1.23835\n",
      "  feat : 0.08347144\n",
      "  obj : 3.2949\n",
      "\n"
     ]
    },
    {
     "name": "stderr",
     "output_type": "stream",
     "text": [
      " 13%|██████████                                                                 | 5001/37402 [34:11<4:43:08,  1.91it/s]"
     ]
    },
    {
     "name": "stdout",
     "output_type": "stream",
     "text": [
      "Folder: snap/vqa_test \n",
      " Epoch 5 Iter: 5000/37402\n",
      "  Masked Tags : 1.511217\n",
      "  Text Only Masked LM : 1.884401\n",
      "  attr : 1.23234\n",
      "  feat : 0.0815673\n",
      "  obj : 3.262562\n",
      "\n"
     ]
    },
    {
     "name": "stderr",
     "output_type": "stream",
     "text": [
      " 15%|███████████                                                                | 5501/37402 [37:36<3:11:40,  2.77it/s]"
     ]
    },
    {
     "name": "stdout",
     "output_type": "stream",
     "text": [
      "Folder: snap/vqa_test \n",
      " Epoch 5 Iter: 5500/37402\n",
      "  Masked Tags : 1.496742\n",
      "  Text Only Masked LM : 1.887246\n",
      "  attr : 1.23642\n",
      "  feat : 0.08288802\n",
      "  obj : 3.258311\n",
      "\n"
     ]
    },
    {
     "name": "stderr",
     "output_type": "stream",
     "text": [
      " 16%|████████████                                                               | 6001/37402 [40:57<2:50:19,  3.07it/s]"
     ]
    },
    {
     "name": "stdout",
     "output_type": "stream",
     "text": [
      "Folder: snap/vqa_test \n",
      " Epoch 5 Iter: 6000/37402\n",
      "  Masked Tags : 1.502571\n",
      "  Text Only Masked LM : 1.844118\n",
      "  attr : 1.231861\n",
      "  feat : 0.08227742\n",
      "  obj : 3.311484\n",
      "\n"
     ]
    },
    {
     "name": "stderr",
     "output_type": "stream",
     "text": [
      " 17%|█████████████                                                              | 6501/37402 [44:20<3:09:16,  2.72it/s]"
     ]
    },
    {
     "name": "stdout",
     "output_type": "stream",
     "text": [
      "Folder: snap/vqa_test \n",
      " Epoch 5 Iter: 6500/37402\n",
      "  Masked Tags : 1.507148\n",
      "  Text Only Masked LM : 1.862843\n",
      "  attr : 1.226609\n",
      "  feat : 0.07992019\n",
      "  obj : 3.280641\n",
      "\n"
     ]
    },
    {
     "name": "stderr",
     "output_type": "stream",
     "text": [
      " 19%|██████████████                                                             | 7001/37402 [47:51<4:35:46,  1.84it/s]"
     ]
    },
    {
     "name": "stdout",
     "output_type": "stream",
     "text": [
      "Folder: snap/vqa_test \n",
      " Epoch 5 Iter: 7000/37402\n",
      "  Masked Tags : 1.516301\n",
      "  Text Only Masked LM : 1.883486\n",
      "  attr : 1.256546\n",
      "  feat : 0.08539795\n",
      "  obj : 3.265093\n",
      "\n"
     ]
    },
    {
     "name": "stderr",
     "output_type": "stream",
     "text": [
      " 20%|███████████████                                                            | 7501/37402 [51:18<3:52:08,  2.15it/s]"
     ]
    },
    {
     "name": "stdout",
     "output_type": "stream",
     "text": [
      "Folder: snap/vqa_test \n",
      " Epoch 5 Iter: 7500/37402\n",
      "  Masked Tags : 1.492381\n",
      "  Text Only Masked LM : 1.823564\n",
      "  attr : 1.259458\n",
      "  feat : 0.0830637\n",
      "  obj : 3.274517\n",
      "\n"
     ]
    },
    {
     "name": "stderr",
     "output_type": "stream",
     "text": [
      " 21%|████████████████                                                           | 8001/37402 [54:40<2:53:33,  2.82it/s]"
     ]
    },
    {
     "name": "stdout",
     "output_type": "stream",
     "text": [
      "Folder: snap/vqa_test \n",
      " Epoch 5 Iter: 8000/37402\n",
      "  Masked Tags : 1.536751\n",
      "  Text Only Masked LM : 1.874091\n",
      "  attr : 1.235891\n",
      "  feat : 0.08243916\n",
      "  obj : 3.265491\n",
      "\n"
     ]
    },
    {
     "name": "stderr",
     "output_type": "stream",
     "text": [
      " 23%|█████████████████                                                          | 8501/37402 [58:02<2:41:31,  2.98it/s]"
     ]
    },
    {
     "name": "stdout",
     "output_type": "stream",
     "text": [
      "Folder: snap/vqa_test \n",
      " Epoch 5 Iter: 8500/37402\n",
      "  Masked Tags : 1.476312\n",
      "  Text Only Masked LM : 1.880637\n",
      "  attr : 1.235922\n",
      "  feat : 0.08200374\n",
      "  obj : 3.281637\n",
      "\n"
     ]
    },
    {
     "name": "stderr",
     "output_type": "stream",
     "text": [
      " 24%|█████████████████▌                                                       | 9001/37402 [1:01:30<2:36:30,  3.02it/s]"
     ]
    },
    {
     "name": "stdout",
     "output_type": "stream",
     "text": [
      "Folder: snap/vqa_test \n",
      " Epoch 5 Iter: 9000/37402\n",
      "  Masked Tags : 1.482766\n",
      "  Text Only Masked LM : 1.902372\n",
      "  attr : 1.236492\n",
      "  feat : 0.0822774\n",
      "  obj : 3.261914\n",
      "\n"
     ]
    },
    {
     "name": "stderr",
     "output_type": "stream",
     "text": [
      " 25%|██████████████████▌                                                      | 9501/37402 [1:04:56<2:49:40,  2.74it/s]"
     ]
    },
    {
     "name": "stdout",
     "output_type": "stream",
     "text": [
      "Folder: snap/vqa_test \n",
      " Epoch 5 Iter: 9500/37402\n",
      "  Masked Tags : 1.515819\n",
      "  Text Only Masked LM : 1.840628\n",
      "  attr : 1.226215\n",
      "  feat : 0.0838385\n",
      "  obj : 3.332001\n",
      "\n"
     ]
    },
    {
     "name": "stderr",
     "output_type": "stream",
     "text": [
      " 27%|███████████████████▎                                                    | 10001/37402 [1:08:24<3:29:28,  2.18it/s]"
     ]
    },
    {
     "name": "stdout",
     "output_type": "stream",
     "text": [
      "Folder: snap/vqa_test \n",
      " Epoch 5 Iter: 10000/37402\n",
      "  Masked Tags : 1.506216\n",
      "  Text Only Masked LM : 1.831872\n",
      "  attr : 1.242655\n",
      "  feat : 0.08249923\n",
      "  obj : 3.288301\n",
      "\n"
     ]
    },
    {
     "name": "stderr",
     "output_type": "stream",
     "text": [
      " 28%|████████████████████▏                                                   | 10501/37402 [1:11:48<2:33:34,  2.92it/s]"
     ]
    },
    {
     "name": "stdout",
     "output_type": "stream",
     "text": [
      "Folder: snap/vqa_test \n",
      " Epoch 5 Iter: 10500/37402\n",
      "  Masked Tags : 1.48728\n",
      "  Text Only Masked LM : 1.876918\n",
      "  attr : 1.246884\n",
      "  feat : 0.08112953\n",
      "  obj : 3.277777\n",
      "\n"
     ]
    },
    {
     "name": "stderr",
     "output_type": "stream",
     "text": [
      " 29%|█████████████████████▏                                                  | 11001/37402 [1:15:18<2:38:49,  2.77it/s]"
     ]
    },
    {
     "name": "stdout",
     "output_type": "stream",
     "text": [
      "Folder: snap/vqa_test \n",
      " Epoch 5 Iter: 11000/37402\n",
      "  Masked Tags : 1.45875\n",
      "  Text Only Masked LM : 1.890006\n",
      "  attr : 1.233863\n",
      "  feat : 0.08093815\n",
      "  obj : 3.265306\n",
      "\n"
     ]
    },
    {
     "name": "stderr",
     "output_type": "stream",
     "text": [
      " 31%|██████████████████████▏                                                 | 11502/37402 [1:18:52<2:26:27,  2.95it/s]"
     ]
    },
    {
     "name": "stdout",
     "output_type": "stream",
     "text": [
      "Folder: snap/vqa_test \n",
      " Epoch 5 Iter: 11500/37402\n",
      "  Masked Tags : 1.484267\n",
      "  Text Only Masked LM : 1.829455\n",
      "  attr : 1.248248\n",
      "  feat : 0.08369252\n",
      "  obj : 3.272044\n",
      "\n"
     ]
    },
    {
     "name": "stderr",
     "output_type": "stream",
     "text": [
      " 32%|███████████████████████                                                 | 12001/37402 [1:22:20<2:23:57,  2.94it/s]"
     ]
    },
    {
     "name": "stdout",
     "output_type": "stream",
     "text": [
      "Folder: snap/vqa_test \n",
      " Epoch 5 Iter: 12000/37402\n",
      "  Masked Tags : 1.459782\n",
      "  Text Only Masked LM : 1.819895\n",
      "  attr : 1.217275\n",
      "  feat : 0.08015605\n",
      "  obj : 3.291537\n",
      "\n"
     ]
    },
    {
     "name": "stderr",
     "output_type": "stream",
     "text": [
      " 33%|████████████████████████                                                | 12501/37402 [1:25:42<2:57:51,  2.33it/s]"
     ]
    },
    {
     "name": "stdout",
     "output_type": "stream",
     "text": [
      "Folder: snap/vqa_test \n",
      " Epoch 5 Iter: 12500/37402\n",
      "  Masked Tags : 1.550392\n",
      "  Text Only Masked LM : 1.826174\n",
      "  attr : 1.242681\n",
      "  feat : 0.08206297\n",
      "  obj : 3.274826\n",
      "\n"
     ]
    },
    {
     "name": "stderr",
     "output_type": "stream",
     "text": [
      " 35%|█████████████████████████                                               | 13001/37402 [1:29:12<2:06:58,  3.20it/s]"
     ]
    },
    {
     "name": "stdout",
     "output_type": "stream",
     "text": [
      "Folder: snap/vqa_test \n",
      " Epoch 5 Iter: 13000/37402\n",
      "  Masked Tags : 1.447282\n",
      "  Text Only Masked LM : 1.827291\n",
      "  attr : 1.249118\n",
      "  feat : 0.08158908\n",
      "  obj : 3.298413\n",
      "\n"
     ]
    },
    {
     "name": "stderr",
     "output_type": "stream",
     "text": [
      " 36%|█████████████████████████▉                                              | 13501/37402 [1:32:49<3:39:20,  1.82it/s]"
     ]
    },
    {
     "name": "stdout",
     "output_type": "stream",
     "text": [
      "Folder: snap/vqa_test \n",
      " Epoch 5 Iter: 13500/37402\n",
      "  Masked Tags : 1.53133\n",
      "  Text Only Masked LM : 1.886915\n",
      "  attr : 1.236759\n",
      "  feat : 0.08226651\n",
      "  obj : 3.24126\n",
      "\n"
     ]
    },
    {
     "name": "stderr",
     "output_type": "stream",
     "text": [
      " 37%|██████████████████████████▉                                             | 14001/37402 [1:36:26<2:48:41,  2.31it/s]"
     ]
    },
    {
     "name": "stdout",
     "output_type": "stream",
     "text": [
      "Folder: snap/vqa_test \n",
      " Epoch 5 Iter: 14000/37402\n",
      "  Masked Tags : 1.482892\n",
      "  Text Only Masked LM : 1.88611\n",
      "  attr : 1.240391\n",
      "  feat : 0.08257133\n",
      "  obj : 3.288288\n",
      "\n"
     ]
    },
    {
     "name": "stderr",
     "output_type": "stream",
     "text": [
      " 39%|███████████████████████████▉                                            | 14501/37402 [1:40:01<3:39:42,  1.74it/s]"
     ]
    },
    {
     "name": "stdout",
     "output_type": "stream",
     "text": [
      "Folder: snap/vqa_test \n",
      " Epoch 5 Iter: 14500/37402\n",
      "  Masked Tags : 1.483224\n",
      "  Text Only Masked LM : 1.906601\n",
      "  attr : 1.231651\n",
      "  feat : 0.08287261\n",
      "  obj : 3.286277\n",
      "\n"
     ]
    },
    {
     "name": "stderr",
     "output_type": "stream",
     "text": [
      " 40%|████████████████████████████▉                                           | 15001/37402 [1:43:27<2:19:55,  2.67it/s]"
     ]
    },
    {
     "name": "stdout",
     "output_type": "stream",
     "text": [
      "Folder: snap/vqa_test \n",
      " Epoch 5 Iter: 15000/37402\n",
      "  Masked Tags : 1.512168\n",
      "  Text Only Masked LM : 1.839592\n",
      "  attr : 1.223382\n",
      "  feat : 0.08393222\n",
      "  obj : 3.268912\n",
      "\n"
     ]
    },
    {
     "name": "stderr",
     "output_type": "stream",
     "text": [
      " 41%|█████████████████████████████▊                                          | 15501/37402 [1:46:54<2:59:12,  2.04it/s]"
     ]
    },
    {
     "name": "stdout",
     "output_type": "stream",
     "text": [
      "Folder: snap/vqa_test \n",
      " Epoch 5 Iter: 15500/37402\n",
      "  Masked Tags : 1.49447\n",
      "  Text Only Masked LM : 1.873877\n",
      "  attr : 1.233526\n",
      "  feat : 0.08290407\n",
      "  obj : 3.265966\n",
      "\n"
     ]
    },
    {
     "name": "stderr",
     "output_type": "stream",
     "text": [
      " 43%|██████████████████████████████▊                                         | 16001/37402 [1:50:27<2:24:17,  2.47it/s]"
     ]
    },
    {
     "name": "stdout",
     "output_type": "stream",
     "text": [
      "Folder: snap/vqa_test \n",
      " Epoch 5 Iter: 16000/37402\n",
      "  Masked Tags : 1.454954\n",
      "  Text Only Masked LM : 1.930521\n",
      "  attr : 1.219913\n",
      "  feat : 0.08083084\n",
      "  obj : 3.295679\n",
      "\n"
     ]
    },
    {
     "name": "stderr",
     "output_type": "stream",
     "text": [
      " 44%|███████████████████████████████▊                                        | 16501/37402 [1:53:54<2:23:46,  2.42it/s]"
     ]
    },
    {
     "name": "stdout",
     "output_type": "stream",
     "text": [
      "Folder: snap/vqa_test \n",
      " Epoch 5 Iter: 16500/37402\n",
      "  Masked Tags : 1.47541\n",
      "  Text Only Masked LM : 1.851164\n",
      "  attr : 1.236709\n",
      "  feat : 0.08060346\n",
      "  obj : 3.251211\n",
      "\n"
     ]
    },
    {
     "name": "stderr",
     "output_type": "stream",
     "text": [
      " 45%|████████████████████████████████▋                                       | 17001/37402 [1:57:23<2:58:19,  1.91it/s]"
     ]
    },
    {
     "name": "stdout",
     "output_type": "stream",
     "text": [
      "Folder: snap/vqa_test \n",
      " Epoch 5 Iter: 17000/37402\n",
      "  Masked Tags : 1.509232\n",
      "  Text Only Masked LM : 1.891571\n",
      "  attr : 1.238999\n",
      "  feat : 0.08107634\n",
      "  obj : 3.273585\n",
      "\n"
     ]
    },
    {
     "name": "stderr",
     "output_type": "stream",
     "text": [
      " 47%|█████████████████████████████████▋                                      | 17501/37402 [2:00:56<2:35:39,  2.13it/s]"
     ]
    },
    {
     "name": "stdout",
     "output_type": "stream",
     "text": [
      "Folder: snap/vqa_test \n",
      " Epoch 5 Iter: 17500/37402\n",
      "  Masked Tags : 1.455334\n",
      "  Text Only Masked LM : 1.875836\n",
      "  attr : 1.223169\n",
      "  feat : 0.08228427\n",
      "  obj : 3.281835\n",
      "\n"
     ]
    },
    {
     "name": "stderr",
     "output_type": "stream",
     "text": [
      " 48%|██████████████████████████████████▋                                     | 18001/37402 [2:04:19<2:13:47,  2.42it/s]"
     ]
    },
    {
     "name": "stdout",
     "output_type": "stream",
     "text": [
      "Folder: snap/vqa_test \n",
      " Epoch 5 Iter: 18000/37402\n",
      "  Masked Tags : 1.468505\n",
      "  Text Only Masked LM : 1.833296\n",
      "  attr : 1.257088\n",
      "  feat : 0.08082668\n",
      "  obj : 3.279657\n",
      "\n"
     ]
    },
    {
     "name": "stderr",
     "output_type": "stream",
     "text": [
      " 49%|███████████████████████████████████▌                                    | 18501/37402 [2:07:48<2:20:32,  2.24it/s]"
     ]
    },
    {
     "name": "stdout",
     "output_type": "stream",
     "text": [
      "Folder: snap/vqa_test \n",
      " Epoch 5 Iter: 18500/37402\n",
      "  Masked Tags : 1.511326\n",
      "  Text Only Masked LM : 1.859937\n",
      "  attr : 1.250903\n",
      "  feat : 0.08494838\n",
      "  obj : 3.281211\n",
      "\n"
     ]
    },
    {
     "name": "stderr",
     "output_type": "stream",
     "text": [
      " 51%|████████████████████████████████████▌                                   | 19001/37402 [2:11:14<1:45:02,  2.92it/s]"
     ]
    },
    {
     "name": "stdout",
     "output_type": "stream",
     "text": [
      "Folder: snap/vqa_test \n",
      " Epoch 5 Iter: 19000/37402\n",
      "  Masked Tags : 1.465938\n",
      "  Text Only Masked LM : 1.832585\n",
      "  attr : 1.255531\n",
      "  feat : 0.08147049\n",
      "  obj : 3.288001\n",
      "\n"
     ]
    },
    {
     "name": "stderr",
     "output_type": "stream",
     "text": [
      " 52%|█████████████████████████████████████▌                                  | 19501/37402 [2:14:41<2:43:04,  1.83it/s]"
     ]
    },
    {
     "name": "stdout",
     "output_type": "stream",
     "text": [
      "Folder: snap/vqa_test \n",
      " Epoch 5 Iter: 19500/37402\n",
      "  Masked Tags : 1.478645\n",
      "  Text Only Masked LM : 1.863031\n",
      "  attr : 1.237514\n",
      "  feat : 0.0819241\n",
      "  obj : 3.274674\n",
      "\n"
     ]
    },
    {
     "name": "stderr",
     "output_type": "stream",
     "text": [
      " 53%|██████████████████████████████████████▌                                 | 20001/37402 [2:18:21<1:54:20,  2.54it/s]"
     ]
    },
    {
     "name": "stdout",
     "output_type": "stream",
     "text": [
      "Folder: snap/vqa_test \n",
      " Epoch 5 Iter: 20000/37402\n",
      "  Masked Tags : 1.479376\n",
      "  Text Only Masked LM : 1.901746\n",
      "  attr : 1.250203\n",
      "  feat : 0.08219589\n",
      "  obj : 3.309193\n",
      "\n"
     ]
    },
    {
     "name": "stderr",
     "output_type": "stream",
     "text": [
      " 55%|███████████████████████████████████████▍                                | 20501/37402 [2:21:47<1:45:48,  2.66it/s]"
     ]
    },
    {
     "name": "stdout",
     "output_type": "stream",
     "text": [
      "Folder: snap/vqa_test \n",
      " Epoch 5 Iter: 20500/37402\n",
      "  Masked Tags : 1.467383\n",
      "  Text Only Masked LM : 1.811898\n",
      "  attr : 1.250407\n",
      "  feat : 0.08212671\n",
      "  obj : 3.280297\n",
      "\n"
     ]
    },
    {
     "name": "stderr",
     "output_type": "stream",
     "text": [
      " 56%|████████████████████████████████████████▍                               | 21001/37402 [2:25:19<1:48:22,  2.52it/s]"
     ]
    },
    {
     "name": "stdout",
     "output_type": "stream",
     "text": [
      "Folder: snap/vqa_test \n",
      " Epoch 5 Iter: 21000/37402\n",
      "  Masked Tags : 1.498996\n",
      "  Text Only Masked LM : 1.846552\n",
      "  attr : 1.240068\n",
      "  feat : 0.08405089\n",
      "  obj : 3.271069\n",
      "\n"
     ]
    },
    {
     "name": "stderr",
     "output_type": "stream",
     "text": [
      " 57%|█████████████████████████████████████████▍                              | 21501/37402 [2:28:50<1:38:50,  2.68it/s]"
     ]
    },
    {
     "name": "stdout",
     "output_type": "stream",
     "text": [
      "Folder: snap/vqa_test \n",
      " Epoch 5 Iter: 21500/37402\n",
      "  Masked Tags : 1.450795\n",
      "  Text Only Masked LM : 1.882994\n",
      "  attr : 1.230848\n",
      "  feat : 0.08234645\n",
      "  obj : 3.290176\n",
      "\n"
     ]
    },
    {
     "name": "stderr",
     "output_type": "stream",
     "text": [
      " 59%|██████████████████████████████████████████▎                             | 22001/37402 [2:32:18<1:36:32,  2.66it/s]"
     ]
    },
    {
     "name": "stdout",
     "output_type": "stream",
     "text": [
      "Folder: snap/vqa_test \n",
      " Epoch 5 Iter: 22000/37402\n",
      "  Masked Tags : 1.426038\n",
      "  Text Only Masked LM : 1.856028\n",
      "  attr : 1.234898\n",
      "  feat : 0.08260737\n",
      "  obj : 3.266197\n",
      "\n"
     ]
    },
    {
     "name": "stderr",
     "output_type": "stream",
     "text": [
      " 60%|███████████████████████████████████████████▎                            | 22502/37402 [2:35:49<1:26:51,  2.86it/s]"
     ]
    },
    {
     "name": "stdout",
     "output_type": "stream",
     "text": [
      "Folder: snap/vqa_test \n",
      " Epoch 5 Iter: 22500/37402\n",
      "  Masked Tags : 1.487215\n",
      "  Text Only Masked LM : 1.847362\n",
      "  attr : 1.225574\n",
      "  feat : 0.08292594\n",
      "  obj : 3.266491\n",
      "\n"
     ]
    },
    {
     "name": "stderr",
     "output_type": "stream",
     "text": [
      " 61%|████████████████████████████████████████████▎                           | 23001/37402 [2:39:19<1:31:05,  2.64it/s]"
     ]
    },
    {
     "name": "stdout",
     "output_type": "stream",
     "text": [
      "Folder: snap/vqa_test \n",
      " Epoch 5 Iter: 23000/37402\n",
      "  Masked Tags : 1.47691\n",
      "  Text Only Masked LM : 1.820013\n",
      "  attr : 1.238984\n",
      "  feat : 0.08088784\n",
      "  obj : 3.284223\n",
      "\n"
     ]
    },
    {
     "name": "stderr",
     "output_type": "stream",
     "text": [
      " 63%|█████████████████████████████████████████████▏                          | 23501/37402 [2:42:49<1:23:41,  2.77it/s]"
     ]
    },
    {
     "name": "stdout",
     "output_type": "stream",
     "text": [
      "Folder: snap/vqa_test \n",
      " Epoch 5 Iter: 23500/37402\n",
      "  Masked Tags : 1.43796\n",
      "  Text Only Masked LM : 1.873363\n",
      "  attr : 1.243712\n",
      "  feat : 0.08144185\n",
      "  obj : 3.274869\n",
      "\n"
     ]
    },
    {
     "name": "stderr",
     "output_type": "stream",
     "text": [
      " 64%|██████████████████████████████████████████████▏                         | 24001/37402 [2:46:17<1:39:21,  2.25it/s]"
     ]
    },
    {
     "name": "stdout",
     "output_type": "stream",
     "text": [
      "Folder: snap/vqa_test \n",
      " Epoch 5 Iter: 24000/37402\n",
      "  Masked Tags : 1.486666\n",
      "  Text Only Masked LM : 1.886365\n",
      "  attr : 1.211655\n",
      "  feat : 0.08426793\n",
      "  obj : 3.255965\n",
      "\n"
     ]
    },
    {
     "name": "stderr",
     "output_type": "stream",
     "text": [
      " 66%|███████████████████████████████████████████████▏                        | 24501/37402 [2:49:57<1:29:17,  2.41it/s]"
     ]
    },
    {
     "name": "stdout",
     "output_type": "stream",
     "text": [
      "Folder: snap/vqa_test \n",
      " Epoch 5 Iter: 24500/37402\n",
      "  Masked Tags : 1.469553\n",
      "  Text Only Masked LM : 1.870636\n",
      "  attr : 1.246915\n",
      "  feat : 0.08180754\n",
      "  obj : 3.266583\n",
      "\n"
     ]
    },
    {
     "name": "stderr",
     "output_type": "stream",
     "text": [
      " 67%|████████████████████████████████████████████████▏                       | 25001/37402 [2:53:17<1:26:24,  2.39it/s]"
     ]
    },
    {
     "name": "stdout",
     "output_type": "stream",
     "text": [
      "Folder: snap/vqa_test \n",
      " Epoch 5 Iter: 25000/37402\n",
      "  Masked Tags : 1.46864\n",
      "  Text Only Masked LM : 1.802792\n",
      "  attr : 1.240489\n",
      "  feat : 0.08398532\n",
      "  obj : 3.294141\n",
      "\n"
     ]
    },
    {
     "name": "stderr",
     "output_type": "stream",
     "text": [
      " 68%|█████████████████████████████████████████████████                       | 25501/37402 [2:56:35<1:39:05,  2.00it/s]"
     ]
    },
    {
     "name": "stdout",
     "output_type": "stream",
     "text": [
      "Folder: snap/vqa_test \n",
      " Epoch 5 Iter: 25500/37402\n",
      "  Masked Tags : 1.49113\n",
      "  Text Only Masked LM : 1.807501\n",
      "  attr : 1.237598\n",
      "  feat : 0.08179957\n",
      "  obj : 3.291885\n",
      "\n"
     ]
    },
    {
     "name": "stderr",
     "output_type": "stream",
     "text": [
      " 70%|██████████████████████████████████████████████████                      | 26001/37402 [3:00:02<1:08:27,  2.78it/s]"
     ]
    },
    {
     "name": "stdout",
     "output_type": "stream",
     "text": [
      "Folder: snap/vqa_test \n",
      " Epoch 5 Iter: 26000/37402\n",
      "  Masked Tags : 1.455816\n",
      "  Text Only Masked LM : 1.848331\n",
      "  attr : 1.246852\n",
      "  feat : 0.08333099\n",
      "  obj : 3.315415\n",
      "\n"
     ]
    },
    {
     "name": "stderr",
     "output_type": "stream",
     "text": [
      " 71%|████████████████████████████████████████████████████▍                     | 26501/37402 [3:03:31<56:30,  3.22it/s]"
     ]
    },
    {
     "name": "stdout",
     "output_type": "stream",
     "text": [
      "Folder: snap/vqa_test \n",
      " Epoch 5 Iter: 26500/37402\n",
      "  Masked Tags : 1.447759\n",
      "  Text Only Masked LM : 1.828244\n",
      "  attr : 1.252668\n",
      "  feat : 0.0821981\n",
      "  obj : 3.273797\n",
      "\n"
     ]
    },
    {
     "name": "stderr",
     "output_type": "stream",
     "text": [
      " 72%|███████████████████████████████████████████████████▉                    | 27001/37402 [3:06:52<1:14:57,  2.31it/s]"
     ]
    },
    {
     "name": "stdout",
     "output_type": "stream",
     "text": [
      "Folder: snap/vqa_test \n",
      " Epoch 5 Iter: 27000/37402\n",
      "  Masked Tags : 1.487378\n",
      "  Text Only Masked LM : 1.842\n",
      "  attr : 1.247187\n",
      "  feat : 0.0829191\n",
      "  obj : 3.2667\n",
      "\n"
     ]
    },
    {
     "name": "stderr",
     "output_type": "stream",
     "text": [
      " 74%|████████████████████████████████████████████████████▉                   | 27501/37402 [3:10:20<1:28:25,  1.87it/s]"
     ]
    },
    {
     "name": "stdout",
     "output_type": "stream",
     "text": [
      "Folder: snap/vqa_test \n",
      " Epoch 5 Iter: 27500/37402\n",
      "  Masked Tags : 1.450472\n",
      "  Text Only Masked LM : 1.845115\n",
      "  attr : 1.247158\n",
      "  feat : 0.08305106\n",
      "  obj : 3.289431\n",
      "\n"
     ]
    },
    {
     "name": "stderr",
     "output_type": "stream",
     "text": [
      " 75%|█████████████████████████████████████████████████████▉                  | 28001/37402 [3:14:01<1:12:24,  2.16it/s]"
     ]
    },
    {
     "name": "stdout",
     "output_type": "stream",
     "text": [
      "Folder: snap/vqa_test \n",
      " Epoch 5 Iter: 28000/37402\n",
      "  Masked Tags : 1.441744\n",
      "  Text Only Masked LM : 1.87718\n",
      "  attr : 1.247408\n",
      "  feat : 0.0810471\n",
      "  obj : 3.300342\n",
      "\n"
     ]
    },
    {
     "name": "stderr",
     "output_type": "stream",
     "text": [
      " 76%|██████████████████████████████████████████████████████▊                 | 28501/37402 [3:17:32<1:14:18,  2.00it/s]"
     ]
    },
    {
     "name": "stdout",
     "output_type": "stream",
     "text": [
      "Folder: snap/vqa_test \n",
      " Epoch 5 Iter: 28500/37402\n",
      "  Masked Tags : 1.454645\n",
      "  Text Only Masked LM : 1.856989\n",
      "  attr : 1.237498\n",
      "  feat : 0.08193471\n",
      "  obj : 3.281764\n",
      "\n"
     ]
    },
    {
     "name": "stderr",
     "output_type": "stream",
     "text": [
      " 78%|█████████████████████████████████████████████████████████▍                | 29001/37402 [3:20:56<42:32,  3.29it/s]"
     ]
    },
    {
     "name": "stdout",
     "output_type": "stream",
     "text": [
      "Folder: snap/vqa_test \n",
      " Epoch 5 Iter: 29000/37402\n",
      "  Masked Tags : 1.476978\n",
      "  Text Only Masked LM : 1.775691\n",
      "  attr : 1.245904\n",
      "  feat : 0.08388558\n",
      "  obj : 3.254171\n",
      "\n"
     ]
    },
    {
     "name": "stderr",
     "output_type": "stream",
     "text": [
      " 79%|██████████████████████████████████████████████████████████▎               | 29501/37402 [3:24:24<58:12,  2.26it/s]"
     ]
    },
    {
     "name": "stdout",
     "output_type": "stream",
     "text": [
      "Folder: snap/vqa_test \n",
      " Epoch 5 Iter: 29500/37402\n",
      "  Masked Tags : 1.47732\n",
      "  Text Only Masked LM : 1.807793\n",
      "  attr : 1.232401\n",
      "  feat : 0.08242206\n",
      "  obj : 3.301793\n",
      "\n"
     ]
    },
    {
     "name": "stderr",
     "output_type": "stream",
     "text": [
      " 80%|███████████████████████████████████████████████████████████▎              | 30001/37402 [3:27:50<48:40,  2.53it/s]"
     ]
    },
    {
     "name": "stdout",
     "output_type": "stream",
     "text": [
      "Folder: snap/vqa_test \n",
      " Epoch 5 Iter: 30000/37402\n",
      "  Masked Tags : 1.466961\n",
      "  Text Only Masked LM : 1.839979\n",
      "  attr : 1.237317\n",
      "  feat : 0.08238701\n",
      "  obj : 3.268167\n",
      "\n"
     ]
    },
    {
     "name": "stderr",
     "output_type": "stream",
     "text": [
      " 82%|████████████████████████████████████████████████████████████▎             | 30501/37402 [3:31:10<53:13,  2.16it/s]"
     ]
    },
    {
     "name": "stdout",
     "output_type": "stream",
     "text": [
      "Folder: snap/vqa_test \n",
      " Epoch 5 Iter: 30500/37402\n",
      "  Masked Tags : 1.452786\n",
      "  Text Only Masked LM : 1.851329\n",
      "  attr : 1.217875\n",
      "  feat : 0.08192576\n",
      "  obj : 3.296701\n",
      "\n"
     ]
    },
    {
     "name": "stderr",
     "output_type": "stream",
     "text": [
      " 83%|█████████████████████████████████████████████████████████████▎            | 31001/37402 [3:34:42<40:20,  2.64it/s]"
     ]
    },
    {
     "name": "stdout",
     "output_type": "stream",
     "text": [
      "Folder: snap/vqa_test \n",
      " Epoch 5 Iter: 31000/37402\n",
      "  Masked Tags : 1.440973\n",
      "  Text Only Masked LM : 1.848669\n",
      "  attr : 1.248624\n",
      "  feat : 0.08202648\n",
      "  obj : 3.305047\n",
      "\n"
     ]
    },
    {
     "name": "stderr",
     "output_type": "stream",
     "text": [
      " 84%|██████████████████████████████████████████████████████████████▎           | 31501/37402 [3:38:15<48:07,  2.04it/s]"
     ]
    },
    {
     "name": "stdout",
     "output_type": "stream",
     "text": [
      "Folder: snap/vqa_test \n",
      " Epoch 5 Iter: 31500/37402\n",
      "  Masked Tags : 1.45924\n",
      "  Text Only Masked LM : 1.931963\n",
      "  attr : 1.222503\n",
      "  feat : 0.08420505\n",
      "  obj : 3.284231\n",
      "\n"
     ]
    },
    {
     "name": "stderr",
     "output_type": "stream",
     "text": [
      " 86%|███████████████████████████████████████████████████████████████▎          | 32001/37402 [3:41:43<40:43,  2.21it/s]"
     ]
    },
    {
     "name": "stdout",
     "output_type": "stream",
     "text": [
      "Folder: snap/vqa_test \n",
      " Epoch 5 Iter: 32000/37402\n",
      "  Masked Tags : 1.464995\n",
      "  Text Only Masked LM : 1.837605\n",
      "  attr : 1.244593\n",
      "  feat : 0.08258756\n",
      "  obj : 3.273731\n",
      "\n"
     ]
    },
    {
     "name": "stderr",
     "output_type": "stream",
     "text": [
      " 87%|████████████████████████████████████████████████████████████████▎         | 32501/37402 [3:45:13<29:50,  2.74it/s]"
     ]
    },
    {
     "name": "stdout",
     "output_type": "stream",
     "text": [
      "Folder: snap/vqa_test \n",
      " Epoch 5 Iter: 32500/37402\n",
      "  Masked Tags : 1.457034\n",
      "  Text Only Masked LM : 1.848042\n",
      "  attr : 1.238014\n",
      "  feat : 0.08229886\n",
      "  obj : 3.228292\n",
      "\n"
     ]
    },
    {
     "name": "stderr",
     "output_type": "stream",
     "text": [
      " 88%|█████████████████████████████████████████████████████████████████▎        | 33001/37402 [3:48:42<30:59,  2.37it/s]"
     ]
    },
    {
     "name": "stdout",
     "output_type": "stream",
     "text": [
      "Folder: snap/vqa_test \n",
      " Epoch 5 Iter: 33000/37402\n",
      "  Masked Tags : 1.445816\n",
      "  Text Only Masked LM : 1.821059\n",
      "  attr : 1.239505\n",
      "  feat : 0.08253582\n",
      "  obj : 3.324397\n",
      "\n"
     ]
    },
    {
     "name": "stderr",
     "output_type": "stream",
     "text": [
      " 90%|██████████████████████████████████████████████████████████████████▎       | 33501/37402 [3:52:07<23:23,  2.78it/s]"
     ]
    },
    {
     "name": "stdout",
     "output_type": "stream",
     "text": [
      "Folder: snap/vqa_test \n",
      " Epoch 5 Iter: 33500/37402\n",
      "  Masked Tags : 1.448618\n",
      "  Text Only Masked LM : 1.830426\n",
      "  attr : 1.224906\n",
      "  feat : 0.08256504\n",
      "  obj : 3.283759\n",
      "\n"
     ]
    },
    {
     "name": "stderr",
     "output_type": "stream",
     "text": [
      " 91%|███████████████████████████████████████████████████████████████████▎      | 34001/37402 [3:55:31<17:42,  3.20it/s]"
     ]
    },
    {
     "name": "stdout",
     "output_type": "stream",
     "text": [
      "Folder: snap/vqa_test \n",
      " Epoch 5 Iter: 34000/37402\n",
      "  Masked Tags : 1.428056\n",
      "  Text Only Masked LM : 1.871612\n",
      "  attr : 1.216503\n",
      "  feat : 0.07955205\n",
      "  obj : 3.285165\n",
      "\n"
     ]
    },
    {
     "name": "stderr",
     "output_type": "stream",
     "text": [
      " 92%|████████████████████████████████████████████████████████████████████▎     | 34501/37402 [3:58:59<17:38,  2.74it/s]"
     ]
    },
    {
     "name": "stdout",
     "output_type": "stream",
     "text": [
      "Folder: snap/vqa_test \n",
      " Epoch 5 Iter: 34500/37402\n",
      "  Masked Tags : 1.470269\n",
      "  Text Only Masked LM : 1.849138\n",
      "  attr : 1.212405\n",
      "  feat : 0.08278256\n",
      "  obj : 3.27334\n",
      "\n"
     ]
    },
    {
     "name": "stderr",
     "output_type": "stream",
     "text": [
      " 94%|█████████████████████████████████████████████████████████████████████▏    | 35001/37402 [4:02:24<16:39,  2.40it/s]"
     ]
    },
    {
     "name": "stdout",
     "output_type": "stream",
     "text": [
      "Folder: snap/vqa_test \n",
      " Epoch 5 Iter: 35000/37402\n",
      "  Masked Tags : 1.469595\n",
      "  Text Only Masked LM : 1.841339\n",
      "  attr : 1.232372\n",
      "  feat : 0.08199723\n",
      "  obj : 3.294747\n",
      "\n"
     ]
    },
    {
     "name": "stderr",
     "output_type": "stream",
     "text": [
      " 95%|██████████████████████████████████████████████████████████████████████▏   | 35501/37402 [4:05:53<13:26,  2.36it/s]"
     ]
    },
    {
     "name": "stdout",
     "output_type": "stream",
     "text": [
      "Folder: snap/vqa_test \n",
      " Epoch 5 Iter: 35500/37402\n",
      "  Masked Tags : 1.447121\n",
      "  Text Only Masked LM : 1.851959\n",
      "  attr : 1.244999\n",
      "  feat : 0.08342446\n",
      "  obj : 3.299453\n",
      "\n"
     ]
    },
    {
     "name": "stderr",
     "output_type": "stream",
     "text": [
      " 96%|███████████████████████████████████████████████████████████████████████▏  | 36001/37402 [4:09:23<09:45,  2.39it/s]"
     ]
    },
    {
     "name": "stdout",
     "output_type": "stream",
     "text": [
      "Folder: snap/vqa_test \n",
      " Epoch 5 Iter: 36000/37402\n",
      "  Masked Tags : 1.461858\n",
      "  Text Only Masked LM : 1.84166\n",
      "  attr : 1.233743\n",
      "  feat : 0.08271819\n",
      "  obj : 3.307352\n",
      "\n"
     ]
    },
    {
     "name": "stderr",
     "output_type": "stream",
     "text": [
      " 98%|████████████████████████████████████████████████████████████████████████▏ | 36501/37402 [4:12:48<05:05,  2.95it/s]"
     ]
    },
    {
     "name": "stdout",
     "output_type": "stream",
     "text": [
      "Folder: snap/vqa_test \n",
      " Epoch 5 Iter: 36500/37402\n",
      "  Masked Tags : 1.478371\n",
      "  Text Only Masked LM : 1.841616\n",
      "  attr : 1.223379\n",
      "  feat : 0.0823186\n",
      "  obj : 3.288827\n",
      "\n"
     ]
    },
    {
     "name": "stderr",
     "output_type": "stream",
     "text": [
      " 99%|█████████████████████████████████████████████████████████████████████████▏| 37001/37402 [4:16:18<02:37,  2.54it/s]"
     ]
    },
    {
     "name": "stdout",
     "output_type": "stream",
     "text": [
      "Folder: snap/vqa_test \n",
      " Epoch 5 Iter: 37000/37402\n",
      "  Masked Tags : 1.456377\n",
      "  Text Only Masked LM : 1.893102\n",
      "  attr : 1.25563\n",
      "  feat : 0.08256874\n",
      "  obj : 3.309788\n",
      "\n"
     ]
    },
    {
     "name": "stderr",
     "output_type": "stream",
     "text": [
      "100%|██████████████████████████████████████████████████████████████████████████| 37402/37402 [4:18:59<00:00,  2.41it/s]\n"
     ]
    },
    {
     "name": "stdout",
     "output_type": "stream",
     "text": [
      "The training loss for Epoch 5 is 1.8333\n"
     ]
    },
    {
     "name": "stderr",
     "output_type": "stream",
     "text": [
      "100%|████████████████████████████████████████████████████████████████████████████████| 782/782 [08:19<00:00,  1.57it/s]\n"
     ]
    },
    {
     "name": "stdout",
     "output_type": "stream",
     "text": [
      "Evaluation:\n",
      "  Masked LM : 2.025035\n",
      "  Masked Tags : 1.69607\n",
      "  attr : 1.295444\n",
      "  feat : 0.08323023\n",
      "  obj : 3.252145\n",
      "\n",
      "\n",
      "\n",
      "\n",
      "\n",
      "\n",
      "\n",
      "\n",
      "\n"
     ]
    },
    {
     "name": "stderr",
     "output_type": "stream",
     "text": [
      "  1%|█                                                                           | 501/37402 [03:12<3:20:12,  3.07it/s]"
     ]
    },
    {
     "name": "stdout",
     "output_type": "stream",
     "text": [
      "Folder: snap/vqa_test \n",
      " Epoch 6 Iter: 500/37402\n",
      "  Masked Tags : 1.460561\n",
      "  Text Only Masked LM : 1.921369\n",
      "  attr : 1.229305\n",
      "  feat : 0.08249226\n",
      "  obj : 3.286052\n",
      "\n"
     ]
    },
    {
     "name": "stderr",
     "output_type": "stream",
     "text": [
      "  3%|██                                                                         | 1001/37402 [06:25<3:36:52,  2.80it/s]"
     ]
    },
    {
     "name": "stdout",
     "output_type": "stream",
     "text": [
      "Folder: snap/vqa_test \n",
      " Epoch 6 Iter: 1000/37402\n",
      "  Masked Tags : 1.431754\n",
      "  Text Only Masked LM : 1.77076\n",
      "  attr : 1.233597\n",
      "  feat : 0.08008513\n",
      "  obj : 3.299161\n",
      "\n"
     ]
    },
    {
     "name": "stderr",
     "output_type": "stream",
     "text": [
      "  4%|███                                                                        | 1501/37402 [09:42<3:32:30,  2.82it/s]"
     ]
    },
    {
     "name": "stdout",
     "output_type": "stream",
     "text": [
      "Folder: snap/vqa_test \n",
      " Epoch 6 Iter: 1500/37402\n",
      "  Masked Tags : 1.439479\n",
      "  Text Only Masked LM : 1.809201\n",
      "  attr : 1.247269\n",
      "  feat : 0.0813221\n",
      "  obj : 3.281376\n",
      "\n"
     ]
    },
    {
     "name": "stderr",
     "output_type": "stream",
     "text": [
      "  5%|████                                                                       | 2002/37402 [13:03<3:08:16,  3.13it/s]"
     ]
    },
    {
     "name": "stdout",
     "output_type": "stream",
     "text": [
      "Folder: snap/vqa_test \n",
      " Epoch 6 Iter: 2000/37402\n",
      "  Masked Tags : 1.498476\n",
      "  Text Only Masked LM : 1.860134\n",
      "  attr : 1.253756\n",
      "  feat : 0.08245051\n",
      "  obj : 3.246667\n",
      "\n"
     ]
    },
    {
     "name": "stderr",
     "output_type": "stream",
     "text": [
      "  7%|█████                                                                      | 2501/37402 [16:20<4:16:47,  2.27it/s]"
     ]
    },
    {
     "name": "stdout",
     "output_type": "stream",
     "text": [
      "Folder: snap/vqa_test \n",
      " Epoch 6 Iter: 2500/37402\n",
      "  Masked Tags : 1.447079\n",
      "  Text Only Masked LM : 1.779075\n",
      "  attr : 1.251139\n",
      "  feat : 0.08212868\n",
      "  obj : 3.284414\n",
      "\n"
     ]
    },
    {
     "name": "stderr",
     "output_type": "stream",
     "text": [
      "  8%|██████                                                                     | 3001/37402 [19:47<4:54:28,  1.95it/s]"
     ]
    },
    {
     "name": "stdout",
     "output_type": "stream",
     "text": [
      "Folder: snap/vqa_test \n",
      " Epoch 6 Iter: 3000/37402\n",
      "  Masked Tags : 1.434868\n",
      "  Text Only Masked LM : 1.820285\n",
      "  attr : 1.236277\n",
      "  feat : 0.08155538\n",
      "  obj : 3.281489\n",
      "\n"
     ]
    },
    {
     "name": "stderr",
     "output_type": "stream",
     "text": [
      "  9%|███████                                                                    | 3501/37402 [23:06<3:28:06,  2.71it/s]"
     ]
    },
    {
     "name": "stdout",
     "output_type": "stream",
     "text": [
      "Folder: snap/vqa_test \n",
      " Epoch 6 Iter: 3500/37402\n",
      "  Masked Tags : 1.446988\n",
      "  Text Only Masked LM : 1.778533\n",
      "  attr : 1.229516\n",
      "  feat : 0.08362203\n",
      "  obj : 3.261758\n",
      "\n"
     ]
    },
    {
     "name": "stderr",
     "output_type": "stream",
     "text": [
      " 11%|████████                                                                   | 4001/37402 [26:29<4:55:18,  1.89it/s]"
     ]
    },
    {
     "name": "stdout",
     "output_type": "stream",
     "text": [
      "Folder: snap/vqa_test \n",
      " Epoch 6 Iter: 4000/37402\n",
      "  Masked Tags : 1.433138\n",
      "  Text Only Masked LM : 1.832832\n",
      "  attr : 1.223994\n",
      "  feat : 0.08143058\n",
      "  obj : 3.313694\n",
      "\n"
     ]
    },
    {
     "name": "stderr",
     "output_type": "stream",
     "text": [
      " 12%|█████████                                                                  | 4501/37402 [29:57<3:03:44,  2.98it/s]"
     ]
    },
    {
     "name": "stdout",
     "output_type": "stream",
     "text": [
      "Folder: snap/vqa_test \n",
      " Epoch 6 Iter: 4500/37402\n",
      "  Masked Tags : 1.455285\n",
      "  Text Only Masked LM : 1.867086\n",
      "  attr : 1.249019\n",
      "  feat : 0.08144071\n",
      "  obj : 3.266873\n",
      "\n"
     ]
    },
    {
     "name": "stderr",
     "output_type": "stream",
     "text": [
      " 13%|██████████                                                                 | 5001/37402 [33:20<4:02:10,  2.23it/s]"
     ]
    },
    {
     "name": "stdout",
     "output_type": "stream",
     "text": [
      "Folder: snap/vqa_test \n",
      " Epoch 6 Iter: 5000/37402\n",
      "  Masked Tags : 1.440333\n",
      "  Text Only Masked LM : 1.801174\n",
      "  attr : 1.252317\n",
      "  feat : 0.08237203\n",
      "  obj : 3.25863\n",
      "\n"
     ]
    },
    {
     "name": "stderr",
     "output_type": "stream",
     "text": [
      " 15%|███████████                                                                | 5501/37402 [36:42<3:14:41,  2.73it/s]"
     ]
    },
    {
     "name": "stdout",
     "output_type": "stream",
     "text": [
      "Folder: snap/vqa_test \n",
      " Epoch 6 Iter: 5500/37402\n",
      "  Masked Tags : 1.417902\n",
      "  Text Only Masked LM : 1.806048\n",
      "  attr : 1.232673\n",
      "  feat : 0.08182451\n",
      "  obj : 3.277306\n",
      "\n"
     ]
    },
    {
     "name": "stderr",
     "output_type": "stream",
     "text": [
      " 16%|████████████                                                               | 6002/37402 [40:04<3:03:53,  2.85it/s]"
     ]
    },
    {
     "name": "stdout",
     "output_type": "stream",
     "text": [
      "Folder: snap/vqa_test \n",
      " Epoch 6 Iter: 6000/37402\n",
      "  Masked Tags : 1.468346\n",
      "  Text Only Masked LM : 1.815573\n",
      "  attr : 1.251307\n",
      "  feat : 0.08428781\n",
      "  obj : 3.256529\n",
      "\n"
     ]
    },
    {
     "name": "stderr",
     "output_type": "stream",
     "text": [
      " 17%|█████████████                                                              | 6501/37402 [43:25<3:25:55,  2.50it/s]"
     ]
    },
    {
     "name": "stdout",
     "output_type": "stream",
     "text": [
      "Folder: snap/vqa_test \n",
      " Epoch 6 Iter: 6500/37402\n",
      "  Masked Tags : 1.425058\n",
      "  Text Only Masked LM : 1.813884\n",
      "  attr : 1.236288\n",
      "  feat : 0.08448177\n",
      "  obj : 3.277598\n",
      "\n"
     ]
    },
    {
     "name": "stderr",
     "output_type": "stream",
     "text": [
      " 19%|██████████████                                                             | 7001/37402 [46:45<3:21:29,  2.51it/s]"
     ]
    },
    {
     "name": "stdout",
     "output_type": "stream",
     "text": [
      "Folder: snap/vqa_test \n",
      " Epoch 6 Iter: 7000/37402\n",
      "  Masked Tags : 1.47098\n",
      "  Text Only Masked LM : 1.836199\n",
      "  attr : 1.246227\n",
      "  feat : 0.0856601\n",
      "  obj : 3.237159\n",
      "\n"
     ]
    },
    {
     "name": "stderr",
     "output_type": "stream",
     "text": [
      " 20%|███████████████                                                            | 7501/37402 [50:03<3:45:16,  2.21it/s]"
     ]
    },
    {
     "name": "stdout",
     "output_type": "stream",
     "text": [
      "Folder: snap/vqa_test \n",
      " Epoch 6 Iter: 7500/37402\n",
      "  Masked Tags : 1.434149\n",
      "  Text Only Masked LM : 1.829096\n",
      "  attr : 1.240992\n",
      "  feat : 0.08261499\n",
      "  obj : 3.279461\n",
      "\n"
     ]
    },
    {
     "name": "stderr",
     "output_type": "stream",
     "text": [
      " 21%|████████████████                                                           | 8001/37402 [53:19<3:53:19,  2.10it/s]"
     ]
    },
    {
     "name": "stdout",
     "output_type": "stream",
     "text": [
      "Folder: snap/vqa_test \n",
      " Epoch 6 Iter: 8000/37402\n",
      "  Masked Tags : 1.451008\n",
      "  Text Only Masked LM : 1.797774\n",
      "  attr : 1.24363\n",
      "  feat : 0.08486281\n",
      "  obj : 3.277482\n",
      "\n"
     ]
    },
    {
     "name": "stderr",
     "output_type": "stream",
     "text": [
      " 23%|█████████████████                                                          | 8501/37402 [56:41<3:10:45,  2.53it/s]"
     ]
    },
    {
     "name": "stdout",
     "output_type": "stream",
     "text": [
      "Folder: snap/vqa_test \n",
      " Epoch 6 Iter: 8500/37402\n",
      "  Masked Tags : 1.448401\n",
      "  Text Only Masked LM : 1.880031\n",
      "  attr : 1.229687\n",
      "  feat : 0.08343961\n",
      "  obj : 3.275539\n",
      "\n"
     ]
    },
    {
     "name": "stderr",
     "output_type": "stream",
     "text": [
      " 24%|█████████████████▌                                                       | 9001/37402 [1:00:00<3:42:44,  2.13it/s]"
     ]
    },
    {
     "name": "stdout",
     "output_type": "stream",
     "text": [
      "Folder: snap/vqa_test \n",
      " Epoch 6 Iter: 9000/37402\n",
      "  Masked Tags : 1.427654\n",
      "  Text Only Masked LM : 1.825049\n",
      "  attr : 1.234941\n",
      "  feat : 0.08314701\n",
      "  obj : 3.269424\n",
      "\n"
     ]
    },
    {
     "name": "stderr",
     "output_type": "stream",
     "text": [
      " 25%|██████████████████▌                                                      | 9501/37402 [1:03:25<3:39:49,  2.12it/s]"
     ]
    },
    {
     "name": "stdout",
     "output_type": "stream",
     "text": [
      "Folder: snap/vqa_test \n",
      " Epoch 6 Iter: 9500/37402\n",
      "  Masked Tags : 1.404804\n",
      "  Text Only Masked LM : 1.840749\n",
      "  attr : 1.233653\n",
      "  feat : 0.08172741\n",
      "  obj : 3.287625\n",
      "\n"
     ]
    },
    {
     "name": "stderr",
     "output_type": "stream",
     "text": [
      " 27%|███████████████████▎                                                    | 10001/37402 [1:06:49<4:35:17,  1.66it/s]"
     ]
    },
    {
     "name": "stdout",
     "output_type": "stream",
     "text": [
      "Folder: snap/vqa_test \n",
      " Epoch 6 Iter: 10000/37402\n",
      "  Masked Tags : 1.438019\n",
      "  Text Only Masked LM : 1.810956\n",
      "  attr : 1.219006\n",
      "  feat : 0.08453325\n",
      "  obj : 3.237121\n",
      "\n"
     ]
    },
    {
     "name": "stderr",
     "output_type": "stream",
     "text": [
      " 28%|████████████████████▏                                                   | 10501/37402 [1:10:04<2:45:11,  2.71it/s]"
     ]
    },
    {
     "name": "stdout",
     "output_type": "stream",
     "text": [
      "Folder: snap/vqa_test \n",
      " Epoch 6 Iter: 10500/37402\n",
      "  Masked Tags : 1.476463\n",
      "  Text Only Masked LM : 1.837102\n",
      "  attr : 1.227107\n",
      "  feat : 0.08482615\n",
      "  obj : 3.243535\n",
      "\n"
     ]
    },
    {
     "name": "stderr",
     "output_type": "stream",
     "text": [
      " 29%|█████████████████████▏                                                  | 11001/37402 [1:13:19<2:21:38,  3.11it/s]"
     ]
    },
    {
     "name": "stdout",
     "output_type": "stream",
     "text": [
      "Folder: snap/vqa_test \n",
      " Epoch 6 Iter: 11000/37402\n",
      "  Masked Tags : 1.444464\n",
      "  Text Only Masked LM : 1.784487\n",
      "  attr : 1.227686\n",
      "  feat : 0.08246699\n",
      "  obj : 3.250566\n",
      "\n"
     ]
    },
    {
     "name": "stderr",
     "output_type": "stream",
     "text": [
      " 31%|██████████████████████▏                                                 | 11501/37402 [1:16:43<2:59:06,  2.41it/s]"
     ]
    },
    {
     "name": "stdout",
     "output_type": "stream",
     "text": [
      "Folder: snap/vqa_test \n",
      " Epoch 6 Iter: 11500/37402\n",
      "  Masked Tags : 1.422774\n",
      "  Text Only Masked LM : 1.841053\n",
      "  attr : 1.254987\n",
      "  feat : 0.08327051\n",
      "  obj : 3.270826\n",
      "\n"
     ]
    },
    {
     "name": "stderr",
     "output_type": "stream",
     "text": [
      " 32%|███████████████████████                                                 | 12001/37402 [1:20:03<2:37:20,  2.69it/s]"
     ]
    },
    {
     "name": "stdout",
     "output_type": "stream",
     "text": [
      "Folder: snap/vqa_test \n",
      " Epoch 6 Iter: 12000/37402\n",
      "  Masked Tags : 1.416303\n",
      "  Text Only Masked LM : 1.838628\n",
      "  attr : 1.239349\n",
      "  feat : 0.08213159\n",
      "  obj : 3.289624\n",
      "\n"
     ]
    },
    {
     "name": "stderr",
     "output_type": "stream",
     "text": [
      " 33%|████████████████████████                                                | 12501/37402 [1:23:28<3:00:43,  2.30it/s]"
     ]
    },
    {
     "name": "stdout",
     "output_type": "stream",
     "text": [
      "Folder: snap/vqa_test \n",
      " Epoch 6 Iter: 12500/37402\n",
      "  Masked Tags : 1.430318\n",
      "  Text Only Masked LM : 1.809424\n",
      "  attr : 1.244141\n",
      "  feat : 0.08373275\n",
      "  obj : 3.262339\n",
      "\n"
     ]
    },
    {
     "name": "stderr",
     "output_type": "stream",
     "text": [
      " 35%|█████████████████████████                                               | 13001/37402 [1:26:54<2:20:37,  2.89it/s]"
     ]
    },
    {
     "name": "stdout",
     "output_type": "stream",
     "text": [
      "Folder: snap/vqa_test \n",
      " Epoch 6 Iter: 13000/37402\n",
      "  Masked Tags : 1.422016\n",
      "  Text Only Masked LM : 1.836298\n",
      "  attr : 1.256257\n",
      "  feat : 0.0826637\n",
      "  obj : 3.254872\n",
      "\n"
     ]
    },
    {
     "name": "stderr",
     "output_type": "stream",
     "text": [
      " 36%|█████████████████████████▉                                              | 13501/37402 [1:30:17<2:35:21,  2.56it/s]"
     ]
    },
    {
     "name": "stdout",
     "output_type": "stream",
     "text": [
      "Folder: snap/vqa_test \n",
      " Epoch 6 Iter: 13500/37402\n",
      "  Masked Tags : 1.424746\n",
      "  Text Only Masked LM : 1.790132\n",
      "  attr : 1.252601\n",
      "  feat : 0.08280085\n",
      "  obj : 3.296198\n",
      "\n"
     ]
    },
    {
     "name": "stderr",
     "output_type": "stream",
     "text": [
      " 37%|██████████████████████████▉                                             | 14001/37402 [1:33:50<3:01:48,  2.15it/s]"
     ]
    },
    {
     "name": "stdout",
     "output_type": "stream",
     "text": [
      "Folder: snap/vqa_test \n",
      " Epoch 6 Iter: 14000/37402\n",
      "  Masked Tags : 1.429251\n",
      "  Text Only Masked LM : 1.846317\n",
      "  attr : 1.233256\n",
      "  feat : 0.08264988\n",
      "  obj : 3.277567\n",
      "\n"
     ]
    },
    {
     "name": "stderr",
     "output_type": "stream",
     "text": [
      " 39%|███████████████████████████▉                                            | 14501/37402 [1:37:14<2:05:04,  3.05it/s]"
     ]
    },
    {
     "name": "stdout",
     "output_type": "stream",
     "text": [
      "Folder: snap/vqa_test \n",
      " Epoch 6 Iter: 14500/37402\n",
      "  Masked Tags : 1.450211\n",
      "  Text Only Masked LM : 1.860623\n",
      "  attr : 1.231767\n",
      "  feat : 0.08181532\n",
      "  obj : 3.273228\n",
      "\n"
     ]
    },
    {
     "name": "stderr",
     "output_type": "stream",
     "text": [
      " 40%|████████████████████████████▉                                           | 15001/37402 [1:40:40<2:07:38,  2.92it/s]"
     ]
    },
    {
     "name": "stdout",
     "output_type": "stream",
     "text": [
      "Folder: snap/vqa_test \n",
      " Epoch 6 Iter: 15000/37402\n",
      "  Masked Tags : 1.410706\n",
      "  Text Only Masked LM : 1.786889\n",
      "  attr : 1.230344\n",
      "  feat : 0.08155383\n",
      "  obj : 3.272692\n",
      "\n"
     ]
    },
    {
     "name": "stderr",
     "output_type": "stream",
     "text": [
      " 41%|█████████████████████████████▊                                          | 15501/37402 [1:44:03<3:02:45,  2.00it/s]"
     ]
    },
    {
     "name": "stdout",
     "output_type": "stream",
     "text": [
      "Folder: snap/vqa_test \n",
      " Epoch 6 Iter: 15500/37402\n",
      "  Masked Tags : 1.458521\n",
      "  Text Only Masked LM : 1.809199\n",
      "  attr : 1.222054\n",
      "  feat : 0.08338371\n",
      "  obj : 3.255076\n",
      "\n"
     ]
    },
    {
     "name": "stderr",
     "output_type": "stream",
     "text": [
      " 43%|██████████████████████████████▊                                         | 16001/37402 [1:47:34<2:06:42,  2.82it/s]"
     ]
    },
    {
     "name": "stdout",
     "output_type": "stream",
     "text": [
      "Folder: snap/vqa_test \n",
      " Epoch 6 Iter: 16000/37402\n",
      "  Masked Tags : 1.357886\n",
      "  Text Only Masked LM : 1.841206\n",
      "  attr : 1.250619\n",
      "  feat : 0.08166204\n",
      "  obj : 3.295434\n",
      "\n"
     ]
    },
    {
     "name": "stderr",
     "output_type": "stream",
     "text": [
      " 44%|███████████████████████████████▊                                        | 16501/37402 [1:51:03<2:14:17,  2.59it/s]"
     ]
    },
    {
     "name": "stdout",
     "output_type": "stream",
     "text": [
      "Folder: snap/vqa_test \n",
      " Epoch 6 Iter: 16500/37402\n",
      "  Masked Tags : 1.409527\n",
      "  Text Only Masked LM : 1.837068\n",
      "  attr : 1.245325\n",
      "  feat : 0.08424153\n",
      "  obj : 3.299981\n",
      "\n"
     ]
    },
    {
     "name": "stderr",
     "output_type": "stream",
     "text": [
      " 45%|████████████████████████████████▋                                       | 17001/37402 [1:54:29<2:13:28,  2.55it/s]"
     ]
    },
    {
     "name": "stdout",
     "output_type": "stream",
     "text": [
      "Folder: snap/vqa_test \n",
      " Epoch 6 Iter: 17000/37402\n",
      "  Masked Tags : 1.42952\n",
      "  Text Only Masked LM : 1.836165\n",
      "  attr : 1.245274\n",
      "  feat : 0.08339464\n",
      "  obj : 3.262448\n",
      "\n"
     ]
    },
    {
     "name": "stderr",
     "output_type": "stream",
     "text": [
      " 47%|█████████████████████████████████▋                                      | 17501/37402 [1:57:57<2:46:08,  2.00it/s]"
     ]
    },
    {
     "name": "stdout",
     "output_type": "stream",
     "text": [
      "Folder: snap/vqa_test \n",
      " Epoch 6 Iter: 17500/37402\n",
      "  Masked Tags : 1.38522\n",
      "  Text Only Masked LM : 1.832433\n",
      "  attr : 1.258383\n",
      "  feat : 0.08169406\n",
      "  obj : 3.281261\n",
      "\n"
     ]
    },
    {
     "name": "stderr",
     "output_type": "stream",
     "text": [
      " 48%|██████████████████████████████████▋                                     | 18001/37402 [2:01:15<2:40:44,  2.01it/s]"
     ]
    },
    {
     "name": "stdout",
     "output_type": "stream",
     "text": [
      "Folder: snap/vqa_test \n",
      " Epoch 6 Iter: 18000/37402\n",
      "  Masked Tags : 1.414955\n",
      "  Text Only Masked LM : 1.803531\n",
      "  attr : 1.25301\n",
      "  feat : 0.08296651\n",
      "  obj : 3.282885\n",
      "\n"
     ]
    },
    {
     "name": "stderr",
     "output_type": "stream",
     "text": [
      " 49%|███████████████████████████████████▌                                    | 18501/37402 [2:04:28<2:27:06,  2.14it/s]"
     ]
    },
    {
     "name": "stdout",
     "output_type": "stream",
     "text": [
      "Folder: snap/vqa_test \n",
      " Epoch 6 Iter: 18500/37402\n",
      "  Masked Tags : 1.43667\n",
      "  Text Only Masked LM : 1.770033\n",
      "  attr : 1.228576\n",
      "  feat : 0.0827042\n",
      "  obj : 3.245586\n",
      "\n"
     ]
    },
    {
     "name": "stderr",
     "output_type": "stream",
     "text": [
      " 51%|████████████████████████████████████▌                                   | 19001/37402 [2:07:57<1:52:37,  2.72it/s]"
     ]
    },
    {
     "name": "stdout",
     "output_type": "stream",
     "text": [
      "Folder: snap/vqa_test \n",
      " Epoch 6 Iter: 19000/37402\n",
      "  Masked Tags : 1.399893\n",
      "  Text Only Masked LM : 1.834301\n",
      "  attr : 1.233804\n",
      "  feat : 0.081768\n",
      "  obj : 3.278802\n",
      "\n"
     ]
    },
    {
     "name": "stderr",
     "output_type": "stream",
     "text": [
      " 52%|█████████████████████████████████████▌                                  | 19501/37402 [2:11:28<1:48:25,  2.75it/s]"
     ]
    },
    {
     "name": "stdout",
     "output_type": "stream",
     "text": [
      "Folder: snap/vqa_test \n",
      " Epoch 6 Iter: 19500/37402\n",
      "  Masked Tags : 1.411037\n",
      "  Text Only Masked LM : 1.902224\n",
      "  attr : 1.23261\n",
      "  feat : 0.08196543\n",
      "  obj : 3.250331\n",
      "\n"
     ]
    },
    {
     "name": "stderr",
     "output_type": "stream",
     "text": [
      " 53%|██████████████████████████████████████▌                                 | 20001/37402 [2:14:59<1:48:54,  2.66it/s]"
     ]
    },
    {
     "name": "stdout",
     "output_type": "stream",
     "text": [
      "Folder: snap/vqa_test \n",
      " Epoch 6 Iter: 20000/37402\n",
      "  Masked Tags : 1.423111\n",
      "  Text Only Masked LM : 1.847571\n",
      "  attr : 1.237017\n",
      "  feat : 0.07973492\n",
      "  obj : 3.253118\n",
      "\n"
     ]
    },
    {
     "name": "stderr",
     "output_type": "stream",
     "text": [
      " 55%|███████████████████████████████████████▍                                | 20501/37402 [2:18:20<1:52:03,  2.51it/s]"
     ]
    },
    {
     "name": "stdout",
     "output_type": "stream",
     "text": [
      "Folder: snap/vqa_test \n",
      " Epoch 6 Iter: 20500/37402\n",
      "  Masked Tags : 1.408984\n",
      "  Text Only Masked LM : 1.836155\n",
      "  attr : 1.243466\n",
      "  feat : 0.08280294\n",
      "  obj : 3.259529\n",
      "\n"
     ]
    },
    {
     "name": "stderr",
     "output_type": "stream",
     "text": [
      " 56%|████████████████████████████████████████▍                               | 21001/37402 [2:21:43<1:47:59,  2.53it/s]"
     ]
    },
    {
     "name": "stdout",
     "output_type": "stream",
     "text": [
      "Folder: snap/vqa_test \n",
      " Epoch 6 Iter: 21000/37402\n",
      "  Masked Tags : 1.410191\n",
      "  Text Only Masked LM : 1.785883\n",
      "  attr : 1.231898\n",
      "  feat : 0.08113623\n",
      "  obj : 3.279463\n",
      "\n"
     ]
    },
    {
     "name": "stderr",
     "output_type": "stream",
     "text": [
      " 57%|█████████████████████████████████████████▍                              | 21501/37402 [2:25:03<2:07:20,  2.08it/s]"
     ]
    },
    {
     "name": "stdout",
     "output_type": "stream",
     "text": [
      "Folder: snap/vqa_test \n",
      " Epoch 6 Iter: 21500/37402\n",
      "  Masked Tags : 1.356505\n",
      "  Text Only Masked LM : 1.834221\n",
      "  attr : 1.236803\n",
      "  feat : 0.08159398\n",
      "  obj : 3.292593\n",
      "\n"
     ]
    },
    {
     "name": "stderr",
     "output_type": "stream",
     "text": [
      " 59%|██████████████████████████████████████████▎                             | 22001/37402 [2:28:32<2:09:20,  1.98it/s]"
     ]
    },
    {
     "name": "stdout",
     "output_type": "stream",
     "text": [
      "Folder: snap/vqa_test \n",
      " Epoch 6 Iter: 22000/37402\n",
      "  Masked Tags : 1.424709\n",
      "  Text Only Masked LM : 1.821172\n",
      "  attr : 1.247088\n",
      "  feat : 0.08133929\n",
      "  obj : 3.254433\n",
      "\n"
     ]
    },
    {
     "name": "stderr",
     "output_type": "stream",
     "text": [
      " 60%|███████████████████████████████████████████▎                            | 22501/37402 [2:31:53<1:41:51,  2.44it/s]"
     ]
    },
    {
     "name": "stdout",
     "output_type": "stream",
     "text": [
      "Folder: snap/vqa_test \n",
      " Epoch 6 Iter: 22500/37402\n",
      "  Masked Tags : 1.424436\n",
      "  Text Only Masked LM : 1.804005\n",
      "  attr : 1.247149\n",
      "  feat : 0.08295688\n",
      "  obj : 3.279582\n",
      "\n"
     ]
    },
    {
     "name": "stderr",
     "output_type": "stream",
     "text": [
      " 61%|████████████████████████████████████████████▎                           | 23002/37402 [2:35:19<1:20:00,  3.00it/s]"
     ]
    },
    {
     "name": "stdout",
     "output_type": "stream",
     "text": [
      "Folder: snap/vqa_test \n",
      " Epoch 6 Iter: 23000/37402\n",
      "  Masked Tags : 1.402552\n",
      "  Text Only Masked LM : 1.798968\n",
      "  attr : 1.25188\n",
      "  feat : 0.08168612\n",
      "  obj : 3.258945\n",
      "\n"
     ]
    },
    {
     "name": "stderr",
     "output_type": "stream",
     "text": [
      " 63%|█████████████████████████████████████████████▏                          | 23501/37402 [2:38:45<1:43:54,  2.23it/s]"
     ]
    },
    {
     "name": "stdout",
     "output_type": "stream",
     "text": [
      "Folder: snap/vqa_test \n",
      " Epoch 6 Iter: 23500/37402\n",
      "  Masked Tags : 1.384038\n",
      "  Text Only Masked LM : 1.824194\n",
      "  attr : 1.252349\n",
      "  feat : 0.08143444\n",
      "  obj : 3.324888\n",
      "\n"
     ]
    },
    {
     "name": "stderr",
     "output_type": "stream",
     "text": [
      " 64%|██████████████████████████████████████████████▏                         | 24001/37402 [2:42:11<1:21:35,  2.74it/s]"
     ]
    },
    {
     "name": "stdout",
     "output_type": "stream",
     "text": [
      "Folder: snap/vqa_test \n",
      " Epoch 6 Iter: 24000/37402\n",
      "  Masked Tags : 1.381658\n",
      "  Text Only Masked LM : 1.843733\n",
      "  attr : 1.236379\n",
      "  feat : 0.08163902\n",
      "  obj : 3.290958\n",
      "\n"
     ]
    },
    {
     "name": "stderr",
     "output_type": "stream",
     "text": [
      " 66%|███████████████████████████████████████████████▏                        | 24501/37402 [2:45:40<1:18:23,  2.74it/s]"
     ]
    },
    {
     "name": "stdout",
     "output_type": "stream",
     "text": [
      "Folder: snap/vqa_test \n",
      " Epoch 6 Iter: 24500/37402\n",
      "  Masked Tags : 1.404134\n",
      "  Text Only Masked LM : 1.841341\n",
      "  attr : 1.229507\n",
      "  feat : 0.08261991\n",
      "  obj : 3.272271\n",
      "\n"
     ]
    },
    {
     "name": "stderr",
     "output_type": "stream",
     "text": [
      " 67%|█████████████████████████████████████████████████▍                        | 25001/37402 [2:48:59<59:03,  3.50it/s]"
     ]
    },
    {
     "name": "stdout",
     "output_type": "stream",
     "text": [
      "Folder: snap/vqa_test \n",
      " Epoch 6 Iter: 25000/37402\n",
      "  Masked Tags : 1.387928\n",
      "  Text Only Masked LM : 1.837255\n",
      "  attr : 1.235531\n",
      "  feat : 0.08285391\n",
      "  obj : 3.265473\n",
      "\n"
     ]
    },
    {
     "name": "stderr",
     "output_type": "stream",
     "text": [
      " 68%|█████████████████████████████████████████████████                       | 25501/37402 [2:52:24<1:08:19,  2.90it/s]"
     ]
    },
    {
     "name": "stdout",
     "output_type": "stream",
     "text": [
      "Folder: snap/vqa_test \n",
      " Epoch 6 Iter: 25500/37402\n",
      "  Masked Tags : 1.445973\n",
      "  Text Only Masked LM : 1.784286\n",
      "  attr : 1.219763\n",
      "  feat : 0.08254861\n",
      "  obj : 3.271466\n",
      "\n"
     ]
    },
    {
     "name": "stderr",
     "output_type": "stream",
     "text": [
      " 70%|██████████████████████████████████████████████████                      | 26001/37402 [2:55:44<1:16:03,  2.50it/s]"
     ]
    },
    {
     "name": "stdout",
     "output_type": "stream",
     "text": [
      "Folder: snap/vqa_test \n",
      " Epoch 6 Iter: 26000/37402\n",
      "  Masked Tags : 1.40045\n",
      "  Text Only Masked LM : 1.824423\n",
      "  attr : 1.22109\n",
      "  feat : 0.08175324\n",
      "  obj : 3.294549\n",
      "\n"
     ]
    },
    {
     "name": "stderr",
     "output_type": "stream",
     "text": [
      " 71%|███████████████████████████████████████████████████                     | 26501/37402 [2:59:13<1:12:51,  2.49it/s]"
     ]
    },
    {
     "name": "stdout",
     "output_type": "stream",
     "text": [
      "Folder: snap/vqa_test \n",
      " Epoch 6 Iter: 26500/37402\n",
      "  Masked Tags : 1.384243\n",
      "  Text Only Masked LM : 1.804037\n",
      "  attr : 1.242906\n",
      "  feat : 0.08307845\n",
      "  obj : 3.294698\n",
      "\n"
     ]
    },
    {
     "name": "stderr",
     "output_type": "stream",
     "text": [
      " 72%|███████████████████████████████████████████████████▉                    | 27001/37402 [3:02:35<1:19:37,  2.18it/s]"
     ]
    },
    {
     "name": "stdout",
     "output_type": "stream",
     "text": [
      "Folder: snap/vqa_test \n",
      " Epoch 6 Iter: 27000/37402\n",
      "  Masked Tags : 1.445431\n",
      "  Text Only Masked LM : 1.835036\n",
      "  attr : 1.229935\n",
      "  feat : 0.08404769\n",
      "  obj : 3.27375\n",
      "\n"
     ]
    },
    {
     "name": "stderr",
     "output_type": "stream",
     "text": [
      " 74%|████████████████████████████████████████████████████▉                   | 27501/37402 [3:06:08<1:01:40,  2.68it/s]"
     ]
    },
    {
     "name": "stdout",
     "output_type": "stream",
     "text": [
      "Folder: snap/vqa_test \n",
      " Epoch 6 Iter: 27500/37402\n",
      "  Masked Tags : 1.415077\n",
      "  Text Only Masked LM : 1.856129\n",
      "  attr : 1.241112\n",
      "  feat : 0.08449322\n",
      "  obj : 3.290569\n",
      "\n"
     ]
    },
    {
     "name": "stderr",
     "output_type": "stream",
     "text": [
      " 75%|███████████████████████████████████████████████████████▍                  | 28001/37402 [3:09:31<55:22,  2.83it/s]"
     ]
    },
    {
     "name": "stdout",
     "output_type": "stream",
     "text": [
      "Folder: snap/vqa_test \n",
      " Epoch 6 Iter: 28000/37402\n",
      "  Masked Tags : 1.388842\n",
      "  Text Only Masked LM : 1.827324\n",
      "  attr : 1.237832\n",
      "  feat : 0.08113232\n",
      "  obj : 3.297838\n",
      "\n"
     ]
    },
    {
     "name": "stderr",
     "output_type": "stream",
     "text": [
      " 76%|████████████████████████████████████████████████████████▍                 | 28501/37402 [3:12:49<41:34,  3.57it/s]"
     ]
    },
    {
     "name": "stdout",
     "output_type": "stream",
     "text": [
      "Folder: snap/vqa_test \n",
      " Epoch 6 Iter: 28500/37402\n",
      "  Masked Tags : 1.422916\n",
      "  Text Only Masked LM : 1.820761\n",
      "  attr : 1.231525\n",
      "  feat : 0.08159601\n",
      "  obj : 3.264786\n",
      "\n"
     ]
    },
    {
     "name": "stderr",
     "output_type": "stream",
     "text": [
      " 78%|█████████████████████████████████████████████████████████▍                | 29001/37402 [3:16:10<51:40,  2.71it/s]"
     ]
    },
    {
     "name": "stdout",
     "output_type": "stream",
     "text": [
      "Folder: snap/vqa_test \n",
      " Epoch 6 Iter: 29000/37402\n",
      "  Masked Tags : 1.42301\n",
      "  Text Only Masked LM : 1.765193\n",
      "  attr : 1.224155\n",
      "  feat : 0.08400083\n",
      "  obj : 3.29042\n",
      "\n"
     ]
    },
    {
     "name": "stderr",
     "output_type": "stream",
     "text": [
      " 79%|████████████████████████████████████████████████████████▊               | 29501/37402 [3:19:39<1:25:41,  1.54it/s]"
     ]
    },
    {
     "name": "stdout",
     "output_type": "stream",
     "text": [
      "Folder: snap/vqa_test \n",
      " Epoch 6 Iter: 29500/37402\n",
      "  Masked Tags : 1.413972\n",
      "  Text Only Masked LM : 1.815417\n",
      "  attr : 1.232106\n",
      "  feat : 0.08236434\n",
      "  obj : 3.265052\n",
      "\n"
     ]
    },
    {
     "name": "stderr",
     "output_type": "stream",
     "text": [
      " 80%|███████████████████████████████████████████████████████████▎              | 30001/37402 [3:23:09<43:30,  2.83it/s]"
     ]
    },
    {
     "name": "stdout",
     "output_type": "stream",
     "text": [
      "Folder: snap/vqa_test \n",
      " Epoch 6 Iter: 30000/37402\n",
      "  Masked Tags : 1.411128\n",
      "  Text Only Masked LM : 1.828183\n",
      "  attr : 1.223741\n",
      "  feat : 0.08170094\n",
      "  obj : 3.269213\n",
      "\n"
     ]
    },
    {
     "name": "stderr",
     "output_type": "stream",
     "text": [
      " 82%|████████████████████████████████████████████████████████████▎             | 30501/37402 [3:26:28<49:14,  2.34it/s]"
     ]
    },
    {
     "name": "stdout",
     "output_type": "stream",
     "text": [
      "Folder: snap/vqa_test \n",
      " Epoch 6 Iter: 30500/37402\n",
      "  Masked Tags : 1.380655\n",
      "  Text Only Masked LM : 1.806852\n",
      "  attr : 1.246418\n",
      "  feat : 0.08013771\n",
      "  obj : 3.278296\n",
      "\n"
     ]
    },
    {
     "name": "stderr",
     "output_type": "stream",
     "text": [
      " 83%|█████████████████████████████████████████████████████████████▎            | 31001/37402 [3:29:44<44:05,  2.42it/s]"
     ]
    },
    {
     "name": "stdout",
     "output_type": "stream",
     "text": [
      "Folder: snap/vqa_test \n",
      " Epoch 6 Iter: 31000/37402\n",
      "  Masked Tags : 1.398988\n",
      "  Text Only Masked LM : 1.802651\n",
      "  attr : 1.229072\n",
      "  feat : 0.08342295\n",
      "  obj : 3.267532\n",
      "\n"
     ]
    },
    {
     "name": "stderr",
     "output_type": "stream",
     "text": [
      " 84%|██████████████████████████████████████████████████████████████▎           | 31501/37402 [3:33:03<44:56,  2.19it/s]"
     ]
    },
    {
     "name": "stdout",
     "output_type": "stream",
     "text": [
      "Folder: snap/vqa_test \n",
      " Epoch 6 Iter: 31500/37402\n",
      "  Masked Tags : 1.371848\n",
      "  Text Only Masked LM : 1.770223\n",
      "  attr : 1.232675\n",
      "  feat : 0.08041388\n",
      "  obj : 3.326222\n",
      "\n"
     ]
    },
    {
     "name": "stderr",
     "output_type": "stream",
     "text": [
      " 86%|███████████████████████████████████████████████████████████████▎          | 32002/37402 [3:36:21<35:35,  2.53it/s]"
     ]
    },
    {
     "name": "stdout",
     "output_type": "stream",
     "text": [
      "Folder: snap/vqa_test \n",
      " Epoch 6 Iter: 32000/37402\n",
      "  Masked Tags : 1.399349\n",
      "  Text Only Masked LM : 1.735408\n",
      "  attr : 1.22545\n",
      "  feat : 0.08457001\n",
      "  obj : 3.271127\n",
      "\n"
     ]
    },
    {
     "name": "stderr",
     "output_type": "stream",
     "text": [
      " 87%|████████████████████████████████████████████████████████████████▎         | 32501/37402 [3:39:45<44:50,  1.82it/s]"
     ]
    },
    {
     "name": "stdout",
     "output_type": "stream",
     "text": [
      "Folder: snap/vqa_test \n",
      " Epoch 6 Iter: 32500/37402\n",
      "  Masked Tags : 1.390925\n",
      "  Text Only Masked LM : 1.783837\n",
      "  attr : 1.237625\n",
      "  feat : 0.08439919\n",
      "  obj : 3.282823\n",
      "\n"
     ]
    },
    {
     "name": "stderr",
     "output_type": "stream",
     "text": [
      " 88%|█████████████████████████████████████████████████████████████████▎        | 33001/37402 [3:43:10<23:37,  3.10it/s]"
     ]
    },
    {
     "name": "stdout",
     "output_type": "stream",
     "text": [
      "Folder: snap/vqa_test \n",
      " Epoch 6 Iter: 33000/37402\n",
      "  Masked Tags : 1.399492\n",
      "  Text Only Masked LM : 1.837794\n",
      "  attr : 1.231803\n",
      "  feat : 0.08284971\n",
      "  obj : 3.271266\n",
      "\n"
     ]
    },
    {
     "name": "stderr",
     "output_type": "stream",
     "text": [
      " 90%|██████████████████████████████████████████████████████████████████▎       | 33501/37402 [3:46:28<17:44,  3.67it/s]"
     ]
    },
    {
     "name": "stdout",
     "output_type": "stream",
     "text": [
      "Folder: snap/vqa_test \n",
      " Epoch 6 Iter: 33500/37402\n",
      "  Masked Tags : 1.397018\n",
      "  Text Only Masked LM : 1.807994\n",
      "  attr : 1.272625\n",
      "  feat : 0.08300457\n",
      "  obj : 3.260093\n",
      "\n"
     ]
    },
    {
     "name": "stderr",
     "output_type": "stream",
     "text": [
      " 91%|███████████████████████████████████████████████████████████████████▎      | 34002/37402 [3:49:52<21:45,  2.61it/s]"
     ]
    },
    {
     "name": "stdout",
     "output_type": "stream",
     "text": [
      "Folder: snap/vqa_test \n",
      " Epoch 6 Iter: 34000/37402\n",
      "  Masked Tags : 1.422567\n",
      "  Text Only Masked LM : 1.818832\n",
      "  attr : 1.245727\n",
      "  feat : 0.08246345\n",
      "  obj : 3.281621\n",
      "\n"
     ]
    },
    {
     "name": "stderr",
     "output_type": "stream",
     "text": [
      " 92%|████████████████████████████████████████████████████████████████████▎     | 34502/37402 [3:53:22<16:07,  3.00it/s]"
     ]
    },
    {
     "name": "stdout",
     "output_type": "stream",
     "text": [
      "Folder: snap/vqa_test \n",
      " Epoch 6 Iter: 34500/37402\n",
      "  Masked Tags : 1.381312\n",
      "  Text Only Masked LM : 1.887917\n",
      "  attr : 1.230395\n",
      "  feat : 0.08143406\n",
      "  obj : 3.290027\n",
      "\n"
     ]
    },
    {
     "name": "stderr",
     "output_type": "stream",
     "text": [
      " 94%|█████████████████████████████████████████████████████████████████████▏    | 35001/37402 [3:56:40<13:35,  2.94it/s]"
     ]
    },
    {
     "name": "stdout",
     "output_type": "stream",
     "text": [
      "Folder: snap/vqa_test \n",
      " Epoch 6 Iter: 35000/37402\n",
      "  Masked Tags : 1.403931\n",
      "  Text Only Masked LM : 1.755265\n",
      "  attr : 1.221451\n",
      "  feat : 0.08340318\n",
      "  obj : 3.247201\n",
      "\n"
     ]
    },
    {
     "name": "stderr",
     "output_type": "stream",
     "text": [
      " 95%|██████████████████████████████████████████████████████████████████████▏   | 35501/37402 [4:00:01<14:21,  2.21it/s]"
     ]
    },
    {
     "name": "stdout",
     "output_type": "stream",
     "text": [
      "Folder: snap/vqa_test \n",
      " Epoch 6 Iter: 35500/37402\n",
      "  Masked Tags : 1.433399\n",
      "  Text Only Masked LM : 1.821771\n",
      "  attr : 1.229038\n",
      "  feat : 0.08263828\n",
      "  obj : 3.30106\n",
      "\n"
     ]
    },
    {
     "name": "stderr",
     "output_type": "stream",
     "text": [
      " 96%|███████████████████████████████████████████████████████████████████████▏  | 36001/37402 [4:03:29<08:34,  2.72it/s]"
     ]
    },
    {
     "name": "stdout",
     "output_type": "stream",
     "text": [
      "Folder: snap/vqa_test \n",
      " Epoch 6 Iter: 36000/37402\n",
      "  Masked Tags : 1.385499\n",
      "  Text Only Masked LM : 1.838891\n",
      "  attr : 1.232067\n",
      "  feat : 0.08198668\n",
      "  obj : 3.27866\n",
      "\n"
     ]
    },
    {
     "name": "stderr",
     "output_type": "stream",
     "text": [
      " 98%|████████████████████████████████████████████████████████████████████████▏ | 36501/37402 [4:06:53<05:13,  2.88it/s]"
     ]
    },
    {
     "name": "stdout",
     "output_type": "stream",
     "text": [
      "Folder: snap/vqa_test \n",
      " Epoch 6 Iter: 36500/37402\n",
      "  Masked Tags : 1.366234\n",
      "  Text Only Masked LM : 1.780523\n",
      "  attr : 1.228276\n",
      "  feat : 0.08130522\n",
      "  obj : 3.291849\n",
      "\n"
     ]
    },
    {
     "name": "stderr",
     "output_type": "stream",
     "text": [
      " 99%|█████████████████████████████████████████████████████████████████████████▏| 37001/37402 [4:10:23<03:04,  2.17it/s]"
     ]
    },
    {
     "name": "stdout",
     "output_type": "stream",
     "text": [
      "Folder: snap/vqa_test \n",
      " Epoch 6 Iter: 37000/37402\n",
      "  Masked Tags : 1.409427\n",
      "  Text Only Masked LM : 1.790081\n",
      "  attr : 1.245228\n",
      "  feat : 0.08201299\n",
      "  obj : 3.280539\n",
      "\n"
     ]
    },
    {
     "name": "stderr",
     "output_type": "stream",
     "text": [
      "100%|██████████████████████████████████████████████████████████████████████████| 37402/37402 [4:13:02<00:00,  2.46it/s]\n"
     ]
    },
    {
     "name": "stdout",
     "output_type": "stream",
     "text": [
      "The training loss for Epoch 6 is 1.7901\n"
     ]
    },
    {
     "name": "stderr",
     "output_type": "stream",
     "text": [
      "100%|████████████████████████████████████████████████████████████████████████████████| 782/782 [08:08<00:00,  1.60it/s]\n"
     ]
    },
    {
     "name": "stdout",
     "output_type": "stream",
     "text": [
      "Evaluation:\n",
      "  Masked LM : 2.086402\n",
      "  Masked Tags : 1.611433\n",
      "  attr : 1.286731\n",
      "  feat : 0.08253207\n",
      "  obj : 3.240556\n",
      "\n",
      "\n",
      "\n",
      "\n",
      "\n",
      "\n",
      "\n",
      "\n",
      "\n"
     ]
    },
    {
     "name": "stderr",
     "output_type": "stream",
     "text": [
      "  1%|█                                                                           | 501/37402 [03:20<4:02:28,  2.54it/s]"
     ]
    },
    {
     "name": "stdout",
     "output_type": "stream",
     "text": [
      "Folder: snap/vqa_test \n",
      " Epoch 7 Iter: 500/37402\n",
      "  Masked Tags : 1.360799\n",
      "  Text Only Masked LM : 1.808704\n",
      "  attr : 1.239364\n",
      "  feat : 0.08116383\n",
      "  obj : 3.28762\n",
      "\n"
     ]
    },
    {
     "name": "stderr",
     "output_type": "stream",
     "text": [
      "  3%|██                                                                         | 1001/37402 [06:50<4:06:09,  2.46it/s]"
     ]
    },
    {
     "name": "stdout",
     "output_type": "stream",
     "text": [
      "Folder: snap/vqa_test \n",
      " Epoch 7 Iter: 1000/37402\n",
      "  Masked Tags : 1.397068\n",
      "  Text Only Masked LM : 1.795464\n",
      "  attr : 1.227607\n",
      "  feat : 0.0814746\n",
      "  obj : 3.283304\n",
      "\n"
     ]
    },
    {
     "name": "stderr",
     "output_type": "stream",
     "text": [
      "  4%|███                                                                        | 1501/37402 [10:10<3:46:40,  2.64it/s]"
     ]
    },
    {
     "name": "stdout",
     "output_type": "stream",
     "text": [
      "Folder: snap/vqa_test \n",
      " Epoch 7 Iter: 1500/37402\n",
      "  Masked Tags : 1.383169\n",
      "  Text Only Masked LM : 1.808372\n",
      "  attr : 1.235862\n",
      "  feat : 0.08309175\n",
      "  obj : 3.281849\n",
      "\n"
     ]
    },
    {
     "name": "stderr",
     "output_type": "stream",
     "text": [
      "  5%|████                                                                       | 2001/37402 [13:23<3:02:52,  3.23it/s]"
     ]
    },
    {
     "name": "stdout",
     "output_type": "stream",
     "text": [
      "Folder: snap/vqa_test \n",
      " Epoch 7 Iter: 2000/37402\n",
      "  Masked Tags : 1.362258\n",
      "  Text Only Masked LM : 1.803521\n",
      "  attr : 1.240011\n",
      "  feat : 0.08319684\n",
      "  obj : 3.271935\n",
      "\n"
     ]
    },
    {
     "name": "stderr",
     "output_type": "stream",
     "text": [
      "  7%|█████                                                                      | 2501/37402 [16:43<4:17:36,  2.26it/s]"
     ]
    },
    {
     "name": "stdout",
     "output_type": "stream",
     "text": [
      "Folder: snap/vqa_test \n",
      " Epoch 7 Iter: 2500/37402\n",
      "  Masked Tags : 1.366449\n",
      "  Text Only Masked LM : 1.775092\n",
      "  attr : 1.229157\n",
      "  feat : 0.08147678\n",
      "  obj : 3.296526\n",
      "\n"
     ]
    },
    {
     "name": "stderr",
     "output_type": "stream",
     "text": [
      "  8%|██████                                                                     | 3001/37402 [19:59<3:45:08,  2.55it/s]"
     ]
    },
    {
     "name": "stdout",
     "output_type": "stream",
     "text": [
      "Folder: snap/vqa_test \n",
      " Epoch 7 Iter: 3000/37402\n",
      "  Masked Tags : 1.431441\n",
      "  Text Only Masked LM : 1.773706\n",
      "  attr : 1.219587\n",
      "  feat : 0.08480791\n",
      "  obj : 3.26645\n",
      "\n"
     ]
    },
    {
     "name": "stderr",
     "output_type": "stream",
     "text": [
      "  9%|███████                                                                    | 3501/37402 [23:21<3:41:27,  2.55it/s]"
     ]
    },
    {
     "name": "stdout",
     "output_type": "stream",
     "text": [
      "Folder: snap/vqa_test \n",
      " Epoch 7 Iter: 3500/37402\n",
      "  Masked Tags : 1.38815\n",
      "  Text Only Masked LM : 1.78761\n",
      "  attr : 1.238471\n",
      "  feat : 0.08142428\n",
      "  obj : 3.314965\n",
      "\n"
     ]
    },
    {
     "name": "stderr",
     "output_type": "stream",
     "text": [
      " 11%|████████                                                                   | 4001/37402 [26:35<3:15:51,  2.84it/s]"
     ]
    },
    {
     "name": "stdout",
     "output_type": "stream",
     "text": [
      "Folder: snap/vqa_test \n",
      " Epoch 7 Iter: 4000/37402\n",
      "  Masked Tags : 1.412264\n",
      "  Text Only Masked LM : 1.828593\n",
      "  attr : 1.221822\n",
      "  feat : 0.08124466\n",
      "  obj : 3.225423\n",
      "\n"
     ]
    },
    {
     "name": "stderr",
     "output_type": "stream",
     "text": [
      " 12%|█████████                                                                  | 4502/37402 [30:00<3:51:42,  2.37it/s]"
     ]
    },
    {
     "name": "stdout",
     "output_type": "stream",
     "text": [
      "Folder: snap/vqa_test \n",
      " Epoch 7 Iter: 4500/37402\n",
      "  Masked Tags : 1.359899\n",
      "  Text Only Masked LM : 1.808451\n",
      "  attr : 1.222236\n",
      "  feat : 0.08243372\n",
      "  obj : 3.291612\n",
      "\n"
     ]
    },
    {
     "name": "stderr",
     "output_type": "stream",
     "text": [
      " 13%|██████████                                                                 | 5001/37402 [33:14<4:24:02,  2.05it/s]"
     ]
    },
    {
     "name": "stdout",
     "output_type": "stream",
     "text": [
      "Folder: snap/vqa_test \n",
      " Epoch 7 Iter: 5000/37402\n",
      "  Masked Tags : 1.415847\n",
      "  Text Only Masked LM : 1.758157\n",
      "  attr : 1.239164\n",
      "  feat : 0.08177676\n",
      "  obj : 3.278026\n",
      "\n"
     ]
    },
    {
     "name": "stderr",
     "output_type": "stream",
     "text": [
      " 15%|███████████                                                                | 5501/37402 [36:32<3:27:45,  2.56it/s]"
     ]
    },
    {
     "name": "stdout",
     "output_type": "stream",
     "text": [
      "Folder: snap/vqa_test \n",
      " Epoch 7 Iter: 5500/37402\n",
      "  Masked Tags : 1.396675\n",
      "  Text Only Masked LM : 1.778652\n",
      "  attr : 1.248718\n",
      "  feat : 0.08300145\n",
      "  obj : 3.259154\n",
      "\n"
     ]
    },
    {
     "name": "stderr",
     "output_type": "stream",
     "text": [
      " 16%|████████████                                                               | 6001/37402 [39:52<5:13:02,  1.67it/s]"
     ]
    },
    {
     "name": "stdout",
     "output_type": "stream",
     "text": [
      "Folder: snap/vqa_test \n",
      " Epoch 7 Iter: 6000/37402\n",
      "  Masked Tags : 1.372738\n",
      "  Text Only Masked LM : 1.825927\n",
      "  attr : 1.242361\n",
      "  feat : 0.08302595\n",
      "  obj : 3.278121\n",
      "\n"
     ]
    },
    {
     "name": "stderr",
     "output_type": "stream",
     "text": [
      " 17%|█████████████                                                              | 6501/37402 [43:18<3:46:38,  2.27it/s]"
     ]
    },
    {
     "name": "stdout",
     "output_type": "stream",
     "text": [
      "Folder: snap/vqa_test \n",
      " Epoch 7 Iter: 6500/37402\n",
      "  Masked Tags : 1.373318\n",
      "  Text Only Masked LM : 1.780704\n",
      "  attr : 1.240585\n",
      "  feat : 0.08181435\n",
      "  obj : 3.282206\n",
      "\n"
     ]
    },
    {
     "name": "stderr",
     "output_type": "stream",
     "text": [
      " 19%|██████████████                                                             | 7001/37402 [46:39<3:45:29,  2.25it/s]"
     ]
    },
    {
     "name": "stdout",
     "output_type": "stream",
     "text": [
      "Folder: snap/vqa_test \n",
      " Epoch 7 Iter: 7000/37402\n",
      "  Masked Tags : 1.374583\n",
      "  Text Only Masked LM : 1.76386\n",
      "  attr : 1.240955\n",
      "  feat : 0.08299323\n",
      "  obj : 3.273436\n",
      "\n"
     ]
    },
    {
     "name": "stderr",
     "output_type": "stream",
     "text": [
      " 20%|███████████████                                                            | 7501/37402 [49:49<3:34:08,  2.33it/s]"
     ]
    },
    {
     "name": "stdout",
     "output_type": "stream",
     "text": [
      "Folder: snap/vqa_test \n",
      " Epoch 7 Iter: 7500/37402\n",
      "  Masked Tags : 1.382203\n",
      "  Text Only Masked LM : 1.77457\n",
      "  attr : 1.223159\n",
      "  feat : 0.0826643\n",
      "  obj : 3.259688\n",
      "\n"
     ]
    },
    {
     "name": "stderr",
     "output_type": "stream",
     "text": [
      " 21%|████████████████                                                           | 8001/37402 [53:05<4:25:21,  1.85it/s]"
     ]
    },
    {
     "name": "stdout",
     "output_type": "stream",
     "text": [
      "Folder: snap/vqa_test \n",
      " Epoch 7 Iter: 8000/37402\n",
      "  Masked Tags : 1.375887\n",
      "  Text Only Masked LM : 1.798918\n",
      "  attr : 1.229351\n",
      "  feat : 0.08233071\n",
      "  obj : 3.280808\n",
      "\n"
     ]
    },
    {
     "name": "stderr",
     "output_type": "stream",
     "text": [
      " 23%|█████████████████                                                          | 8501/37402 [56:26<2:56:49,  2.72it/s]"
     ]
    },
    {
     "name": "stdout",
     "output_type": "stream",
     "text": [
      "Folder: snap/vqa_test \n",
      " Epoch 7 Iter: 8500/37402\n",
      "  Masked Tags : 1.426287\n",
      "  Text Only Masked LM : 1.799085\n",
      "  attr : 1.215959\n",
      "  feat : 0.08087522\n",
      "  obj : 3.295166\n",
      "\n"
     ]
    },
    {
     "name": "stderr",
     "output_type": "stream",
     "text": [
      " 24%|██████████████████                                                         | 9002/37402 [59:45<2:19:10,  3.40it/s]"
     ]
    },
    {
     "name": "stdout",
     "output_type": "stream",
     "text": [
      "Folder: snap/vqa_test \n",
      " Epoch 7 Iter: 9000/37402\n",
      "  Masked Tags : 1.363872\n",
      "  Text Only Masked LM : 1.77472\n",
      "  attr : 1.222121\n",
      "  feat : 0.08105342\n",
      "  obj : 3.296891\n",
      "\n"
     ]
    },
    {
     "name": "stderr",
     "output_type": "stream",
     "text": [
      " 25%|██████████████████▌                                                      | 9501/37402 [1:02:59<3:09:23,  2.46it/s]"
     ]
    },
    {
     "name": "stdout",
     "output_type": "stream",
     "text": [
      "Folder: snap/vqa_test \n",
      " Epoch 7 Iter: 9500/37402\n",
      "  Masked Tags : 1.380039\n",
      "  Text Only Masked LM : 1.753873\n",
      "  attr : 1.269561\n",
      "  feat : 0.08124891\n",
      "  obj : 3.312538\n",
      "\n"
     ]
    },
    {
     "name": "stderr",
     "output_type": "stream",
     "text": [
      " 27%|███████████████████▎                                                    | 10001/37402 [1:06:10<2:17:56,  3.31it/s]"
     ]
    },
    {
     "name": "stdout",
     "output_type": "stream",
     "text": [
      "Folder: snap/vqa_test \n",
      " Epoch 7 Iter: 10000/37402\n",
      "  Masked Tags : 1.356404\n",
      "  Text Only Masked LM : 1.731252\n",
      "  attr : 1.264555\n",
      "  feat : 0.08155065\n",
      "  obj : 3.305327\n",
      "\n"
     ]
    },
    {
     "name": "stderr",
     "output_type": "stream",
     "text": [
      " 28%|████████████████████▏                                                   | 10501/37402 [1:09:39<3:19:34,  2.25it/s]"
     ]
    },
    {
     "name": "stdout",
     "output_type": "stream",
     "text": [
      "Folder: snap/vqa_test \n",
      " Epoch 7 Iter: 10500/37402\n",
      "  Masked Tags : 1.375904\n",
      "  Text Only Masked LM : 1.791431\n",
      "  attr : 1.23813\n",
      "  feat : 0.08155441\n",
      "  obj : 3.284446\n",
      "\n"
     ]
    },
    {
     "name": "stderr",
     "output_type": "stream",
     "text": [
      " 29%|█████████████████████▏                                                  | 11001/37402 [1:12:55<4:31:13,  1.62it/s]"
     ]
    },
    {
     "name": "stdout",
     "output_type": "stream",
     "text": [
      "Folder: snap/vqa_test \n",
      " Epoch 7 Iter: 11000/37402\n",
      "  Masked Tags : 1.365667\n",
      "  Text Only Masked LM : 1.783402\n",
      "  attr : 1.239692\n",
      "  feat : 0.08237053\n",
      "  obj : 3.265727\n",
      "\n"
     ]
    },
    {
     "name": "stderr",
     "output_type": "stream",
     "text": [
      " 31%|██████████████████████▏                                                 | 11501/37402 [1:16:19<2:51:15,  2.52it/s]"
     ]
    },
    {
     "name": "stdout",
     "output_type": "stream",
     "text": [
      "Folder: snap/vqa_test \n",
      " Epoch 7 Iter: 11500/37402\n",
      "  Masked Tags : 1.366734\n",
      "  Text Only Masked LM : 1.783091\n",
      "  attr : 1.232473\n",
      "  feat : 0.08079434\n",
      "  obj : 3.301009\n",
      "\n"
     ]
    },
    {
     "name": "stderr",
     "output_type": "stream",
     "text": [
      " 32%|███████████████████████                                                 | 12001/37402 [1:19:41<2:27:39,  2.87it/s]"
     ]
    },
    {
     "name": "stdout",
     "output_type": "stream",
     "text": [
      "Folder: snap/vqa_test \n",
      " Epoch 7 Iter: 12000/37402\n",
      "  Masked Tags : 1.398214\n",
      "  Text Only Masked LM : 1.796412\n",
      "  attr : 1.251358\n",
      "  feat : 0.08270583\n",
      "  obj : 3.275877\n",
      "\n"
     ]
    },
    {
     "name": "stderr",
     "output_type": "stream",
     "text": [
      " 33%|████████████████████████                                                | 12501/37402 [1:23:06<2:34:23,  2.69it/s]"
     ]
    },
    {
     "name": "stdout",
     "output_type": "stream",
     "text": [
      "Folder: snap/vqa_test \n",
      " Epoch 7 Iter: 12500/37402\n",
      "  Masked Tags : 1.390458\n",
      "  Text Only Masked LM : 1.747764\n",
      "  attr : 1.222935\n",
      "  feat : 0.08302913\n",
      "  obj : 3.263953\n",
      "\n"
     ]
    },
    {
     "name": "stderr",
     "output_type": "stream",
     "text": [
      " 35%|█████████████████████████                                               | 13001/37402 [1:26:12<3:53:41,  1.74it/s]"
     ]
    },
    {
     "name": "stdout",
     "output_type": "stream",
     "text": [
      "Folder: snap/vqa_test \n",
      " Epoch 7 Iter: 13000/37402\n",
      "  Masked Tags : 1.382714\n",
      "  Text Only Masked LM : 1.764877\n",
      "  attr : 1.214839\n",
      "  feat : 0.08278775\n",
      "  obj : 3.239986\n",
      "\n"
     ]
    },
    {
     "name": "stderr",
     "output_type": "stream",
     "text": [
      " 36%|█████████████████████████▉                                              | 13501/37402 [1:29:41<2:24:55,  2.75it/s]"
     ]
    },
    {
     "name": "stdout",
     "output_type": "stream",
     "text": [
      "Folder: snap/vqa_test \n",
      " Epoch 7 Iter: 13500/37402\n",
      "  Masked Tags : 1.360375\n",
      "  Text Only Masked LM : 1.781122\n",
      "  attr : 1.226996\n",
      "  feat : 0.0845086\n",
      "  obj : 3.274838\n",
      "\n"
     ]
    },
    {
     "name": "stderr",
     "output_type": "stream",
     "text": [
      " 37%|██████████████████████████▉                                             | 14001/37402 [1:33:03<2:38:24,  2.46it/s]"
     ]
    },
    {
     "name": "stdout",
     "output_type": "stream",
     "text": [
      "Folder: snap/vqa_test \n",
      " Epoch 7 Iter: 14000/37402\n",
      "  Masked Tags : 1.370667\n",
      "  Text Only Masked LM : 1.781384\n",
      "  attr : 1.234709\n",
      "  feat : 0.08362112\n",
      "  obj : 3.258766\n",
      "\n"
     ]
    },
    {
     "name": "stderr",
     "output_type": "stream",
     "text": [
      " 39%|███████████████████████████▉                                            | 14501/37402 [1:36:24<2:22:13,  2.68it/s]"
     ]
    },
    {
     "name": "stdout",
     "output_type": "stream",
     "text": [
      "Folder: snap/vqa_test \n",
      " Epoch 7 Iter: 14500/37402\n",
      "  Masked Tags : 1.381168\n",
      "  Text Only Masked LM : 1.791691\n",
      "  attr : 1.233757\n",
      "  feat : 0.08348651\n",
      "  obj : 3.261403\n",
      "\n"
     ]
    },
    {
     "name": "stderr",
     "output_type": "stream",
     "text": [
      " 40%|████████████████████████████▉                                           | 15001/37402 [1:39:50<2:16:47,  2.73it/s]"
     ]
    },
    {
     "name": "stdout",
     "output_type": "stream",
     "text": [
      "Folder: snap/vqa_test \n",
      " Epoch 7 Iter: 15000/37402\n",
      "  Masked Tags : 1.345593\n",
      "  Text Only Masked LM : 1.838741\n",
      "  attr : 1.229996\n",
      "  feat : 0.08025418\n",
      "  obj : 3.292607\n",
      "\n"
     ]
    },
    {
     "name": "stderr",
     "output_type": "stream",
     "text": [
      " 41%|█████████████████████████████▊                                          | 15501/37402 [1:43:13<2:28:35,  2.46it/s]"
     ]
    },
    {
     "name": "stdout",
     "output_type": "stream",
     "text": [
      "Folder: snap/vqa_test \n",
      " Epoch 7 Iter: 15500/37402\n",
      "  Masked Tags : 1.35321\n",
      "  Text Only Masked LM : 1.774358\n",
      "  attr : 1.23957\n",
      "  feat : 0.08218391\n",
      "  obj : 3.314329\n",
      "\n"
     ]
    },
    {
     "name": "stderr",
     "output_type": "stream",
     "text": [
      " 43%|██████████████████████████████▊                                         | 16001/37402 [1:46:31<1:59:24,  2.99it/s]"
     ]
    },
    {
     "name": "stdout",
     "output_type": "stream",
     "text": [
      "Folder: snap/vqa_test \n",
      " Epoch 7 Iter: 16000/37402\n",
      "  Masked Tags : 1.359002\n",
      "  Text Only Masked LM : 1.785461\n",
      "  attr : 1.240004\n",
      "  feat : 0.08155401\n",
      "  obj : 3.255849\n",
      "\n"
     ]
    },
    {
     "name": "stderr",
     "output_type": "stream",
     "text": [
      " 44%|███████████████████████████████▊                                        | 16501/37402 [1:49:51<2:35:36,  2.24it/s]"
     ]
    },
    {
     "name": "stdout",
     "output_type": "stream",
     "text": [
      "Folder: snap/vqa_test \n",
      " Epoch 7 Iter: 16500/37402\n",
      "  Masked Tags : 1.360412\n",
      "  Text Only Masked LM : 1.775157\n",
      "  attr : 1.248306\n",
      "  feat : 0.08239706\n",
      "  obj : 3.312899\n",
      "\n"
     ]
    },
    {
     "name": "stderr",
     "output_type": "stream",
     "text": [
      " 45%|████████████████████████████████▋                                       | 17002/37402 [1:53:15<1:42:17,  3.32it/s]"
     ]
    },
    {
     "name": "stdout",
     "output_type": "stream",
     "text": [
      "Folder: snap/vqa_test \n",
      " Epoch 7 Iter: 17000/37402\n",
      "  Masked Tags : 1.362778\n",
      "  Text Only Masked LM : 1.750419\n",
      "  attr : 1.228694\n",
      "  feat : 0.0818853\n",
      "  obj : 3.293428\n",
      "\n"
     ]
    },
    {
     "name": "stderr",
     "output_type": "stream",
     "text": [
      " 47%|█████████████████████████████████▋                                      | 17501/37402 [1:56:27<2:27:41,  2.25it/s]"
     ]
    },
    {
     "name": "stdout",
     "output_type": "stream",
     "text": [
      "Folder: snap/vqa_test \n",
      " Epoch 7 Iter: 17500/37402\n",
      "  Masked Tags : 1.354728\n",
      "  Text Only Masked LM : 1.795595\n",
      "  attr : 1.229972\n",
      "  feat : 0.08066737\n",
      "  obj : 3.28458\n",
      "\n"
     ]
    },
    {
     "name": "stderr",
     "output_type": "stream",
     "text": [
      " 48%|██████████████████████████████████▋                                     | 18001/37402 [1:59:51<2:08:17,  2.52it/s]"
     ]
    },
    {
     "name": "stdout",
     "output_type": "stream",
     "text": [
      "Folder: snap/vqa_test \n",
      " Epoch 7 Iter: 18000/37402\n",
      "  Masked Tags : 1.35258\n",
      "  Text Only Masked LM : 1.787175\n",
      "  attr : 1.242113\n",
      "  feat : 0.08209236\n",
      "  obj : 3.26827\n",
      "\n"
     ]
    },
    {
     "name": "stderr",
     "output_type": "stream",
     "text": [
      " 49%|███████████████████████████████████▌                                    | 18502/37402 [2:03:15<1:42:05,  3.09it/s]"
     ]
    },
    {
     "name": "stdout",
     "output_type": "stream",
     "text": [
      "Folder: snap/vqa_test \n",
      " Epoch 7 Iter: 18500/37402\n",
      "  Masked Tags : 1.372566\n",
      "  Text Only Masked LM : 1.809239\n",
      "  attr : 1.23147\n",
      "  feat : 0.08022868\n",
      "  obj : 3.27313\n",
      "\n"
     ]
    },
    {
     "name": "stderr",
     "output_type": "stream",
     "text": [
      " 51%|████████████████████████████████████▌                                   | 19001/37402 [2:06:29<1:59:04,  2.58it/s]"
     ]
    },
    {
     "name": "stdout",
     "output_type": "stream",
     "text": [
      "Folder: snap/vqa_test \n",
      " Epoch 7 Iter: 19000/37402\n",
      "  Masked Tags : 1.345769\n",
      "  Text Only Masked LM : 1.770251\n",
      "  attr : 1.220802\n",
      "  feat : 0.0823239\n",
      "  obj : 3.290401\n",
      "\n"
     ]
    },
    {
     "name": "stderr",
     "output_type": "stream",
     "text": [
      " 52%|█████████████████████████████████████▌                                  | 19502/37402 [2:09:52<2:04:42,  2.39it/s]"
     ]
    },
    {
     "name": "stdout",
     "output_type": "stream",
     "text": [
      "Folder: snap/vqa_test \n",
      " Epoch 7 Iter: 19500/37402\n",
      "  Masked Tags : 1.378633\n",
      "  Text Only Masked LM : 1.777882\n",
      "  attr : 1.227596\n",
      "  feat : 0.08357201\n",
      "  obj : 3.284991\n",
      "\n"
     ]
    },
    {
     "name": "stderr",
     "output_type": "stream",
     "text": [
      " 53%|██████████████████████████████████████▌                                 | 20001/37402 [2:13:11<1:49:26,  2.65it/s]"
     ]
    },
    {
     "name": "stdout",
     "output_type": "stream",
     "text": [
      "Folder: snap/vqa_test \n",
      " Epoch 7 Iter: 20000/37402\n",
      "  Masked Tags : 1.357492\n",
      "  Text Only Masked LM : 1.775213\n",
      "  attr : 1.235413\n",
      "  feat : 0.08014154\n",
      "  obj : 3.283465\n",
      "\n"
     ]
    },
    {
     "name": "stderr",
     "output_type": "stream",
     "text": [
      " 55%|███████████████████████████████████████▍                                | 20501/37402 [2:16:37<1:53:30,  2.48it/s]"
     ]
    },
    {
     "name": "stdout",
     "output_type": "stream",
     "text": [
      "Folder: snap/vqa_test \n",
      " Epoch 7 Iter: 20500/37402\n",
      "  Masked Tags : 1.336501\n",
      "  Text Only Masked LM : 1.767927\n",
      "  attr : 1.230628\n",
      "  feat : 0.08269901\n",
      "  obj : 3.278519\n",
      "\n"
     ]
    },
    {
     "name": "stderr",
     "output_type": "stream",
     "text": [
      " 56%|████████████████████████████████████████▍                               | 21001/37402 [2:19:53<1:44:48,  2.61it/s]"
     ]
    },
    {
     "name": "stdout",
     "output_type": "stream",
     "text": [
      "Folder: snap/vqa_test \n",
      " Epoch 7 Iter: 21000/37402\n",
      "  Masked Tags : 1.358977\n",
      "  Text Only Masked LM : 1.762213\n",
      "  attr : 1.233117\n",
      "  feat : 0.08091003\n",
      "  obj : 3.287665\n",
      "\n"
     ]
    },
    {
     "name": "stderr",
     "output_type": "stream",
     "text": [
      " 57%|█████████████████████████████████████████▍                              | 21501/37402 [2:23:20<1:40:39,  2.63it/s]"
     ]
    },
    {
     "name": "stdout",
     "output_type": "stream",
     "text": [
      "Folder: snap/vqa_test \n",
      " Epoch 7 Iter: 21500/37402\n",
      "  Masked Tags : 1.355036\n",
      "  Text Only Masked LM : 1.793031\n",
      "  attr : 1.242488\n",
      "  feat : 0.08211783\n",
      "  obj : 3.29592\n",
      "\n"
     ]
    },
    {
     "name": "stderr",
     "output_type": "stream",
     "text": [
      " 59%|██████████████████████████████████████████▎                             | 22001/37402 [2:26:45<1:38:19,  2.61it/s]"
     ]
    },
    {
     "name": "stdout",
     "output_type": "stream",
     "text": [
      "Folder: snap/vqa_test \n",
      " Epoch 7 Iter: 22000/37402\n",
      "  Masked Tags : 1.323239\n",
      "  Text Only Masked LM : 1.797112\n",
      "  attr : 1.227585\n",
      "  feat : 0.08111755\n",
      "  obj : 3.279863\n",
      "\n"
     ]
    },
    {
     "name": "stderr",
     "output_type": "stream",
     "text": [
      " 60%|███████████████████████████████████████████▎                            | 22501/37402 [2:30:18<1:37:43,  2.54it/s]"
     ]
    },
    {
     "name": "stdout",
     "output_type": "stream",
     "text": [
      "Folder: snap/vqa_test \n",
      " Epoch 7 Iter: 22500/37402\n",
      "  Masked Tags : 1.354157\n",
      "  Text Only Masked LM : 1.796131\n",
      "  attr : 1.241096\n",
      "  feat : 0.08195236\n",
      "  obj : 3.299054\n",
      "\n"
     ]
    },
    {
     "name": "stderr",
     "output_type": "stream",
     "text": [
      " 61%|████████████████████████████████████████████▎                           | 23001/37402 [2:33:32<1:18:54,  3.04it/s]"
     ]
    },
    {
     "name": "stdout",
     "output_type": "stream",
     "text": [
      "Folder: snap/vqa_test \n",
      " Epoch 7 Iter: 23000/37402\n",
      "  Masked Tags : 1.339935\n",
      "  Text Only Masked LM : 1.766237\n",
      "  attr : 1.256298\n",
      "  feat : 0.083848\n",
      "  obj : 3.260216\n",
      "\n"
     ]
    },
    {
     "name": "stderr",
     "output_type": "stream",
     "text": [
      " 63%|█████████████████████████████████████████████▏                          | 23501/37402 [2:36:52<1:22:13,  2.82it/s]"
     ]
    },
    {
     "name": "stdout",
     "output_type": "stream",
     "text": [
      "Folder: snap/vqa_test \n",
      " Epoch 7 Iter: 23500/37402\n",
      "  Masked Tags : 1.363604\n",
      "  Text Only Masked LM : 1.822817\n",
      "  attr : 1.25249\n",
      "  feat : 0.08110749\n",
      "  obj : 3.295913\n",
      "\n"
     ]
    },
    {
     "name": "stderr",
     "output_type": "stream",
     "text": [
      " 64%|██████████████████████████████████████████████▏                         | 24001/37402 [2:40:16<1:44:15,  2.14it/s]"
     ]
    },
    {
     "name": "stdout",
     "output_type": "stream",
     "text": [
      "Folder: snap/vqa_test \n",
      " Epoch 7 Iter: 24000/37402\n",
      "  Masked Tags : 1.341253\n",
      "  Text Only Masked LM : 1.798433\n",
      "  attr : 1.251988\n",
      "  feat : 0.08210519\n",
      "  obj : 3.272136\n",
      "\n"
     ]
    },
    {
     "name": "stderr",
     "output_type": "stream",
     "text": [
      " 66%|███████████████████████████████████████████████▏                        | 24501/37402 [2:43:35<1:09:43,  3.08it/s]"
     ]
    },
    {
     "name": "stdout",
     "output_type": "stream",
     "text": [
      "Folder: snap/vqa_test \n",
      " Epoch 7 Iter: 24500/37402\n",
      "  Masked Tags : 1.300477\n",
      "  Text Only Masked LM : 1.796458\n",
      "  attr : 1.244663\n",
      "  feat : 0.08161436\n",
      "  obj : 3.272373\n",
      "\n"
     ]
    },
    {
     "name": "stderr",
     "output_type": "stream",
     "text": [
      " 67%|█████████████████████████████████████████████████▍                        | 25002/37402 [2:47:03<58:03,  3.56it/s]"
     ]
    },
    {
     "name": "stdout",
     "output_type": "stream",
     "text": [
      "Folder: snap/vqa_test \n",
      " Epoch 7 Iter: 25000/37402\n",
      "  Masked Tags : 1.363766\n",
      "  Text Only Masked LM : 1.762671\n",
      "  attr : 1.24125\n",
      "  feat : 0.08336227\n",
      "  obj : 3.295031\n",
      "\n"
     ]
    },
    {
     "name": "stderr",
     "output_type": "stream",
     "text": [
      " 68%|█████████████████████████████████████████████████                       | 25501/37402 [2:50:25<1:33:41,  2.12it/s]"
     ]
    },
    {
     "name": "stdout",
     "output_type": "stream",
     "text": [
      "Folder: snap/vqa_test \n",
      " Epoch 7 Iter: 25500/37402\n",
      "  Masked Tags : 1.357802\n",
      "  Text Only Masked LM : 1.778667\n",
      "  attr : 1.242668\n",
      "  feat : 0.08273231\n",
      "  obj : 3.242168\n",
      "\n"
     ]
    },
    {
     "name": "stderr",
     "output_type": "stream",
     "text": [
      " 70%|██████████████████████████████████████████████████                      | 26001/37402 [2:53:51<1:52:20,  1.69it/s]"
     ]
    },
    {
     "name": "stdout",
     "output_type": "stream",
     "text": [
      "Folder: snap/vqa_test \n",
      " Epoch 7 Iter: 26000/37402\n",
      "  Masked Tags : 1.332684\n",
      "  Text Only Masked LM : 1.77966\n",
      "  attr : 1.241679\n",
      "  feat : 0.08229934\n",
      "  obj : 3.281457\n",
      "\n"
     ]
    },
    {
     "name": "stderr",
     "output_type": "stream",
     "text": [
      " 71%|███████████████████████████████████████████████████                     | 26501/37402 [2:57:19<1:16:17,  2.38it/s]"
     ]
    },
    {
     "name": "stdout",
     "output_type": "stream",
     "text": [
      "Folder: snap/vqa_test \n",
      " Epoch 7 Iter: 26500/37402\n",
      "  Masked Tags : 1.348212\n",
      "  Text Only Masked LM : 1.813524\n",
      "  attr : 1.239849\n",
      "  feat : 0.08128757\n",
      "  obj : 3.292598\n",
      "\n"
     ]
    },
    {
     "name": "stderr",
     "output_type": "stream",
     "text": [
      " 72%|███████████████████████████████████████████████████▉                    | 27001/37402 [3:00:42<1:03:46,  2.72it/s]"
     ]
    },
    {
     "name": "stdout",
     "output_type": "stream",
     "text": [
      "Folder: snap/vqa_test \n",
      " Epoch 7 Iter: 27000/37402\n",
      "  Masked Tags : 1.327405\n",
      "  Text Only Masked LM : 1.811163\n",
      "  attr : 1.236361\n",
      "  feat : 0.08242447\n",
      "  obj : 3.297485\n",
      "\n"
     ]
    },
    {
     "name": "stderr",
     "output_type": "stream",
     "text": [
      " 74%|████████████████████████████████████████████████████▉                   | 27501/37402 [3:04:02<1:06:15,  2.49it/s]"
     ]
    },
    {
     "name": "stdout",
     "output_type": "stream",
     "text": [
      "Folder: snap/vqa_test \n",
      " Epoch 7 Iter: 27500/37402\n",
      "  Masked Tags : 1.345195\n",
      "  Text Only Masked LM : 1.78336\n",
      "  attr : 1.247967\n",
      "  feat : 0.0804524\n",
      "  obj : 3.264097\n",
      "\n"
     ]
    },
    {
     "name": "stderr",
     "output_type": "stream",
     "text": [
      " 75%|███████████████████████████████████████████████████████▍                  | 28001/37402 [3:07:20<57:41,  2.72it/s]"
     ]
    },
    {
     "name": "stdout",
     "output_type": "stream",
     "text": [
      "Folder: snap/vqa_test \n",
      " Epoch 7 Iter: 28000/37402\n",
      "  Masked Tags : 1.332274\n",
      "  Text Only Masked LM : 1.739813\n",
      "  attr : 1.226246\n",
      "  feat : 0.08294491\n",
      "  obj : 3.26402\n",
      "\n"
     ]
    },
    {
     "name": "stderr",
     "output_type": "stream",
     "text": [
      " 76%|████████████████████████████████████████████████████████▍                 | 28501/37402 [3:10:44<58:42,  2.53it/s]"
     ]
    },
    {
     "name": "stdout",
     "output_type": "stream",
     "text": [
      "Folder: snap/vqa_test \n",
      " Epoch 7 Iter: 28500/37402\n",
      "  Masked Tags : 1.324604\n",
      "  Text Only Masked LM : 1.788419\n",
      "  attr : 1.248571\n",
      "  feat : 0.08220392\n",
      "  obj : 3.292172\n",
      "\n"
     ]
    },
    {
     "name": "stderr",
     "output_type": "stream",
     "text": [
      " 78%|█████████████████████████████████████████████████████████▍                | 29001/37402 [3:14:01<47:46,  2.93it/s]"
     ]
    },
    {
     "name": "stdout",
     "output_type": "stream",
     "text": [
      "Folder: snap/vqa_test \n",
      " Epoch 7 Iter: 29000/37402\n",
      "  Masked Tags : 1.328847\n",
      "  Text Only Masked LM : 1.761109\n",
      "  attr : 1.224268\n",
      "  feat : 0.08100051\n",
      "  obj : 3.319643\n",
      "\n"
     ]
    },
    {
     "name": "stderr",
     "output_type": "stream",
     "text": [
      " 79%|██████████████████████████████████████████████████████████▎               | 29501/37402 [3:17:22<41:37,  3.16it/s]"
     ]
    },
    {
     "name": "stdout",
     "output_type": "stream",
     "text": [
      "Folder: snap/vqa_test \n",
      " Epoch 7 Iter: 29500/37402\n",
      "  Masked Tags : 1.346755\n",
      "  Text Only Masked LM : 1.786171\n",
      "  attr : 1.227653\n",
      "  feat : 0.08147892\n",
      "  obj : 3.297027\n",
      "\n"
     ]
    },
    {
     "name": "stderr",
     "output_type": "stream",
     "text": [
      " 80%|███████████████████████████████████████████████████████████▎              | 30002/37402 [3:20:37<51:44,  2.38it/s]"
     ]
    },
    {
     "name": "stdout",
     "output_type": "stream",
     "text": [
      "Folder: snap/vqa_test \n",
      " Epoch 7 Iter: 30000/37402\n",
      "  Masked Tags : 1.368055\n",
      "  Text Only Masked LM : 1.80837\n",
      "  attr : 1.258796\n",
      "  feat : 0.08364824\n",
      "  obj : 3.282287\n",
      "\n"
     ]
    },
    {
     "name": "stderr",
     "output_type": "stream",
     "text": [
      " 82%|████████████████████████████████████████████████████████████▎             | 30501/37402 [3:23:57<52:39,  2.18it/s]"
     ]
    },
    {
     "name": "stdout",
     "output_type": "stream",
     "text": [
      "Folder: snap/vqa_test \n",
      " Epoch 7 Iter: 30500/37402\n",
      "  Masked Tags : 1.354533\n",
      "  Text Only Masked LM : 1.76779\n",
      "  attr : 1.233421\n",
      "  feat : 0.08324623\n",
      "  obj : 3.275098\n",
      "\n"
     ]
    },
    {
     "name": "stderr",
     "output_type": "stream",
     "text": [
      " 83%|█████████████████████████████████████████████████████████████▎            | 31001/37402 [3:27:16<37:37,  2.84it/s]"
     ]
    },
    {
     "name": "stdout",
     "output_type": "stream",
     "text": [
      "Folder: snap/vqa_test \n",
      " Epoch 7 Iter: 31000/37402\n",
      "  Masked Tags : 1.378728\n",
      "  Text Only Masked LM : 1.760163\n",
      "  attr : 1.243524\n",
      "  feat : 0.08129796\n",
      "  obj : 3.268134\n",
      "\n"
     ]
    },
    {
     "name": "stderr",
     "output_type": "stream",
     "text": [
      " 84%|██████████████████████████████████████████████████████████████▎           | 31501/37402 [3:30:47<49:40,  1.98it/s]"
     ]
    },
    {
     "name": "stdout",
     "output_type": "stream",
     "text": [
      "Folder: snap/vqa_test \n",
      " Epoch 7 Iter: 31500/37402\n",
      "  Masked Tags : 1.353389\n",
      "  Text Only Masked LM : 1.781492\n",
      "  attr : 1.23111\n",
      "  feat : 0.08270959\n",
      "  obj : 3.270868\n",
      "\n"
     ]
    },
    {
     "name": "stderr",
     "output_type": "stream",
     "text": [
      " 86%|███████████████████████████████████████████████████████████████▎          | 32001/37402 [3:34:10<29:30,  3.05it/s]"
     ]
    },
    {
     "name": "stdout",
     "output_type": "stream",
     "text": [
      "Folder: snap/vqa_test \n",
      " Epoch 7 Iter: 32000/37402\n",
      "  Masked Tags : 1.326777\n",
      "  Text Only Masked LM : 1.745834\n",
      "  attr : 1.22718\n",
      "  feat : 0.08205527\n",
      "  obj : 3.287172\n",
      "\n"
     ]
    },
    {
     "name": "stderr",
     "output_type": "stream",
     "text": [
      " 87%|████████████████████████████████████████████████████████████████▎         | 32501/37402 [3:37:37<37:10,  2.20it/s]"
     ]
    },
    {
     "name": "stdout",
     "output_type": "stream",
     "text": [
      "Folder: snap/vqa_test \n",
      " Epoch 7 Iter: 32500/37402\n",
      "  Masked Tags : 1.315738\n",
      "  Text Only Masked LM : 1.77734\n",
      "  attr : 1.234768\n",
      "  feat : 0.08096466\n",
      "  obj : 3.304949\n",
      "\n"
     ]
    },
    {
     "name": "stderr",
     "output_type": "stream",
     "text": [
      " 88%|█████████████████████████████████████████████████████████████████▎        | 33001/37402 [3:40:58<24:28,  3.00it/s]"
     ]
    },
    {
     "name": "stdout",
     "output_type": "stream",
     "text": [
      "Folder: snap/vqa_test \n",
      " Epoch 7 Iter: 33000/37402\n",
      "  Masked Tags : 1.361812\n",
      "  Text Only Masked LM : 1.780216\n",
      "  attr : 1.224263\n",
      "  feat : 0.08123161\n",
      "  obj : 3.270699\n",
      "\n"
     ]
    },
    {
     "name": "stderr",
     "output_type": "stream",
     "text": [
      " 90%|██████████████████████████████████████████████████████████████████▎       | 33502/37402 [3:44:21<19:47,  3.28it/s]"
     ]
    },
    {
     "name": "stdout",
     "output_type": "stream",
     "text": [
      "Folder: snap/vqa_test \n",
      " Epoch 7 Iter: 33500/37402\n",
      "  Masked Tags : 1.337366\n",
      "  Text Only Masked LM : 1.775201\n",
      "  attr : 1.234375\n",
      "  feat : 0.08177284\n",
      "  obj : 3.278592\n",
      "\n"
     ]
    },
    {
     "name": "stderr",
     "output_type": "stream",
     "text": [
      " 91%|███████████████████████████████████████████████████████████████████▎      | 34001/37402 [3:47:44<21:59,  2.58it/s]"
     ]
    },
    {
     "name": "stdout",
     "output_type": "stream",
     "text": [
      "Folder: snap/vqa_test \n",
      " Epoch 7 Iter: 34000/37402\n",
      "  Masked Tags : 1.338483\n",
      "  Text Only Masked LM : 1.782738\n",
      "  attr : 1.22786\n",
      "  feat : 0.08236859\n",
      "  obj : 3.270573\n",
      "\n"
     ]
    },
    {
     "name": "stderr",
     "output_type": "stream",
     "text": [
      " 92%|████████████████████████████████████████████████████████████████████▎     | 34501/37402 [3:51:03<20:49,  2.32it/s]"
     ]
    },
    {
     "name": "stdout",
     "output_type": "stream",
     "text": [
      "Folder: snap/vqa_test \n",
      " Epoch 7 Iter: 34500/37402\n",
      "  Masked Tags : 1.318524\n",
      "  Text Only Masked LM : 1.732913\n",
      "  attr : 1.225702\n",
      "  feat : 0.08457406\n",
      "  obj : 3.271922\n",
      "\n"
     ]
    },
    {
     "name": "stderr",
     "output_type": "stream",
     "text": [
      " 94%|█████████████████████████████████████████████████████████████████████▏    | 35001/37402 [3:54:20<18:21,  2.18it/s]"
     ]
    },
    {
     "name": "stdout",
     "output_type": "stream",
     "text": [
      "Folder: snap/vqa_test \n",
      " Epoch 7 Iter: 35000/37402\n",
      "  Masked Tags : 1.338486\n",
      "  Text Only Masked LM : 1.762219\n",
      "  attr : 1.223668\n",
      "  feat : 0.0821709\n",
      "  obj : 3.228852\n",
      "\n"
     ]
    },
    {
     "name": "stderr",
     "output_type": "stream",
     "text": [
      " 95%|██████████████████████████████████████████████████████████████████████▏   | 35501/37402 [3:57:45<10:39,  2.97it/s]"
     ]
    },
    {
     "name": "stdout",
     "output_type": "stream",
     "text": [
      "Folder: snap/vqa_test \n",
      " Epoch 7 Iter: 35500/37402\n",
      "  Masked Tags : 1.316122\n",
      "  Text Only Masked LM : 1.783618\n",
      "  attr : 1.220542\n",
      "  feat : 0.08247622\n",
      "  obj : 3.300464\n",
      "\n"
     ]
    },
    {
     "name": "stderr",
     "output_type": "stream",
     "text": [
      " 96%|███████████████████████████████████████████████████████████████████████▏  | 36001/37402 [4:01:04<08:29,  2.75it/s]"
     ]
    },
    {
     "name": "stdout",
     "output_type": "stream",
     "text": [
      "Folder: snap/vqa_test \n",
      " Epoch 7 Iter: 36000/37402\n",
      "  Masked Tags : 1.339658\n",
      "  Text Only Masked LM : 1.790112\n",
      "  attr : 1.228146\n",
      "  feat : 0.08314391\n",
      "  obj : 3.270122\n",
      "\n"
     ]
    },
    {
     "name": "stderr",
     "output_type": "stream",
     "text": [
      " 98%|████████████████████████████████████████████████████████████████████████▏ | 36501/37402 [4:04:19<06:05,  2.46it/s]"
     ]
    },
    {
     "name": "stdout",
     "output_type": "stream",
     "text": [
      "Folder: snap/vqa_test \n",
      " Epoch 7 Iter: 36500/37402\n",
      "  Masked Tags : 1.337341\n",
      "  Text Only Masked LM : 1.789353\n",
      "  attr : 1.231498\n",
      "  feat : 0.08264422\n",
      "  obj : 3.277182\n",
      "\n"
     ]
    },
    {
     "name": "stderr",
     "output_type": "stream",
     "text": [
      " 99%|█████████████████████████████████████████████████████████████████████████▏| 37001/37402 [4:07:20<02:43,  2.45it/s]"
     ]
    },
    {
     "name": "stdout",
     "output_type": "stream",
     "text": [
      "Folder: snap/vqa_test \n",
      " Epoch 7 Iter: 37000/37402\n",
      "  Text Only Masked LM : 1.814146\n",
      "\n"
     ]
    },
    {
     "name": "stderr",
     "output_type": "stream",
     "text": [
      "100%|██████████████████████████████████████████████████████████████████████████| 37402/37402 [4:09:22<00:00,  2.50it/s]\n"
     ]
    },
    {
     "name": "stdout",
     "output_type": "stream",
     "text": [
      "The training loss for Epoch 7 is 1.7496\n"
     ]
    },
    {
     "name": "stderr",
     "output_type": "stream",
     "text": [
      "100%|████████████████████████████████████████████████████████████████████████████████| 782/782 [08:15<00:00,  1.58it/s]\n"
     ]
    },
    {
     "name": "stdout",
     "output_type": "stream",
     "text": [
      "Evaluation:\n",
      "  Masked LM : 2.008617\n",
      "  Masked Tags : 1.526336\n",
      "  attr : 1.279759\n",
      "  feat : 0.08256259\n",
      "  obj : 3.22739\n",
      "\n",
      "\n",
      "\n",
      "\n",
      "\n",
      "\n",
      "\n",
      "\n",
      "\n"
     ]
    },
    {
     "name": "stderr",
     "output_type": "stream",
     "text": [
      "  1%|█                                                                           | 501/37402 [03:18<5:27:41,  1.88it/s]"
     ]
    },
    {
     "name": "stdout",
     "output_type": "stream",
     "text": [
      "Folder: snap/vqa_test \n",
      " Epoch 8 Iter: 500/37402\n",
      "  Masked Tags : 1.320797\n",
      "  Text Only Masked LM : 1.567757\n",
      "  attr : 1.230926\n",
      "  feat : 0.08185706\n",
      "  obj : 3.294828\n",
      "\n"
     ]
    },
    {
     "name": "stderr",
     "output_type": "stream",
     "text": [
      "  3%|██                                                                         | 1001/37402 [06:48<3:47:34,  2.67it/s]"
     ]
    },
    {
     "name": "stdout",
     "output_type": "stream",
     "text": [
      "Folder: snap/vqa_test \n",
      " Epoch 8 Iter: 1000/37402\n",
      "  Masked Tags : 1.365567\n",
      "  Text Only Masked LM : 1.751118\n",
      "  attr : 1.2181\n",
      "  feat : 0.08250591\n",
      "  obj : 3.2629\n",
      "\n"
     ]
    },
    {
     "name": "stderr",
     "output_type": "stream",
     "text": [
      "  4%|███                                                                        | 1501/37402 [10:11<2:56:10,  3.40it/s]"
     ]
    },
    {
     "name": "stdout",
     "output_type": "stream",
     "text": [
      "Folder: snap/vqa_test \n",
      " Epoch 8 Iter: 1500/37402\n",
      "  Masked Tags : 1.330028\n",
      "  Text Only Masked LM : 1.776012\n",
      "  attr : 1.223092\n",
      "  feat : 0.08159126\n",
      "  obj : 3.271641\n",
      "\n"
     ]
    },
    {
     "name": "stderr",
     "output_type": "stream",
     "text": [
      "  5%|████                                                                       | 2001/37402 [13:37<4:11:36,  2.34it/s]"
     ]
    },
    {
     "name": "stdout",
     "output_type": "stream",
     "text": [
      "Folder: snap/vqa_test \n",
      " Epoch 8 Iter: 2000/37402\n",
      "  Masked Tags : 1.332243\n",
      "  Text Only Masked LM : 1.764902\n",
      "  attr : 1.226492\n",
      "  feat : 0.0800284\n",
      "  obj : 3.305613\n",
      "\n"
     ]
    },
    {
     "name": "stderr",
     "output_type": "stream",
     "text": [
      "  7%|█████                                                                      | 2501/37402 [16:59<4:03:45,  2.39it/s]"
     ]
    },
    {
     "name": "stdout",
     "output_type": "stream",
     "text": [
      "Folder: snap/vqa_test \n",
      " Epoch 8 Iter: 2500/37402\n",
      "  Masked Tags : 1.369118\n",
      "  Text Only Masked LM : 1.713067\n",
      "  attr : 1.230108\n",
      "  feat : 0.08168194\n",
      "  obj : 3.252413\n",
      "\n"
     ]
    },
    {
     "name": "stderr",
     "output_type": "stream",
     "text": [
      "  8%|██████                                                                     | 3001/37402 [20:34<3:58:32,  2.40it/s]"
     ]
    },
    {
     "name": "stdout",
     "output_type": "stream",
     "text": [
      "Folder: snap/vqa_test \n",
      " Epoch 8 Iter: 3000/37402\n",
      "  Masked Tags : 1.353698\n",
      "  Text Only Masked LM : 1.771286\n",
      "  attr : 1.2106\n",
      "  feat : 0.08230117\n",
      "  obj : 3.287678\n",
      "\n"
     ]
    },
    {
     "name": "stderr",
     "output_type": "stream",
     "text": [
      "  9%|███████                                                                    | 3501/37402 [24:06<3:47:12,  2.49it/s]"
     ]
    },
    {
     "name": "stdout",
     "output_type": "stream",
     "text": [
      "Folder: snap/vqa_test \n",
      " Epoch 8 Iter: 3500/37402\n",
      "  Masked Tags : 1.366469\n",
      "  Text Only Masked LM : 1.762986\n",
      "  attr : 1.230799\n",
      "  feat : 0.08344135\n",
      "  obj : 3.266017\n",
      "\n"
     ]
    },
    {
     "name": "stderr",
     "output_type": "stream",
     "text": [
      " 11%|████████                                                                   | 4001/37402 [27:27<4:01:33,  2.30it/s]"
     ]
    },
    {
     "name": "stdout",
     "output_type": "stream",
     "text": [
      "Folder: snap/vqa_test \n",
      " Epoch 8 Iter: 4000/37402\n",
      "  Masked Tags : 1.340294\n",
      "  Text Only Masked LM : 1.730272\n",
      "  attr : 1.223934\n",
      "  feat : 0.08252217\n",
      "  obj : 3.267549\n",
      "\n"
     ]
    },
    {
     "name": "stderr",
     "output_type": "stream",
     "text": [
      " 12%|█████████                                                                  | 4501/37402 [30:58<4:12:11,  2.17it/s]"
     ]
    },
    {
     "name": "stdout",
     "output_type": "stream",
     "text": [
      "Folder: snap/vqa_test \n",
      " Epoch 8 Iter: 4500/37402\n",
      "  Masked Tags : 1.350288\n",
      "  Text Only Masked LM : 1.778706\n",
      "  attr : 1.219469\n",
      "  feat : 0.08269491\n",
      "  obj : 3.273583\n",
      "\n"
     ]
    },
    {
     "name": "stderr",
     "output_type": "stream",
     "text": [
      " 13%|██████████                                                                 | 5001/37402 [34:19<3:02:54,  2.95it/s]"
     ]
    },
    {
     "name": "stdout",
     "output_type": "stream",
     "text": [
      "Folder: snap/vqa_test \n",
      " Epoch 8 Iter: 5000/37402\n",
      "  Masked Tags : 1.310504\n",
      "  Text Only Masked LM : 1.728389\n",
      "  attr : 1.220006\n",
      "  feat : 0.08180564\n",
      "  obj : 3.272979\n",
      "\n"
     ]
    },
    {
     "name": "stderr",
     "output_type": "stream",
     "text": [
      " 15%|███████████                                                                | 5501/37402 [37:40<2:37:04,  3.39it/s]"
     ]
    },
    {
     "name": "stdout",
     "output_type": "stream",
     "text": [
      "Folder: snap/vqa_test \n",
      " Epoch 8 Iter: 5500/37402\n",
      "  Masked Tags : 1.349727\n",
      "  Text Only Masked LM : 1.741383\n",
      "  attr : 1.245223\n",
      "  feat : 0.08346582\n",
      "  obj : 3.312414\n",
      "\n"
     ]
    },
    {
     "name": "stderr",
     "output_type": "stream",
     "text": [
      " 16%|████████████                                                               | 6001/37402 [41:10<2:40:41,  3.26it/s]"
     ]
    },
    {
     "name": "stdout",
     "output_type": "stream",
     "text": [
      "Folder: snap/vqa_test \n",
      " Epoch 8 Iter: 6000/37402\n",
      "  Masked Tags : 1.336202\n",
      "  Text Only Masked LM : 1.712582\n",
      "  attr : 1.243274\n",
      "  feat : 0.08118941\n",
      "  obj : 3.282626\n",
      "\n"
     ]
    },
    {
     "name": "stderr",
     "output_type": "stream",
     "text": [
      " 17%|█████████████                                                              | 6501/37402 [44:34<3:21:46,  2.55it/s]"
     ]
    },
    {
     "name": "stdout",
     "output_type": "stream",
     "text": [
      "Folder: snap/vqa_test \n",
      " Epoch 8 Iter: 6500/37402\n",
      "  Masked Tags : 1.313041\n",
      "  Text Only Masked LM : 1.744549\n",
      "  attr : 1.22763\n",
      "  feat : 0.08228143\n",
      "  obj : 3.288248\n",
      "\n"
     ]
    },
    {
     "name": "stderr",
     "output_type": "stream",
     "text": [
      " 19%|██████████████                                                             | 7001/37402 [47:57<3:44:54,  2.25it/s]"
     ]
    },
    {
     "name": "stdout",
     "output_type": "stream",
     "text": [
      "Folder: snap/vqa_test \n",
      " Epoch 8 Iter: 7000/37402\n",
      "  Masked Tags : 1.319512\n",
      "  Text Only Masked LM : 1.731381\n",
      "  attr : 1.226367\n",
      "  feat : 0.08360697\n",
      "  obj : 3.278727\n",
      "\n"
     ]
    },
    {
     "name": "stderr",
     "output_type": "stream",
     "text": [
      " 20%|███████████████                                                            | 7501/37402 [51:17<3:33:40,  2.33it/s]"
     ]
    },
    {
     "name": "stdout",
     "output_type": "stream",
     "text": [
      "Folder: snap/vqa_test \n",
      " Epoch 8 Iter: 7500/37402\n",
      "  Masked Tags : 1.323345\n",
      "  Text Only Masked LM : 1.728189\n",
      "  attr : 1.22141\n",
      "  feat : 0.08277985\n",
      "  obj : 3.271848\n",
      "\n"
     ]
    },
    {
     "name": "stderr",
     "output_type": "stream",
     "text": [
      " 21%|████████████████                                                           | 8002/37402 [54:34<3:09:38,  2.58it/s]"
     ]
    },
    {
     "name": "stdout",
     "output_type": "stream",
     "text": [
      "Folder: snap/vqa_test \n",
      " Epoch 8 Iter: 8000/37402\n",
      "  Masked Tags : 1.326266\n",
      "  Text Only Masked LM : 1.733449\n",
      "  attr : 1.223463\n",
      "  feat : 0.08182941\n",
      "  obj : 3.267837\n",
      "\n"
     ]
    },
    {
     "name": "stderr",
     "output_type": "stream",
     "text": [
      " 23%|█████████████████                                                          | 8501/37402 [58:01<3:29:55,  2.29it/s]"
     ]
    },
    {
     "name": "stdout",
     "output_type": "stream",
     "text": [
      "Folder: snap/vqa_test \n",
      " Epoch 8 Iter: 8500/37402\n",
      "  Masked Tags : 1.318548\n",
      "  Text Only Masked LM : 1.771757\n",
      "  attr : 1.236001\n",
      "  feat : 0.08123114\n",
      "  obj : 3.268874\n",
      "\n"
     ]
    },
    {
     "name": "stderr",
     "output_type": "stream",
     "text": [
      " 24%|█████████████████▌                                                       | 9001/37402 [1:01:29<2:36:00,  3.03it/s]"
     ]
    },
    {
     "name": "stdout",
     "output_type": "stream",
     "text": [
      "Folder: snap/vqa_test \n",
      " Epoch 8 Iter: 9000/37402\n",
      "  Masked Tags : 1.315162\n",
      "  Text Only Masked LM : 1.754114\n",
      "  attr : 1.243473\n",
      "  feat : 0.08195328\n",
      "  obj : 3.253717\n",
      "\n"
     ]
    },
    {
     "name": "stderr",
     "output_type": "stream",
     "text": [
      " 25%|██████████████████▌                                                      | 9501/37402 [1:04:56<3:15:12,  2.38it/s]"
     ]
    },
    {
     "name": "stdout",
     "output_type": "stream",
     "text": [
      "Folder: snap/vqa_test \n",
      " Epoch 8 Iter: 9500/37402\n",
      "  Masked Tags : 1.348746\n",
      "  Text Only Masked LM : 1.794652\n",
      "  attr : 1.239042\n",
      "  feat : 0.08183028\n",
      "  obj : 3.267114\n",
      "\n"
     ]
    },
    {
     "name": "stderr",
     "output_type": "stream",
     "text": [
      " 27%|███████████████████▎                                                    | 10001/37402 [1:08:20<3:38:30,  2.09it/s]"
     ]
    },
    {
     "name": "stdout",
     "output_type": "stream",
     "text": [
      "Folder: snap/vqa_test \n",
      " Epoch 8 Iter: 10000/37402\n",
      "  Masked Tags : 1.340379\n",
      "  Text Only Masked LM : 1.755127\n",
      "  attr : 1.222074\n",
      "  feat : 0.08253213\n",
      "  obj : 3.266005\n",
      "\n"
     ]
    },
    {
     "name": "stderr",
     "output_type": "stream",
     "text": [
      " 28%|████████████████████▏                                                   | 10501/37402 [1:11:41<2:45:04,  2.72it/s]"
     ]
    },
    {
     "name": "stdout",
     "output_type": "stream",
     "text": [
      "Folder: snap/vqa_test \n",
      " Epoch 8 Iter: 10500/37402\n",
      "  Masked Tags : 1.34041\n",
      "  Text Only Masked LM : 1.771079\n",
      "  attr : 1.227756\n",
      "  feat : 0.08208144\n",
      "  obj : 3.269279\n",
      "\n"
     ]
    },
    {
     "name": "stderr",
     "output_type": "stream",
     "text": [
      " 29%|█████████████████████▏                                                  | 11001/37402 [1:15:09<2:37:49,  2.79it/s]"
     ]
    },
    {
     "name": "stdout",
     "output_type": "stream",
     "text": [
      "Folder: snap/vqa_test \n",
      " Epoch 8 Iter: 11000/37402\n",
      "  Masked Tags : 1.323458\n",
      "  Text Only Masked LM : 1.744789\n",
      "  attr : 1.225402\n",
      "  feat : 0.08229498\n",
      "  obj : 3.28863\n",
      "\n"
     ]
    },
    {
     "name": "stderr",
     "output_type": "stream",
     "text": [
      " 31%|██████████████████████▏                                                 | 11501/37402 [1:18:31<2:39:52,  2.70it/s]"
     ]
    },
    {
     "name": "stdout",
     "output_type": "stream",
     "text": [
      "Folder: snap/vqa_test \n",
      " Epoch 8 Iter: 11500/37402\n",
      "  Masked Tags : 1.310918\n",
      "  Text Only Masked LM : 1.747465\n",
      "  attr : 1.232517\n",
      "  feat : 0.08315466\n",
      "  obj : 3.276809\n",
      "\n"
     ]
    },
    {
     "name": "stderr",
     "output_type": "stream",
     "text": [
      " 32%|███████████████████████                                                 | 12001/37402 [1:21:55<3:09:56,  2.23it/s]"
     ]
    },
    {
     "name": "stdout",
     "output_type": "stream",
     "text": [
      "Folder: snap/vqa_test \n",
      " Epoch 8 Iter: 12000/37402\n",
      "  Masked Tags : 1.330818\n",
      "  Text Only Masked LM : 1.702398\n",
      "  attr : 1.244498\n",
      "  feat : 0.08310526\n",
      "  obj : 3.263705\n",
      "\n"
     ]
    },
    {
     "name": "stderr",
     "output_type": "stream",
     "text": [
      " 33%|████████████████████████                                                | 12502/37402 [1:25:24<2:41:01,  2.58it/s]"
     ]
    },
    {
     "name": "stdout",
     "output_type": "stream",
     "text": [
      "Folder: snap/vqa_test \n",
      " Epoch 8 Iter: 12500/37402\n",
      "  Masked Tags : 1.322807\n",
      "  Text Only Masked LM : 1.741573\n",
      "  attr : 1.246012\n",
      "  feat : 0.08151867\n",
      "  obj : 3.29827\n",
      "\n"
     ]
    },
    {
     "name": "stderr",
     "output_type": "stream",
     "text": [
      " 35%|█████████████████████████                                               | 13001/37402 [1:28:43<2:49:49,  2.39it/s]"
     ]
    },
    {
     "name": "stdout",
     "output_type": "stream",
     "text": [
      "Folder: snap/vqa_test \n",
      " Epoch 8 Iter: 13000/37402\n",
      "  Masked Tags : 1.342481\n",
      "  Text Only Masked LM : 1.739546\n",
      "  attr : 1.235428\n",
      "  feat : 0.08239455\n",
      "  obj : 3.278647\n",
      "\n"
     ]
    },
    {
     "name": "stderr",
     "output_type": "stream",
     "text": [
      " 36%|█████████████████████████▉                                              | 13501/37402 [1:32:06<2:27:45,  2.70it/s]"
     ]
    },
    {
     "name": "stdout",
     "output_type": "stream",
     "text": [
      "Folder: snap/vqa_test \n",
      " Epoch 8 Iter: 13500/37402\n",
      "  Masked Tags : 1.359258\n",
      "  Text Only Masked LM : 1.767391\n",
      "  attr : 1.243465\n",
      "  feat : 0.08181073\n",
      "  obj : 3.289183\n",
      "\n"
     ]
    },
    {
     "name": "stderr",
     "output_type": "stream",
     "text": [
      " 37%|██████████████████████████▉                                             | 14001/37402 [1:35:29<2:35:53,  2.50it/s]"
     ]
    },
    {
     "name": "stdout",
     "output_type": "stream",
     "text": [
      "Folder: snap/vqa_test \n",
      " Epoch 8 Iter: 14000/37402\n",
      "  Masked Tags : 1.317418\n",
      "  Text Only Masked LM : 1.772184\n",
      "  attr : 1.232603\n",
      "  feat : 0.08280976\n",
      "  obj : 3.270314\n",
      "\n"
     ]
    },
    {
     "name": "stderr",
     "output_type": "stream",
     "text": [
      " 39%|███████████████████████████▉                                            | 14501/37402 [1:38:50<3:56:58,  1.61it/s]"
     ]
    },
    {
     "name": "stdout",
     "output_type": "stream",
     "text": [
      "Folder: snap/vqa_test \n",
      " Epoch 8 Iter: 14500/37402\n",
      "  Masked Tags : 1.32662\n",
      "  Text Only Masked LM : 1.704727\n",
      "  attr : 1.214295\n",
      "  feat : 0.08239128\n",
      "  obj : 3.267861\n",
      "\n"
     ]
    },
    {
     "name": "stderr",
     "output_type": "stream",
     "text": [
      " 40%|████████████████████████████▉                                           | 15001/37402 [1:42:18<2:29:46,  2.49it/s]"
     ]
    },
    {
     "name": "stdout",
     "output_type": "stream",
     "text": [
      "Folder: snap/vqa_test \n",
      " Epoch 8 Iter: 15000/37402\n",
      "  Masked Tags : 1.366108\n",
      "  Text Only Masked LM : 1.757395\n",
      "  attr : 1.240812\n",
      "  feat : 0.08175328\n",
      "  obj : 3.246165\n",
      "\n"
     ]
    },
    {
     "name": "stderr",
     "output_type": "stream",
     "text": [
      " 41%|█████████████████████████████▊                                          | 15501/37402 [1:45:42<2:25:34,  2.51it/s]"
     ]
    },
    {
     "name": "stdout",
     "output_type": "stream",
     "text": [
      "Folder: snap/vqa_test \n",
      " Epoch 8 Iter: 15500/37402\n",
      "  Masked Tags : 1.327527\n",
      "  Text Only Masked LM : 1.741258\n",
      "  attr : 1.228865\n",
      "  feat : 0.08090396\n",
      "  obj : 3.314919\n",
      "\n"
     ]
    },
    {
     "name": "stderr",
     "output_type": "stream",
     "text": [
      " 43%|██████████████████████████████▊                                         | 16001/37402 [1:49:18<2:38:09,  2.26it/s]"
     ]
    },
    {
     "name": "stdout",
     "output_type": "stream",
     "text": [
      "Folder: snap/vqa_test \n",
      " Epoch 8 Iter: 16000/37402\n",
      "  Masked Tags : 1.312543\n",
      "  Text Only Masked LM : 1.72491\n",
      "  attr : 1.240934\n",
      "  feat : 0.08233546\n",
      "  obj : 3.284998\n",
      "\n"
     ]
    },
    {
     "name": "stderr",
     "output_type": "stream",
     "text": [
      " 44%|███████████████████████████████▊                                        | 16501/37402 [1:52:40<2:38:16,  2.20it/s]"
     ]
    },
    {
     "name": "stdout",
     "output_type": "stream",
     "text": [
      "Folder: snap/vqa_test \n",
      " Epoch 8 Iter: 16500/37402\n",
      "  Masked Tags : 1.314357\n",
      "  Text Only Masked LM : 1.724416\n",
      "  attr : 1.220394\n",
      "  feat : 0.08113211\n",
      "  obj : 3.269891\n",
      "\n"
     ]
    },
    {
     "name": "stderr",
     "output_type": "stream",
     "text": [
      " 45%|████████████████████████████████▋                                       | 17001/37402 [1:56:02<1:52:29,  3.02it/s]"
     ]
    },
    {
     "name": "stdout",
     "output_type": "stream",
     "text": [
      "Folder: snap/vqa_test \n",
      " Epoch 8 Iter: 17000/37402\n",
      "  Masked Tags : 1.319036\n",
      "  Text Only Masked LM : 1.70102\n",
      "  attr : 1.220002\n",
      "  feat : 0.08308432\n",
      "  obj : 3.274571\n",
      "\n"
     ]
    },
    {
     "name": "stderr",
     "output_type": "stream",
     "text": [
      " 47%|█████████████████████████████████▋                                      | 17501/37402 [1:59:25<2:01:04,  2.74it/s]"
     ]
    },
    {
     "name": "stdout",
     "output_type": "stream",
     "text": [
      "Folder: snap/vqa_test \n",
      " Epoch 8 Iter: 17500/37402\n",
      "  Masked Tags : 1.310113\n",
      "  Text Only Masked LM : 1.732329\n",
      "  attr : 1.224078\n",
      "  feat : 0.08155231\n",
      "  obj : 3.323198\n",
      "\n"
     ]
    },
    {
     "name": "stderr",
     "output_type": "stream",
     "text": [
      " 48%|██████████████████████████████████▋                                     | 18001/37402 [2:02:59<2:08:20,  2.52it/s]"
     ]
    },
    {
     "name": "stdout",
     "output_type": "stream",
     "text": [
      "Folder: snap/vqa_test \n",
      " Epoch 8 Iter: 18000/37402\n",
      "  Masked Tags : 1.326618\n",
      "  Text Only Masked LM : 1.728741\n",
      "  attr : 1.218902\n",
      "  feat : 0.0819337\n",
      "  obj : 3.272834\n",
      "\n"
     ]
    },
    {
     "name": "stderr",
     "output_type": "stream",
     "text": [
      " 49%|███████████████████████████████████▌                                    | 18501/37402 [2:06:30<2:22:44,  2.21it/s]"
     ]
    },
    {
     "name": "stdout",
     "output_type": "stream",
     "text": [
      "Folder: snap/vqa_test \n",
      " Epoch 8 Iter: 18500/37402\n",
      "  Masked Tags : 1.310402\n",
      "  Text Only Masked LM : 1.784487\n",
      "  attr : 1.224589\n",
      "  feat : 0.08170916\n",
      "  obj : 3.286476\n",
      "\n"
     ]
    },
    {
     "name": "stderr",
     "output_type": "stream",
     "text": [
      " 51%|████████████████████████████████████▌                                   | 19002/37402 [2:10:01<1:48:47,  2.82it/s]"
     ]
    },
    {
     "name": "stdout",
     "output_type": "stream",
     "text": [
      "Folder: snap/vqa_test \n",
      " Epoch 8 Iter: 19000/37402\n",
      "  Masked Tags : 1.300944\n",
      "  Text Only Masked LM : 1.742304\n",
      "  attr : 1.215963\n",
      "  feat : 0.08163576\n",
      "  obj : 3.265904\n",
      "\n"
     ]
    },
    {
     "name": "stderr",
     "output_type": "stream",
     "text": [
      " 52%|█████████████████████████████████████▌                                  | 19501/37402 [2:13:28<1:56:35,  2.56it/s]"
     ]
    },
    {
     "name": "stdout",
     "output_type": "stream",
     "text": [
      "Folder: snap/vqa_test \n",
      " Epoch 8 Iter: 19500/37402\n",
      "  Masked Tags : 1.344579\n",
      "  Text Only Masked LM : 1.768628\n",
      "  attr : 1.215792\n",
      "  feat : 0.08332859\n",
      "  obj : 3.275166\n",
      "\n"
     ]
    },
    {
     "name": "stderr",
     "output_type": "stream",
     "text": [
      " 53%|██████████████████████████████████████▌                                 | 20001/37402 [2:16:50<2:06:16,  2.30it/s]"
     ]
    },
    {
     "name": "stdout",
     "output_type": "stream",
     "text": [
      "Folder: snap/vqa_test \n",
      " Epoch 8 Iter: 20000/37402\n",
      "  Masked Tags : 1.300335\n",
      "  Text Only Masked LM : 1.742539\n",
      "  attr : 1.214061\n",
      "  feat : 0.08245006\n",
      "  obj : 3.308825\n",
      "\n"
     ]
    },
    {
     "name": "stderr",
     "output_type": "stream",
     "text": [
      " 55%|███████████████████████████████████████▍                                | 20502/37402 [2:20:20<1:46:39,  2.64it/s]"
     ]
    },
    {
     "name": "stdout",
     "output_type": "stream",
     "text": [
      "Folder: snap/vqa_test \n",
      " Epoch 8 Iter: 20500/37402\n",
      "  Masked Tags : 1.293818\n",
      "  Text Only Masked LM : 1.773258\n",
      "  attr : 1.207778\n",
      "  feat : 0.08185423\n",
      "  obj : 3.261928\n",
      "\n"
     ]
    },
    {
     "name": "stderr",
     "output_type": "stream",
     "text": [
      " 56%|████████████████████████████████████████▍                               | 21001/37402 [2:23:42<2:05:11,  2.18it/s]"
     ]
    },
    {
     "name": "stdout",
     "output_type": "stream",
     "text": [
      "Folder: snap/vqa_test \n",
      " Epoch 8 Iter: 21000/37402\n",
      "  Masked Tags : 1.288074\n",
      "  Text Only Masked LM : 1.762573\n",
      "  attr : 1.210622\n",
      "  feat : 0.08142502\n",
      "  obj : 3.258491\n",
      "\n"
     ]
    },
    {
     "name": "stderr",
     "output_type": "stream",
     "text": [
      " 57%|█████████████████████████████████████████▍                              | 21501/37402 [2:27:11<1:52:21,  2.36it/s]"
     ]
    },
    {
     "name": "stdout",
     "output_type": "stream",
     "text": [
      "Folder: snap/vqa_test \n",
      " Epoch 8 Iter: 21500/37402\n",
      "  Masked Tags : 1.336966\n",
      "  Text Only Masked LM : 1.72727\n",
      "  attr : 1.231328\n",
      "  feat : 0.0828883\n",
      "  obj : 3.302554\n",
      "\n"
     ]
    },
    {
     "name": "stderr",
     "output_type": "stream",
     "text": [
      " 59%|██████████████████████████████████████████▎                             | 22001/37402 [2:30:40<2:05:27,  2.05it/s]"
     ]
    },
    {
     "name": "stdout",
     "output_type": "stream",
     "text": [
      "Folder: snap/vqa_test \n",
      " Epoch 8 Iter: 22000/37402\n",
      "  Masked Tags : 1.311349\n",
      "  Text Only Masked LM : 1.718997\n",
      "  attr : 1.236368\n",
      "  feat : 0.08075844\n",
      "  obj : 3.267271\n",
      "\n"
     ]
    },
    {
     "name": "stderr",
     "output_type": "stream",
     "text": [
      " 60%|███████████████████████████████████████████▎                            | 22501/37402 [2:33:58<1:48:37,  2.29it/s]"
     ]
    },
    {
     "name": "stdout",
     "output_type": "stream",
     "text": [
      "Folder: snap/vqa_test \n",
      " Epoch 8 Iter: 22500/37402\n",
      "  Masked Tags : 1.33964\n",
      "  Text Only Masked LM : 1.689348\n",
      "  attr : 1.23203\n",
      "  feat : 0.08292212\n",
      "  obj : 3.291128\n",
      "\n"
     ]
    },
    {
     "name": "stderr",
     "output_type": "stream",
     "text": [
      " 61%|████████████████████████████████████████████▎                           | 23001/37402 [2:37:16<1:16:27,  3.14it/s]"
     ]
    },
    {
     "name": "stdout",
     "output_type": "stream",
     "text": [
      "Folder: snap/vqa_test \n",
      " Epoch 8 Iter: 23000/37402\n",
      "  Masked Tags : 1.357786\n",
      "  Text Only Masked LM : 1.723437\n",
      "  attr : 1.236965\n",
      "  feat : 0.08374355\n",
      "  obj : 3.252081\n",
      "\n"
     ]
    },
    {
     "name": "stderr",
     "output_type": "stream",
     "text": [
      " 63%|█████████████████████████████████████████████▏                          | 23501/37402 [2:40:36<2:11:53,  1.76it/s]"
     ]
    },
    {
     "name": "stdout",
     "output_type": "stream",
     "text": [
      "Folder: snap/vqa_test \n",
      " Epoch 8 Iter: 23500/37402\n",
      "  Masked Tags : 1.304057\n",
      "  Text Only Masked LM : 1.692675\n",
      "  attr : 1.223157\n",
      "  feat : 0.08110448\n",
      "  obj : 3.283933\n",
      "\n"
     ]
    },
    {
     "name": "stderr",
     "output_type": "stream",
     "text": [
      " 64%|██████████████████████████████████████████████▏                         | 24001/37402 [2:43:56<1:08:56,  3.24it/s]"
     ]
    },
    {
     "name": "stdout",
     "output_type": "stream",
     "text": [
      "Folder: snap/vqa_test \n",
      " Epoch 8 Iter: 24000/37402\n",
      "  Masked Tags : 1.308813\n",
      "  Text Only Masked LM : 1.691092\n",
      "  attr : 1.239407\n",
      "  feat : 0.08195489\n",
      "  obj : 3.260491\n",
      "\n"
     ]
    },
    {
     "name": "stderr",
     "output_type": "stream",
     "text": [
      " 66%|███████████████████████████████████████████████▏                        | 24501/37402 [2:47:28<1:25:58,  2.50it/s]"
     ]
    },
    {
     "name": "stdout",
     "output_type": "stream",
     "text": [
      "Folder: snap/vqa_test \n",
      " Epoch 8 Iter: 24500/37402\n",
      "  Masked Tags : 1.297907\n",
      "  Text Only Masked LM : 1.723827\n",
      "  attr : 1.240984\n",
      "  feat : 0.08238529\n",
      "  obj : 3.265663\n",
      "\n"
     ]
    },
    {
     "name": "stderr",
     "output_type": "stream",
     "text": [
      " 67%|████████████████████████████████████████████████▏                       | 25002/37402 [2:50:54<1:19:08,  2.61it/s]"
     ]
    },
    {
     "name": "stdout",
     "output_type": "stream",
     "text": [
      "Folder: snap/vqa_test \n",
      " Epoch 8 Iter: 25000/37402\n",
      "  Masked Tags : 1.281045\n",
      "  Text Only Masked LM : 1.685609\n",
      "  attr : 1.253975\n",
      "  feat : 0.08359678\n",
      "  obj : 3.289742\n",
      "\n"
     ]
    },
    {
     "name": "stderr",
     "output_type": "stream",
     "text": [
      " 68%|██████████████████████████████████████████████████▍                       | 25502/37402 [2:54:22<58:11,  3.41it/s]"
     ]
    },
    {
     "name": "stdout",
     "output_type": "stream",
     "text": [
      "Folder: snap/vqa_test \n",
      " Epoch 8 Iter: 25500/37402\n",
      "  Masked Tags : 1.28782\n",
      "  Text Only Masked LM : 1.755036\n",
      "  attr : 1.244838\n",
      "  feat : 0.08124853\n",
      "  obj : 3.291309\n",
      "\n"
     ]
    },
    {
     "name": "stderr",
     "output_type": "stream",
     "text": [
      " 70%|██████████████████████████████████████████████████                      | 26001/37402 [2:57:44<1:08:55,  2.76it/s]"
     ]
    },
    {
     "name": "stdout",
     "output_type": "stream",
     "text": [
      "Folder: snap/vqa_test \n",
      " Epoch 8 Iter: 26000/37402\n",
      "  Masked Tags : 1.304166\n",
      "  Text Only Masked LM : 1.713054\n",
      "  attr : 1.245007\n",
      "  feat : 0.08390286\n",
      "  obj : 3.265519\n",
      "\n"
     ]
    },
    {
     "name": "stderr",
     "output_type": "stream",
     "text": [
      " 71%|███████████████████████████████████████████████████                     | 26501/37402 [3:01:16<1:22:27,  2.20it/s]"
     ]
    },
    {
     "name": "stdout",
     "output_type": "stream",
     "text": [
      "Folder: snap/vqa_test \n",
      " Epoch 8 Iter: 26500/37402\n",
      "  Masked Tags : 1.277877\n",
      "  Text Only Masked LM : 1.700423\n",
      "  attr : 1.244626\n",
      "  feat : 0.08215308\n",
      "  obj : 3.267904\n",
      "\n"
     ]
    },
    {
     "name": "stderr",
     "output_type": "stream",
     "text": [
      " 72%|███████████████████████████████████████████████████▉                    | 27001/37402 [3:04:45<1:32:53,  1.87it/s]"
     ]
    },
    {
     "name": "stdout",
     "output_type": "stream",
     "text": [
      "Folder: snap/vqa_test \n",
      " Epoch 8 Iter: 27000/37402\n",
      "  Masked Tags : 1.331028\n",
      "  Text Only Masked LM : 1.755839\n",
      "  attr : 1.229521\n",
      "  feat : 0.08403218\n",
      "  obj : 3.290154\n",
      "\n"
     ]
    },
    {
     "name": "stderr",
     "output_type": "stream",
     "text": [
      " 74%|██████████████████████████████████████████████████████▍                   | 27501/37402 [3:08:19<53:18,  3.10it/s]"
     ]
    },
    {
     "name": "stdout",
     "output_type": "stream",
     "text": [
      "Folder: snap/vqa_test \n",
      " Epoch 8 Iter: 27500/37402\n",
      "  Masked Tags : 1.296386\n",
      "  Text Only Masked LM : 1.72793\n",
      "  attr : 1.256523\n",
      "  feat : 0.08113231\n",
      "  obj : 3.253508\n",
      "\n"
     ]
    },
    {
     "name": "stderr",
     "output_type": "stream",
     "text": [
      " 75%|█████████████████████████████████████████████████████▉                  | 28001/37402 [3:11:47<1:01:56,  2.53it/s]"
     ]
    },
    {
     "name": "stdout",
     "output_type": "stream",
     "text": [
      "Folder: snap/vqa_test \n",
      " Epoch 8 Iter: 28000/37402\n",
      "  Masked Tags : 1.312999\n",
      "  Text Only Masked LM : 1.780198\n",
      "  attr : 1.232612\n",
      "  feat : 0.08347068\n",
      "  obj : 3.312296\n",
      "\n"
     ]
    },
    {
     "name": "stderr",
     "output_type": "stream",
     "text": [
      " 76%|██████████████████████████████████████████████████████▊                 | 28501/37402 [3:15:14<1:00:49,  2.44it/s]"
     ]
    },
    {
     "name": "stdout",
     "output_type": "stream",
     "text": [
      "Folder: snap/vqa_test \n",
      " Epoch 8 Iter: 28500/37402\n",
      "  Masked Tags : 1.30966\n",
      "  Text Only Masked LM : 1.754114\n",
      "  attr : 1.219789\n",
      "  feat : 0.0828203\n",
      "  obj : 3.304858\n",
      "\n"
     ]
    },
    {
     "name": "stderr",
     "output_type": "stream",
     "text": [
      " 78%|███████████████████████████████████████████████████████▊                | 29001/37402 [3:18:42<1:10:45,  1.98it/s]"
     ]
    },
    {
     "name": "stdout",
     "output_type": "stream",
     "text": [
      "Folder: snap/vqa_test \n",
      " Epoch 8 Iter: 29000/37402\n",
      "  Masked Tags : 1.303475\n",
      "  Text Only Masked LM : 1.751162\n",
      "  attr : 1.247578\n",
      "  feat : 0.0819278\n",
      "  obj : 3.280829\n",
      "\n"
     ]
    },
    {
     "name": "stderr",
     "output_type": "stream",
     "text": [
      " 79%|████████████████████████████████████████████████████████▊               | 29501/37402 [3:22:14<1:02:55,  2.09it/s]"
     ]
    },
    {
     "name": "stdout",
     "output_type": "stream",
     "text": [
      "Folder: snap/vqa_test \n",
      " Epoch 8 Iter: 29500/37402\n",
      "  Masked Tags : 1.325755\n",
      "  Text Only Masked LM : 1.682285\n",
      "  attr : 1.239625\n",
      "  feat : 0.08303232\n",
      "  obj : 3.278569\n",
      "\n"
     ]
    },
    {
     "name": "stderr",
     "output_type": "stream",
     "text": [
      " 80%|█████████████████████████████████████████████████████████▊              | 30001/37402 [3:25:44<1:06:19,  1.86it/s]"
     ]
    },
    {
     "name": "stdout",
     "output_type": "stream",
     "text": [
      "Folder: snap/vqa_test \n",
      " Epoch 8 Iter: 30000/37402\n",
      "  Masked Tags : 1.319413\n",
      "  Text Only Masked LM : 1.701687\n",
      "  attr : 1.233709\n",
      "  feat : 0.08363787\n",
      "  obj : 3.2598\n",
      "\n"
     ]
    },
    {
     "name": "stderr",
     "output_type": "stream",
     "text": [
      " 82%|████████████████████████████████████████████████████████████▎             | 30501/37402 [3:29:17<42:24,  2.71it/s]"
     ]
    },
    {
     "name": "stdout",
     "output_type": "stream",
     "text": [
      "Folder: snap/vqa_test \n",
      " Epoch 8 Iter: 30500/37402\n",
      "  Masked Tags : 1.323801\n",
      "  Text Only Masked LM : 1.773876\n",
      "  attr : 1.24624\n",
      "  feat : 0.0827618\n",
      "  obj : 3.299122\n",
      "\n"
     ]
    },
    {
     "name": "stderr",
     "output_type": "stream",
     "text": [
      " 83%|█████████████████████████████████████████████████████████████▎            | 31001/37402 [3:32:49<45:07,  2.36it/s]"
     ]
    },
    {
     "name": "stdout",
     "output_type": "stream",
     "text": [
      "Folder: snap/vqa_test \n",
      " Epoch 8 Iter: 31000/37402\n",
      "  Masked Tags : 1.293492\n",
      "  Text Only Masked LM : 1.763543\n",
      "  attr : 1.221659\n",
      "  feat : 0.08263438\n",
      "  obj : 3.269255\n",
      "\n"
     ]
    },
    {
     "name": "stderr",
     "output_type": "stream",
     "text": [
      " 84%|██████████████████████████████████████████████████████████████▎           | 31501/37402 [3:36:17<41:52,  2.35it/s]"
     ]
    },
    {
     "name": "stdout",
     "output_type": "stream",
     "text": [
      "Folder: snap/vqa_test \n",
      " Epoch 8 Iter: 31500/37402\n",
      "  Masked Tags : 1.272122\n",
      "  Text Only Masked LM : 1.742899\n",
      "  attr : 1.22298\n",
      "  feat : 0.08278636\n",
      "  obj : 3.305496\n",
      "\n"
     ]
    },
    {
     "name": "stderr",
     "output_type": "stream",
     "text": [
      " 86%|███████████████████████████████████████████████████████████████▎          | 32001/37402 [3:39:46<42:55,  2.10it/s]"
     ]
    },
    {
     "name": "stdout",
     "output_type": "stream",
     "text": [
      "Folder: snap/vqa_test \n",
      " Epoch 8 Iter: 32000/37402\n",
      "  Masked Tags : 1.2912\n",
      "  Text Only Masked LM : 1.72905\n",
      "  attr : 1.221197\n",
      "  feat : 0.08390551\n",
      "  obj : 3.289807\n",
      "\n"
     ]
    },
    {
     "name": "stderr",
     "output_type": "stream",
     "text": [
      " 87%|████████████████████████████████████████████████████████████████▎         | 32501/37402 [3:43:18<33:19,  2.45it/s]"
     ]
    },
    {
     "name": "stdout",
     "output_type": "stream",
     "text": [
      "Folder: snap/vqa_test \n",
      " Epoch 8 Iter: 32500/37402\n",
      "  Masked Tags : 1.270133\n",
      "  Text Only Masked LM : 1.735804\n",
      "  attr : 1.219089\n",
      "  feat : 0.08148588\n",
      "  obj : 3.291039\n",
      "\n"
     ]
    },
    {
     "name": "stderr",
     "output_type": "stream",
     "text": [
      " 88%|█████████████████████████████████████████████████████████████████▎        | 33001/37402 [3:46:47<30:38,  2.39it/s]"
     ]
    },
    {
     "name": "stdout",
     "output_type": "stream",
     "text": [
      "Folder: snap/vqa_test \n",
      " Epoch 8 Iter: 33000/37402\n",
      "  Masked Tags : 1.271076\n",
      "  Text Only Masked LM : 1.71124\n",
      "  attr : 1.228783\n",
      "  feat : 0.08151498\n",
      "  obj : 3.292099\n",
      "\n"
     ]
    },
    {
     "name": "stderr",
     "output_type": "stream",
     "text": [
      " 90%|██████████████████████████████████████████████████████████████████▎       | 33501/37402 [3:50:12<23:45,  2.74it/s]"
     ]
    },
    {
     "name": "stdout",
     "output_type": "stream",
     "text": [
      "Folder: snap/vqa_test \n",
      " Epoch 8 Iter: 33500/37402\n",
      "  Masked Tags : 1.314269\n",
      "  Text Only Masked LM : 1.758152\n",
      "  attr : 1.226983\n",
      "  feat : 0.08322735\n",
      "  obj : 3.282453\n",
      "\n"
     ]
    },
    {
     "name": "stderr",
     "output_type": "stream",
     "text": [
      " 91%|███████████████████████████████████████████████████████████████████▎      | 34001/37402 [3:53:34<31:28,  1.80it/s]"
     ]
    },
    {
     "name": "stdout",
     "output_type": "stream",
     "text": [
      "Folder: snap/vqa_test \n",
      " Epoch 8 Iter: 34000/37402\n",
      "  Masked Tags : 1.278044\n",
      "  Text Only Masked LM : 1.70942\n",
      "  attr : 1.220393\n",
      "  feat : 0.08283029\n",
      "  obj : 3.276481\n",
      "\n"
     ]
    },
    {
     "name": "stderr",
     "output_type": "stream",
     "text": [
      " 92%|████████████████████████████████████████████████████████████████████▎     | 34501/37402 [3:57:03<23:57,  2.02it/s]"
     ]
    },
    {
     "name": "stdout",
     "output_type": "stream",
     "text": [
      "Folder: snap/vqa_test \n",
      " Epoch 8 Iter: 34500/37402\n",
      "  Masked Tags : 1.313761\n",
      "  Text Only Masked LM : 1.764511\n",
      "  attr : 1.220417\n",
      "  feat : 0.08168768\n",
      "  obj : 3.282912\n",
      "\n"
     ]
    },
    {
     "name": "stderr",
     "output_type": "stream",
     "text": [
      " 94%|█████████████████████████████████████████████████████████████████████▏    | 35001/37402 [4:00:30<15:09,  2.64it/s]"
     ]
    },
    {
     "name": "stdout",
     "output_type": "stream",
     "text": [
      "Folder: snap/vqa_test \n",
      " Epoch 8 Iter: 35000/37402\n",
      "  Masked Tags : 1.314638\n",
      "  Text Only Masked LM : 1.776343\n",
      "  attr : 1.226462\n",
      "  feat : 0.08346988\n",
      "  obj : 3.265444\n",
      "\n"
     ]
    },
    {
     "name": "stderr",
     "output_type": "stream",
     "text": [
      " 95%|██████████████████████████████████████████████████████████████████████▏   | 35501/37402 [4:04:00<12:34,  2.52it/s]"
     ]
    },
    {
     "name": "stdout",
     "output_type": "stream",
     "text": [
      "Folder: snap/vqa_test \n",
      " Epoch 8 Iter: 35500/37402\n",
      "  Masked Tags : 1.299614\n",
      "  Text Only Masked LM : 1.730567\n",
      "  attr : 1.232976\n",
      "  feat : 0.08403668\n",
      "  obj : 3.271027\n",
      "\n"
     ]
    },
    {
     "name": "stderr",
     "output_type": "stream",
     "text": [
      " 96%|███████████████████████████████████████████████████████████████████████▏  | 36001/37402 [4:07:32<06:55,  3.37it/s]"
     ]
    },
    {
     "name": "stdout",
     "output_type": "stream",
     "text": [
      "Folder: snap/vqa_test \n",
      " Epoch 8 Iter: 36000/37402\n",
      "  Masked Tags : 1.291332\n",
      "  Text Only Masked LM : 1.722543\n",
      "  attr : 1.227092\n",
      "  feat : 0.0835615\n",
      "  obj : 3.27798\n",
      "\n"
     ]
    },
    {
     "name": "stderr",
     "output_type": "stream",
     "text": [
      " 98%|████████████████████████████████████████████████████████████████████████▏ | 36501/37402 [4:10:55<05:26,  2.76it/s]"
     ]
    },
    {
     "name": "stdout",
     "output_type": "stream",
     "text": [
      "Folder: snap/vqa_test \n",
      " Epoch 8 Iter: 36500/37402\n",
      "  Masked Tags : 1.362546\n",
      "  Text Only Masked LM : 1.755686\n",
      "  attr : 1.237308\n",
      "  feat : 0.08422657\n",
      "  obj : 3.280926\n",
      "\n"
     ]
    },
    {
     "name": "stderr",
     "output_type": "stream",
     "text": [
      " 99%|█████████████████████████████████████████████████████████████████████████▏| 37001/37402 [4:13:58<02:43,  2.45it/s]"
     ]
    },
    {
     "name": "stdout",
     "output_type": "stream",
     "text": [
      "Folder: snap/vqa_test \n",
      " Epoch 8 Iter: 37000/37402\n",
      "  Text Only Masked LM : 1.688513\n",
      "\n"
     ]
    },
    {
     "name": "stderr",
     "output_type": "stream",
     "text": [
      "100%|██████████████████████████████████████████████████████████████████████████| 37402/37402 [4:16:39<00:00,  2.43it/s]\n"
     ]
    },
    {
     "name": "stdout",
     "output_type": "stream",
     "text": [
      "The training loss for Epoch 8 is 1.7120\n"
     ]
    },
    {
     "name": "stderr",
     "output_type": "stream",
     "text": [
      "100%|████████████████████████████████████████████████████████████████████████████████| 782/782 [08:11<00:00,  1.59it/s]\n"
     ]
    },
    {
     "name": "stdout",
     "output_type": "stream",
     "text": [
      "Evaluation:\n",
      "  Masked LM : 1.952145\n",
      "  Masked Tags : 1.467422\n",
      "  attr : 1.283953\n",
      "  feat : 0.0828616\n",
      "  obj : 3.236648\n",
      "\n",
      "\n",
      "\n",
      "\n",
      "\n",
      "\n",
      "\n",
      "\n",
      "\n"
     ]
    },
    {
     "name": "stderr",
     "output_type": "stream",
     "text": [
      "  1%|█                                                                           | 501/37402 [03:21<3:23:52,  3.02it/s]"
     ]
    },
    {
     "name": "stdout",
     "output_type": "stream",
     "text": [
      "Folder: snap/vqa_test \n",
      " Epoch 9 Iter: 500/37402\n",
      "  Masked Tags : 1.288921\n",
      "  Text Only Masked LM : 1.806222\n",
      "  attr : 1.231198\n",
      "  feat : 0.08349603\n",
      "  obj : 3.295709\n",
      "\n"
     ]
    },
    {
     "name": "stderr",
     "output_type": "stream",
     "text": [
      "  3%|██                                                                         | 1001/37402 [06:41<3:51:01,  2.63it/s]"
     ]
    },
    {
     "name": "stdout",
     "output_type": "stream",
     "text": [
      "Folder: snap/vqa_test \n",
      " Epoch 9 Iter: 1000/37402\n",
      "  Masked Tags : 1.310668\n",
      "  Text Only Masked LM : 1.689521\n",
      "  attr : 1.233043\n",
      "  feat : 0.08243835\n",
      "  obj : 3.273581\n",
      "\n"
     ]
    },
    {
     "name": "stderr",
     "output_type": "stream",
     "text": [
      "  4%|███                                                                        | 1501/37402 [10:09<4:04:14,  2.45it/s]"
     ]
    },
    {
     "name": "stdout",
     "output_type": "stream",
     "text": [
      "Folder: snap/vqa_test \n",
      " Epoch 9 Iter: 1500/37402\n",
      "  Masked Tags : 1.324371\n",
      "  Text Only Masked LM : 1.696901\n",
      "  attr : 1.236727\n",
      "  feat : 0.08286033\n",
      "  obj : 3.255708\n",
      "\n"
     ]
    },
    {
     "name": "stderr",
     "output_type": "stream",
     "text": [
      "  5%|████                                                                       | 2001/37402 [13:35<3:30:23,  2.80it/s]"
     ]
    },
    {
     "name": "stdout",
     "output_type": "stream",
     "text": [
      "Folder: snap/vqa_test \n",
      " Epoch 9 Iter: 2000/37402\n",
      "  Masked Tags : 1.283538\n",
      "  Text Only Masked LM : 1.713872\n",
      "  attr : 1.24853\n",
      "  feat : 0.083426\n",
      "  obj : 3.282663\n",
      "\n"
     ]
    },
    {
     "name": "stderr",
     "output_type": "stream",
     "text": [
      "  7%|█████                                                                      | 2501/37402 [17:00<3:35:09,  2.70it/s]"
     ]
    },
    {
     "name": "stdout",
     "output_type": "stream",
     "text": [
      "Folder: snap/vqa_test \n",
      " Epoch 9 Iter: 2500/37402\n",
      "  Masked Tags : 1.293708\n",
      "  Text Only Masked LM : 1.725723\n",
      "  attr : 1.240135\n",
      "  feat : 0.08324546\n",
      "  obj : 3.25276\n",
      "\n"
     ]
    },
    {
     "name": "stderr",
     "output_type": "stream",
     "text": [
      "  8%|██████                                                                     | 3001/37402 [20:29<3:27:07,  2.77it/s]"
     ]
    },
    {
     "name": "stdout",
     "output_type": "stream",
     "text": [
      "Folder: snap/vqa_test \n",
      " Epoch 9 Iter: 3000/37402\n",
      "  Masked Tags : 1.256469\n",
      "  Text Only Masked LM : 1.699937\n",
      "  attr : 1.231807\n",
      "  feat : 0.08268564\n",
      "  obj : 3.280554\n",
      "\n"
     ]
    },
    {
     "name": "stderr",
     "output_type": "stream",
     "text": [
      "  9%|███████                                                                    | 3501/37402 [23:54<4:53:08,  1.93it/s]"
     ]
    },
    {
     "name": "stdout",
     "output_type": "stream",
     "text": [
      "Folder: snap/vqa_test \n",
      " Epoch 9 Iter: 3500/37402\n",
      "  Masked Tags : 1.292327\n",
      "  Text Only Masked LM : 1.68112\n",
      "  attr : 1.248779\n",
      "  feat : 0.08340817\n",
      "  obj : 3.284933\n",
      "\n"
     ]
    },
    {
     "name": "stderr",
     "output_type": "stream",
     "text": [
      " 11%|████████                                                                   | 4001/37402 [27:23<3:29:47,  2.65it/s]"
     ]
    },
    {
     "name": "stdout",
     "output_type": "stream",
     "text": [
      "Folder: snap/vqa_test \n",
      " Epoch 9 Iter: 4000/37402\n",
      "  Masked Tags : 1.281266\n",
      "  Text Only Masked LM : 1.711542\n",
      "  attr : 1.243859\n",
      "  feat : 0.08230994\n",
      "  obj : 3.271285\n",
      "\n"
     ]
    },
    {
     "name": "stderr",
     "output_type": "stream",
     "text": [
      " 12%|█████████                                                                  | 4501/37402 [30:49<4:50:58,  1.88it/s]"
     ]
    },
    {
     "name": "stdout",
     "output_type": "stream",
     "text": [
      "Folder: snap/vqa_test \n",
      " Epoch 9 Iter: 4500/37402\n",
      "  Masked Tags : 1.297578\n",
      "  Text Only Masked LM : 1.679847\n",
      "  attr : 1.236922\n",
      "  feat : 0.08156617\n",
      "  obj : 3.305496\n",
      "\n"
     ]
    },
    {
     "name": "stderr",
     "output_type": "stream",
     "text": [
      " 13%|██████████                                                                 | 5001/37402 [34:18<3:05:00,  2.92it/s]"
     ]
    },
    {
     "name": "stdout",
     "output_type": "stream",
     "text": [
      "Folder: snap/vqa_test \n",
      " Epoch 9 Iter: 5000/37402\n",
      "  Masked Tags : 1.307335\n",
      "  Text Only Masked LM : 1.747724\n",
      "  attr : 1.261293\n",
      "  feat : 0.08140829\n",
      "  obj : 3.28267\n",
      "\n"
     ]
    },
    {
     "name": "stderr",
     "output_type": "stream",
     "text": [
      " 15%|███████████                                                                | 5501/37402 [37:30<3:08:04,  2.83it/s]"
     ]
    },
    {
     "name": "stdout",
     "output_type": "stream",
     "text": [
      "Folder: snap/vqa_test \n",
      " Epoch 9 Iter: 5500/37402\n",
      "  Masked Tags : 1.270349\n",
      "  Text Only Masked LM : 1.68527\n",
      "  attr : 1.201554\n",
      "  feat : 0.08206867\n",
      "  obj : 3.265531\n",
      "\n"
     ]
    },
    {
     "name": "stderr",
     "output_type": "stream",
     "text": [
      " 16%|████████████                                                               | 6001/37402 [40:53<2:45:46,  3.16it/s]"
     ]
    },
    {
     "name": "stdout",
     "output_type": "stream",
     "text": [
      "Folder: snap/vqa_test \n",
      " Epoch 9 Iter: 6000/37402\n",
      "  Masked Tags : 1.278309\n",
      "  Text Only Masked LM : 1.715092\n",
      "  attr : 1.232798\n",
      "  feat : 0.08260104\n",
      "  obj : 3.284855\n",
      "\n"
     ]
    },
    {
     "name": "stderr",
     "output_type": "stream",
     "text": [
      " 17%|█████████████                                                              | 6501/37402 [44:16<2:40:29,  3.21it/s]"
     ]
    },
    {
     "name": "stdout",
     "output_type": "stream",
     "text": [
      "Folder: snap/vqa_test \n",
      " Epoch 9 Iter: 6500/37402\n",
      "  Masked Tags : 1.313272\n",
      "  Text Only Masked LM : 1.697382\n",
      "  attr : 1.220122\n",
      "  feat : 0.0827669\n",
      "  obj : 3.255372\n",
      "\n"
     ]
    },
    {
     "name": "stderr",
     "output_type": "stream",
     "text": [
      " 19%|██████████████                                                             | 7001/37402 [47:40<2:52:13,  2.94it/s]"
     ]
    },
    {
     "name": "stdout",
     "output_type": "stream",
     "text": [
      "Folder: snap/vqa_test \n",
      " Epoch 9 Iter: 7000/37402\n",
      "  Masked Tags : 1.28084\n",
      "  Text Only Masked LM : 1.745194\n",
      "  attr : 1.230859\n",
      "  feat : 0.08354624\n",
      "  obj : 3.307083\n",
      "\n"
     ]
    },
    {
     "name": "stderr",
     "output_type": "stream",
     "text": [
      " 20%|███████████████                                                            | 7501/37402 [51:04<2:37:26,  3.17it/s]"
     ]
    },
    {
     "name": "stdout",
     "output_type": "stream",
     "text": [
      "Folder: snap/vqa_test \n",
      " Epoch 9 Iter: 7500/37402\n",
      "  Masked Tags : 1.302788\n",
      "  Text Only Masked LM : 1.6903\n",
      "  attr : 1.251189\n",
      "  feat : 0.08241351\n",
      "  obj : 3.300102\n",
      "\n"
     ]
    },
    {
     "name": "stderr",
     "output_type": "stream",
     "text": [
      " 21%|████████████████                                                           | 8001/37402 [54:35<3:11:18,  2.56it/s]"
     ]
    },
    {
     "name": "stdout",
     "output_type": "stream",
     "text": [
      "Folder: snap/vqa_test \n",
      " Epoch 9 Iter: 8000/37402\n",
      "  Masked Tags : 1.289132\n",
      "  Text Only Masked LM : 1.717151\n",
      "  attr : 1.241656\n",
      "  feat : 0.08100571\n",
      "  obj : 3.293138\n",
      "\n"
     ]
    },
    {
     "name": "stderr",
     "output_type": "stream",
     "text": [
      " 23%|█████████████████                                                          | 8501/37402 [57:49<3:27:47,  2.32it/s]"
     ]
    },
    {
     "name": "stdout",
     "output_type": "stream",
     "text": [
      "Folder: snap/vqa_test \n",
      " Epoch 9 Iter: 8500/37402\n",
      "  Masked Tags : 1.287028\n",
      "  Text Only Masked LM : 1.690147\n",
      "  attr : 1.235972\n",
      "  feat : 0.08049746\n",
      "  obj : 3.264845\n",
      "\n"
     ]
    },
    {
     "name": "stderr",
     "output_type": "stream",
     "text": [
      " 24%|█████████████████▌                                                       | 9001/37402 [1:01:19<2:53:31,  2.73it/s]"
     ]
    },
    {
     "name": "stdout",
     "output_type": "stream",
     "text": [
      "Folder: snap/vqa_test \n",
      " Epoch 9 Iter: 9000/37402\n",
      "  Masked Tags : 1.301996\n",
      "  Text Only Masked LM : 1.713973\n",
      "  attr : 1.245121\n",
      "  feat : 0.08281039\n",
      "  obj : 3.272848\n",
      "\n"
     ]
    },
    {
     "name": "stderr",
     "output_type": "stream",
     "text": [
      " 25%|██████████████████▌                                                      | 9501/37402 [1:04:46<2:44:33,  2.83it/s]"
     ]
    },
    {
     "name": "stdout",
     "output_type": "stream",
     "text": [
      "Folder: snap/vqa_test \n",
      " Epoch 9 Iter: 9500/37402\n",
      "  Masked Tags : 1.294611\n",
      "  Text Only Masked LM : 1.726395\n",
      "  attr : 1.236272\n",
      "  feat : 0.08207967\n",
      "  obj : 3.266832\n",
      "\n"
     ]
    },
    {
     "name": "stderr",
     "output_type": "stream",
     "text": [
      " 27%|███████████████████▎                                                    | 10001/37402 [1:08:12<3:27:45,  2.20it/s]"
     ]
    },
    {
     "name": "stdout",
     "output_type": "stream",
     "text": [
      "Folder: snap/vqa_test \n",
      " Epoch 9 Iter: 10000/37402\n",
      "  Masked Tags : 1.305192\n",
      "  Text Only Masked LM : 1.690403\n",
      "  attr : 1.232508\n",
      "  feat : 0.08447549\n",
      "  obj : 3.285306\n",
      "\n"
     ]
    },
    {
     "name": "stderr",
     "output_type": "stream",
     "text": [
      " 28%|████████████████████▏                                                   | 10501/37402 [1:11:38<2:28:16,  3.02it/s]"
     ]
    },
    {
     "name": "stdout",
     "output_type": "stream",
     "text": [
      "Folder: snap/vqa_test \n",
      " Epoch 9 Iter: 10500/37402\n",
      "  Masked Tags : 1.248188\n",
      "  Text Only Masked LM : 1.741491\n",
      "  attr : 1.238662\n",
      "  feat : 0.08107204\n",
      "  obj : 3.307231\n",
      "\n"
     ]
    },
    {
     "name": "stderr",
     "output_type": "stream",
     "text": [
      " 29%|█████████████████████▏                                                  | 11001/37402 [1:15:06<3:04:42,  2.38it/s]"
     ]
    },
    {
     "name": "stdout",
     "output_type": "stream",
     "text": [
      "Folder: snap/vqa_test \n",
      " Epoch 9 Iter: 11000/37402\n",
      "  Masked Tags : 1.293117\n",
      "  Text Only Masked LM : 1.705352\n",
      "  attr : 1.240362\n",
      "  feat : 0.08237344\n",
      "  obj : 3.270169\n",
      "\n"
     ]
    },
    {
     "name": "stderr",
     "output_type": "stream",
     "text": [
      " 31%|██████████████████████▏                                                 | 11501/37402 [1:18:34<3:03:49,  2.35it/s]"
     ]
    },
    {
     "name": "stdout",
     "output_type": "stream",
     "text": [
      "Folder: snap/vqa_test \n",
      " Epoch 9 Iter: 11500/37402\n",
      "  Masked Tags : 1.26725\n",
      "  Text Only Masked LM : 1.73136\n",
      "  attr : 1.232889\n",
      "  feat : 0.08168661\n",
      "  obj : 3.297563\n",
      "\n"
     ]
    },
    {
     "name": "stderr",
     "output_type": "stream",
     "text": [
      " 32%|███████████████████████                                                 | 12001/37402 [1:22:03<2:44:54,  2.57it/s]"
     ]
    },
    {
     "name": "stdout",
     "output_type": "stream",
     "text": [
      "Folder: snap/vqa_test \n",
      " Epoch 9 Iter: 12000/37402\n",
      "  Masked Tags : 1.296123\n",
      "  Text Only Masked LM : 1.699621\n",
      "  attr : 1.256457\n",
      "  feat : 0.08502866\n",
      "  obj : 3.276438\n",
      "\n"
     ]
    },
    {
     "name": "stderr",
     "output_type": "stream",
     "text": [
      " 33%|████████████████████████                                                | 12501/37402 [1:25:28<2:32:00,  2.73it/s]"
     ]
    },
    {
     "name": "stdout",
     "output_type": "stream",
     "text": [
      "Folder: snap/vqa_test \n",
      " Epoch 9 Iter: 12500/37402\n",
      "  Masked Tags : 1.273251\n",
      "  Text Only Masked LM : 1.684388\n",
      "  attr : 1.236909\n",
      "  feat : 0.08139278\n",
      "  obj : 3.265199\n",
      "\n"
     ]
    },
    {
     "name": "stderr",
     "output_type": "stream",
     "text": [
      " 35%|█████████████████████████                                               | 13001/37402 [1:28:57<3:52:15,  1.75it/s]"
     ]
    },
    {
     "name": "stdout",
     "output_type": "stream",
     "text": [
      "Folder: snap/vqa_test \n",
      " Epoch 9 Iter: 13000/37402\n",
      "  Masked Tags : 1.288396\n",
      "  Text Only Masked LM : 1.703725\n",
      "  attr : 1.231448\n",
      "  feat : 0.08401926\n",
      "  obj : 3.294562\n",
      "\n"
     ]
    },
    {
     "name": "stderr",
     "output_type": "stream",
     "text": [
      " 36%|█████████████████████████▉                                              | 13501/37402 [1:32:23<3:02:17,  2.19it/s]"
     ]
    },
    {
     "name": "stdout",
     "output_type": "stream",
     "text": [
      "Folder: snap/vqa_test \n",
      " Epoch 9 Iter: 13500/37402\n",
      "  Masked Tags : 1.238603\n",
      "  Text Only Masked LM : 1.680558\n",
      "  attr : 1.231509\n",
      "  feat : 0.08240184\n",
      "  obj : 3.300428\n",
      "\n"
     ]
    },
    {
     "name": "stderr",
     "output_type": "stream",
     "text": [
      " 37%|██████████████████████████▉                                             | 14001/37402 [1:35:47<2:24:20,  2.70it/s]"
     ]
    },
    {
     "name": "stdout",
     "output_type": "stream",
     "text": [
      "Folder: snap/vqa_test \n",
      " Epoch 9 Iter: 14000/37402\n",
      "  Masked Tags : 1.280976\n",
      "  Text Only Masked LM : 1.708075\n",
      "  attr : 1.242948\n",
      "  feat : 0.08213849\n",
      "  obj : 3.26799\n",
      "\n"
     ]
    },
    {
     "name": "stderr",
     "output_type": "stream",
     "text": [
      " 39%|███████████████████████████▉                                            | 14502/37402 [1:39:12<2:12:13,  2.89it/s]"
     ]
    },
    {
     "name": "stdout",
     "output_type": "stream",
     "text": [
      "Folder: snap/vqa_test \n",
      " Epoch 9 Iter: 14500/37402\n",
      "  Masked Tags : 1.268645\n",
      "  Text Only Masked LM : 1.673438\n",
      "  attr : 1.238745\n",
      "  feat : 0.08067836\n",
      "  obj : 3.295057\n",
      "\n"
     ]
    },
    {
     "name": "stderr",
     "output_type": "stream",
     "text": [
      " 40%|████████████████████████████▉                                           | 15001/37402 [1:42:38<2:49:34,  2.20it/s]"
     ]
    },
    {
     "name": "stdout",
     "output_type": "stream",
     "text": [
      "Folder: snap/vqa_test \n",
      " Epoch 9 Iter: 15000/37402\n",
      "  Masked Tags : 1.274346\n",
      "  Text Only Masked LM : 1.677088\n",
      "  attr : 1.224105\n",
      "  feat : 0.0835241\n",
      "  obj : 3.29765\n",
      "\n"
     ]
    },
    {
     "name": "stderr",
     "output_type": "stream",
     "text": [
      " 41%|█████████████████████████████▊                                          | 15501/37402 [1:46:03<2:33:41,  2.38it/s]"
     ]
    },
    {
     "name": "stdout",
     "output_type": "stream",
     "text": [
      "Folder: snap/vqa_test \n",
      " Epoch 9 Iter: 15500/37402\n",
      "  Masked Tags : 1.293373\n",
      "  Text Only Masked LM : 1.72678\n",
      "  attr : 1.24127\n",
      "  feat : 0.08117559\n",
      "  obj : 3.293753\n",
      "\n"
     ]
    },
    {
     "name": "stderr",
     "output_type": "stream",
     "text": [
      " 43%|██████████████████████████████▊                                         | 16001/37402 [1:49:28<3:03:17,  1.95it/s]"
     ]
    },
    {
     "name": "stdout",
     "output_type": "stream",
     "text": [
      "Folder: snap/vqa_test \n",
      " Epoch 9 Iter: 16000/37402\n",
      "  Masked Tags : 1.263714\n",
      "  Text Only Masked LM : 1.6972\n",
      "  attr : 1.243271\n",
      "  feat : 0.08172805\n",
      "  obj : 3.262984\n",
      "\n"
     ]
    },
    {
     "name": "stderr",
     "output_type": "stream",
     "text": [
      " 44%|███████████████████████████████▊                                        | 16501/37402 [1:53:03<3:32:56,  1.64it/s]"
     ]
    },
    {
     "name": "stdout",
     "output_type": "stream",
     "text": [
      "Folder: snap/vqa_test \n",
      " Epoch 9 Iter: 16500/37402\n",
      "  Masked Tags : 1.263588\n",
      "  Text Only Masked LM : 1.748939\n",
      "  attr : 1.236839\n",
      "  feat : 0.08199307\n",
      "  obj : 3.292962\n",
      "\n"
     ]
    },
    {
     "name": "stderr",
     "output_type": "stream",
     "text": [
      " 45%|████████████████████████████████▋                                       | 17001/37402 [1:56:35<2:47:54,  2.03it/s]"
     ]
    },
    {
     "name": "stdout",
     "output_type": "stream",
     "text": [
      "Folder: snap/vqa_test \n",
      " Epoch 9 Iter: 17000/37402\n",
      "  Masked Tags : 1.294949\n",
      "  Text Only Masked LM : 1.718447\n",
      "  attr : 1.234854\n",
      "  feat : 0.08119318\n",
      "  obj : 3.295321\n",
      "\n"
     ]
    },
    {
     "name": "stderr",
     "output_type": "stream",
     "text": [
      " 47%|█████████████████████████████████▋                                      | 17501/37402 [2:00:00<2:26:22,  2.27it/s]"
     ]
    },
    {
     "name": "stdout",
     "output_type": "stream",
     "text": [
      "Folder: snap/vqa_test \n",
      " Epoch 9 Iter: 17500/37402\n",
      "  Masked Tags : 1.273203\n",
      "  Text Only Masked LM : 1.738252\n",
      "  attr : 1.229297\n",
      "  feat : 0.08257756\n",
      "  obj : 3.303912\n",
      "\n"
     ]
    },
    {
     "name": "stderr",
     "output_type": "stream",
     "text": [
      " 48%|██████████████████████████████████▋                                     | 18001/37402 [2:03:28<1:59:16,  2.71it/s]"
     ]
    },
    {
     "name": "stdout",
     "output_type": "stream",
     "text": [
      "Folder: snap/vqa_test \n",
      " Epoch 9 Iter: 18000/37402\n",
      "  Masked Tags : 1.253477\n",
      "  Text Only Masked LM : 1.683665\n",
      "  attr : 1.233372\n",
      "  feat : 0.08157234\n",
      "  obj : 3.268612\n",
      "\n"
     ]
    },
    {
     "name": "stderr",
     "output_type": "stream",
     "text": [
      " 49%|███████████████████████████████████▌                                    | 18501/37402 [2:06:59<2:13:13,  2.36it/s]"
     ]
    },
    {
     "name": "stdout",
     "output_type": "stream",
     "text": [
      "Folder: snap/vqa_test \n",
      " Epoch 9 Iter: 18500/37402\n",
      "  Masked Tags : 1.301362\n",
      "  Text Only Masked LM : 1.691788\n",
      "  attr : 1.228553\n",
      "  feat : 0.08254165\n",
      "  obj : 3.265579\n",
      "\n"
     ]
    },
    {
     "name": "stderr",
     "output_type": "stream",
     "text": [
      " 51%|████████████████████████████████████▌                                   | 19001/37402 [2:10:25<1:50:26,  2.78it/s]"
     ]
    },
    {
     "name": "stdout",
     "output_type": "stream",
     "text": [
      "Folder: snap/vqa_test \n",
      " Epoch 9 Iter: 19000/37402\n",
      "  Masked Tags : 1.291962\n",
      "  Text Only Masked LM : 1.70512\n",
      "  attr : 1.249975\n",
      "  feat : 0.08275652\n",
      "  obj : 3.267977\n",
      "\n"
     ]
    },
    {
     "name": "stderr",
     "output_type": "stream",
     "text": [
      " 52%|█████████████████████████████████████▌                                  | 19501/37402 [2:13:57<2:27:01,  2.03it/s]"
     ]
    },
    {
     "name": "stdout",
     "output_type": "stream",
     "text": [
      "Folder: snap/vqa_test \n",
      " Epoch 9 Iter: 19500/37402\n",
      "  Masked Tags : 1.277702\n",
      "  Text Only Masked LM : 1.708753\n",
      "  attr : 1.238357\n",
      "  feat : 0.08296023\n",
      "  obj : 3.291036\n",
      "\n"
     ]
    },
    {
     "name": "stderr",
     "output_type": "stream",
     "text": [
      " 53%|██████████████████████████████████████▌                                 | 20001/37402 [2:17:24<1:58:09,  2.45it/s]"
     ]
    },
    {
     "name": "stdout",
     "output_type": "stream",
     "text": [
      "Folder: snap/vqa_test \n",
      " Epoch 9 Iter: 20000/37402\n",
      "  Masked Tags : 1.25503\n",
      "  Text Only Masked LM : 1.67145\n",
      "  attr : 1.227584\n",
      "  feat : 0.08153073\n",
      "  obj : 3.272128\n",
      "\n"
     ]
    },
    {
     "name": "stderr",
     "output_type": "stream",
     "text": [
      " 55%|███████████████████████████████████████▍                                | 20501/37402 [2:20:50<2:08:09,  2.20it/s]"
     ]
    },
    {
     "name": "stdout",
     "output_type": "stream",
     "text": [
      "Folder: snap/vqa_test \n",
      " Epoch 9 Iter: 20500/37402\n",
      "  Masked Tags : 1.27474\n",
      "  Text Only Masked LM : 1.72057\n",
      "  attr : 1.258224\n",
      "  feat : 0.08173656\n",
      "  obj : 3.269975\n",
      "\n"
     ]
    },
    {
     "name": "stderr",
     "output_type": "stream",
     "text": [
      " 56%|████████████████████████████████████████▍                               | 21001/37402 [2:24:22<2:23:16,  1.91it/s]"
     ]
    },
    {
     "name": "stdout",
     "output_type": "stream",
     "text": [
      "Folder: snap/vqa_test \n",
      " Epoch 9 Iter: 21000/37402\n",
      "  Masked Tags : 1.257241\n",
      "  Text Only Masked LM : 1.718112\n",
      "  attr : 1.242433\n",
      "  feat : 0.0818052\n",
      "  obj : 3.25144\n",
      "\n"
     ]
    },
    {
     "name": "stderr",
     "output_type": "stream",
     "text": [
      " 57%|█████████████████████████████████████████▍                              | 21501/37402 [2:27:41<1:52:23,  2.36it/s]"
     ]
    },
    {
     "name": "stdout",
     "output_type": "stream",
     "text": [
      "Folder: snap/vqa_test \n",
      " Epoch 9 Iter: 21500/37402\n",
      "  Masked Tags : 1.281032\n",
      "  Text Only Masked LM : 1.671636\n",
      "  attr : 1.23124\n",
      "  feat : 0.08412468\n",
      "  obj : 3.300855\n",
      "\n"
     ]
    },
    {
     "name": "stderr",
     "output_type": "stream",
     "text": [
      " 59%|██████████████████████████████████████████▎                             | 22001/37402 [2:31:07<1:46:26,  2.41it/s]"
     ]
    },
    {
     "name": "stdout",
     "output_type": "stream",
     "text": [
      "Folder: snap/vqa_test \n",
      " Epoch 9 Iter: 22000/37402\n",
      "  Masked Tags : 1.261017\n",
      "  Text Only Masked LM : 1.691267\n",
      "  attr : 1.236427\n",
      "  feat : 0.08272504\n",
      "  obj : 3.257329\n",
      "\n"
     ]
    },
    {
     "name": "stderr",
     "output_type": "stream",
     "text": [
      " 60%|███████████████████████████████████████████▎                            | 22501/37402 [2:34:38<1:19:37,  3.12it/s]"
     ]
    },
    {
     "name": "stdout",
     "output_type": "stream",
     "text": [
      "Folder: snap/vqa_test \n",
      " Epoch 9 Iter: 22500/37402\n",
      "  Masked Tags : 1.282895\n",
      "  Text Only Masked LM : 1.676558\n",
      "  attr : 1.237851\n",
      "  feat : 0.08256875\n",
      "  obj : 3.286717\n",
      "\n"
     ]
    },
    {
     "name": "stderr",
     "output_type": "stream",
     "text": [
      " 61%|████████████████████████████████████████████▎                           | 23001/37402 [2:38:08<2:08:18,  1.87it/s]"
     ]
    },
    {
     "name": "stdout",
     "output_type": "stream",
     "text": [
      "Folder: snap/vqa_test \n",
      " Epoch 9 Iter: 23000/37402\n",
      "  Masked Tags : 1.285676\n",
      "  Text Only Masked LM : 1.731896\n",
      "  attr : 1.236229\n",
      "  feat : 0.08287134\n",
      "  obj : 3.268819\n",
      "\n"
     ]
    },
    {
     "name": "stderr",
     "output_type": "stream",
     "text": [
      " 63%|█████████████████████████████████████████████▏                          | 23501/37402 [2:41:27<1:44:32,  2.22it/s]"
     ]
    },
    {
     "name": "stdout",
     "output_type": "stream",
     "text": [
      "Folder: snap/vqa_test \n",
      " Epoch 9 Iter: 23500/37402\n",
      "  Masked Tags : 1.254507\n",
      "  Text Only Masked LM : 1.657549\n",
      "  attr : 1.232195\n",
      "  feat : 0.08259988\n",
      "  obj : 3.300984\n",
      "\n"
     ]
    },
    {
     "name": "stderr",
     "output_type": "stream",
     "text": [
      " 64%|██████████████████████████████████████████████▏                         | 24001/37402 [2:44:52<1:28:32,  2.52it/s]"
     ]
    },
    {
     "name": "stdout",
     "output_type": "stream",
     "text": [
      "Folder: snap/vqa_test \n",
      " Epoch 9 Iter: 24000/37402\n",
      "  Masked Tags : 1.25628\n",
      "  Text Only Masked LM : 1.675098\n",
      "  attr : 1.2469\n",
      "  feat : 0.08283046\n",
      "  obj : 3.290453\n",
      "\n"
     ]
    },
    {
     "name": "stderr",
     "output_type": "stream",
     "text": [
      " 66%|███████████████████████████████████████████████▏                        | 24501/37402 [2:48:21<1:36:10,  2.24it/s]"
     ]
    },
    {
     "name": "stdout",
     "output_type": "stream",
     "text": [
      "Folder: snap/vqa_test \n",
      " Epoch 9 Iter: 24500/37402\n",
      "  Masked Tags : 1.264553\n",
      "  Text Only Masked LM : 1.691296\n",
      "  attr : 1.264315\n",
      "  feat : 0.08163308\n",
      "  obj : 3.292701\n",
      "\n"
     ]
    },
    {
     "name": "stderr",
     "output_type": "stream",
     "text": [
      " 67%|████████████████████████████████████████████████▏                       | 25001/37402 [2:51:52<1:43:33,  2.00it/s]"
     ]
    },
    {
     "name": "stdout",
     "output_type": "stream",
     "text": [
      "Folder: snap/vqa_test \n",
      " Epoch 9 Iter: 25000/37402\n",
      "  Masked Tags : 1.281412\n",
      "  Text Only Masked LM : 1.698717\n",
      "  attr : 1.257846\n",
      "  feat : 0.0811612\n",
      "  obj : 3.276258\n",
      "\n"
     ]
    },
    {
     "name": "stderr",
     "output_type": "stream",
     "text": [
      " 68%|█████████████████████████████████████████████████                       | 25501/37402 [2:55:17<1:23:49,  2.37it/s]"
     ]
    },
    {
     "name": "stdout",
     "output_type": "stream",
     "text": [
      "Folder: snap/vqa_test \n",
      " Epoch 9 Iter: 25500/37402\n",
      "  Masked Tags : 1.277278\n",
      "  Text Only Masked LM : 1.715946\n",
      "  attr : 1.248013\n",
      "  feat : 0.08340854\n",
      "  obj : 3.286761\n",
      "\n"
     ]
    },
    {
     "name": "stderr",
     "output_type": "stream",
     "text": [
      " 70%|██████████████████████████████████████████████████                      | 26001/37402 [2:58:43<1:24:35,  2.25it/s]"
     ]
    },
    {
     "name": "stdout",
     "output_type": "stream",
     "text": [
      "Folder: snap/vqa_test \n",
      " Epoch 9 Iter: 26000/37402\n",
      "  Masked Tags : 1.290889\n",
      "  Text Only Masked LM : 1.710434\n",
      "  attr : 1.245997\n",
      "  feat : 0.08394108\n",
      "  obj : 3.272756\n",
      "\n"
     ]
    },
    {
     "name": "stderr",
     "output_type": "stream",
     "text": [
      " 71%|███████████████████████████████████████████████████                     | 26501/37402 [3:02:03<1:11:02,  2.56it/s]"
     ]
    },
    {
     "name": "stdout",
     "output_type": "stream",
     "text": [
      "Folder: snap/vqa_test \n",
      " Epoch 9 Iter: 26500/37402\n",
      "  Masked Tags : 1.237473\n",
      "  Text Only Masked LM : 1.682397\n",
      "  attr : 1.249897\n",
      "  feat : 0.0829286\n",
      "  obj : 3.242678\n",
      "\n"
     ]
    },
    {
     "name": "stderr",
     "output_type": "stream",
     "text": [
      " 72%|███████████████████████████████████████████████████▉                    | 27001/37402 [3:05:26<1:15:55,  2.28it/s]"
     ]
    },
    {
     "name": "stdout",
     "output_type": "stream",
     "text": [
      "Folder: snap/vqa_test \n",
      " Epoch 9 Iter: 27000/37402\n",
      "  Masked Tags : 1.275009\n",
      "  Text Only Masked LM : 1.698485\n",
      "  attr : 1.249359\n",
      "  feat : 0.08376787\n",
      "  obj : 3.261762\n",
      "\n"
     ]
    },
    {
     "name": "stderr",
     "output_type": "stream",
     "text": [
      " 74%|████████████████████████████████████████████████████▉                   | 27501/37402 [3:08:50<1:04:06,  2.57it/s]"
     ]
    },
    {
     "name": "stdout",
     "output_type": "stream",
     "text": [
      "Folder: snap/vqa_test \n",
      " Epoch 9 Iter: 27500/37402\n",
      "  Masked Tags : 1.259597\n",
      "  Text Only Masked LM : 1.62648\n",
      "  attr : 1.249713\n",
      "  feat : 0.08314991\n",
      "  obj : 3.271911\n",
      "\n"
     ]
    },
    {
     "name": "stderr",
     "output_type": "stream",
     "text": [
      " 75%|█████████████████████████████████████████████████████▉                  | 28001/37402 [3:12:20<1:00:19,  2.60it/s]"
     ]
    },
    {
     "name": "stdout",
     "output_type": "stream",
     "text": [
      "Folder: snap/vqa_test \n",
      " Epoch 9 Iter: 28000/37402\n",
      "  Masked Tags : 1.257506\n",
      "  Text Only Masked LM : 1.685326\n",
      "  attr : 1.234607\n",
      "  feat : 0.08029726\n",
      "  obj : 3.253068\n",
      "\n"
     ]
    },
    {
     "name": "stderr",
     "output_type": "stream",
     "text": [
      " 76%|██████████████████████████████████████████████████████▊                 | 28501/37402 [3:15:49<1:25:49,  1.73it/s]"
     ]
    },
    {
     "name": "stdout",
     "output_type": "stream",
     "text": [
      "Folder: snap/vqa_test \n",
      " Epoch 9 Iter: 28500/37402\n",
      "  Masked Tags : 1.269848\n",
      "  Text Only Masked LM : 1.718036\n",
      "  attr : 1.23758\n",
      "  feat : 0.08209207\n",
      "  obj : 3.272286\n",
      "\n"
     ]
    },
    {
     "name": "stderr",
     "output_type": "stream",
     "text": [
      " 78%|█████████████████████████████████████████████████████████▍                | 29001/37402 [3:19:24<52:45,  2.65it/s]"
     ]
    },
    {
     "name": "stdout",
     "output_type": "stream",
     "text": [
      "Folder: snap/vqa_test \n",
      " Epoch 9 Iter: 29000/37402\n",
      "  Masked Tags : 1.286056\n",
      "  Text Only Masked LM : 1.721213\n",
      "  attr : 1.23908\n",
      "  feat : 0.08227058\n",
      "  obj : 3.252086\n",
      "\n"
     ]
    },
    {
     "name": "stderr",
     "output_type": "stream",
     "text": [
      " 79%|██████████████████████████████████████████████████████████▎               | 29501/37402 [3:22:45<49:23,  2.67it/s]"
     ]
    },
    {
     "name": "stdout",
     "output_type": "stream",
     "text": [
      "Folder: snap/vqa_test \n",
      " Epoch 9 Iter: 29500/37402\n",
      "  Masked Tags : 1.284653\n",
      "  Text Only Masked LM : 1.701079\n",
      "  attr : 1.23604\n",
      "  feat : 0.08361093\n",
      "  obj : 3.287706\n",
      "\n"
     ]
    },
    {
     "name": "stderr",
     "output_type": "stream",
     "text": [
      " 80%|███████████████████████████████████████████████████████████▎              | 30001/37402 [3:26:10<44:46,  2.75it/s]"
     ]
    },
    {
     "name": "stdout",
     "output_type": "stream",
     "text": [
      "Folder: snap/vqa_test \n",
      " Epoch 9 Iter: 30000/37402\n",
      "  Masked Tags : 1.289637\n",
      "  Text Only Masked LM : 1.718059\n",
      "  attr : 1.230629\n",
      "  feat : 0.08326855\n",
      "  obj : 3.279048\n",
      "\n"
     ]
    },
    {
     "name": "stderr",
     "output_type": "stream",
     "text": [
      " 82%|████████████████████████████████████████████████████████████▎             | 30501/37402 [3:29:37<37:33,  3.06it/s]"
     ]
    },
    {
     "name": "stdout",
     "output_type": "stream",
     "text": [
      "Folder: snap/vqa_test \n",
      " Epoch 9 Iter: 30500/37402\n",
      "  Masked Tags : 1.254431\n",
      "  Text Only Masked LM : 1.725075\n",
      "  attr : 1.239475\n",
      "  feat : 0.0816637\n",
      "  obj : 3.315828\n",
      "\n"
     ]
    },
    {
     "name": "stderr",
     "output_type": "stream",
     "text": [
      " 83%|█████████████████████████████████████████████████████████████▎            | 31001/37402 [3:33:09<53:20,  2.00it/s]"
     ]
    },
    {
     "name": "stdout",
     "output_type": "stream",
     "text": [
      "Folder: snap/vqa_test \n",
      " Epoch 9 Iter: 31000/37402\n",
      "  Masked Tags : 1.256009\n",
      "  Text Only Masked LM : 1.668285\n",
      "  attr : 1.229418\n",
      "  feat : 0.08293519\n",
      "  obj : 3.272681\n",
      "\n"
     ]
    },
    {
     "name": "stderr",
     "output_type": "stream",
     "text": [
      " 84%|██████████████████████████████████████████████████████████████▎           | 31501/37402 [3:36:28<34:13,  2.87it/s]"
     ]
    },
    {
     "name": "stdout",
     "output_type": "stream",
     "text": [
      "Folder: snap/vqa_test \n",
      " Epoch 9 Iter: 31500/37402\n",
      "  Masked Tags : 1.247009\n",
      "  Text Only Masked LM : 1.667725\n",
      "  attr : 1.258596\n",
      "  feat : 0.08061839\n",
      "  obj : 3.28263\n",
      "\n"
     ]
    },
    {
     "name": "stderr",
     "output_type": "stream",
     "text": [
      " 86%|███████████████████████████████████████████████████████████████▎          | 32002/37402 [3:39:53<32:24,  2.78it/s]"
     ]
    },
    {
     "name": "stdout",
     "output_type": "stream",
     "text": [
      "Folder: snap/vqa_test \n",
      " Epoch 9 Iter: 32000/37402\n",
      "  Masked Tags : 1.269832\n",
      "  Text Only Masked LM : 1.678101\n",
      "  attr : 1.232006\n",
      "  feat : 0.08241968\n",
      "  obj : 3.272855\n",
      "\n"
     ]
    },
    {
     "name": "stderr",
     "output_type": "stream",
     "text": [
      " 87%|████████████████████████████████████████████████████████████████▎         | 32501/37402 [3:43:24<32:11,  2.54it/s]"
     ]
    },
    {
     "name": "stdout",
     "output_type": "stream",
     "text": [
      "Folder: snap/vqa_test \n",
      " Epoch 9 Iter: 32500/37402\n",
      "  Masked Tags : 1.264807\n",
      "  Text Only Masked LM : 1.700336\n",
      "  attr : 1.242258\n",
      "  feat : 0.08370202\n",
      "  obj : 3.286621\n",
      "\n"
     ]
    },
    {
     "name": "stderr",
     "output_type": "stream",
     "text": [
      " 88%|█████████████████████████████████████████████████████████████████▎        | 33001/37402 [3:46:51<25:56,  2.83it/s]"
     ]
    },
    {
     "name": "stdout",
     "output_type": "stream",
     "text": [
      "Folder: snap/vqa_test \n",
      " Epoch 9 Iter: 33000/37402\n",
      "  Masked Tags : 1.278323\n",
      "  Text Only Masked LM : 1.721908\n",
      "  attr : 1.231628\n",
      "  feat : 0.08384499\n",
      "  obj : 3.30046\n",
      "\n"
     ]
    },
    {
     "name": "stderr",
     "output_type": "stream",
     "text": [
      " 90%|██████████████████████████████████████████████████████████████████▎       | 33501/37402 [3:50:18<30:04,  2.16it/s]"
     ]
    },
    {
     "name": "stdout",
     "output_type": "stream",
     "text": [
      "Folder: snap/vqa_test \n",
      " Epoch 9 Iter: 33500/37402\n",
      "  Masked Tags : 1.233857\n",
      "  Text Only Masked LM : 1.719612\n",
      "  attr : 1.235616\n",
      "  feat : 0.08201285\n",
      "  obj : 3.284972\n",
      "\n"
     ]
    },
    {
     "name": "stderr",
     "output_type": "stream",
     "text": [
      " 91%|███████████████████████████████████████████████████████████████████▎      | 34001/37402 [3:53:41<21:10,  2.68it/s]"
     ]
    },
    {
     "name": "stdout",
     "output_type": "stream",
     "text": [
      "Folder: snap/vqa_test \n",
      " Epoch 9 Iter: 34000/37402\n",
      "  Masked Tags : 1.275701\n",
      "  Text Only Masked LM : 1.702065\n",
      "  attr : 1.243371\n",
      "  feat : 0.08240929\n",
      "  obj : 3.293459\n",
      "\n"
     ]
    },
    {
     "name": "stderr",
     "output_type": "stream",
     "text": [
      " 92%|████████████████████████████████████████████████████████████████████▎     | 34501/37402 [3:57:11<31:22,  1.54it/s]"
     ]
    },
    {
     "name": "stdout",
     "output_type": "stream",
     "text": [
      "Folder: snap/vqa_test \n",
      " Epoch 9 Iter: 34500/37402\n",
      "  Masked Tags : 1.260375\n",
      "  Text Only Masked LM : 1.733386\n",
      "  attr : 1.225297\n",
      "  feat : 0.08145094\n",
      "  obj : 3.300457\n",
      "\n"
     ]
    },
    {
     "name": "stderr",
     "output_type": "stream",
     "text": [
      " 94%|█████████████████████████████████████████████████████████████████████▏    | 35001/37402 [4:00:39<13:48,  2.90it/s]"
     ]
    },
    {
     "name": "stdout",
     "output_type": "stream",
     "text": [
      "Folder: snap/vqa_test \n",
      " Epoch 9 Iter: 35000/37402\n",
      "  Masked Tags : 1.270135\n",
      "  Text Only Masked LM : 1.700858\n",
      "  attr : 1.239779\n",
      "  feat : 0.08336599\n",
      "  obj : 3.289861\n",
      "\n"
     ]
    },
    {
     "name": "stderr",
     "output_type": "stream",
     "text": [
      " 95%|██████████████████████████████████████████████████████████████████████▏   | 35501/37402 [4:04:01<14:59,  2.11it/s]"
     ]
    },
    {
     "name": "stdout",
     "output_type": "stream",
     "text": [
      "Folder: snap/vqa_test \n",
      " Epoch 9 Iter: 35500/37402\n",
      "  Masked Tags : 1.225087\n",
      "  Text Only Masked LM : 1.703782\n",
      "  attr : 1.253815\n",
      "  feat : 0.08306764\n",
      "  obj : 3.28935\n",
      "\n"
     ]
    },
    {
     "name": "stderr",
     "output_type": "stream",
     "text": [
      " 96%|███████████████████████████████████████████████████████████████████████▏  | 36001/37402 [4:07:31<11:09,  2.09it/s]"
     ]
    },
    {
     "name": "stdout",
     "output_type": "stream",
     "text": [
      "Folder: snap/vqa_test \n",
      " Epoch 9 Iter: 36000/37402\n",
      "  Masked Tags : 1.276016\n",
      "  Text Only Masked LM : 1.720972\n",
      "  attr : 1.229792\n",
      "  feat : 0.0820196\n",
      "  obj : 3.282193\n",
      "\n"
     ]
    },
    {
     "name": "stderr",
     "output_type": "stream",
     "text": [
      " 98%|████████████████████████████████████████████████████████████████████████▏ | 36501/37402 [4:10:58<05:27,  2.75it/s]"
     ]
    },
    {
     "name": "stdout",
     "output_type": "stream",
     "text": [
      "Folder: snap/vqa_test \n",
      " Epoch 9 Iter: 36500/37402\n",
      "  Masked Tags : 1.271829\n",
      "  Text Only Masked LM : 1.640028\n",
      "  attr : 1.238108\n",
      "  feat : 0.08304126\n",
      "  obj : 3.287612\n",
      "\n"
     ]
    },
    {
     "name": "stderr",
     "output_type": "stream",
     "text": [
      " 99%|█████████████████████████████████████████████████████████████████████████▏| 37001/37402 [4:14:29<02:31,  2.64it/s]"
     ]
    },
    {
     "name": "stdout",
     "output_type": "stream",
     "text": [
      "Folder: snap/vqa_test \n",
      " Epoch 9 Iter: 37000/37402\n",
      "  Masked Tags : 1.228692\n",
      "  Text Only Masked LM : 1.690148\n",
      "  attr : 1.227107\n",
      "  feat : 0.08183532\n",
      "  obj : 3.285409\n",
      "\n"
     ]
    },
    {
     "name": "stderr",
     "output_type": "stream",
     "text": [
      "100%|██████████████████████████████████████████████████████████████████████████| 37402/37402 [4:17:11<00:00,  2.42it/s]\n"
     ]
    },
    {
     "name": "stdout",
     "output_type": "stream",
     "text": [
      "The training loss for Epoch 9 is 1.6734\n"
     ]
    },
    {
     "name": "stderr",
     "output_type": "stream",
     "text": [
      "100%|████████████████████████████████████████████████████████████████████████████████| 782/782 [08:19<00:00,  1.57it/s]\n"
     ]
    },
    {
     "name": "stdout",
     "output_type": "stream",
     "text": [
      "Evaluation:\n",
      "  Masked LM : 1.96832\n",
      "  Masked Tags : 1.45835\n",
      "  attr : 1.299207\n",
      "  feat : 0.08232615\n",
      "  obj : 3.240566\n",
      "\n",
      "\n",
      "\n",
      "\n",
      "\n",
      "\n",
      "\n",
      "\n",
      "\n"
     ]
    },
    {
     "name": "stderr",
     "output_type": "stream",
     "text": [
      "  1%|█                                                                           | 501/37402 [03:13<5:19:46,  1.92it/s]"
     ]
    },
    {
     "name": "stdout",
     "output_type": "stream",
     "text": [
      "Folder: snap/vqa_test \n",
      " Epoch 10 Iter: 500/37402\n",
      "  Masked Tags : 1.243456\n",
      "  Text Only Masked LM : 1.748741\n",
      "  attr : 1.252745\n",
      "  feat : 0.08291041\n",
      "  obj : 3.301049\n",
      "\n"
     ]
    },
    {
     "name": "stderr",
     "output_type": "stream",
     "text": [
      "  3%|██                                                                         | 1001/37402 [06:31<4:09:07,  2.44it/s]"
     ]
    },
    {
     "name": "stdout",
     "output_type": "stream",
     "text": [
      "Folder: snap/vqa_test \n",
      " Epoch 10 Iter: 1000/37402\n",
      "  Masked Tags : 1.254083\n",
      "  Text Only Masked LM : 1.671793\n",
      "  attr : 1.22997\n",
      "  feat : 0.08188978\n",
      "  obj : 3.273892\n",
      "\n"
     ]
    },
    {
     "name": "stderr",
     "output_type": "stream",
     "text": [
      "  4%|███                                                                        | 1501/37402 [09:49<3:34:18,  2.79it/s]"
     ]
    },
    {
     "name": "stdout",
     "output_type": "stream",
     "text": [
      "Folder: snap/vqa_test \n",
      " Epoch 10 Iter: 1500/37402\n",
      "  Masked Tags : 1.247273\n",
      "  Text Only Masked LM : 1.664892\n",
      "  attr : 1.241249\n",
      "  feat : 0.08060055\n",
      "  obj : 3.301569\n",
      "\n"
     ]
    },
    {
     "name": "stderr",
     "output_type": "stream",
     "text": [
      "  5%|████                                                                       | 2001/37402 [13:15<3:42:55,  2.65it/s]"
     ]
    },
    {
     "name": "stdout",
     "output_type": "stream",
     "text": [
      "Folder: snap/vqa_test \n",
      " Epoch 10 Iter: 2000/37402\n",
      "  Masked Tags : 1.2452\n",
      "  Text Only Masked LM : 1.677018\n",
      "  attr : 1.22375\n",
      "  feat : 0.08338834\n",
      "  obj : 3.281517\n",
      "\n"
     ]
    },
    {
     "name": "stderr",
     "output_type": "stream",
     "text": [
      "  7%|█████                                                                      | 2501/37402 [16:38<3:11:19,  3.04it/s]"
     ]
    },
    {
     "name": "stdout",
     "output_type": "stream",
     "text": [
      "Folder: snap/vqa_test \n",
      " Epoch 10 Iter: 2500/37402\n",
      "  Masked Tags : 1.252181\n",
      "  Text Only Masked LM : 1.698874\n",
      "  attr : 1.234824\n",
      "  feat : 0.08242467\n",
      "  obj : 3.283436\n",
      "\n"
     ]
    },
    {
     "name": "stderr",
     "output_type": "stream",
     "text": [
      "  8%|██████                                                                     | 3001/37402 [19:59<3:53:27,  2.46it/s]"
     ]
    },
    {
     "name": "stdout",
     "output_type": "stream",
     "text": [
      "Folder: snap/vqa_test \n",
      " Epoch 10 Iter: 3000/37402\n",
      "  Masked Tags : 1.260473\n",
      "  Text Only Masked LM : 1.659634\n",
      "  attr : 1.217427\n",
      "  feat : 0.08261328\n",
      "  obj : 3.260702\n",
      "\n"
     ]
    },
    {
     "name": "stderr",
     "output_type": "stream",
     "text": [
      "  9%|███████                                                                    | 3501/37402 [23:25<3:45:27,  2.51it/s]"
     ]
    },
    {
     "name": "stdout",
     "output_type": "stream",
     "text": [
      "Folder: snap/vqa_test \n",
      " Epoch 10 Iter: 3500/37402\n",
      "  Masked Tags : 1.241738\n",
      "  Text Only Masked LM : 1.70947\n",
      "  attr : 1.230569\n",
      "  feat : 0.08229658\n",
      "  obj : 3.315093\n",
      "\n"
     ]
    },
    {
     "name": "stderr",
     "output_type": "stream",
     "text": [
      " 11%|████████                                                                   | 4001/37402 [26:49<4:16:45,  2.17it/s]"
     ]
    },
    {
     "name": "stdout",
     "output_type": "stream",
     "text": [
      "Folder: snap/vqa_test \n",
      " Epoch 10 Iter: 4000/37402\n",
      "  Masked Tags : 1.231489\n",
      "  Text Only Masked LM : 1.670775\n",
      "  attr : 1.233264\n",
      "  feat : 0.08317417\n",
      "  obj : 3.292742\n",
      "\n"
     ]
    },
    {
     "name": "stderr",
     "output_type": "stream",
     "text": [
      " 12%|█████████                                                                  | 4501/37402 [30:18<3:43:25,  2.45it/s]"
     ]
    },
    {
     "name": "stdout",
     "output_type": "stream",
     "text": [
      "Folder: snap/vqa_test \n",
      " Epoch 10 Iter: 4500/37402\n",
      "  Masked Tags : 1.251133\n",
      "  Text Only Masked LM : 1.697032\n",
      "  attr : 1.249946\n",
      "  feat : 0.0834138\n",
      "  obj : 3.274862\n",
      "\n"
     ]
    },
    {
     "name": "stderr",
     "output_type": "stream",
     "text": [
      " 13%|██████████                                                                 | 5001/37402 [33:51<4:04:47,  2.21it/s]"
     ]
    },
    {
     "name": "stdout",
     "output_type": "stream",
     "text": [
      "Folder: snap/vqa_test \n",
      " Epoch 10 Iter: 5000/37402\n",
      "  Masked Tags : 1.248749\n",
      "  Text Only Masked LM : 1.708414\n",
      "  attr : 1.239827\n",
      "  feat : 0.08436242\n",
      "  obj : 3.283267\n",
      "\n"
     ]
    },
    {
     "name": "stderr",
     "output_type": "stream",
     "text": [
      " 15%|███████████                                                                | 5501/37402 [37:13<3:23:23,  2.61it/s]"
     ]
    },
    {
     "name": "stdout",
     "output_type": "stream",
     "text": [
      "Folder: snap/vqa_test \n",
      " Epoch 10 Iter: 5500/37402\n",
      "  Masked Tags : 1.223885\n",
      "  Text Only Masked LM : 1.66494\n",
      "  attr : 1.217899\n",
      "  feat : 0.08128455\n",
      "  obj : 3.330438\n",
      "\n"
     ]
    },
    {
     "name": "stderr",
     "output_type": "stream",
     "text": [
      " 16%|████████████                                                               | 6001/37402 [40:38<4:22:33,  1.99it/s]"
     ]
    },
    {
     "name": "stdout",
     "output_type": "stream",
     "text": [
      "Folder: snap/vqa_test \n",
      " Epoch 10 Iter: 6000/37402\n",
      "  Masked Tags : 1.260575\n",
      "  Text Only Masked LM : 1.699172\n",
      "  attr : 1.227993\n",
      "  feat : 0.08115019\n",
      "  obj : 3.283644\n",
      "\n"
     ]
    },
    {
     "name": "stderr",
     "output_type": "stream",
     "text": [
      " 17%|█████████████                                                              | 6501/37402 [43:56<3:49:11,  2.25it/s]"
     ]
    },
    {
     "name": "stdout",
     "output_type": "stream",
     "text": [
      "Folder: snap/vqa_test \n",
      " Epoch 10 Iter: 6500/37402\n",
      "  Masked Tags : 1.258429\n",
      "  Text Only Masked LM : 1.619991\n",
      "  attr : 1.22574\n",
      "  feat : 0.08412986\n",
      "  obj : 3.279005\n",
      "\n"
     ]
    },
    {
     "name": "stderr",
     "output_type": "stream",
     "text": [
      " 19%|██████████████                                                             | 7001/37402 [47:20<2:58:06,  2.84it/s]"
     ]
    },
    {
     "name": "stdout",
     "output_type": "stream",
     "text": [
      "Folder: snap/vqa_test \n",
      " Epoch 10 Iter: 7000/37402\n",
      "  Masked Tags : 1.252031\n",
      "  Text Only Masked LM : 1.694143\n",
      "  attr : 1.207751\n",
      "  feat : 0.08283487\n",
      "  obj : 3.264174\n",
      "\n"
     ]
    },
    {
     "name": "stderr",
     "output_type": "stream",
     "text": [
      " 20%|███████████████                                                            | 7501/37402 [50:41<2:15:46,  3.67it/s]"
     ]
    },
    {
     "name": "stdout",
     "output_type": "stream",
     "text": [
      "Folder: snap/vqa_test \n",
      " Epoch 10 Iter: 7500/37402\n",
      "  Masked Tags : 1.257828\n",
      "  Text Only Masked LM : 1.637467\n",
      "  attr : 1.231425\n",
      "  feat : 0.08053929\n",
      "  obj : 3.30114\n",
      "\n"
     ]
    },
    {
     "name": "stderr",
     "output_type": "stream",
     "text": [
      " 21%|████████████████                                                           | 8001/37402 [53:55<3:27:51,  2.36it/s]"
     ]
    },
    {
     "name": "stdout",
     "output_type": "stream",
     "text": [
      "Folder: snap/vqa_test \n",
      " Epoch 10 Iter: 8000/37402\n",
      "  Masked Tags : 1.263013\n",
      "  Text Only Masked LM : 1.605682\n",
      "  attr : 1.225767\n",
      "  feat : 0.08113442\n",
      "  obj : 3.288654\n",
      "\n"
     ]
    },
    {
     "name": "stderr",
     "output_type": "stream",
     "text": [
      " 23%|█████████████████                                                          | 8501/37402 [57:16<3:01:13,  2.66it/s]"
     ]
    },
    {
     "name": "stdout",
     "output_type": "stream",
     "text": [
      "Folder: snap/vqa_test \n",
      " Epoch 10 Iter: 8500/37402\n",
      "  Masked Tags : 1.226552\n",
      "  Text Only Masked LM : 1.666455\n",
      "  attr : 1.208163\n",
      "  feat : 0.08307966\n",
      "  obj : 3.231507\n",
      "\n"
     ]
    },
    {
     "name": "stderr",
     "output_type": "stream",
     "text": [
      " 24%|█████████████████▌                                                       | 9001/37402 [1:00:34<3:36:26,  2.19it/s]"
     ]
    },
    {
     "name": "stdout",
     "output_type": "stream",
     "text": [
      "Folder: snap/vqa_test \n",
      " Epoch 10 Iter: 9000/37402\n",
      "  Masked Tags : 1.27994\n",
      "  Text Only Masked LM : 1.685877\n",
      "  attr : 1.244152\n",
      "  feat : 0.08220023\n",
      "  obj : 3.262071\n",
      "\n"
     ]
    },
    {
     "name": "stderr",
     "output_type": "stream",
     "text": [
      " 25%|██████████████████▌                                                      | 9501/37402 [1:03:58<3:25:03,  2.27it/s]"
     ]
    },
    {
     "name": "stdout",
     "output_type": "stream",
     "text": [
      "Folder: snap/vqa_test \n",
      " Epoch 10 Iter: 9500/37402\n",
      "  Masked Tags : 1.254959\n",
      "  Text Only Masked LM : 1.66215\n",
      "  attr : 1.216777\n",
      "  feat : 0.08201901\n",
      "  obj : 3.279306\n",
      "\n"
     ]
    },
    {
     "name": "stderr",
     "output_type": "stream",
     "text": [
      " 27%|███████████████████▎                                                    | 10001/37402 [1:07:27<2:57:47,  2.57it/s]"
     ]
    },
    {
     "name": "stdout",
     "output_type": "stream",
     "text": [
      "Folder: snap/vqa_test \n",
      " Epoch 10 Iter: 10000/37402\n",
      "  Masked Tags : 1.233169\n",
      "  Text Only Masked LM : 1.701861\n",
      "  attr : 1.233752\n",
      "  feat : 0.08246976\n",
      "  obj : 3.270329\n",
      "\n"
     ]
    },
    {
     "name": "stderr",
     "output_type": "stream",
     "text": [
      " 28%|████████████████████▏                                                   | 10501/37402 [1:11:01<3:19:46,  2.24it/s]"
     ]
    },
    {
     "name": "stdout",
     "output_type": "stream",
     "text": [
      "Folder: snap/vqa_test \n",
      " Epoch 10 Iter: 10500/37402\n",
      "  Masked Tags : 1.23825\n",
      "  Text Only Masked LM : 1.688553\n",
      "  attr : 1.236847\n",
      "  feat : 0.08249279\n",
      "  obj : 3.256972\n",
      "\n"
     ]
    },
    {
     "name": "stderr",
     "output_type": "stream",
     "text": [
      " 29%|█████████████████████▏                                                  | 11001/37402 [1:14:31<3:10:15,  2.31it/s]"
     ]
    },
    {
     "name": "stdout",
     "output_type": "stream",
     "text": [
      "Folder: snap/vqa_test \n",
      " Epoch 10 Iter: 11000/37402\n",
      "  Masked Tags : 1.20501\n",
      "  Text Only Masked LM : 1.664336\n",
      "  attr : 1.22139\n",
      "  feat : 0.0807228\n",
      "  obj : 3.283307\n",
      "\n"
     ]
    },
    {
     "name": "stderr",
     "output_type": "stream",
     "text": [
      " 31%|██████████████████████▏                                                 | 11501/37402 [1:18:04<2:40:47,  2.68it/s]"
     ]
    },
    {
     "name": "stdout",
     "output_type": "stream",
     "text": [
      "Folder: snap/vqa_test \n",
      " Epoch 10 Iter: 11500/37402\n",
      "  Masked Tags : 1.235555\n",
      "  Text Only Masked LM : 1.70343\n",
      "  attr : 1.227185\n",
      "  feat : 0.08202637\n",
      "  obj : 3.276362\n",
      "\n"
     ]
    },
    {
     "name": "stderr",
     "output_type": "stream",
     "text": [
      " 32%|███████████████████████                                                 | 12001/37402 [1:21:32<4:28:01,  1.58it/s]"
     ]
    },
    {
     "name": "stdout",
     "output_type": "stream",
     "text": [
      "Folder: snap/vqa_test \n",
      " Epoch 10 Iter: 12000/37402\n",
      "  Masked Tags : 1.236267\n",
      "  Text Only Masked LM : 1.641002\n",
      "  attr : 1.230357\n",
      "  feat : 0.08191688\n",
      "  obj : 3.281191\n",
      "\n"
     ]
    },
    {
     "name": "stderr",
     "output_type": "stream",
     "text": [
      " 33%|████████████████████████                                                | 12501/37402 [1:25:01<3:09:27,  2.19it/s]"
     ]
    },
    {
     "name": "stdout",
     "output_type": "stream",
     "text": [
      "Folder: snap/vqa_test \n",
      " Epoch 10 Iter: 12500/37402\n",
      "  Masked Tags : 1.247489\n",
      "  Text Only Masked LM : 1.670959\n",
      "  attr : 1.249544\n",
      "  feat : 0.08333331\n",
      "  obj : 3.25481\n",
      "\n"
     ]
    },
    {
     "name": "stderr",
     "output_type": "stream",
     "text": [
      " 35%|█████████████████████████                                               | 13001/37402 [1:28:27<2:59:52,  2.26it/s]"
     ]
    },
    {
     "name": "stdout",
     "output_type": "stream",
     "text": [
      "Folder: snap/vqa_test \n",
      " Epoch 10 Iter: 13000/37402\n",
      "  Masked Tags : 1.252687\n",
      "  Text Only Masked LM : 1.703637\n",
      "  attr : 1.222059\n",
      "  feat : 0.08269632\n",
      "  obj : 3.279837\n",
      "\n"
     ]
    },
    {
     "name": "stderr",
     "output_type": "stream",
     "text": [
      " 36%|█████████████████████████▉                                              | 13501/37402 [1:31:59<2:53:35,  2.29it/s]"
     ]
    },
    {
     "name": "stdout",
     "output_type": "stream",
     "text": [
      "Folder: snap/vqa_test \n",
      " Epoch 10 Iter: 13500/37402\n",
      "  Masked Tags : 1.239918\n",
      "  Text Only Masked LM : 1.669574\n",
      "  attr : 1.23949\n",
      "  feat : 0.08300031\n",
      "  obj : 3.286948\n",
      "\n"
     ]
    },
    {
     "name": "stderr",
     "output_type": "stream",
     "text": [
      " 37%|██████████████████████████▉                                             | 14001/37402 [1:35:24<2:22:40,  2.73it/s]"
     ]
    },
    {
     "name": "stdout",
     "output_type": "stream",
     "text": [
      "Folder: snap/vqa_test \n",
      " Epoch 10 Iter: 14000/37402\n",
      "  Masked Tags : 1.239401\n",
      "  Text Only Masked LM : 1.678004\n",
      "  attr : 1.250395\n",
      "  feat : 0.08384471\n",
      "  obj : 3.218016\n",
      "\n"
     ]
    },
    {
     "name": "stderr",
     "output_type": "stream",
     "text": [
      " 39%|███████████████████████████▉                                            | 14501/37402 [1:38:53<2:17:03,  2.78it/s]"
     ]
    },
    {
     "name": "stdout",
     "output_type": "stream",
     "text": [
      "Folder: snap/vqa_test \n",
      " Epoch 10 Iter: 14500/37402\n",
      "  Masked Tags : 1.235583\n",
      "  Text Only Masked LM : 1.659663\n",
      "  attr : 1.238575\n",
      "  feat : 0.08142909\n",
      "  obj : 3.287652\n",
      "\n"
     ]
    },
    {
     "name": "stderr",
     "output_type": "stream",
     "text": [
      " 40%|████████████████████████████▉                                           | 15001/37402 [1:42:18<2:59:22,  2.08it/s]"
     ]
    },
    {
     "name": "stdout",
     "output_type": "stream",
     "text": [
      "Folder: snap/vqa_test \n",
      " Epoch 10 Iter: 15000/37402\n",
      "  Masked Tags : 1.217064\n",
      "  Text Only Masked LM : 1.681408\n",
      "  attr : 1.234652\n",
      "  feat : 0.08157887\n",
      "  obj : 3.283577\n",
      "\n"
     ]
    },
    {
     "name": "stderr",
     "output_type": "stream",
     "text": [
      " 41%|█████████████████████████████▊                                          | 15501/37402 [1:45:43<1:59:51,  3.05it/s]"
     ]
    },
    {
     "name": "stdout",
     "output_type": "stream",
     "text": [
      "Folder: snap/vqa_test \n",
      " Epoch 10 Iter: 15500/37402\n",
      "  Masked Tags : 1.251331\n",
      "  Text Only Masked LM : 1.654851\n",
      "  attr : 1.243569\n",
      "  feat : 0.0817825\n",
      "  obj : 3.264498\n",
      "\n"
     ]
    },
    {
     "name": "stderr",
     "output_type": "stream",
     "text": [
      " 43%|██████████████████████████████▊                                         | 16001/37402 [1:49:03<2:21:23,  2.52it/s]"
     ]
    },
    {
     "name": "stdout",
     "output_type": "stream",
     "text": [
      "Folder: snap/vqa_test \n",
      " Epoch 10 Iter: 16000/37402\n",
      "  Masked Tags : 1.213534\n",
      "  Text Only Masked LM : 1.647254\n",
      "  attr : 1.2532\n",
      "  feat : 0.08252719\n",
      "  obj : 3.266889\n",
      "\n"
     ]
    },
    {
     "name": "stderr",
     "output_type": "stream",
     "text": [
      " 44%|███████████████████████████████▊                                        | 16501/37402 [1:52:36<2:35:51,  2.24it/s]"
     ]
    },
    {
     "name": "stdout",
     "output_type": "stream",
     "text": [
      "Folder: snap/vqa_test \n",
      " Epoch 10 Iter: 16500/37402\n",
      "  Masked Tags : 1.225114\n",
      "  Text Only Masked LM : 1.657589\n",
      "  attr : 1.243455\n",
      "  feat : 0.08267158\n",
      "  obj : 3.281516\n",
      "\n"
     ]
    },
    {
     "name": "stderr",
     "output_type": "stream",
     "text": [
      " 45%|████████████████████████████████▋                                       | 17001/37402 [1:56:04<2:23:14,  2.37it/s]"
     ]
    },
    {
     "name": "stdout",
     "output_type": "stream",
     "text": [
      "Folder: snap/vqa_test \n",
      " Epoch 10 Iter: 17000/37402\n",
      "  Masked Tags : 1.224822\n",
      "  Text Only Masked LM : 1.685377\n",
      "  attr : 1.253561\n",
      "  feat : 0.08201341\n",
      "  obj : 3.285471\n",
      "\n"
     ]
    },
    {
     "name": "stderr",
     "output_type": "stream",
     "text": [
      " 47%|█████████████████████████████████▋                                      | 17501/37402 [1:59:34<2:50:24,  1.95it/s]"
     ]
    },
    {
     "name": "stdout",
     "output_type": "stream",
     "text": [
      "Folder: snap/vqa_test \n",
      " Epoch 10 Iter: 17500/37402\n",
      "  Masked Tags : 1.226419\n",
      "  Text Only Masked LM : 1.6763\n",
      "  attr : 1.258178\n",
      "  feat : 0.08398198\n",
      "  obj : 3.249868\n",
      "\n"
     ]
    },
    {
     "name": "stderr",
     "output_type": "stream",
     "text": [
      " 48%|██████████████████████████████████▋                                     | 18001/37402 [2:02:58<2:46:15,  1.94it/s]"
     ]
    },
    {
     "name": "stdout",
     "output_type": "stream",
     "text": [
      "Folder: snap/vqa_test \n",
      " Epoch 10 Iter: 18000/37402\n",
      "  Masked Tags : 1.237404\n",
      "  Text Only Masked LM : 1.691587\n",
      "  attr : 1.225938\n",
      "  feat : 0.08362159\n",
      "  obj : 3.273353\n",
      "\n"
     ]
    },
    {
     "name": "stderr",
     "output_type": "stream",
     "text": [
      " 49%|███████████████████████████████████▌                                    | 18501/37402 [2:06:16<2:21:04,  2.23it/s]"
     ]
    },
    {
     "name": "stdout",
     "output_type": "stream",
     "text": [
      "Folder: snap/vqa_test \n",
      " Epoch 10 Iter: 18500/37402\n",
      "  Masked Tags : 1.250794\n",
      "  Text Only Masked LM : 1.591484\n",
      "  attr : 1.259506\n",
      "  feat : 0.08194335\n",
      "  obj : 3.280073\n",
      "\n"
     ]
    },
    {
     "name": "stderr",
     "output_type": "stream",
     "text": [
      " 51%|████████████████████████████████████▌                                   | 19001/37402 [2:09:46<2:04:48,  2.46it/s]"
     ]
    },
    {
     "name": "stdout",
     "output_type": "stream",
     "text": [
      "Folder: snap/vqa_test \n",
      " Epoch 10 Iter: 19000/37402\n",
      "  Masked Tags : 1.236598\n",
      "  Text Only Masked LM : 1.680822\n",
      "  attr : 1.258898\n",
      "  feat : 0.08276515\n",
      "  obj : 3.293712\n",
      "\n"
     ]
    },
    {
     "name": "stderr",
     "output_type": "stream",
     "text": [
      " 52%|█████████████████████████████████████▌                                  | 19502/37402 [2:13:19<1:50:42,  2.69it/s]"
     ]
    },
    {
     "name": "stdout",
     "output_type": "stream",
     "text": [
      "Folder: snap/vqa_test \n",
      " Epoch 10 Iter: 19500/37402\n",
      "  Masked Tags : 1.227903\n",
      "  Text Only Masked LM : 1.688681\n",
      "  attr : 1.236803\n",
      "  feat : 0.0826532\n",
      "  obj : 3.285851\n",
      "\n"
     ]
    },
    {
     "name": "stderr",
     "output_type": "stream",
     "text": [
      " 53%|██████████████████████████████████████▌                                 | 20001/37402 [2:16:54<2:25:17,  2.00it/s]"
     ]
    },
    {
     "name": "stdout",
     "output_type": "stream",
     "text": [
      "Folder: snap/vqa_test \n",
      " Epoch 10 Iter: 20000/37402\n",
      "  Masked Tags : 1.219095\n",
      "  Text Only Masked LM : 1.63614\n",
      "  attr : 1.257161\n",
      "  feat : 0.08172123\n",
      "  obj : 3.278912\n",
      "\n"
     ]
    },
    {
     "name": "stderr",
     "output_type": "stream",
     "text": [
      " 55%|███████████████████████████████████████▍                                | 20501/37402 [2:20:19<2:17:48,  2.04it/s]"
     ]
    },
    {
     "name": "stdout",
     "output_type": "stream",
     "text": [
      "Folder: snap/vqa_test \n",
      " Epoch 10 Iter: 20500/37402\n",
      "  Masked Tags : 1.234638\n",
      "  Text Only Masked LM : 1.661709\n",
      "  attr : 1.229382\n",
      "  feat : 0.08161497\n",
      "  obj : 3.302221\n",
      "\n"
     ]
    },
    {
     "name": "stderr",
     "output_type": "stream",
     "text": [
      " 56%|████████████████████████████████████████▍                               | 21001/37402 [2:23:48<1:33:59,  2.91it/s]"
     ]
    },
    {
     "name": "stdout",
     "output_type": "stream",
     "text": [
      "Folder: snap/vqa_test \n",
      " Epoch 10 Iter: 21000/37402\n",
      "  Masked Tags : 1.224442\n",
      "  Text Only Masked LM : 1.636648\n",
      "  attr : 1.223701\n",
      "  feat : 0.08263559\n",
      "  obj : 3.267531\n",
      "\n"
     ]
    },
    {
     "name": "stderr",
     "output_type": "stream",
     "text": [
      " 57%|█████████████████████████████████████████▍                              | 21501/37402 [2:27:10<1:29:01,  2.98it/s]"
     ]
    },
    {
     "name": "stdout",
     "output_type": "stream",
     "text": [
      "Folder: snap/vqa_test \n",
      " Epoch 10 Iter: 21500/37402\n",
      "  Masked Tags : 1.198012\n",
      "  Text Only Masked LM : 1.642191\n",
      "  attr : 1.238693\n",
      "  feat : 0.08155773\n",
      "  obj : 3.306633\n",
      "\n"
     ]
    },
    {
     "name": "stderr",
     "output_type": "stream",
     "text": [
      " 59%|██████████████████████████████████████████▎                             | 22001/37402 [2:30:39<1:33:36,  2.74it/s]"
     ]
    },
    {
     "name": "stdout",
     "output_type": "stream",
     "text": [
      "Folder: snap/vqa_test \n",
      " Epoch 10 Iter: 22000/37402\n",
      "  Masked Tags : 1.209836\n",
      "  Text Only Masked LM : 1.638837\n",
      "  attr : 1.23405\n",
      "  feat : 0.08280849\n",
      "  obj : 3.279682\n",
      "\n"
     ]
    },
    {
     "name": "stderr",
     "output_type": "stream",
     "text": [
      " 60%|███████████████████████████████████████████▎                            | 22501/37402 [2:34:12<1:52:00,  2.22it/s]"
     ]
    },
    {
     "name": "stdout",
     "output_type": "stream",
     "text": [
      "Folder: snap/vqa_test \n",
      " Epoch 10 Iter: 22500/37402\n",
      "  Masked Tags : 1.214079\n",
      "  Text Only Masked LM : 1.664383\n",
      "  attr : 1.23701\n",
      "  feat : 0.08272078\n",
      "  obj : 3.294256\n",
      "\n"
     ]
    },
    {
     "name": "stderr",
     "output_type": "stream",
     "text": [
      " 61%|████████████████████████████████████████████▎                           | 23001/37402 [2:37:42<2:04:39,  1.93it/s]"
     ]
    },
    {
     "name": "stdout",
     "output_type": "stream",
     "text": [
      "Folder: snap/vqa_test \n",
      " Epoch 10 Iter: 23000/37402\n",
      "  Masked Tags : 1.19576\n",
      "  Text Only Masked LM : 1.684032\n",
      "  attr : 1.237165\n",
      "  feat : 0.07876369\n",
      "  obj : 3.339356\n",
      "\n"
     ]
    },
    {
     "name": "stderr",
     "output_type": "stream",
     "text": [
      " 63%|█████████████████████████████████████████████▏                          | 23501/37402 [2:41:10<1:17:06,  3.00it/s]"
     ]
    },
    {
     "name": "stdout",
     "output_type": "stream",
     "text": [
      "Folder: snap/vqa_test \n",
      " Epoch 10 Iter: 23500/37402\n",
      "  Masked Tags : 1.216042\n",
      "  Text Only Masked LM : 1.64489\n",
      "  attr : 1.249967\n",
      "  feat : 0.0849157\n",
      "  obj : 3.260411\n",
      "\n"
     ]
    },
    {
     "name": "stderr",
     "output_type": "stream",
     "text": [
      " 64%|██████████████████████████████████████████████▏                         | 24001/37402 [2:44:42<1:29:34,  2.49it/s]"
     ]
    },
    {
     "name": "stdout",
     "output_type": "stream",
     "text": [
      "Folder: snap/vqa_test \n",
      " Epoch 10 Iter: 24000/37402\n",
      "  Masked Tags : 1.266364\n",
      "  Text Only Masked LM : 1.675857\n",
      "  attr : 1.239033\n",
      "  feat : 0.08413554\n",
      "  obj : 3.266733\n",
      "\n"
     ]
    },
    {
     "name": "stderr",
     "output_type": "stream",
     "text": [
      " 66%|███████████████████████████████████████████████▏                        | 24501/37402 [2:48:07<1:51:14,  1.93it/s]"
     ]
    },
    {
     "name": "stdout",
     "output_type": "stream",
     "text": [
      "Folder: snap/vqa_test \n",
      " Epoch 10 Iter: 24500/37402\n",
      "  Masked Tags : 1.25481\n",
      "  Text Only Masked LM : 1.654923\n",
      "  attr : 1.225037\n",
      "  feat : 0.08371373\n",
      "  obj : 3.259613\n",
      "\n"
     ]
    },
    {
     "name": "stderr",
     "output_type": "stream",
     "text": [
      " 67%|████████████████████████████████████████████████▏                       | 25001/37402 [2:51:33<1:27:00,  2.38it/s]"
     ]
    },
    {
     "name": "stdout",
     "output_type": "stream",
     "text": [
      "Folder: snap/vqa_test \n",
      " Epoch 10 Iter: 25000/37402\n",
      "  Masked Tags : 1.25271\n",
      "  Text Only Masked LM : 1.633884\n",
      "  attr : 1.223933\n",
      "  feat : 0.08264867\n",
      "  obj : 3.296059\n",
      "\n"
     ]
    },
    {
     "name": "stderr",
     "output_type": "stream",
     "text": [
      " 68%|█████████████████████████████████████████████████                       | 25501/37402 [2:54:59<1:33:07,  2.13it/s]"
     ]
    },
    {
     "name": "stdout",
     "output_type": "stream",
     "text": [
      "Folder: snap/vqa_test \n",
      " Epoch 10 Iter: 25500/37402\n",
      "  Masked Tags : 1.212823\n",
      "  Text Only Masked LM : 1.652042\n",
      "  attr : 1.205383\n",
      "  feat : 0.08043515\n",
      "  obj : 3.293756\n",
      "\n"
     ]
    },
    {
     "name": "stderr",
     "output_type": "stream",
     "text": [
      " 70%|██████████████████████████████████████████████████                      | 26001/37402 [2:58:30<1:20:56,  2.35it/s]"
     ]
    },
    {
     "name": "stdout",
     "output_type": "stream",
     "text": [
      "Folder: snap/vqa_test \n",
      " Epoch 10 Iter: 26000/37402\n",
      "  Masked Tags : 1.217001\n",
      "  Text Only Masked LM : 1.726997\n",
      "  attr : 1.206284\n",
      "  feat : 0.08139411\n",
      "  obj : 3.299464\n",
      "\n"
     ]
    },
    {
     "name": "stderr",
     "output_type": "stream",
     "text": [
      " 71%|████████████████████████████████████████████████████▍                     | 26501/37402 [3:01:56<52:54,  3.43it/s]"
     ]
    },
    {
     "name": "stdout",
     "output_type": "stream",
     "text": [
      "Folder: snap/vqa_test \n",
      " Epoch 10 Iter: 26500/37402\n",
      "  Masked Tags : 1.26397\n",
      "  Text Only Masked LM : 1.653414\n",
      "  attr : 1.227473\n",
      "  feat : 0.08251082\n",
      "  obj : 3.275367\n",
      "\n"
     ]
    },
    {
     "name": "stderr",
     "output_type": "stream",
     "text": [
      " 72%|███████████████████████████████████████████████████▉                    | 27001/37402 [3:05:24<1:25:00,  2.04it/s]"
     ]
    },
    {
     "name": "stdout",
     "output_type": "stream",
     "text": [
      "Folder: snap/vqa_test \n",
      " Epoch 10 Iter: 27000/37402\n",
      "  Masked Tags : 1.248589\n",
      "  Text Only Masked LM : 1.687223\n",
      "  attr : 1.24163\n",
      "  feat : 0.08225736\n",
      "  obj : 3.273506\n",
      "\n"
     ]
    },
    {
     "name": "stderr",
     "output_type": "stream",
     "text": [
      " 74%|████████████████████████████████████████████████████▉                   | 27501/37402 [3:08:57<1:10:53,  2.33it/s]"
     ]
    },
    {
     "name": "stdout",
     "output_type": "stream",
     "text": [
      "Folder: snap/vqa_test \n",
      " Epoch 10 Iter: 27500/37402\n",
      "  Masked Tags : 1.270817\n",
      "  Text Only Masked LM : 1.661709\n",
      "  attr : 1.229888\n",
      "  feat : 0.08400116\n",
      "  obj : 3.247042\n",
      "\n"
     ]
    },
    {
     "name": "stderr",
     "output_type": "stream",
     "text": [
      " 75%|███████████████████████████████████████████████████████▍                  | 28001/37402 [3:12:20<49:32,  3.16it/s]"
     ]
    },
    {
     "name": "stdout",
     "output_type": "stream",
     "text": [
      "Folder: snap/vqa_test \n",
      " Epoch 10 Iter: 28000/37402\n",
      "  Masked Tags : 1.21227\n",
      "  Text Only Masked LM : 1.678632\n",
      "  attr : 1.217743\n",
      "  feat : 0.08036777\n",
      "  obj : 3.286575\n",
      "\n"
     ]
    },
    {
     "name": "stderr",
     "output_type": "stream",
     "text": [
      " 76%|██████████████████████████████████████████████████████▊                 | 28501/37402 [3:15:46<1:09:06,  2.15it/s]"
     ]
    },
    {
     "name": "stdout",
     "output_type": "stream",
     "text": [
      "Folder: snap/vqa_test \n",
      " Epoch 10 Iter: 28500/37402\n",
      "  Masked Tags : 1.236324\n",
      "  Text Only Masked LM : 1.674251\n",
      "  attr : 1.220455\n",
      "  feat : 0.08151426\n",
      "  obj : 3.273295\n",
      "\n"
     ]
    },
    {
     "name": "stderr",
     "output_type": "stream",
     "text": [
      " 78%|█████████████████████████████████████████████████████████▍                | 29001/37402 [3:19:14<54:31,  2.57it/s]"
     ]
    },
    {
     "name": "stdout",
     "output_type": "stream",
     "text": [
      "Folder: snap/vqa_test \n",
      " Epoch 10 Iter: 29000/37402\n",
      "  Masked Tags : 1.247961\n",
      "  Text Only Masked LM : 1.644351\n",
      "  attr : 1.229735\n",
      "  feat : 0.08284025\n",
      "  obj : 3.265436\n",
      "\n"
     ]
    },
    {
     "name": "stderr",
     "output_type": "stream",
     "text": [
      " 79%|██████████████████████████████████████████████████████████▎               | 29501/37402 [3:22:32<48:15,  2.73it/s]"
     ]
    },
    {
     "name": "stdout",
     "output_type": "stream",
     "text": [
      "Folder: snap/vqa_test \n",
      " Epoch 10 Iter: 29500/37402\n",
      "  Masked Tags : 1.223752\n",
      "  Text Only Masked LM : 1.644435\n",
      "  attr : 1.225572\n",
      "  feat : 0.08142143\n",
      "  obj : 3.298047\n",
      "\n"
     ]
    },
    {
     "name": "stderr",
     "output_type": "stream",
     "text": [
      " 80%|███████████████████████████████████████████████████████████▎              | 30001/37402 [3:26:03<42:46,  2.88it/s]"
     ]
    },
    {
     "name": "stdout",
     "output_type": "stream",
     "text": [
      "Folder: snap/vqa_test \n",
      " Epoch 10 Iter: 30000/37402\n",
      "  Masked Tags : 1.231084\n",
      "  Text Only Masked LM : 1.644649\n",
      "  attr : 1.222516\n",
      "  feat : 0.08096702\n",
      "  obj : 3.29274\n",
      "\n"
     ]
    },
    {
     "name": "stderr",
     "output_type": "stream",
     "text": [
      " 82%|████████████████████████████████████████████████████████████▎             | 30501/37402 [3:29:31<53:14,  2.16it/s]"
     ]
    },
    {
     "name": "stdout",
     "output_type": "stream",
     "text": [
      "Folder: snap/vqa_test \n",
      " Epoch 10 Iter: 30500/37402\n",
      "  Masked Tags : 1.246368\n",
      "  Text Only Masked LM : 1.626881\n",
      "  attr : 1.245764\n",
      "  feat : 0.08271182\n",
      "  obj : 3.281371\n",
      "\n"
     ]
    },
    {
     "name": "stderr",
     "output_type": "stream",
     "text": [
      " 83%|█████████████████████████████████████████████████████████████▎            | 31001/37402 [3:32:59<41:30,  2.57it/s]"
     ]
    },
    {
     "name": "stdout",
     "output_type": "stream",
     "text": [
      "Folder: snap/vqa_test \n",
      " Epoch 10 Iter: 31000/37402\n",
      "  Masked Tags : 1.210939\n",
      "  Text Only Masked LM : 1.676072\n",
      "  attr : 1.248761\n",
      "  feat : 0.08345015\n",
      "  obj : 3.288046\n",
      "\n"
     ]
    },
    {
     "name": "stderr",
     "output_type": "stream",
     "text": [
      " 84%|██████████████████████████████████████████████████████████████▎           | 31501/37402 [3:36:25<51:14,  1.92it/s]"
     ]
    },
    {
     "name": "stdout",
     "output_type": "stream",
     "text": [
      "Folder: snap/vqa_test \n",
      " Epoch 10 Iter: 31500/37402\n",
      "  Masked Tags : 1.239046\n",
      "  Text Only Masked LM : 1.64827\n",
      "  attr : 1.239511\n",
      "  feat : 0.08249496\n",
      "  obj : 3.269092\n",
      "\n"
     ]
    },
    {
     "name": "stderr",
     "output_type": "stream",
     "text": [
      " 86%|███████████████████████████████████████████████████████████████▎          | 32002/37402 [3:40:01<31:10,  2.89it/s]"
     ]
    },
    {
     "name": "stdout",
     "output_type": "stream",
     "text": [
      "Folder: snap/vqa_test \n",
      " Epoch 10 Iter: 32000/37402\n",
      "  Masked Tags : 1.224419\n",
      "  Text Only Masked LM : 1.684252\n",
      "  attr : 1.23707\n",
      "  feat : 0.08177763\n",
      "  obj : 3.297467\n",
      "\n"
     ]
    },
    {
     "name": "stderr",
     "output_type": "stream",
     "text": [
      " 87%|████████████████████████████████████████████████████████████████▎         | 32501/37402 [3:43:33<35:59,  2.27it/s]"
     ]
    },
    {
     "name": "stdout",
     "output_type": "stream",
     "text": [
      "Folder: snap/vqa_test \n",
      " Epoch 10 Iter: 32500/37402\n",
      "  Masked Tags : 1.228009\n",
      "  Text Only Masked LM : 1.664446\n",
      "  attr : 1.236717\n",
      "  feat : 0.08124147\n",
      "  obj : 3.299162\n",
      "\n"
     ]
    },
    {
     "name": "stderr",
     "output_type": "stream",
     "text": [
      " 88%|█████████████████████████████████████████████████████████████████▎        | 33001/37402 [3:46:59<30:42,  2.39it/s]"
     ]
    },
    {
     "name": "stdout",
     "output_type": "stream",
     "text": [
      "Folder: snap/vqa_test \n",
      " Epoch 10 Iter: 33000/37402\n",
      "  Masked Tags : 1.2159\n",
      "  Text Only Masked LM : 1.6082\n",
      "  attr : 1.245412\n",
      "  feat : 0.08332738\n",
      "  obj : 3.290052\n",
      "\n"
     ]
    },
    {
     "name": "stderr",
     "output_type": "stream",
     "text": [
      " 90%|██████████████████████████████████████████████████████████████████▎       | 33501/37402 [3:50:30<30:08,  2.16it/s]"
     ]
    },
    {
     "name": "stdout",
     "output_type": "stream",
     "text": [
      "Folder: snap/vqa_test \n",
      " Epoch 10 Iter: 33500/37402\n",
      "  Masked Tags : 1.215194\n",
      "  Text Only Masked LM : 1.719049\n",
      "  attr : 1.23102\n",
      "  feat : 0.08153\n",
      "  obj : 3.262509\n",
      "\n"
     ]
    },
    {
     "name": "stderr",
     "output_type": "stream",
     "text": [
      " 91%|███████████████████████████████████████████████████████████████████▎      | 34001/37402 [3:53:59<17:51,  3.17it/s]"
     ]
    },
    {
     "name": "stdout",
     "output_type": "stream",
     "text": [
      "Folder: snap/vqa_test \n",
      " Epoch 10 Iter: 34000/37402\n",
      "  Masked Tags : 1.207497\n",
      "  Text Only Masked LM : 1.593421\n",
      "  attr : 1.231189\n",
      "  feat : 0.08428552\n",
      "  obj : 3.280077\n",
      "\n"
     ]
    },
    {
     "name": "stderr",
     "output_type": "stream",
     "text": [
      " 92%|████████████████████████████████████████████████████████████████████▎     | 34501/37402 [3:57:26<14:45,  3.28it/s]"
     ]
    },
    {
     "name": "stdout",
     "output_type": "stream",
     "text": [
      "Folder: snap/vqa_test \n",
      " Epoch 10 Iter: 34500/37402\n",
      "  Masked Tags : 1.243235\n",
      "  Text Only Masked LM : 1.69507\n",
      "  attr : 1.234063\n",
      "  feat : 0.08361261\n",
      "  obj : 3.269342\n",
      "\n"
     ]
    },
    {
     "name": "stderr",
     "output_type": "stream",
     "text": [
      " 94%|█████████████████████████████████████████████████████████████████████▏    | 35001/37402 [4:00:49<16:20,  2.45it/s]"
     ]
    },
    {
     "name": "stdout",
     "output_type": "stream",
     "text": [
      "Folder: snap/vqa_test \n",
      " Epoch 10 Iter: 35000/37402\n",
      "  Masked Tags : 1.235427\n",
      "  Text Only Masked LM : 1.617915\n",
      "  attr : 1.22919\n",
      "  feat : 0.08036678\n",
      "  obj : 3.264609\n",
      "\n"
     ]
    },
    {
     "name": "stderr",
     "output_type": "stream",
     "text": [
      " 95%|██████████████████████████████████████████████████████████████████████▏   | 35501/37402 [4:04:21<16:50,  1.88it/s]"
     ]
    },
    {
     "name": "stdout",
     "output_type": "stream",
     "text": [
      "Folder: snap/vqa_test \n",
      " Epoch 10 Iter: 35500/37402\n",
      "  Masked Tags : 1.209955\n",
      "  Text Only Masked LM : 1.640231\n",
      "  attr : 1.240147\n",
      "  feat : 0.08035536\n",
      "  obj : 3.250254\n",
      "\n"
     ]
    },
    {
     "name": "stderr",
     "output_type": "stream",
     "text": [
      " 96%|███████████████████████████████████████████████████████████████████████▏  | 36001/37402 [4:07:48<10:31,  2.22it/s]"
     ]
    },
    {
     "name": "stdout",
     "output_type": "stream",
     "text": [
      "Folder: snap/vqa_test \n",
      " Epoch 10 Iter: 36000/37402\n",
      "  Masked Tags : 1.220294\n",
      "  Text Only Masked LM : 1.656694\n",
      "  attr : 1.222631\n",
      "  feat : 0.08282938\n",
      "  obj : 3.291199\n",
      "\n"
     ]
    },
    {
     "name": "stderr",
     "output_type": "stream",
     "text": [
      " 98%|████████████████████████████████████████████████████████████████████████▏ | 36501/37402 [4:11:25<06:31,  2.30it/s]"
     ]
    },
    {
     "name": "stdout",
     "output_type": "stream",
     "text": [
      "Folder: snap/vqa_test \n",
      " Epoch 10 Iter: 36500/37402\n",
      "  Masked Tags : 1.210494\n",
      "  Text Only Masked LM : 1.636534\n",
      "  attr : 1.226255\n",
      "  feat : 0.08367948\n",
      "  obj : 3.278408\n",
      "\n"
     ]
    },
    {
     "name": "stderr",
     "output_type": "stream",
     "text": [
      " 99%|█████████████████████████████████████████████████████████████████████████▏| 37001/37402 [4:14:57<02:25,  2.75it/s]"
     ]
    },
    {
     "name": "stdout",
     "output_type": "stream",
     "text": [
      "Folder: snap/vqa_test \n",
      " Epoch 10 Iter: 37000/37402\n",
      "  Masked Tags : 1.194925\n",
      "  Text Only Masked LM : 1.674875\n",
      "  attr : 1.223589\n",
      "  feat : 0.08173324\n",
      "  obj : 3.292382\n",
      "\n"
     ]
    },
    {
     "name": "stderr",
     "output_type": "stream",
     "text": [
      "100%|██████████████████████████████████████████████████████████████████████████| 37402/37402 [4:18:05<00:00,  2.42it/s]\n"
     ]
    },
    {
     "name": "stdout",
     "output_type": "stream",
     "text": [
      "The training loss for Epoch 10 is 1.6341\n"
     ]
    },
    {
     "name": "stderr",
     "output_type": "stream",
     "text": [
      "100%|████████████████████████████████████████████████████████████████████████████████| 782/782 [08:14<00:00,  1.58it/s]\n"
     ]
    },
    {
     "name": "stdout",
     "output_type": "stream",
     "text": [
      "Evaluation:\n",
      "  Masked LM : 2.045718\n",
      "  Masked Tags : 1.359591\n",
      "  attr : 1.281888\n",
      "  feat : 0.08260267\n",
      "  obj : 3.239799\n",
      "\n",
      "\n",
      "\n",
      "\n",
      "\n",
      "\n",
      "\n",
      "\n",
      "\n"
     ]
    },
    {
     "name": "stderr",
     "output_type": "stream",
     "text": [
      "  1%|█                                                                           | 501/37402 [03:14<3:42:00,  2.77it/s]"
     ]
    },
    {
     "name": "stdout",
     "output_type": "stream",
     "text": [
      "Folder: snap/vqa_test \n",
      " Epoch 11 Iter: 500/37402\n",
      "  Masked Tags : 1.210156\n",
      "  Text Only Masked LM : 1.615851\n",
      "  attr : 1.239396\n",
      "  feat : 0.08166571\n",
      "  obj : 3.28269\n",
      "\n"
     ]
    },
    {
     "name": "stderr",
     "output_type": "stream",
     "text": [
      "  3%|██                                                                         | 1001/37402 [06:35<4:41:24,  2.16it/s]"
     ]
    },
    {
     "name": "stdout",
     "output_type": "stream",
     "text": [
      "Folder: snap/vqa_test \n",
      " Epoch 11 Iter: 1000/37402\n",
      "  Masked Tags : 1.213241\n",
      "  Text Only Masked LM : 1.643808\n",
      "  attr : 1.217947\n",
      "  feat : 0.08292088\n",
      "  obj : 3.265355\n",
      "\n"
     ]
    },
    {
     "name": "stderr",
     "output_type": "stream",
     "text": [
      "  4%|███                                                                        | 1501/37402 [09:55<2:52:06,  3.48it/s]"
     ]
    },
    {
     "name": "stdout",
     "output_type": "stream",
     "text": [
      "Folder: snap/vqa_test \n",
      " Epoch 11 Iter: 1500/37402\n",
      "  Masked Tags : 1.23476\n",
      "  Text Only Masked LM : 1.657629\n",
      "  attr : 1.226721\n",
      "  feat : 0.08317111\n",
      "  obj : 3.277194\n",
      "\n"
     ]
    },
    {
     "name": "stderr",
     "output_type": "stream",
     "text": [
      "  5%|████                                                                       | 2001/37402 [13:14<4:33:00,  2.16it/s]"
     ]
    },
    {
     "name": "stdout",
     "output_type": "stream",
     "text": [
      "Folder: snap/vqa_test \n",
      " Epoch 11 Iter: 2000/37402\n",
      "  Masked Tags : 1.203605\n",
      "  Text Only Masked LM : 1.656153\n",
      "  attr : 1.226398\n",
      "  feat : 0.08260559\n",
      "  obj : 3.325319\n",
      "\n"
     ]
    },
    {
     "name": "stderr",
     "output_type": "stream",
     "text": [
      "  7%|█████                                                                      | 2501/37402 [16:36<4:31:01,  2.15it/s]"
     ]
    },
    {
     "name": "stdout",
     "output_type": "stream",
     "text": [
      "Folder: snap/vqa_test \n",
      " Epoch 11 Iter: 2500/37402\n",
      "  Masked Tags : 1.233233\n",
      "  Text Only Masked LM : 1.652511\n",
      "  attr : 1.227295\n",
      "  feat : 0.08292562\n",
      "  obj : 3.268014\n",
      "\n"
     ]
    },
    {
     "name": "stderr",
     "output_type": "stream",
     "text": [
      "  8%|██████                                                                     | 3001/37402 [19:47<3:40:59,  2.59it/s]"
     ]
    },
    {
     "name": "stdout",
     "output_type": "stream",
     "text": [
      "Folder: snap/vqa_test \n",
      " Epoch 11 Iter: 3000/37402\n",
      "  Masked Tags : 1.238845\n",
      "  Text Only Masked LM : 1.58176\n",
      "  attr : 1.222793\n",
      "  feat : 0.08118808\n",
      "  obj : 3.286618\n",
      "\n"
     ]
    },
    {
     "name": "stderr",
     "output_type": "stream",
     "text": [
      "  9%|███████                                                                    | 3501/37402 [22:59<3:08:25,  3.00it/s]"
     ]
    },
    {
     "name": "stdout",
     "output_type": "stream",
     "text": [
      "Folder: snap/vqa_test \n",
      " Epoch 11 Iter: 3500/37402\n",
      "  Masked Tags : 1.265078\n",
      "  Text Only Masked LM : 1.628609\n",
      "  attr : 1.215079\n",
      "  feat : 0.08195102\n",
      "  obj : 3.276654\n",
      "\n"
     ]
    },
    {
     "name": "stderr",
     "output_type": "stream",
     "text": [
      " 11%|████████                                                                   | 4001/37402 [26:23<4:19:59,  2.14it/s]"
     ]
    },
    {
     "name": "stdout",
     "output_type": "stream",
     "text": [
      "Folder: snap/vqa_test \n",
      " Epoch 11 Iter: 4000/37402\n",
      "  Masked Tags : 1.197915\n",
      "  Text Only Masked LM : 1.640452\n",
      "  attr : 1.219692\n",
      "  feat : 0.08113862\n",
      "  obj : 3.291438\n",
      "\n"
     ]
    },
    {
     "name": "stderr",
     "output_type": "stream",
     "text": [
      " 12%|█████████                                                                  | 4502/37402 [29:44<3:20:12,  2.74it/s]"
     ]
    },
    {
     "name": "stdout",
     "output_type": "stream",
     "text": [
      "Folder: snap/vqa_test \n",
      " Epoch 11 Iter: 4500/37402\n",
      "  Masked Tags : 1.237859\n",
      "  Text Only Masked LM : 1.62542\n",
      "  attr : 1.235993\n",
      "  feat : 0.08340863\n",
      "  obj : 3.251295\n",
      "\n"
     ]
    },
    {
     "name": "stderr",
     "output_type": "stream",
     "text": [
      " 13%|██████████                                                                 | 5001/37402 [33:07<3:28:09,  2.59it/s]"
     ]
    },
    {
     "name": "stdout",
     "output_type": "stream",
     "text": [
      "Folder: snap/vqa_test \n",
      " Epoch 11 Iter: 5000/37402\n",
      "  Masked Tags : 1.203557\n",
      "  Text Only Masked LM : 1.646907\n",
      "  attr : 1.208847\n",
      "  feat : 0.08394149\n",
      "  obj : 3.262747\n",
      "\n"
     ]
    },
    {
     "name": "stderr",
     "output_type": "stream",
     "text": [
      " 15%|███████████                                                                | 5501/37402 [36:29<3:31:56,  2.51it/s]"
     ]
    },
    {
     "name": "stdout",
     "output_type": "stream",
     "text": [
      "Folder: snap/vqa_test \n",
      " Epoch 11 Iter: 5500/37402\n",
      "  Masked Tags : 1.210468\n",
      "  Text Only Masked LM : 1.619946\n",
      "  attr : 1.228971\n",
      "  feat : 0.08301029\n",
      "  obj : 3.253399\n",
      "\n"
     ]
    },
    {
     "name": "stderr",
     "output_type": "stream",
     "text": [
      " 16%|████████████                                                               | 6001/37402 [39:56<3:19:18,  2.63it/s]"
     ]
    },
    {
     "name": "stdout",
     "output_type": "stream",
     "text": [
      "Folder: snap/vqa_test \n",
      " Epoch 11 Iter: 6000/37402\n",
      "  Masked Tags : 1.218559\n",
      "  Text Only Masked LM : 1.645182\n",
      "  attr : 1.236142\n",
      "  feat : 0.08333579\n",
      "  obj : 3.243101\n",
      "\n"
     ]
    },
    {
     "name": "stderr",
     "output_type": "stream",
     "text": [
      " 17%|█████████████                                                              | 6501/37402 [43:24<3:30:49,  2.44it/s]"
     ]
    },
    {
     "name": "stdout",
     "output_type": "stream",
     "text": [
      "Folder: snap/vqa_test \n",
      " Epoch 11 Iter: 6500/37402\n",
      "  Masked Tags : 1.204336\n",
      "  Text Only Masked LM : 1.660608\n",
      "  attr : 1.208436\n",
      "  feat : 0.08266299\n",
      "  obj : 3.275729\n",
      "\n"
     ]
    },
    {
     "name": "stderr",
     "output_type": "stream",
     "text": [
      " 19%|██████████████                                                             | 7001/37402 [46:38<3:00:18,  2.81it/s]"
     ]
    },
    {
     "name": "stdout",
     "output_type": "stream",
     "text": [
      "Folder: snap/vqa_test \n",
      " Epoch 11 Iter: 7000/37402\n",
      "  Masked Tags : 1.217539\n",
      "  Text Only Masked LM : 1.628552\n",
      "  attr : 1.23916\n",
      "  feat : 0.08459409\n",
      "  obj : 3.284463\n",
      "\n"
     ]
    },
    {
     "name": "stderr",
     "output_type": "stream",
     "text": [
      " 20%|███████████████                                                            | 7501/37402 [49:59<3:06:33,  2.67it/s]"
     ]
    },
    {
     "name": "stdout",
     "output_type": "stream",
     "text": [
      "Folder: snap/vqa_test \n",
      " Epoch 11 Iter: 7500/37402\n",
      "  Masked Tags : 1.211086\n",
      "  Text Only Masked LM : 1.636434\n",
      "  attr : 1.239804\n",
      "  feat : 0.08175906\n",
      "  obj : 3.250933\n",
      "\n"
     ]
    },
    {
     "name": "stderr",
     "output_type": "stream",
     "text": [
      " 21%|████████████████                                                           | 8001/37402 [53:27<3:07:29,  2.61it/s]"
     ]
    },
    {
     "name": "stdout",
     "output_type": "stream",
     "text": [
      "Folder: snap/vqa_test \n",
      " Epoch 11 Iter: 8000/37402\n",
      "  Masked Tags : 1.248131\n",
      "  Text Only Masked LM : 1.633544\n",
      "  attr : 1.234019\n",
      "  feat : 0.08358256\n",
      "  obj : 3.265998\n",
      "\n"
     ]
    },
    {
     "name": "stderr",
     "output_type": "stream",
     "text": [
      " 23%|█████████████████                                                          | 8501/37402 [56:49<3:06:10,  2.59it/s]"
     ]
    },
    {
     "name": "stdout",
     "output_type": "stream",
     "text": [
      "Folder: snap/vqa_test \n",
      " Epoch 11 Iter: 8500/37402\n",
      "  Masked Tags : 1.187323\n",
      "  Text Only Masked LM : 1.584141\n",
      "  attr : 1.241379\n",
      "  feat : 0.08090184\n",
      "  obj : 3.316844\n",
      "\n"
     ]
    },
    {
     "name": "stderr",
     "output_type": "stream",
     "text": [
      " 24%|█████████████████▌                                                       | 9001/37402 [1:00:15<3:27:38,  2.28it/s]"
     ]
    },
    {
     "name": "stdout",
     "output_type": "stream",
     "text": [
      "Folder: snap/vqa_test \n",
      " Epoch 11 Iter: 9000/37402\n",
      "  Masked Tags : 1.191888\n",
      "  Text Only Masked LM : 1.621021\n",
      "  attr : 1.232485\n",
      "  feat : 0.0823879\n",
      "  obj : 3.276284\n",
      "\n"
     ]
    },
    {
     "name": "stderr",
     "output_type": "stream",
     "text": [
      " 25%|██████████████████▌                                                      | 9501/37402 [1:03:41<3:16:13,  2.37it/s]"
     ]
    },
    {
     "name": "stdout",
     "output_type": "stream",
     "text": [
      "Folder: snap/vqa_test \n",
      " Epoch 11 Iter: 9500/37402\n",
      "  Masked Tags : 1.212269\n",
      "  Text Only Masked LM : 1.65944\n",
      "  attr : 1.24018\n",
      "  feat : 0.08302384\n",
      "  obj : 3.269554\n",
      "\n"
     ]
    },
    {
     "name": "stderr",
     "output_type": "stream",
     "text": [
      " 27%|███████████████████▎                                                    | 10001/37402 [1:07:07<3:15:07,  2.34it/s]"
     ]
    },
    {
     "name": "stdout",
     "output_type": "stream",
     "text": [
      "Folder: snap/vqa_test \n",
      " Epoch 11 Iter: 10000/37402\n",
      "  Masked Tags : 1.193384\n",
      "  Text Only Masked LM : 1.611174\n",
      "  attr : 1.239665\n",
      "  feat : 0.08041413\n",
      "  obj : 3.292517\n",
      "\n"
     ]
    },
    {
     "name": "stderr",
     "output_type": "stream",
     "text": [
      " 28%|████████████████████▏                                                   | 10501/37402 [1:10:34<2:35:59,  2.87it/s]"
     ]
    },
    {
     "name": "stdout",
     "output_type": "stream",
     "text": [
      "Folder: snap/vqa_test \n",
      " Epoch 11 Iter: 10500/37402\n",
      "  Masked Tags : 1.219749\n",
      "  Text Only Masked LM : 1.651632\n",
      "  attr : 1.237184\n",
      "  feat : 0.08350077\n",
      "  obj : 3.275422\n",
      "\n"
     ]
    },
    {
     "name": "stderr",
     "output_type": "stream",
     "text": [
      " 29%|█████████████████████▏                                                  | 11002/37402 [1:13:58<2:32:05,  2.89it/s]"
     ]
    },
    {
     "name": "stdout",
     "output_type": "stream",
     "text": [
      "Folder: snap/vqa_test \n",
      " Epoch 11 Iter: 11000/37402\n",
      "  Masked Tags : 1.187488\n",
      "  Text Only Masked LM : 1.606521\n",
      "  attr : 1.239906\n",
      "  feat : 0.08219997\n",
      "  obj : 3.277911\n",
      "\n"
     ]
    },
    {
     "name": "stderr",
     "output_type": "stream",
     "text": [
      " 31%|██████████████████████▏                                                 | 11501/37402 [1:17:18<2:49:54,  2.54it/s]"
     ]
    },
    {
     "name": "stdout",
     "output_type": "stream",
     "text": [
      "Folder: snap/vqa_test \n",
      " Epoch 11 Iter: 11500/37402\n",
      "  Masked Tags : 1.23181\n",
      "  Text Only Masked LM : 1.623998\n",
      "  attr : 1.229695\n",
      "  feat : 0.08336468\n",
      "  obj : 3.248264\n",
      "\n"
     ]
    },
    {
     "name": "stderr",
     "output_type": "stream",
     "text": [
      " 32%|███████████████████████                                                 | 12001/37402 [1:20:44<2:44:58,  2.57it/s]"
     ]
    },
    {
     "name": "stdout",
     "output_type": "stream",
     "text": [
      "Folder: snap/vqa_test \n",
      " Epoch 11 Iter: 12000/37402\n",
      "  Masked Tags : 1.203914\n",
      "  Text Only Masked LM : 1.619827\n",
      "  attr : 1.232522\n",
      "  feat : 0.08249217\n",
      "  obj : 3.265402\n",
      "\n"
     ]
    },
    {
     "name": "stderr",
     "output_type": "stream",
     "text": [
      " 33%|████████████████████████                                                | 12501/37402 [1:24:00<2:24:05,  2.88it/s]"
     ]
    },
    {
     "name": "stdout",
     "output_type": "stream",
     "text": [
      "Folder: snap/vqa_test \n",
      " Epoch 11 Iter: 12500/37402\n",
      "  Masked Tags : 1.196607\n",
      "  Text Only Masked LM : 1.599165\n",
      "  attr : 1.238054\n",
      "  feat : 0.08113925\n",
      "  obj : 3.26348\n",
      "\n"
     ]
    },
    {
     "name": "stderr",
     "output_type": "stream",
     "text": [
      " 35%|█████████████████████████                                               | 13001/37402 [1:27:22<2:33:12,  2.65it/s]"
     ]
    },
    {
     "name": "stdout",
     "output_type": "stream",
     "text": [
      "Folder: snap/vqa_test \n",
      " Epoch 11 Iter: 13000/37402\n",
      "  Masked Tags : 1.213428\n",
      "  Text Only Masked LM : 1.635138\n",
      "  attr : 1.231386\n",
      "  feat : 0.08219979\n",
      "  obj : 3.300496\n",
      "\n"
     ]
    },
    {
     "name": "stderr",
     "output_type": "stream",
     "text": [
      " 36%|█████████████████████████▉                                              | 13501/37402 [1:30:53<2:51:51,  2.32it/s]"
     ]
    },
    {
     "name": "stdout",
     "output_type": "stream",
     "text": [
      "Folder: snap/vqa_test \n",
      " Epoch 11 Iter: 13500/37402\n",
      "  Masked Tags : 1.205543\n",
      "  Text Only Masked LM : 1.61939\n",
      "  attr : 1.222915\n",
      "  feat : 0.08116066\n",
      "  obj : 3.286929\n",
      "\n"
     ]
    },
    {
     "name": "stderr",
     "output_type": "stream",
     "text": [
      " 37%|██████████████████████████▉                                             | 14001/37402 [1:34:19<2:40:34,  2.43it/s]"
     ]
    },
    {
     "name": "stdout",
     "output_type": "stream",
     "text": [
      "Folder: snap/vqa_test \n",
      " Epoch 11 Iter: 14000/37402\n",
      "  Masked Tags : 1.238864\n",
      "  Text Only Masked LM : 1.64176\n",
      "  attr : 1.223864\n",
      "  feat : 0.08216771\n",
      "  obj : 3.247386\n",
      "\n"
     ]
    },
    {
     "name": "stderr",
     "output_type": "stream",
     "text": [
      " 39%|███████████████████████████▉                                            | 14501/37402 [1:37:41<2:02:32,  3.11it/s]"
     ]
    },
    {
     "name": "stdout",
     "output_type": "stream",
     "text": [
      "Folder: snap/vqa_test \n",
      " Epoch 11 Iter: 14500/37402\n",
      "  Masked Tags : 1.216998\n",
      "  Text Only Masked LM : 1.598809\n",
      "  attr : 1.241182\n",
      "  feat : 0.08277076\n",
      "  obj : 3.267277\n",
      "\n"
     ]
    },
    {
     "name": "stderr",
     "output_type": "stream",
     "text": [
      " 40%|████████████████████████████▉                                           | 15001/37402 [1:41:07<3:00:30,  2.07it/s]"
     ]
    },
    {
     "name": "stdout",
     "output_type": "stream",
     "text": [
      "Folder: snap/vqa_test \n",
      " Epoch 11 Iter: 15000/37402\n",
      "  Masked Tags : 1.19269\n",
      "  Text Only Masked LM : 1.664855\n",
      "  attr : 1.227928\n",
      "  feat : 0.08125449\n",
      "  obj : 3.248238\n",
      "\n"
     ]
    },
    {
     "name": "stderr",
     "output_type": "stream",
     "text": [
      " 41%|█████████████████████████████▊                                          | 15501/37402 [1:44:34<2:05:52,  2.90it/s]"
     ]
    },
    {
     "name": "stdout",
     "output_type": "stream",
     "text": [
      "Folder: snap/vqa_test \n",
      " Epoch 11 Iter: 15500/37402\n",
      "  Masked Tags : 1.203049\n",
      "  Text Only Masked LM : 1.617193\n",
      "  attr : 1.230161\n",
      "  feat : 0.0805923\n",
      "  obj : 3.318155\n",
      "\n"
     ]
    },
    {
     "name": "stderr",
     "output_type": "stream",
     "text": [
      " 43%|██████████████████████████████▊                                         | 16001/37402 [1:47:55<2:12:26,  2.69it/s]"
     ]
    },
    {
     "name": "stdout",
     "output_type": "stream",
     "text": [
      "Folder: snap/vqa_test \n",
      " Epoch 11 Iter: 16000/37402\n",
      "  Masked Tags : 1.187773\n",
      "  Text Only Masked LM : 1.662278\n",
      "  attr : 1.226969\n",
      "  feat : 0.08288728\n",
      "  obj : 3.278187\n",
      "\n"
     ]
    },
    {
     "name": "stderr",
     "output_type": "stream",
     "text": [
      " 44%|███████████████████████████████▊                                        | 16501/37402 [1:51:24<2:02:29,  2.84it/s]"
     ]
    },
    {
     "name": "stdout",
     "output_type": "stream",
     "text": [
      "Folder: snap/vqa_test \n",
      " Epoch 11 Iter: 16500/37402\n",
      "  Masked Tags : 1.168595\n",
      "  Text Only Masked LM : 1.655063\n",
      "  attr : 1.234672\n",
      "  feat : 0.08086031\n",
      "  obj : 3.287442\n",
      "\n"
     ]
    },
    {
     "name": "stderr",
     "output_type": "stream",
     "text": [
      " 45%|████████████████████████████████▋                                       | 17001/37402 [1:54:44<2:23:28,  2.37it/s]"
     ]
    },
    {
     "name": "stdout",
     "output_type": "stream",
     "text": [
      "Folder: snap/vqa_test \n",
      " Epoch 11 Iter: 17000/37402\n",
      "  Masked Tags : 1.226491\n",
      "  Text Only Masked LM : 1.638241\n",
      "  attr : 1.235249\n",
      "  feat : 0.08450535\n",
      "  obj : 3.25787\n",
      "\n"
     ]
    },
    {
     "name": "stderr",
     "output_type": "stream",
     "text": [
      " 47%|█████████████████████████████████▋                                      | 17501/37402 [1:58:01<1:51:57,  2.96it/s]"
     ]
    },
    {
     "name": "stdout",
     "output_type": "stream",
     "text": [
      "Folder: snap/vqa_test \n",
      " Epoch 11 Iter: 17500/37402\n",
      "  Masked Tags : 1.234719\n",
      "  Text Only Masked LM : 1.604788\n",
      "  attr : 1.250464\n",
      "  feat : 0.08299295\n",
      "  obj : 3.256076\n",
      "\n"
     ]
    },
    {
     "name": "stderr",
     "output_type": "stream",
     "text": [
      " 48%|██████████████████████████████████▋                                     | 18001/37402 [2:01:24<2:18:08,  2.34it/s]"
     ]
    },
    {
     "name": "stdout",
     "output_type": "stream",
     "text": [
      "Folder: snap/vqa_test \n",
      " Epoch 11 Iter: 18000/37402\n",
      "  Masked Tags : 1.196301\n",
      "  Text Only Masked LM : 1.656389\n",
      "  attr : 1.230835\n",
      "  feat : 0.08218057\n",
      "  obj : 3.295184\n",
      "\n"
     ]
    },
    {
     "name": "stderr",
     "output_type": "stream",
     "text": [
      " 49%|███████████████████████████████████▌                                    | 18501/37402 [2:04:43<2:10:17,  2.42it/s]"
     ]
    },
    {
     "name": "stdout",
     "output_type": "stream",
     "text": [
      "Folder: snap/vqa_test \n",
      " Epoch 11 Iter: 18500/37402\n",
      "  Masked Tags : 1.179572\n",
      "  Text Only Masked LM : 1.625706\n",
      "  attr : 1.22138\n",
      "  feat : 0.08125666\n",
      "  obj : 3.266762\n",
      "\n"
     ]
    },
    {
     "name": "stderr",
     "output_type": "stream",
     "text": [
      " 51%|████████████████████████████████████▌                                   | 19001/37402 [2:08:03<2:36:04,  1.96it/s]"
     ]
    },
    {
     "name": "stdout",
     "output_type": "stream",
     "text": [
      "Folder: snap/vqa_test \n",
      " Epoch 11 Iter: 19000/37402\n",
      "  Masked Tags : 1.197683\n",
      "  Text Only Masked LM : 1.678201\n",
      "  attr : 1.246272\n",
      "  feat : 0.08167087\n",
      "  obj : 3.278295\n",
      "\n"
     ]
    },
    {
     "name": "stderr",
     "output_type": "stream",
     "text": [
      " 52%|█████████████████████████████████████▌                                  | 19501/37402 [2:11:33<1:57:53,  2.53it/s]"
     ]
    },
    {
     "name": "stdout",
     "output_type": "stream",
     "text": [
      "Folder: snap/vqa_test \n",
      " Epoch 11 Iter: 19500/37402\n",
      "  Masked Tags : 1.188308\n",
      "  Text Only Masked LM : 1.637735\n",
      "  attr : 1.240905\n",
      "  feat : 0.08187481\n",
      "  obj : 3.286969\n",
      "\n"
     ]
    },
    {
     "name": "stderr",
     "output_type": "stream",
     "text": [
      " 53%|██████████████████████████████████████▌                                 | 20001/37402 [2:14:53<1:54:55,  2.52it/s]"
     ]
    },
    {
     "name": "stdout",
     "output_type": "stream",
     "text": [
      "Folder: snap/vqa_test \n",
      " Epoch 11 Iter: 20000/37402\n",
      "  Masked Tags : 1.203324\n",
      "  Text Only Masked LM : 1.553868\n",
      "  attr : 1.256276\n",
      "  feat : 0.08308043\n",
      "  obj : 3.260852\n",
      "\n"
     ]
    },
    {
     "name": "stderr",
     "output_type": "stream",
     "text": [
      " 55%|███████████████████████████████████████▍                                | 20501/37402 [2:18:11<2:16:25,  2.06it/s]"
     ]
    },
    {
     "name": "stdout",
     "output_type": "stream",
     "text": [
      "Folder: snap/vqa_test \n",
      " Epoch 11 Iter: 20500/37402\n",
      "  Masked Tags : 1.168\n",
      "  Text Only Masked LM : 1.63069\n",
      "  attr : 1.247109\n",
      "  feat : 0.08264915\n",
      "  obj : 3.298164\n",
      "\n"
     ]
    },
    {
     "name": "stderr",
     "output_type": "stream",
     "text": [
      " 56%|████████████████████████████████████████▍                               | 21001/37402 [2:21:37<1:47:32,  2.54it/s]"
     ]
    },
    {
     "name": "stdout",
     "output_type": "stream",
     "text": [
      "Folder: snap/vqa_test \n",
      " Epoch 11 Iter: 21000/37402\n",
      "  Masked Tags : 1.236627\n",
      "  Text Only Masked LM : 1.635907\n",
      "  attr : 1.229558\n",
      "  feat : 0.08303598\n",
      "  obj : 3.267414\n",
      "\n"
     ]
    },
    {
     "name": "stderr",
     "output_type": "stream",
     "text": [
      " 57%|█████████████████████████████████████████▍                              | 21501/37402 [2:25:05<2:14:35,  1.97it/s]"
     ]
    },
    {
     "name": "stdout",
     "output_type": "stream",
     "text": [
      "Folder: snap/vqa_test \n",
      " Epoch 11 Iter: 21500/37402\n",
      "  Masked Tags : 1.18079\n",
      "  Text Only Masked LM : 1.657732\n",
      "  attr : 1.247462\n",
      "  feat : 0.08259985\n",
      "  obj : 3.34162\n",
      "\n"
     ]
    },
    {
     "name": "stderr",
     "output_type": "stream",
     "text": [
      " 59%|██████████████████████████████████████████▎                             | 22001/37402 [2:28:27<1:24:45,  3.03it/s]"
     ]
    },
    {
     "name": "stdout",
     "output_type": "stream",
     "text": [
      "Folder: snap/vqa_test \n",
      " Epoch 11 Iter: 22000/37402\n",
      "  Masked Tags : 1.223733\n",
      "  Text Only Masked LM : 1.621165\n",
      "  attr : 1.241645\n",
      "  feat : 0.08048092\n",
      "  obj : 3.301784\n",
      "\n"
     ]
    },
    {
     "name": "stderr",
     "output_type": "stream",
     "text": [
      " 60%|███████████████████████████████████████████▎                            | 22501/37402 [2:31:55<1:27:57,  2.82it/s]"
     ]
    },
    {
     "name": "stdout",
     "output_type": "stream",
     "text": [
      "Folder: snap/vqa_test \n",
      " Epoch 11 Iter: 22500/37402\n",
      "  Masked Tags : 1.181007\n",
      "  Text Only Masked LM : 1.661244\n",
      "  attr : 1.240401\n",
      "  feat : 0.0823318\n",
      "  obj : 3.283381\n",
      "\n"
     ]
    },
    {
     "name": "stderr",
     "output_type": "stream",
     "text": [
      " 61%|████████████████████████████████████████████▎                           | 23001/37402 [2:35:27<1:42:42,  2.34it/s]"
     ]
    },
    {
     "name": "stdout",
     "output_type": "stream",
     "text": [
      "Folder: snap/vqa_test \n",
      " Epoch 11 Iter: 23000/37402\n",
      "  Masked Tags : 1.249236\n",
      "  Text Only Masked LM : 1.654497\n",
      "  attr : 1.243825\n",
      "  feat : 0.08118686\n",
      "  obj : 3.250585\n",
      "\n"
     ]
    },
    {
     "name": "stderr",
     "output_type": "stream",
     "text": [
      " 63%|█████████████████████████████████████████████▏                          | 23502/37402 [2:38:55<1:18:43,  2.94it/s]"
     ]
    },
    {
     "name": "stdout",
     "output_type": "stream",
     "text": [
      "Folder: snap/vqa_test \n",
      " Epoch 11 Iter: 23500/37402\n",
      "  Masked Tags : 1.198191\n",
      "  Text Only Masked LM : 1.652055\n",
      "  attr : 1.245095\n",
      "  feat : 0.08239303\n",
      "  obj : 3.287493\n",
      "\n"
     ]
    },
    {
     "name": "stderr",
     "output_type": "stream",
     "text": [
      " 64%|██████████████████████████████████████████████▏                         | 24001/37402 [2:42:10<1:16:10,  2.93it/s]"
     ]
    },
    {
     "name": "stdout",
     "output_type": "stream",
     "text": [
      "Folder: snap/vqa_test \n",
      " Epoch 11 Iter: 24000/37402\n",
      "  Masked Tags : 1.205135\n",
      "  Text Only Masked LM : 1.601663\n",
      "  attr : 1.232587\n",
      "  feat : 0.08280164\n",
      "  obj : 3.267079\n",
      "\n"
     ]
    },
    {
     "name": "stderr",
     "output_type": "stream",
     "text": [
      " 66%|███████████████████████████████████████████████▏                        | 24501/37402 [2:45:32<1:14:49,  2.87it/s]"
     ]
    },
    {
     "name": "stdout",
     "output_type": "stream",
     "text": [
      "Folder: snap/vqa_test \n",
      " Epoch 11 Iter: 24500/37402\n",
      "  Masked Tags : 1.23579\n",
      "  Text Only Masked LM : 1.644759\n",
      "  attr : 1.239032\n",
      "  feat : 0.08093283\n",
      "  obj : 3.263925\n",
      "\n"
     ]
    },
    {
     "name": "stderr",
     "output_type": "stream",
     "text": [
      " 67%|████████████████████████████████████████████████▏                       | 25001/37402 [2:48:56<1:32:03,  2.25it/s]"
     ]
    },
    {
     "name": "stdout",
     "output_type": "stream",
     "text": [
      "Folder: snap/vqa_test \n",
      " Epoch 11 Iter: 25000/37402\n",
      "  Masked Tags : 1.185056\n",
      "  Text Only Masked LM : 1.617705\n",
      "  attr : 1.248841\n",
      "  feat : 0.08291734\n",
      "  obj : 3.287485\n",
      "\n"
     ]
    },
    {
     "name": "stderr",
     "output_type": "stream",
     "text": [
      " 68%|█████████████████████████████████████████████████                       | 25501/37402 [2:52:27<1:18:04,  2.54it/s]"
     ]
    },
    {
     "name": "stdout",
     "output_type": "stream",
     "text": [
      "Folder: snap/vqa_test \n",
      " Epoch 11 Iter: 25500/37402\n",
      "  Masked Tags : 1.206197\n",
      "  Text Only Masked LM : 1.66259\n",
      "  attr : 1.23546\n",
      "  feat : 0.08252342\n",
      "  obj : 3.273346\n",
      "\n"
     ]
    },
    {
     "name": "stderr",
     "output_type": "stream",
     "text": [
      " 70%|██████████████████████████████████████████████████                      | 26001/37402 [2:55:50<1:08:07,  2.79it/s]"
     ]
    },
    {
     "name": "stdout",
     "output_type": "stream",
     "text": [
      "Folder: snap/vqa_test \n",
      " Epoch 11 Iter: 26000/37402\n",
      "  Masked Tags : 1.19124\n",
      "  Text Only Masked LM : 1.643419\n",
      "  attr : 1.239162\n",
      "  feat : 0.08283703\n",
      "  obj : 3.283734\n",
      "\n"
     ]
    },
    {
     "name": "stderr",
     "output_type": "stream",
     "text": [
      " 71%|███████████████████████████████████████████████████                     | 26501/37402 [2:59:21<1:14:39,  2.43it/s]"
     ]
    },
    {
     "name": "stdout",
     "output_type": "stream",
     "text": [
      "Folder: snap/vqa_test \n",
      " Epoch 11 Iter: 26500/37402\n",
      "  Masked Tags : 1.215703\n",
      "  Text Only Masked LM : 1.624139\n",
      "  attr : 1.243333\n",
      "  feat : 0.08290275\n",
      "  obj : 3.27662\n",
      "\n"
     ]
    },
    {
     "name": "stderr",
     "output_type": "stream",
     "text": [
      " 72%|███████████████████████████████████████████████████▉                    | 27001/37402 [3:02:49<1:05:30,  2.65it/s]"
     ]
    },
    {
     "name": "stdout",
     "output_type": "stream",
     "text": [
      "Folder: snap/vqa_test \n",
      " Epoch 11 Iter: 27000/37402\n",
      "  Masked Tags : 1.17147\n",
      "  Text Only Masked LM : 1.639609\n",
      "  attr : 1.241719\n",
      "  feat : 0.08195421\n",
      "  obj : 3.2862\n",
      "\n"
     ]
    },
    {
     "name": "stderr",
     "output_type": "stream",
     "text": [
      " 74%|████████████████████████████████████████████████████▉                   | 27501/37402 [3:06:12<1:12:46,  2.27it/s]"
     ]
    },
    {
     "name": "stdout",
     "output_type": "stream",
     "text": [
      "Folder: snap/vqa_test \n",
      " Epoch 11 Iter: 27500/37402\n",
      "  Masked Tags : 1.209291\n",
      "  Text Only Masked LM : 1.631968\n",
      "  attr : 1.238085\n",
      "  feat : 0.08351632\n",
      "  obj : 3.280646\n",
      "\n"
     ]
    },
    {
     "name": "stderr",
     "output_type": "stream",
     "text": [
      " 75%|█████████████████████████████████████████████████████▉                  | 28001/37402 [3:09:35<1:29:36,  1.75it/s]"
     ]
    },
    {
     "name": "stdout",
     "output_type": "stream",
     "text": [
      "Folder: snap/vqa_test \n",
      " Epoch 11 Iter: 28000/37402\n",
      "  Masked Tags : 1.200779\n",
      "  Text Only Masked LM : 1.626038\n",
      "  attr : 1.240054\n",
      "  feat : 0.08194801\n",
      "  obj : 3.285336\n",
      "\n"
     ]
    },
    {
     "name": "stderr",
     "output_type": "stream",
     "text": [
      " 76%|██████████████████████████████████████████████████████▊                 | 28501/37402 [3:12:58<1:06:02,  2.25it/s]"
     ]
    },
    {
     "name": "stdout",
     "output_type": "stream",
     "text": [
      "Folder: snap/vqa_test \n",
      " Epoch 11 Iter: 28500/37402\n",
      "  Masked Tags : 1.170797\n",
      "  Text Only Masked LM : 1.585665\n",
      "  attr : 1.237608\n",
      "  feat : 0.08168936\n",
      "  obj : 3.30921\n",
      "\n"
     ]
    },
    {
     "name": "stderr",
     "output_type": "stream",
     "text": [
      " 78%|█████████████████████████████████████████████████████████▍                | 29001/37402 [3:16:11<59:01,  2.37it/s]"
     ]
    },
    {
     "name": "stdout",
     "output_type": "stream",
     "text": [
      "Folder: snap/vqa_test \n",
      " Epoch 11 Iter: 29000/37402\n",
      "  Masked Tags : 1.19745\n",
      "  Text Only Masked LM : 1.57277\n",
      "  attr : 1.240936\n",
      "  feat : 0.08359447\n",
      "  obj : 3.264361\n",
      "\n"
     ]
    },
    {
     "name": "stderr",
     "output_type": "stream",
     "text": [
      " 79%|████████████████████████████████████████████████████████▊               | 29501/37402 [3:19:37<1:11:28,  1.84it/s]"
     ]
    },
    {
     "name": "stdout",
     "output_type": "stream",
     "text": [
      "Folder: snap/vqa_test \n",
      " Epoch 11 Iter: 29500/37402\n",
      "  Masked Tags : 1.20343\n",
      "  Text Only Masked LM : 1.581479\n",
      "  attr : 1.218705\n",
      "  feat : 0.08424279\n",
      "  obj : 3.268169\n",
      "\n"
     ]
    },
    {
     "name": "stderr",
     "output_type": "stream",
     "text": [
      " 80%|███████████████████████████████████████████████████████████▎              | 30001/37402 [3:23:01<44:42,  2.76it/s]"
     ]
    },
    {
     "name": "stdout",
     "output_type": "stream",
     "text": [
      "Folder: snap/vqa_test \n",
      " Epoch 11 Iter: 30000/37402\n",
      "  Masked Tags : 1.167474\n",
      "  Text Only Masked LM : 1.617385\n",
      "  attr : 1.227933\n",
      "  feat : 0.08127261\n",
      "  obj : 3.292789\n",
      "\n"
     ]
    },
    {
     "name": "stderr",
     "output_type": "stream",
     "text": [
      " 82%|████████████████████████████████████████████████████████████▎             | 30501/37402 [3:26:32<48:47,  2.36it/s]"
     ]
    },
    {
     "name": "stdout",
     "output_type": "stream",
     "text": [
      "Folder: snap/vqa_test \n",
      " Epoch 11 Iter: 30500/37402\n",
      "  Masked Tags : 1.193936\n",
      "  Text Only Masked LM : 1.693314\n",
      "  attr : 1.236879\n",
      "  feat : 0.08095339\n",
      "  obj : 3.275455\n",
      "\n"
     ]
    },
    {
     "name": "stderr",
     "output_type": "stream",
     "text": [
      " 83%|█████████████████████████████████████████████████████████████▎            | 31001/37402 [3:29:56<36:22,  2.93it/s]"
     ]
    },
    {
     "name": "stdout",
     "output_type": "stream",
     "text": [
      "Folder: snap/vqa_test \n",
      " Epoch 11 Iter: 31000/37402\n",
      "  Masked Tags : 1.185138\n",
      "  Text Only Masked LM : 1.615981\n",
      "  attr : 1.245202\n",
      "  feat : 0.08216167\n",
      "  obj : 3.277448\n",
      "\n"
     ]
    },
    {
     "name": "stderr",
     "output_type": "stream",
     "text": [
      " 84%|██████████████████████████████████████████████████████████████▎           | 31501/37402 [3:33:28<56:38,  1.74it/s]"
     ]
    },
    {
     "name": "stdout",
     "output_type": "stream",
     "text": [
      "Folder: snap/vqa_test \n",
      " Epoch 11 Iter: 31500/37402\n",
      "  Masked Tags : 1.207018\n",
      "  Text Only Masked LM : 1.664688\n",
      "  attr : 1.228828\n",
      "  feat : 0.08459708\n",
      "  obj : 3.267632\n",
      "\n"
     ]
    },
    {
     "name": "stderr",
     "output_type": "stream",
     "text": [
      " 86%|███████████████████████████████████████████████████████████████▎          | 32001/37402 [3:36:44<34:58,  2.57it/s]"
     ]
    },
    {
     "name": "stdout",
     "output_type": "stream",
     "text": [
      "Folder: snap/vqa_test \n",
      " Epoch 11 Iter: 32000/37402\n",
      "  Masked Tags : 1.161609\n",
      "  Text Only Masked LM : 1.634446\n",
      "  attr : 1.225403\n",
      "  feat : 0.08144344\n",
      "  obj : 3.27473\n",
      "\n"
     ]
    },
    {
     "name": "stderr",
     "output_type": "stream",
     "text": [
      " 87%|████████████████████████████████████████████████████████████████▎         | 32501/37402 [3:40:09<27:47,  2.94it/s]"
     ]
    },
    {
     "name": "stdout",
     "output_type": "stream",
     "text": [
      "Folder: snap/vqa_test \n",
      " Epoch 11 Iter: 32500/37402\n",
      "  Masked Tags : 1.170214\n",
      "  Text Only Masked LM : 1.604805\n",
      "  attr : 1.241448\n",
      "  feat : 0.08371517\n",
      "  obj : 3.268334\n",
      "\n"
     ]
    },
    {
     "name": "stderr",
     "output_type": "stream",
     "text": [
      " 88%|█████████████████████████████████████████████████████████████████▎        | 33001/37402 [3:43:33<26:09,  2.80it/s]"
     ]
    },
    {
     "name": "stdout",
     "output_type": "stream",
     "text": [
      "Folder: snap/vqa_test \n",
      " Epoch 11 Iter: 33000/37402\n",
      "  Masked Tags : 1.192053\n",
      "  Text Only Masked LM : 1.6659\n",
      "  attr : 1.228537\n",
      "  feat : 0.08202676\n",
      "  obj : 3.247268\n",
      "\n"
     ]
    },
    {
     "name": "stderr",
     "output_type": "stream",
     "text": [
      " 90%|██████████████████████████████████████████████████████████████████▎       | 33501/37402 [3:46:47<25:17,  2.57it/s]"
     ]
    },
    {
     "name": "stdout",
     "output_type": "stream",
     "text": [
      "Folder: snap/vqa_test \n",
      " Epoch 11 Iter: 33500/37402\n",
      "  Masked Tags : 1.202204\n",
      "  Text Only Masked LM : 1.630303\n",
      "  attr : 1.237003\n",
      "  feat : 0.083023\n",
      "  obj : 3.291366\n",
      "\n"
     ]
    },
    {
     "name": "stderr",
     "output_type": "stream",
     "text": [
      " 91%|███████████████████████████████████████████████████████████████████▎      | 34001/37402 [3:50:11<26:38,  2.13it/s]"
     ]
    },
    {
     "name": "stdout",
     "output_type": "stream",
     "text": [
      "Folder: snap/vqa_test \n",
      " Epoch 11 Iter: 34000/37402\n",
      "  Masked Tags : 1.174855\n",
      "  Text Only Masked LM : 1.608925\n",
      "  attr : 1.24534\n",
      "  feat : 0.08267249\n",
      "  obj : 3.263604\n",
      "\n"
     ]
    },
    {
     "name": "stderr",
     "output_type": "stream",
     "text": [
      " 92%|████████████████████████████████████████████████████████████████████▎     | 34501/37402 [3:53:34<19:41,  2.45it/s]"
     ]
    },
    {
     "name": "stdout",
     "output_type": "stream",
     "text": [
      "Folder: snap/vqa_test \n",
      " Epoch 11 Iter: 34500/37402\n",
      "  Masked Tags : 1.177174\n",
      "  Text Only Masked LM : 1.612416\n",
      "  attr : 1.232729\n",
      "  feat : 0.08357501\n",
      "  obj : 3.271327\n",
      "\n"
     ]
    },
    {
     "name": "stderr",
     "output_type": "stream",
     "text": [
      " 94%|█████████████████████████████████████████████████████████████████████▏    | 35001/37402 [3:57:03<20:34,  1.94it/s]"
     ]
    },
    {
     "name": "stdout",
     "output_type": "stream",
     "text": [
      "Folder: snap/vqa_test \n",
      " Epoch 11 Iter: 35000/37402\n",
      "  Masked Tags : 1.210215\n",
      "  Text Only Masked LM : 1.65332\n",
      "  attr : 1.244836\n",
      "  feat : 0.08264563\n",
      "  obj : 3.263816\n",
      "\n"
     ]
    },
    {
     "name": "stderr",
     "output_type": "stream",
     "text": [
      " 95%|██████████████████████████████████████████████████████████████████████▏   | 35501/37402 [4:00:25<11:33,  2.74it/s]"
     ]
    },
    {
     "name": "stdout",
     "output_type": "stream",
     "text": [
      "Folder: snap/vqa_test \n",
      " Epoch 11 Iter: 35500/37402\n",
      "  Masked Tags : 1.207841\n",
      "  Text Only Masked LM : 1.616223\n",
      "  attr : 1.221823\n",
      "  feat : 0.08248918\n",
      "  obj : 3.272795\n",
      "\n"
     ]
    },
    {
     "name": "stderr",
     "output_type": "stream",
     "text": [
      " 96%|███████████████████████████████████████████████████████████████████████▏  | 36001/37402 [4:03:49<10:34,  2.21it/s]"
     ]
    },
    {
     "name": "stdout",
     "output_type": "stream",
     "text": [
      "Folder: snap/vqa_test \n",
      " Epoch 11 Iter: 36000/37402\n",
      "  Masked Tags : 1.218395\n",
      "  Text Only Masked LM : 1.640747\n",
      "  attr : 1.236754\n",
      "  feat : 0.08299544\n",
      "  obj : 3.250508\n",
      "\n"
     ]
    },
    {
     "name": "stderr",
     "output_type": "stream",
     "text": [
      " 98%|████████████████████████████████████████████████████████████████████████▏ | 36501/37402 [4:07:14<04:43,  3.18it/s]"
     ]
    },
    {
     "name": "stdout",
     "output_type": "stream",
     "text": [
      "Folder: snap/vqa_test \n",
      " Epoch 11 Iter: 36500/37402\n",
      "  Masked Tags : 1.184665\n",
      "  Text Only Masked LM : 1.602892\n",
      "  attr : 1.229477\n",
      "  feat : 0.08244482\n",
      "  obj : 3.272936\n",
      "\n"
     ]
    },
    {
     "name": "stderr",
     "output_type": "stream",
     "text": [
      " 99%|█████████████████████████████████████████████████████████████████████████▏| 37001/37402 [4:10:36<01:46,  3.76it/s]"
     ]
    },
    {
     "name": "stdout",
     "output_type": "stream",
     "text": [
      "Folder: snap/vqa_test \n",
      " Epoch 11 Iter: 37000/37402\n",
      "  Masked Tags : 1.172754\n",
      "  Text Only Masked LM : 1.608638\n",
      "  attr : 1.227876\n",
      "  feat : 0.08347404\n",
      "  obj : 3.292656\n",
      "\n"
     ]
    },
    {
     "name": "stderr",
     "output_type": "stream",
     "text": [
      "100%|██████████████████████████████████████████████████████████████████████████| 37402/37402 [4:12:55<00:00,  2.46it/s]\n"
     ]
    },
    {
     "name": "stdout",
     "output_type": "stream",
     "text": [
      "The training loss for Epoch 11 is 1.5958\n"
     ]
    },
    {
     "name": "stderr",
     "output_type": "stream",
     "text": [
      "100%|████████████████████████████████████████████████████████████████████████████████| 782/782 [08:08<00:00,  1.60it/s]\n"
     ]
    },
    {
     "name": "stdout",
     "output_type": "stream",
     "text": [
      "Evaluation:\n",
      "  Masked LM : 1.934913\n",
      "  Masked Tags : 1.326963\n",
      "  attr : 1.284514\n",
      "  feat : 0.08284007\n",
      "  obj : 3.226452\n",
      "\n",
      "\n",
      "\n",
      "\n",
      "\n",
      "\n",
      "\n",
      "\n",
      "\n"
     ]
    },
    {
     "name": "stderr",
     "output_type": "stream",
     "text": [
      "  1%|█                                                                           | 501/37402 [03:21<3:54:39,  2.62it/s]"
     ]
    },
    {
     "name": "stdout",
     "output_type": "stream",
     "text": [
      "Folder: snap/vqa_test \n",
      " Epoch 12 Iter: 500/37402\n",
      "  Masked Tags : 1.181526\n",
      "  Text Only Masked LM : 1.375789\n",
      "  attr : 1.220391\n",
      "  feat : 0.08282002\n",
      "  obj : 3.298293\n",
      "\n"
     ]
    },
    {
     "name": "stderr",
     "output_type": "stream",
     "text": [
      "  3%|██                                                                         | 1001/37402 [06:42<5:06:03,  1.98it/s]"
     ]
    },
    {
     "name": "stdout",
     "output_type": "stream",
     "text": [
      "Folder: snap/vqa_test \n",
      " Epoch 12 Iter: 1000/37402\n",
      "  Masked Tags : 1.179635\n",
      "  Text Only Masked LM : 1.582473\n",
      "  attr : 1.223907\n",
      "  feat : 0.08242952\n",
      "  obj : 3.301726\n",
      "\n"
     ]
    },
    {
     "name": "stderr",
     "output_type": "stream",
     "text": [
      "  4%|███                                                                        | 1501/37402 [10:04<3:22:43,  2.95it/s]"
     ]
    },
    {
     "name": "stdout",
     "output_type": "stream",
     "text": [
      "Folder: snap/vqa_test \n",
      " Epoch 12 Iter: 1500/37402\n",
      "  Masked Tags : 1.219998\n",
      "  Text Only Masked LM : 1.600019\n",
      "  attr : 1.215141\n",
      "  feat : 0.08285504\n",
      "  obj : 3.252156\n",
      "\n"
     ]
    },
    {
     "name": "stderr",
     "output_type": "stream",
     "text": [
      "  5%|████                                                                       | 2001/37402 [13:26<5:17:47,  1.86it/s]"
     ]
    },
    {
     "name": "stdout",
     "output_type": "stream",
     "text": [
      "Folder: snap/vqa_test \n",
      " Epoch 12 Iter: 2000/37402\n",
      "  Masked Tags : 1.191313\n",
      "  Text Only Masked LM : 1.571034\n",
      "  attr : 1.218812\n",
      "  feat : 0.08238588\n",
      "  obj : 3.275922\n",
      "\n"
     ]
    },
    {
     "name": "stderr",
     "output_type": "stream",
     "text": [
      "  7%|█████                                                                      | 2501/37402 [16:50<3:29:15,  2.78it/s]"
     ]
    },
    {
     "name": "stdout",
     "output_type": "stream",
     "text": [
      "Folder: snap/vqa_test \n",
      " Epoch 12 Iter: 2500/37402\n",
      "  Masked Tags : 1.194746\n",
      "  Text Only Masked LM : 1.574466\n",
      "  attr : 1.241975\n",
      "  feat : 0.0824626\n",
      "  obj : 3.25391\n",
      "\n"
     ]
    },
    {
     "name": "stderr",
     "output_type": "stream",
     "text": [
      "  8%|██████                                                                     | 3001/37402 [20:14<3:34:04,  2.68it/s]"
     ]
    },
    {
     "name": "stdout",
     "output_type": "stream",
     "text": [
      "Folder: snap/vqa_test \n",
      " Epoch 12 Iter: 3000/37402\n",
      "  Masked Tags : 1.187554\n",
      "  Text Only Masked LM : 1.579189\n",
      "  attr : 1.222126\n",
      "  feat : 0.08125867\n",
      "  obj : 3.299995\n",
      "\n"
     ]
    },
    {
     "name": "stderr",
     "output_type": "stream",
     "text": [
      "  9%|███████                                                                    | 3501/37402 [23:44<3:42:29,  2.54it/s]"
     ]
    },
    {
     "name": "stdout",
     "output_type": "stream",
     "text": [
      "Folder: snap/vqa_test \n",
      " Epoch 12 Iter: 3500/37402\n",
      "  Masked Tags : 1.19298\n",
      "  Text Only Masked LM : 1.620682\n",
      "  attr : 1.224132\n",
      "  feat : 0.08235935\n",
      "  obj : 3.25359\n",
      "\n"
     ]
    },
    {
     "name": "stderr",
     "output_type": "stream",
     "text": [
      " 11%|████████                                                                   | 4001/37402 [27:07<4:19:02,  2.15it/s]"
     ]
    },
    {
     "name": "stdout",
     "output_type": "stream",
     "text": [
      "Folder: snap/vqa_test \n",
      " Epoch 12 Iter: 4000/37402\n",
      "  Masked Tags : 1.16406\n",
      "  Text Only Masked LM : 1.596197\n",
      "  attr : 1.2413\n",
      "  feat : 0.08251525\n",
      "  obj : 3.238021\n",
      "\n"
     ]
    },
    {
     "name": "stderr",
     "output_type": "stream",
     "text": [
      " 12%|█████████                                                                  | 4501/37402 [30:38<3:44:43,  2.44it/s]"
     ]
    },
    {
     "name": "stdout",
     "output_type": "stream",
     "text": [
      "Folder: snap/vqa_test \n",
      " Epoch 12 Iter: 4500/37402\n",
      "  Masked Tags : 1.193526\n",
      "  Text Only Masked LM : 1.624638\n",
      "  attr : 1.232344\n",
      "  feat : 0.08190032\n",
      "  obj : 3.248712\n",
      "\n"
     ]
    },
    {
     "name": "stderr",
     "output_type": "stream",
     "text": [
      " 13%|██████████                                                                 | 5001/37402 [33:59<3:22:10,  2.67it/s]"
     ]
    },
    {
     "name": "stdout",
     "output_type": "stream",
     "text": [
      "Folder: snap/vqa_test \n",
      " Epoch 12 Iter: 5000/37402\n",
      "  Masked Tags : 1.164345\n",
      "  Text Only Masked LM : 1.597027\n",
      "  attr : 1.217951\n",
      "  feat : 0.08403207\n",
      "  obj : 3.237284\n",
      "\n"
     ]
    },
    {
     "name": "stderr",
     "output_type": "stream",
     "text": [
      " 15%|███████████                                                                | 5501/37402 [37:29<3:42:52,  2.39it/s]"
     ]
    },
    {
     "name": "stdout",
     "output_type": "stream",
     "text": [
      "Folder: snap/vqa_test \n",
      " Epoch 12 Iter: 5500/37402\n",
      "  Masked Tags : 1.180065\n",
      "  Text Only Masked LM : 1.604339\n",
      "  attr : 1.239386\n",
      "  feat : 0.08058199\n",
      "  obj : 3.295763\n",
      "\n"
     ]
    },
    {
     "name": "stderr",
     "output_type": "stream",
     "text": [
      " 16%|████████████                                                               | 6001/37402 [40:58<3:59:49,  2.18it/s]"
     ]
    },
    {
     "name": "stdout",
     "output_type": "stream",
     "text": [
      "Folder: snap/vqa_test \n",
      " Epoch 12 Iter: 6000/37402\n",
      "  Masked Tags : 1.179337\n",
      "  Text Only Masked LM : 1.612519\n",
      "  attr : 1.231943\n",
      "  feat : 0.08328611\n",
      "  obj : 3.29739\n",
      "\n"
     ]
    },
    {
     "name": "stderr",
     "output_type": "stream",
     "text": [
      " 17%|█████████████                                                              | 6501/37402 [44:28<3:38:37,  2.36it/s]"
     ]
    },
    {
     "name": "stdout",
     "output_type": "stream",
     "text": [
      "Folder: snap/vqa_test \n",
      " Epoch 12 Iter: 6500/37402\n",
      "  Masked Tags : 1.190071\n",
      "  Text Only Masked LM : 1.605963\n",
      "  attr : 1.238468\n",
      "  feat : 0.08217357\n",
      "  obj : 3.260462\n",
      "\n"
     ]
    },
    {
     "name": "stderr",
     "output_type": "stream",
     "text": [
      " 19%|██████████████                                                             | 7001/37402 [47:49<3:00:13,  2.81it/s]"
     ]
    },
    {
     "name": "stdout",
     "output_type": "stream",
     "text": [
      "Folder: snap/vqa_test \n",
      " Epoch 12 Iter: 7000/37402\n",
      "  Masked Tags : 1.187255\n",
      "  Text Only Masked LM : 1.589513\n",
      "  attr : 1.238891\n",
      "  feat : 0.08358257\n",
      "  obj : 3.261653\n",
      "\n"
     ]
    },
    {
     "name": "stderr",
     "output_type": "stream",
     "text": [
      " 20%|███████████████                                                            | 7501/37402 [51:15<3:20:47,  2.48it/s]"
     ]
    },
    {
     "name": "stdout",
     "output_type": "stream",
     "text": [
      "Folder: snap/vqa_test \n",
      " Epoch 12 Iter: 7500/37402\n",
      "  Masked Tags : 1.200804\n",
      "  Text Only Masked LM : 1.595754\n",
      "  attr : 1.236395\n",
      "  feat : 0.08448268\n",
      "  obj : 3.262197\n",
      "\n"
     ]
    },
    {
     "name": "stderr",
     "output_type": "stream",
     "text": [
      " 21%|████████████████                                                           | 8001/37402 [54:41<2:34:38,  3.17it/s]"
     ]
    },
    {
     "name": "stdout",
     "output_type": "stream",
     "text": [
      "Folder: snap/vqa_test \n",
      " Epoch 12 Iter: 8000/37402\n",
      "  Masked Tags : 1.163827\n",
      "  Text Only Masked LM : 1.564255\n",
      "  attr : 1.241621\n",
      "  feat : 0.08241192\n",
      "  obj : 3.293415\n",
      "\n"
     ]
    },
    {
     "name": "stderr",
     "output_type": "stream",
     "text": [
      " 23%|█████████████████                                                          | 8502/37402 [58:08<2:15:56,  3.54it/s]"
     ]
    },
    {
     "name": "stdout",
     "output_type": "stream",
     "text": [
      "Folder: snap/vqa_test \n",
      " Epoch 12 Iter: 8500/37402\n",
      "  Masked Tags : 1.174263\n",
      "  Text Only Masked LM : 1.60642\n",
      "  attr : 1.242888\n",
      "  feat : 0.08392918\n",
      "  obj : 3.28191\n",
      "\n"
     ]
    },
    {
     "name": "stderr",
     "output_type": "stream",
     "text": [
      " 24%|█████████████████▌                                                       | 9001/37402 [1:01:36<3:19:06,  2.38it/s]"
     ]
    },
    {
     "name": "stdout",
     "output_type": "stream",
     "text": [
      "Folder: snap/vqa_test \n",
      " Epoch 12 Iter: 9000/37402\n",
      "  Masked Tags : 1.19905\n",
      "  Text Only Masked LM : 1.627441\n",
      "  attr : 1.249761\n",
      "  feat : 0.08190872\n",
      "  obj : 3.289424\n",
      "\n"
     ]
    },
    {
     "name": "stderr",
     "output_type": "stream",
     "text": [
      " 25%|██████████████████▌                                                      | 9501/37402 [1:05:02<3:17:15,  2.36it/s]"
     ]
    },
    {
     "name": "stdout",
     "output_type": "stream",
     "text": [
      "Folder: snap/vqa_test \n",
      " Epoch 12 Iter: 9500/37402\n",
      "  Masked Tags : 1.187134\n",
      "  Text Only Masked LM : 1.549031\n",
      "  attr : 1.243699\n",
      "  feat : 0.0846306\n",
      "  obj : 3.274744\n",
      "\n"
     ]
    },
    {
     "name": "stderr",
     "output_type": "stream",
     "text": [
      " 27%|███████████████████▎                                                    | 10001/37402 [1:08:28<2:40:06,  2.85it/s]"
     ]
    },
    {
     "name": "stdout",
     "output_type": "stream",
     "text": [
      "Folder: snap/vqa_test \n",
      " Epoch 12 Iter: 10000/37402\n",
      "  Masked Tags : 1.191538\n",
      "  Text Only Masked LM : 1.581979\n",
      "  attr : 1.248889\n",
      "  feat : 0.08267116\n",
      "  obj : 3.271213\n",
      "\n"
     ]
    },
    {
     "name": "stderr",
     "output_type": "stream",
     "text": [
      " 28%|████████████████████▏                                                   | 10501/37402 [1:11:57<3:01:29,  2.47it/s]"
     ]
    },
    {
     "name": "stdout",
     "output_type": "stream",
     "text": [
      "Folder: snap/vqa_test \n",
      " Epoch 12 Iter: 10500/37402\n",
      "  Masked Tags : 1.158509\n",
      "  Text Only Masked LM : 1.596824\n",
      "  attr : 1.241036\n",
      "  feat : 0.08306838\n",
      "  obj : 3.271132\n",
      "\n"
     ]
    },
    {
     "name": "stderr",
     "output_type": "stream",
     "text": [
      " 29%|█████████████████████▏                                                  | 11001/37402 [1:15:23<3:14:24,  2.26it/s]"
     ]
    },
    {
     "name": "stdout",
     "output_type": "stream",
     "text": [
      "Folder: snap/vqa_test \n",
      " Epoch 12 Iter: 11000/37402\n",
      "  Masked Tags : 1.157277\n",
      "  Text Only Masked LM : 1.636739\n",
      "  attr : 1.236688\n",
      "  feat : 0.08217054\n",
      "  obj : 3.261046\n",
      "\n"
     ]
    },
    {
     "name": "stderr",
     "output_type": "stream",
     "text": [
      " 31%|██████████████████████▏                                                 | 11501/37402 [1:18:56<2:50:26,  2.53it/s]"
     ]
    },
    {
     "name": "stdout",
     "output_type": "stream",
     "text": [
      "Folder: snap/vqa_test \n",
      " Epoch 12 Iter: 11500/37402\n",
      "  Masked Tags : 1.206162\n",
      "  Text Only Masked LM : 1.589639\n",
      "  attr : 1.234999\n",
      "  feat : 0.08203242\n",
      "  obj : 3.280698\n",
      "\n"
     ]
    },
    {
     "name": "stderr",
     "output_type": "stream",
     "text": [
      " 32%|███████████████████████                                                 | 12001/37402 [1:22:20<2:24:20,  2.93it/s]"
     ]
    },
    {
     "name": "stdout",
     "output_type": "stream",
     "text": [
      "Folder: snap/vqa_test \n",
      " Epoch 12 Iter: 12000/37402\n",
      "  Masked Tags : 1.193745\n",
      "  Text Only Masked LM : 1.596225\n",
      "  attr : 1.230547\n",
      "  feat : 0.08198258\n",
      "  obj : 3.265133\n",
      "\n"
     ]
    },
    {
     "name": "stderr",
     "output_type": "stream",
     "text": [
      " 33%|████████████████████████                                                | 12502/37402 [1:25:40<2:56:18,  2.35it/s]"
     ]
    },
    {
     "name": "stdout",
     "output_type": "stream",
     "text": [
      "Folder: snap/vqa_test \n",
      " Epoch 12 Iter: 12500/37402\n",
      "  Masked Tags : 1.168448\n",
      "  Text Only Masked LM : 1.518299\n",
      "  attr : 1.253823\n",
      "  feat : 0.08207875\n",
      "  obj : 3.311928\n",
      "\n"
     ]
    },
    {
     "name": "stderr",
     "output_type": "stream",
     "text": [
      " 35%|█████████████████████████                                               | 13001/37402 [1:29:07<2:21:07,  2.88it/s]"
     ]
    },
    {
     "name": "stdout",
     "output_type": "stream",
     "text": [
      "Folder: snap/vqa_test \n",
      " Epoch 12 Iter: 13000/37402\n",
      "  Masked Tags : 1.200459\n",
      "  Text Only Masked LM : 1.58966\n",
      "  attr : 1.234657\n",
      "  feat : 0.08337213\n",
      "  obj : 3.268071\n",
      "\n"
     ]
    },
    {
     "name": "stderr",
     "output_type": "stream",
     "text": [
      " 36%|█████████████████████████▉                                              | 13501/37402 [1:32:33<2:36:04,  2.55it/s]"
     ]
    },
    {
     "name": "stdout",
     "output_type": "stream",
     "text": [
      "Folder: snap/vqa_test \n",
      " Epoch 12 Iter: 13500/37402\n",
      "  Masked Tags : 1.174282\n",
      "  Text Only Masked LM : 1.610621\n",
      "  attr : 1.225978\n",
      "  feat : 0.08293609\n",
      "  obj : 3.286953\n",
      "\n"
     ]
    },
    {
     "name": "stderr",
     "output_type": "stream",
     "text": [
      " 37%|██████████████████████████▉                                             | 14001/37402 [1:36:10<2:39:57,  2.44it/s]"
     ]
    },
    {
     "name": "stdout",
     "output_type": "stream",
     "text": [
      "Folder: snap/vqa_test \n",
      " Epoch 12 Iter: 14000/37402\n",
      "  Masked Tags : 1.165198\n",
      "  Text Only Masked LM : 1.632456\n",
      "  attr : 1.225348\n",
      "  feat : 0.08329824\n",
      "  obj : 3.286959\n",
      "\n"
     ]
    },
    {
     "name": "stderr",
     "output_type": "stream",
     "text": [
      " 39%|███████████████████████████▉                                            | 14501/37402 [1:39:37<2:30:21,  2.54it/s]"
     ]
    },
    {
     "name": "stdout",
     "output_type": "stream",
     "text": [
      "Folder: snap/vqa_test \n",
      " Epoch 12 Iter: 14500/37402\n",
      "  Masked Tags : 1.147323\n",
      "  Text Only Masked LM : 1.592018\n",
      "  attr : 1.236514\n",
      "  feat : 0.08217028\n",
      "  obj : 3.28457\n",
      "\n"
     ]
    },
    {
     "name": "stderr",
     "output_type": "stream",
     "text": [
      " 40%|████████████████████████████▉                                           | 15001/37402 [1:43:09<2:26:57,  2.54it/s]"
     ]
    },
    {
     "name": "stdout",
     "output_type": "stream",
     "text": [
      "Folder: snap/vqa_test \n",
      " Epoch 12 Iter: 15000/37402\n",
      "  Masked Tags : 1.17353\n",
      "  Text Only Masked LM : 1.610011\n",
      "  attr : 1.226879\n",
      "  feat : 0.0819372\n",
      "  obj : 3.27711\n",
      "\n"
     ]
    },
    {
     "name": "stderr",
     "output_type": "stream",
     "text": [
      " 41%|█████████████████████████████▊                                          | 15501/37402 [1:46:38<2:17:57,  2.65it/s]"
     ]
    },
    {
     "name": "stdout",
     "output_type": "stream",
     "text": [
      "Folder: snap/vqa_test \n",
      " Epoch 12 Iter: 15500/37402\n",
      "  Masked Tags : 1.187214\n",
      "  Text Only Masked LM : 1.600772\n",
      "  attr : 1.226474\n",
      "  feat : 0.0828073\n",
      "  obj : 3.271951\n",
      "\n"
     ]
    },
    {
     "name": "stderr",
     "output_type": "stream",
     "text": [
      " 43%|██████████████████████████████▊                                         | 16001/37402 [1:50:10<2:23:30,  2.49it/s]"
     ]
    },
    {
     "name": "stdout",
     "output_type": "stream",
     "text": [
      "Folder: snap/vqa_test \n",
      " Epoch 12 Iter: 16000/37402\n",
      "  Masked Tags : 1.138803\n",
      "  Text Only Masked LM : 1.562126\n",
      "  attr : 1.223856\n",
      "  feat : 0.08204465\n",
      "  obj : 3.284835\n",
      "\n"
     ]
    },
    {
     "name": "stderr",
     "output_type": "stream",
     "text": [
      " 44%|███████████████████████████████▊                                        | 16501/37402 [1:53:41<3:50:06,  1.51it/s]"
     ]
    },
    {
     "name": "stdout",
     "output_type": "stream",
     "text": [
      "Folder: snap/vqa_test \n",
      " Epoch 12 Iter: 16500/37402\n",
      "  Masked Tags : 1.198741\n",
      "  Text Only Masked LM : 1.571652\n",
      "  attr : 1.225263\n",
      "  feat : 0.08184987\n",
      "  obj : 3.259171\n",
      "\n"
     ]
    },
    {
     "name": "stderr",
     "output_type": "stream",
     "text": [
      " 45%|████████████████████████████████▋                                       | 17001/37402 [1:57:15<3:24:37,  1.66it/s]"
     ]
    },
    {
     "name": "stdout",
     "output_type": "stream",
     "text": [
      "Folder: snap/vqa_test \n",
      " Epoch 12 Iter: 17000/37402\n",
      "  Masked Tags : 1.171719\n",
      "  Text Only Masked LM : 1.588476\n",
      "  attr : 1.218804\n",
      "  feat : 0.08117243\n",
      "  obj : 3.305902\n",
      "\n"
     ]
    },
    {
     "name": "stderr",
     "output_type": "stream",
     "text": [
      " 47%|█████████████████████████████████▋                                      | 17501/37402 [2:00:42<2:22:23,  2.33it/s]"
     ]
    },
    {
     "name": "stdout",
     "output_type": "stream",
     "text": [
      "Folder: snap/vqa_test \n",
      " Epoch 12 Iter: 17500/37402\n",
      "  Masked Tags : 1.176912\n",
      "  Text Only Masked LM : 1.604317\n",
      "  attr : 1.242723\n",
      "  feat : 0.08199363\n",
      "  obj : 3.247786\n",
      "\n"
     ]
    },
    {
     "name": "stderr",
     "output_type": "stream",
     "text": [
      " 48%|██████████████████████████████████▋                                     | 18001/37402 [2:04:03<2:33:36,  2.11it/s]"
     ]
    },
    {
     "name": "stdout",
     "output_type": "stream",
     "text": [
      "Folder: snap/vqa_test \n",
      " Epoch 12 Iter: 18000/37402\n",
      "  Masked Tags : 1.167613\n",
      "  Text Only Masked LM : 1.56963\n",
      "  attr : 1.22676\n",
      "  feat : 0.0837233\n",
      "  obj : 3.275544\n",
      "\n"
     ]
    },
    {
     "name": "stderr",
     "output_type": "stream",
     "text": [
      " 49%|███████████████████████████████████▌                                    | 18501/37402 [2:07:28<2:08:31,  2.45it/s]"
     ]
    },
    {
     "name": "stdout",
     "output_type": "stream",
     "text": [
      "Folder: snap/vqa_test \n",
      " Epoch 12 Iter: 18500/37402\n",
      "  Masked Tags : 1.161849\n",
      "  Text Only Masked LM : 1.589103\n",
      "  attr : 1.232112\n",
      "  feat : 0.08213125\n",
      "  obj : 3.281132\n",
      "\n"
     ]
    },
    {
     "name": "stderr",
     "output_type": "stream",
     "text": [
      " 51%|████████████████████████████████████▌                                   | 19001/37402 [2:10:52<1:57:45,  2.60it/s]"
     ]
    },
    {
     "name": "stdout",
     "output_type": "stream",
     "text": [
      "Folder: snap/vqa_test \n",
      " Epoch 12 Iter: 19000/37402\n",
      "  Masked Tags : 1.138874\n",
      "  Text Only Masked LM : 1.568917\n",
      "  attr : 1.241784\n",
      "  feat : 0.08250245\n",
      "  obj : 3.297235\n",
      "\n"
     ]
    },
    {
     "name": "stderr",
     "output_type": "stream",
     "text": [
      " 52%|█████████████████████████████████████▌                                  | 19501/37402 [2:14:21<2:18:02,  2.16it/s]"
     ]
    },
    {
     "name": "stdout",
     "output_type": "stream",
     "text": [
      "Folder: snap/vqa_test \n",
      " Epoch 12 Iter: 19500/37402\n",
      "  Masked Tags : 1.171042\n",
      "  Text Only Masked LM : 1.600244\n",
      "  attr : 1.238161\n",
      "  feat : 0.08322534\n",
      "  obj : 3.288944\n",
      "\n"
     ]
    },
    {
     "name": "stderr",
     "output_type": "stream",
     "text": [
      " 53%|██████████████████████████████████████▌                                 | 20001/37402 [2:17:49<2:03:50,  2.34it/s]"
     ]
    },
    {
     "name": "stdout",
     "output_type": "stream",
     "text": [
      "Folder: snap/vqa_test \n",
      " Epoch 12 Iter: 20000/37402\n",
      "  Masked Tags : 1.17549\n",
      "  Text Only Masked LM : 1.579161\n",
      "  attr : 1.243376\n",
      "  feat : 0.08339259\n",
      "  obj : 3.25639\n",
      "\n"
     ]
    },
    {
     "name": "stderr",
     "output_type": "stream",
     "text": [
      " 55%|███████████████████████████████████████▍                                | 20501/37402 [2:21:08<2:27:49,  1.91it/s]"
     ]
    },
    {
     "name": "stdout",
     "output_type": "stream",
     "text": [
      "Folder: snap/vqa_test \n",
      " Epoch 12 Iter: 20500/37402\n",
      "  Masked Tags : 1.172133\n",
      "  Text Only Masked LM : 1.58545\n",
      "  attr : 1.239095\n",
      "  feat : 0.08212427\n",
      "  obj : 3.278225\n",
      "\n"
     ]
    },
    {
     "name": "stderr",
     "output_type": "stream",
     "text": [
      " 56%|████████████████████████████████████████▍                               | 21001/37402 [2:24:22<2:14:29,  2.03it/s]"
     ]
    },
    {
     "name": "stdout",
     "output_type": "stream",
     "text": [
      "Folder: snap/vqa_test \n",
      " Epoch 12 Iter: 21000/37402\n",
      "  Masked Tags : 1.169934\n",
      "  Text Only Masked LM : 1.563027\n",
      "  attr : 1.24499\n",
      "  feat : 0.08306073\n",
      "  obj : 3.27533\n",
      "\n"
     ]
    },
    {
     "name": "stderr",
     "output_type": "stream",
     "text": [
      " 57%|█████████████████████████████████████████▍                              | 21501/37402 [2:27:50<2:26:25,  1.81it/s]"
     ]
    },
    {
     "name": "stdout",
     "output_type": "stream",
     "text": [
      "Folder: snap/vqa_test \n",
      " Epoch 12 Iter: 21500/37402\n",
      "  Masked Tags : 1.167301\n",
      "  Text Only Masked LM : 1.56676\n",
      "  attr : 1.222475\n",
      "  feat : 0.08286458\n",
      "  obj : 3.2527\n",
      "\n"
     ]
    },
    {
     "name": "stderr",
     "output_type": "stream",
     "text": [
      " 59%|██████████████████████████████████████████▎                             | 22001/37402 [2:31:18<1:37:32,  2.63it/s]"
     ]
    },
    {
     "name": "stdout",
     "output_type": "stream",
     "text": [
      "Folder: snap/vqa_test \n",
      " Epoch 12 Iter: 22000/37402\n",
      "  Masked Tags : 1.173315\n",
      "  Text Only Masked LM : 1.628081\n",
      "  attr : 1.246045\n",
      "  feat : 0.0818181\n",
      "  obj : 3.2872\n",
      "\n"
     ]
    },
    {
     "name": "stderr",
     "output_type": "stream",
     "text": [
      " 60%|███████████████████████████████████████████▎                            | 22501/37402 [2:34:35<1:49:28,  2.27it/s]"
     ]
    },
    {
     "name": "stdout",
     "output_type": "stream",
     "text": [
      "Folder: snap/vqa_test \n",
      " Epoch 12 Iter: 22500/37402\n",
      "  Masked Tags : 1.162956\n",
      "  Text Only Masked LM : 1.613445\n",
      "  attr : 1.249286\n",
      "  feat : 0.08282973\n",
      "  obj : 3.306667\n",
      "\n"
     ]
    },
    {
     "name": "stderr",
     "output_type": "stream",
     "text": [
      " 61%|████████████████████████████████████████████▎                           | 23001/37402 [2:37:59<1:57:18,  2.05it/s]"
     ]
    },
    {
     "name": "stdout",
     "output_type": "stream",
     "text": [
      "Folder: snap/vqa_test \n",
      " Epoch 12 Iter: 23000/37402\n",
      "  Masked Tags : 1.133375\n",
      "  Text Only Masked LM : 1.574529\n",
      "  attr : 1.213671\n",
      "  feat : 0.08166002\n",
      "  obj : 3.287411\n",
      "\n"
     ]
    },
    {
     "name": "stderr",
     "output_type": "stream",
     "text": [
      " 63%|█████████████████████████████████████████████▏                          | 23501/37402 [2:41:30<1:28:32,  2.62it/s]"
     ]
    },
    {
     "name": "stdout",
     "output_type": "stream",
     "text": [
      "Folder: snap/vqa_test \n",
      " Epoch 12 Iter: 23500/37402\n",
      "  Masked Tags : 1.157612\n",
      "  Text Only Masked LM : 1.598398\n",
      "  attr : 1.245867\n",
      "  feat : 0.08244692\n",
      "  obj : 3.258767\n",
      "\n"
     ]
    },
    {
     "name": "stderr",
     "output_type": "stream",
     "text": [
      " 64%|██████████████████████████████████████████████▏                         | 24001/37402 [2:45:00<1:39:32,  2.24it/s]"
     ]
    },
    {
     "name": "stdout",
     "output_type": "stream",
     "text": [
      "Folder: snap/vqa_test \n",
      " Epoch 12 Iter: 24000/37402\n",
      "  Masked Tags : 1.179674\n",
      "  Text Only Masked LM : 1.615274\n",
      "  attr : 1.218552\n",
      "  feat : 0.08169051\n",
      "  obj : 3.283468\n",
      "\n"
     ]
    },
    {
     "name": "stderr",
     "output_type": "stream",
     "text": [
      " 66%|███████████████████████████████████████████████▏                        | 24501/37402 [2:48:22<1:38:46,  2.18it/s]"
     ]
    },
    {
     "name": "stdout",
     "output_type": "stream",
     "text": [
      "Folder: snap/vqa_test \n",
      " Epoch 12 Iter: 24500/37402\n",
      "  Masked Tags : 1.166883\n",
      "  Text Only Masked LM : 1.565183\n",
      "  attr : 1.239548\n",
      "  feat : 0.08310025\n",
      "  obj : 3.298553\n",
      "\n"
     ]
    },
    {
     "name": "stderr",
     "output_type": "stream",
     "text": [
      " 67%|████████████████████████████████████████████████▏                       | 25001/37402 [2:51:52<1:23:48,  2.47it/s]"
     ]
    },
    {
     "name": "stdout",
     "output_type": "stream",
     "text": [
      "Folder: snap/vqa_test \n",
      " Epoch 12 Iter: 25000/37402\n",
      "  Masked Tags : 1.154025\n",
      "  Text Only Masked LM : 1.646256\n",
      "  attr : 1.23612\n",
      "  feat : 0.0817504\n",
      "  obj : 3.26261\n",
      "\n"
     ]
    },
    {
     "name": "stderr",
     "output_type": "stream",
     "text": [
      " 68%|█████████████████████████████████████████████████                       | 25501/37402 [2:55:13<1:20:07,  2.48it/s]"
     ]
    },
    {
     "name": "stdout",
     "output_type": "stream",
     "text": [
      "Folder: snap/vqa_test \n",
      " Epoch 12 Iter: 25500/37402\n",
      "  Masked Tags : 1.199182\n",
      "  Text Only Masked LM : 1.56694\n",
      "  attr : 1.234626\n",
      "  feat : 0.08330712\n",
      "  obj : 3.280299\n",
      "\n"
     ]
    },
    {
     "name": "stderr",
     "output_type": "stream",
     "text": [
      " 70%|██████████████████████████████████████████████████                      | 26001/37402 [2:58:39<1:25:00,  2.24it/s]"
     ]
    },
    {
     "name": "stdout",
     "output_type": "stream",
     "text": [
      "Folder: snap/vqa_test \n",
      " Epoch 12 Iter: 26000/37402\n",
      "  Masked Tags : 1.169449\n",
      "  Text Only Masked LM : 1.585921\n",
      "  attr : 1.228843\n",
      "  feat : 0.08389622\n",
      "  obj : 3.277899\n",
      "\n"
     ]
    },
    {
     "name": "stderr",
     "output_type": "stream",
     "text": [
      " 71%|███████████████████████████████████████████████████                     | 26501/37402 [3:02:06<1:30:31,  2.01it/s]"
     ]
    },
    {
     "name": "stdout",
     "output_type": "stream",
     "text": [
      "Folder: snap/vqa_test \n",
      " Epoch 12 Iter: 26500/37402\n",
      "  Masked Tags : 1.176441\n",
      "  Text Only Masked LM : 1.574885\n",
      "  attr : 1.241908\n",
      "  feat : 0.08290675\n",
      "  obj : 3.289505\n",
      "\n"
     ]
    },
    {
     "name": "stderr",
     "output_type": "stream",
     "text": [
      " 72%|███████████████████████████████████████████████████▉                    | 27001/37402 [3:05:37<1:12:18,  2.40it/s]"
     ]
    },
    {
     "name": "stdout",
     "output_type": "stream",
     "text": [
      "Folder: snap/vqa_test \n",
      " Epoch 12 Iter: 27000/37402\n",
      "  Masked Tags : 1.150568\n",
      "  Text Only Masked LM : 1.581725\n",
      "  attr : 1.240547\n",
      "  feat : 0.08149469\n",
      "  obj : 3.277743\n",
      "\n"
     ]
    },
    {
     "name": "stderr",
     "output_type": "stream",
     "text": [
      " 74%|████████████████████████████████████████████████████▉                   | 27501/37402 [3:09:13<1:06:09,  2.49it/s]"
     ]
    },
    {
     "name": "stdout",
     "output_type": "stream",
     "text": [
      "Folder: snap/vqa_test \n",
      " Epoch 12 Iter: 27500/37402\n",
      "  Masked Tags : 1.155564\n",
      "  Text Only Masked LM : 1.614399\n",
      "  attr : 1.247368\n",
      "  feat : 0.08418055\n",
      "  obj : 3.255445\n",
      "\n"
     ]
    },
    {
     "name": "stderr",
     "output_type": "stream",
     "text": [
      " 75%|█████████████████████████████████████████████████████▉                  | 28001/37402 [3:12:37<1:00:20,  2.60it/s]"
     ]
    },
    {
     "name": "stdout",
     "output_type": "stream",
     "text": [
      "Folder: snap/vqa_test \n",
      " Epoch 12 Iter: 28000/37402\n",
      "  Masked Tags : 1.168241\n",
      "  Text Only Masked LM : 1.576631\n",
      "  attr : 1.237053\n",
      "  feat : 0.08174805\n",
      "  obj : 3.275272\n",
      "\n"
     ]
    },
    {
     "name": "stderr",
     "output_type": "stream",
     "text": [
      " 76%|██████████████████████████████████████████████████████▊                 | 28501/37402 [3:16:07<1:05:37,  2.26it/s]"
     ]
    },
    {
     "name": "stdout",
     "output_type": "stream",
     "text": [
      "Folder: snap/vqa_test \n",
      " Epoch 12 Iter: 28500/37402\n",
      "  Masked Tags : 1.197429\n",
      "  Text Only Masked LM : 1.619192\n",
      "  attr : 1.237557\n",
      "  feat : 0.08273059\n",
      "  obj : 3.245378\n",
      "\n"
     ]
    },
    {
     "name": "stderr",
     "output_type": "stream",
     "text": [
      " 78%|█████████████████████████████████████████████████████████▍                | 29001/37402 [3:19:33<51:51,  2.70it/s]"
     ]
    },
    {
     "name": "stdout",
     "output_type": "stream",
     "text": [
      "Folder: snap/vqa_test \n",
      " Epoch 12 Iter: 29000/37402\n",
      "  Masked Tags : 1.174734\n",
      "  Text Only Masked LM : 1.589065\n",
      "  attr : 1.224127\n",
      "  feat : 0.0819725\n",
      "  obj : 3.242902\n",
      "\n"
     ]
    },
    {
     "name": "stderr",
     "output_type": "stream",
     "text": [
      " 79%|██████████████████████████████████████████████████████████▎               | 29501/37402 [3:23:14<54:58,  2.40it/s]"
     ]
    },
    {
     "name": "stdout",
     "output_type": "stream",
     "text": [
      "Folder: snap/vqa_test \n",
      " Epoch 12 Iter: 29500/37402\n",
      "  Masked Tags : 1.140416\n",
      "  Text Only Masked LM : 1.631169\n",
      "  attr : 1.24739\n",
      "  feat : 0.08186427\n",
      "  obj : 3.315944\n",
      "\n"
     ]
    },
    {
     "name": "stderr",
     "output_type": "stream",
     "text": [
      " 80%|███████████████████████████████████████████████████████████▎              | 30001/37402 [3:26:44<36:47,  3.35it/s]"
     ]
    },
    {
     "name": "stdout",
     "output_type": "stream",
     "text": [
      "Folder: snap/vqa_test \n",
      " Epoch 12 Iter: 30000/37402\n",
      "  Masked Tags : 1.151981\n",
      "  Text Only Masked LM : 1.606685\n",
      "  attr : 1.2461\n",
      "  feat : 0.08375598\n",
      "  obj : 3.304862\n",
      "\n"
     ]
    },
    {
     "name": "stderr",
     "output_type": "stream",
     "text": [
      " 82%|████████████████████████████████████████████████████████████▎             | 30501/37402 [3:30:11<48:04,  2.39it/s]"
     ]
    },
    {
     "name": "stdout",
     "output_type": "stream",
     "text": [
      "Folder: snap/vqa_test \n",
      " Epoch 12 Iter: 30500/37402\n",
      "  Masked Tags : 1.164532\n",
      "  Text Only Masked LM : 1.553632\n",
      "  attr : 1.25106\n",
      "  feat : 0.08294503\n",
      "  obj : 3.294847\n",
      "\n"
     ]
    },
    {
     "name": "stderr",
     "output_type": "stream",
     "text": [
      " 83%|█████████████████████████████████████████████████████████████▎            | 31001/37402 [3:33:35<40:37,  2.63it/s]"
     ]
    },
    {
     "name": "stdout",
     "output_type": "stream",
     "text": [
      "Folder: snap/vqa_test \n",
      " Epoch 12 Iter: 31000/37402\n",
      "  Masked Tags : 1.158175\n",
      "  Text Only Masked LM : 1.542152\n",
      "  attr : 1.250635\n",
      "  feat : 0.08043432\n",
      "  obj : 3.273033\n",
      "\n"
     ]
    },
    {
     "name": "stderr",
     "output_type": "stream",
     "text": [
      " 84%|██████████████████████████████████████████████████████████████▎           | 31501/37402 [3:36:55<33:26,  2.94it/s]"
     ]
    },
    {
     "name": "stdout",
     "output_type": "stream",
     "text": [
      "Folder: snap/vqa_test \n",
      " Epoch 12 Iter: 31500/37402\n",
      "  Masked Tags : 1.174878\n",
      "  Text Only Masked LM : 1.563761\n",
      "  attr : 1.23457\n",
      "  feat : 0.08239908\n",
      "  obj : 3.259893\n",
      "\n"
     ]
    },
    {
     "name": "stderr",
     "output_type": "stream",
     "text": [
      " 86%|███████████████████████████████████████████████████████████████▎          | 32001/37402 [3:40:22<32:21,  2.78it/s]"
     ]
    },
    {
     "name": "stdout",
     "output_type": "stream",
     "text": [
      "Folder: snap/vqa_test \n",
      " Epoch 12 Iter: 32000/37402\n",
      "  Masked Tags : 1.161643\n",
      "  Text Only Masked LM : 1.573492\n",
      "  attr : 1.235473\n",
      "  feat : 0.08216758\n",
      "  obj : 3.245894\n",
      "\n"
     ]
    },
    {
     "name": "stderr",
     "output_type": "stream",
     "text": [
      " 87%|████████████████████████████████████████████████████████████████▎         | 32501/37402 [3:43:44<28:32,  2.86it/s]"
     ]
    },
    {
     "name": "stdout",
     "output_type": "stream",
     "text": [
      "Folder: snap/vqa_test \n",
      " Epoch 12 Iter: 32500/37402\n",
      "  Masked Tags : 1.154423\n",
      "  Text Only Masked LM : 1.571809\n",
      "  attr : 1.249438\n",
      "  feat : 0.08198202\n",
      "  obj : 3.260787\n",
      "\n"
     ]
    },
    {
     "name": "stderr",
     "output_type": "stream",
     "text": [
      " 88%|█████████████████████████████████████████████████████████████████▎        | 33001/37402 [3:47:11<29:00,  2.53it/s]"
     ]
    },
    {
     "name": "stdout",
     "output_type": "stream",
     "text": [
      "Folder: snap/vqa_test \n",
      " Epoch 12 Iter: 33000/37402\n",
      "  Masked Tags : 1.186282\n",
      "  Text Only Masked LM : 1.595266\n",
      "  attr : 1.241403\n",
      "  feat : 0.0821387\n",
      "  obj : 3.255084\n",
      "\n"
     ]
    },
    {
     "name": "stderr",
     "output_type": "stream",
     "text": [
      " 90%|██████████████████████████████████████████████████████████████████▎       | 33501/37402 [3:50:41<30:24,  2.14it/s]"
     ]
    },
    {
     "name": "stdout",
     "output_type": "stream",
     "text": [
      "Folder: snap/vqa_test \n",
      " Epoch 12 Iter: 33500/37402\n",
      "  Masked Tags : 1.149911\n",
      "  Text Only Masked LM : 1.611504\n",
      "  attr : 1.227756\n",
      "  feat : 0.08299978\n",
      "  obj : 3.29378\n",
      "\n"
     ]
    },
    {
     "name": "stderr",
     "output_type": "stream",
     "text": [
      " 91%|███████████████████████████████████████████████████████████████████▎      | 34001/37402 [3:54:14<22:15,  2.55it/s]"
     ]
    },
    {
     "name": "stdout",
     "output_type": "stream",
     "text": [
      "Folder: snap/vqa_test \n",
      " Epoch 12 Iter: 34000/37402\n",
      "  Masked Tags : 1.20151\n",
      "  Text Only Masked LM : 1.61146\n",
      "  attr : 1.250891\n",
      "  feat : 0.08396259\n",
      "  obj : 3.291977\n",
      "\n"
     ]
    },
    {
     "name": "stderr",
     "output_type": "stream",
     "text": [
      " 92%|████████████████████████████████████████████████████████████████████▎     | 34501/37402 [3:57:43<20:42,  2.33it/s]"
     ]
    },
    {
     "name": "stdout",
     "output_type": "stream",
     "text": [
      "Folder: snap/vqa_test \n",
      " Epoch 12 Iter: 34500/37402\n",
      "  Masked Tags : 1.155536\n",
      "  Text Only Masked LM : 1.595523\n",
      "  attr : 1.248721\n",
      "  feat : 0.08060513\n",
      "  obj : 3.272636\n",
      "\n"
     ]
    },
    {
     "name": "stderr",
     "output_type": "stream",
     "text": [
      " 94%|█████████████████████████████████████████████████████████████████████▏    | 35001/37402 [4:01:10<14:45,  2.71it/s]"
     ]
    },
    {
     "name": "stdout",
     "output_type": "stream",
     "text": [
      "Folder: snap/vqa_test \n",
      " Epoch 12 Iter: 35000/37402\n",
      "  Masked Tags : 1.158191\n",
      "  Text Only Masked LM : 1.58977\n",
      "  attr : 1.24038\n",
      "  feat : 0.08192834\n",
      "  obj : 3.290129\n",
      "\n"
     ]
    },
    {
     "name": "stderr",
     "output_type": "stream",
     "text": [
      " 95%|██████████████████████████████████████████████████████████████████████▏   | 35501/37402 [4:04:38<12:38,  2.51it/s]"
     ]
    },
    {
     "name": "stdout",
     "output_type": "stream",
     "text": [
      "Folder: snap/vqa_test \n",
      " Epoch 12 Iter: 35500/37402\n",
      "  Masked Tags : 1.164988\n",
      "  Text Only Masked LM : 1.563625\n",
      "  attr : 1.238019\n",
      "  feat : 0.08222372\n",
      "  obj : 3.292089\n",
      "\n"
     ]
    },
    {
     "name": "stderr",
     "output_type": "stream",
     "text": [
      " 96%|███████████████████████████████████████████████████████████████████████▏  | 36002/37402 [4:08:09<07:41,  3.04it/s]"
     ]
    },
    {
     "name": "stdout",
     "output_type": "stream",
     "text": [
      "Folder: snap/vqa_test \n",
      " Epoch 12 Iter: 36000/37402\n",
      "  Masked Tags : 1.182405\n",
      "  Text Only Masked LM : 1.607334\n",
      "  attr : 1.219289\n",
      "  feat : 0.08168924\n",
      "  obj : 3.273937\n",
      "\n"
     ]
    },
    {
     "name": "stderr",
     "output_type": "stream",
     "text": [
      " 98%|████████████████████████████████████████████████████████████████████████▏ | 36501/37402 [4:11:29<07:47,  1.93it/s]"
     ]
    },
    {
     "name": "stdout",
     "output_type": "stream",
     "text": [
      "Folder: snap/vqa_test \n",
      " Epoch 12 Iter: 36500/37402\n",
      "  Masked Tags : 1.143292\n",
      "  Text Only Masked LM : 1.569362\n",
      "  attr : 1.22324\n",
      "  feat : 0.08579349\n",
      "  obj : 3.31898\n",
      "\n"
     ]
    },
    {
     "name": "stderr",
     "output_type": "stream",
     "text": [
      " 99%|█████████████████████████████████████████████████████████████████████████▏| 37001/37402 [4:14:54<03:01,  2.21it/s]"
     ]
    },
    {
     "name": "stdout",
     "output_type": "stream",
     "text": [
      "Folder: snap/vqa_test \n",
      " Epoch 12 Iter: 37000/37402\n",
      "  Masked Tags : 1.148317\n",
      "  Text Only Masked LM : 1.586462\n",
      "  attr : 1.233604\n",
      "  feat : 0.08067806\n",
      "  obj : 3.291715\n",
      "\n"
     ]
    },
    {
     "name": "stderr",
     "output_type": "stream",
     "text": [
      "100%|██████████████████████████████████████████████████████████████████████████| 37402/37402 [4:17:52<00:00,  2.42it/s]\n"
     ]
    },
    {
     "name": "stdout",
     "output_type": "stream",
     "text": [
      "The training loss for Epoch 12 is 1.5617\n"
     ]
    },
    {
     "name": "stderr",
     "output_type": "stream",
     "text": [
      "100%|████████████████████████████████████████████████████████████████████████████████| 782/782 [08:20<00:00,  1.56it/s]\n"
     ]
    },
    {
     "name": "stdout",
     "output_type": "stream",
     "text": [
      "Evaluation:\n",
      "  Masked LM : 1.92157\n",
      "  Masked Tags : 1.326907\n",
      "  attr : 1.281963\n",
      "  feat : 0.08280425\n",
      "  obj : 3.234048\n",
      "\n",
      "\n",
      "\n",
      "\n",
      "\n",
      "\n",
      "\n",
      "\n",
      "\n"
     ]
    },
    {
     "name": "stderr",
     "output_type": "stream",
     "text": [
      "  1%|█                                                                           | 501/37402 [03:19<3:41:33,  2.78it/s]"
     ]
    },
    {
     "name": "stdout",
     "output_type": "stream",
     "text": [
      "Folder: snap/vqa_test \n",
      " Epoch 13 Iter: 500/37402\n",
      "  Masked Tags : 1.165906\n",
      "  Text Only Masked LM : 1.550229\n",
      "  attr : 1.233187\n",
      "  feat : 0.08388321\n",
      "  obj : 3.261408\n",
      "\n"
     ]
    },
    {
     "name": "stderr",
     "output_type": "stream",
     "text": [
      "  3%|██                                                                         | 1001/37402 [06:43<4:20:52,  2.33it/s]"
     ]
    },
    {
     "name": "stdout",
     "output_type": "stream",
     "text": [
      "Folder: snap/vqa_test \n",
      " Epoch 13 Iter: 1000/37402\n",
      "  Masked Tags : 1.162374\n",
      "  Text Only Masked LM : 1.553608\n",
      "  attr : 1.233605\n",
      "  feat : 0.0834141\n",
      "  obj : 3.244911\n",
      "\n"
     ]
    },
    {
     "name": "stderr",
     "output_type": "stream",
     "text": [
      "  4%|███                                                                        | 1501/37402 [10:09<3:39:47,  2.72it/s]"
     ]
    },
    {
     "name": "stdout",
     "output_type": "stream",
     "text": [
      "Folder: snap/vqa_test \n",
      " Epoch 13 Iter: 1500/37402\n",
      "  Masked Tags : 1.166153\n",
      "  Text Only Masked LM : 1.582394\n",
      "  attr : 1.237269\n",
      "  feat : 0.08223485\n",
      "  obj : 3.282611\n",
      "\n"
     ]
    },
    {
     "name": "stderr",
     "output_type": "stream",
     "text": [
      "  5%|████                                                                       | 2001/37402 [13:33<4:03:48,  2.42it/s]"
     ]
    },
    {
     "name": "stdout",
     "output_type": "stream",
     "text": [
      "Folder: snap/vqa_test \n",
      " Epoch 13 Iter: 2000/37402\n",
      "  Masked Tags : 1.15708\n",
      "  Text Only Masked LM : 1.602726\n",
      "  attr : 1.247715\n",
      "  feat : 0.08302465\n",
      "  obj : 3.274539\n",
      "\n"
     ]
    },
    {
     "name": "stderr",
     "output_type": "stream",
     "text": [
      "  7%|█████                                                                      | 2501/37402 [17:05<3:49:21,  2.54it/s]"
     ]
    },
    {
     "name": "stdout",
     "output_type": "stream",
     "text": [
      "Folder: snap/vqa_test \n",
      " Epoch 13 Iter: 2500/37402\n",
      "  Masked Tags : 1.163624\n",
      "  Text Only Masked LM : 1.592559\n",
      "  attr : 1.227749\n",
      "  feat : 0.08262845\n",
      "  obj : 3.27617\n",
      "\n"
     ]
    },
    {
     "name": "stderr",
     "output_type": "stream",
     "text": [
      "  8%|██████                                                                     | 3001/37402 [20:30<3:14:54,  2.94it/s]"
     ]
    },
    {
     "name": "stdout",
     "output_type": "stream",
     "text": [
      "Folder: snap/vqa_test \n",
      " Epoch 13 Iter: 3000/37402\n",
      "  Masked Tags : 1.16488\n",
      "  Text Only Masked LM : 1.584184\n",
      "  attr : 1.224447\n",
      "  feat : 0.08238885\n",
      "  obj : 3.252355\n",
      "\n"
     ]
    },
    {
     "name": "stderr",
     "output_type": "stream",
     "text": [
      "  9%|███████                                                                    | 3501/37402 [23:54<4:49:07,  1.95it/s]"
     ]
    },
    {
     "name": "stdout",
     "output_type": "stream",
     "text": [
      "Folder: snap/vqa_test \n",
      " Epoch 13 Iter: 3500/37402\n",
      "  Masked Tags : 1.145589\n",
      "  Text Only Masked LM : 1.552214\n",
      "  attr : 1.223828\n",
      "  feat : 0.08147167\n",
      "  obj : 3.267924\n",
      "\n"
     ]
    },
    {
     "name": "stderr",
     "output_type": "stream",
     "text": [
      " 11%|████████                                                                   | 4001/37402 [27:20<3:25:24,  2.71it/s]"
     ]
    },
    {
     "name": "stdout",
     "output_type": "stream",
     "text": [
      "Folder: snap/vqa_test \n",
      " Epoch 13 Iter: 4000/37402\n",
      "  Masked Tags : 1.13717\n",
      "  Text Only Masked LM : 1.584408\n",
      "  attr : 1.24159\n",
      "  feat : 0.08295193\n",
      "  obj : 3.305158\n",
      "\n"
     ]
    },
    {
     "name": "stderr",
     "output_type": "stream",
     "text": [
      " 12%|█████████                                                                  | 4501/37402 [30:40<3:12:56,  2.84it/s]"
     ]
    },
    {
     "name": "stdout",
     "output_type": "stream",
     "text": [
      "Folder: snap/vqa_test \n",
      " Epoch 13 Iter: 4500/37402\n",
      "  Masked Tags : 1.15595\n",
      "  Text Only Masked LM : 1.539029\n",
      "  attr : 1.243843\n",
      "  feat : 0.08383485\n",
      "  obj : 3.302745\n",
      "\n"
     ]
    },
    {
     "name": "stderr",
     "output_type": "stream",
     "text": [
      " 13%|██████████                                                                 | 5001/37402 [33:58<3:50:09,  2.35it/s]"
     ]
    },
    {
     "name": "stdout",
     "output_type": "stream",
     "text": [
      "Folder: snap/vqa_test \n",
      " Epoch 13 Iter: 5000/37402\n",
      "  Masked Tags : 1.140837\n",
      "  Text Only Masked LM : 1.554354\n",
      "  attr : 1.241784\n",
      "  feat : 0.08240382\n",
      "  obj : 3.294294\n",
      "\n"
     ]
    },
    {
     "name": "stderr",
     "output_type": "stream",
     "text": [
      " 15%|███████████                                                                | 5501/37402 [37:30<3:32:42,  2.50it/s]"
     ]
    },
    {
     "name": "stdout",
     "output_type": "stream",
     "text": [
      "Folder: snap/vqa_test \n",
      " Epoch 13 Iter: 5500/37402\n",
      "  Masked Tags : 1.146553\n",
      "  Text Only Masked LM : 1.553331\n",
      "  attr : 1.232137\n",
      "  feat : 0.08184799\n",
      "  obj : 3.285307\n",
      "\n"
     ]
    },
    {
     "name": "stderr",
     "output_type": "stream",
     "text": [
      " 16%|████████████                                                               | 6001/37402 [40:55<3:46:32,  2.31it/s]"
     ]
    },
    {
     "name": "stdout",
     "output_type": "stream",
     "text": [
      "Folder: snap/vqa_test \n",
      " Epoch 13 Iter: 6000/37402\n",
      "  Masked Tags : 1.184265\n",
      "  Text Only Masked LM : 1.554061\n",
      "  attr : 1.235212\n",
      "  feat : 0.08310563\n",
      "  obj : 3.28606\n",
      "\n"
     ]
    },
    {
     "name": "stderr",
     "output_type": "stream",
     "text": [
      " 17%|█████████████                                                              | 6501/37402 [44:20<4:35:29,  1.87it/s]"
     ]
    },
    {
     "name": "stdout",
     "output_type": "stream",
     "text": [
      "Folder: snap/vqa_test \n",
      " Epoch 13 Iter: 6500/37402\n",
      "  Masked Tags : 1.159151\n",
      "  Text Only Masked LM : 1.551988\n",
      "  attr : 1.239351\n",
      "  feat : 0.0812353\n",
      "  obj : 3.281508\n",
      "\n"
     ]
    },
    {
     "name": "stderr",
     "output_type": "stream",
     "text": [
      " 19%|██████████████                                                             | 7001/37402 [47:48<3:35:26,  2.35it/s]"
     ]
    },
    {
     "name": "stdout",
     "output_type": "stream",
     "text": [
      "Folder: snap/vqa_test \n",
      " Epoch 13 Iter: 7000/37402\n",
      "  Masked Tags : 1.138493\n",
      "  Text Only Masked LM : 1.526795\n",
      "  attr : 1.239444\n",
      "  feat : 0.08256591\n",
      "  obj : 3.258865\n",
      "\n"
     ]
    },
    {
     "name": "stderr",
     "output_type": "stream",
     "text": [
      " 20%|███████████████                                                            | 7501/37402 [51:11<3:33:17,  2.34it/s]"
     ]
    },
    {
     "name": "stdout",
     "output_type": "stream",
     "text": [
      "Folder: snap/vqa_test \n",
      " Epoch 13 Iter: 7500/37402\n",
      "  Masked Tags : 1.148517\n",
      "  Text Only Masked LM : 1.541662\n",
      "  attr : 1.221754\n",
      "  feat : 0.08245705\n",
      "  obj : 3.288987\n",
      "\n"
     ]
    },
    {
     "name": "stderr",
     "output_type": "stream",
     "text": [
      " 21%|████████████████                                                           | 8001/37402 [54:39<4:04:46,  2.00it/s]"
     ]
    },
    {
     "name": "stdout",
     "output_type": "stream",
     "text": [
      "Folder: snap/vqa_test \n",
      " Epoch 13 Iter: 8000/37402\n",
      "  Masked Tags : 1.132602\n",
      "  Text Only Masked LM : 1.598844\n",
      "  attr : 1.249605\n",
      "  feat : 0.08227822\n",
      "  obj : 3.282239\n",
      "\n"
     ]
    },
    {
     "name": "stderr",
     "output_type": "stream",
     "text": [
      " 23%|█████████████████                                                          | 8501/37402 [58:14<3:15:04,  2.47it/s]"
     ]
    },
    {
     "name": "stdout",
     "output_type": "stream",
     "text": [
      "Folder: snap/vqa_test \n",
      " Epoch 13 Iter: 8500/37402\n",
      "  Masked Tags : 1.135505\n",
      "  Text Only Masked LM : 1.581575\n",
      "  attr : 1.236616\n",
      "  feat : 0.08182198\n",
      "  obj : 3.283931\n",
      "\n"
     ]
    },
    {
     "name": "stderr",
     "output_type": "stream",
     "text": [
      " 24%|█████████████████▌                                                       | 9001/37402 [1:01:41<3:44:16,  2.11it/s]"
     ]
    },
    {
     "name": "stdout",
     "output_type": "stream",
     "text": [
      "Folder: snap/vqa_test \n",
      " Epoch 13 Iter: 9000/37402\n",
      "  Masked Tags : 1.14981\n",
      "  Text Only Masked LM : 1.575628\n",
      "  attr : 1.243735\n",
      "  feat : 0.0827974\n",
      "  obj : 3.263886\n",
      "\n"
     ]
    },
    {
     "name": "stderr",
     "output_type": "stream",
     "text": [
      " 25%|██████████████████▌                                                      | 9501/37402 [1:05:03<2:54:05,  2.67it/s]"
     ]
    },
    {
     "name": "stdout",
     "output_type": "stream",
     "text": [
      "Folder: snap/vqa_test \n",
      " Epoch 13 Iter: 9500/37402\n",
      "  Masked Tags : 1.168542\n",
      "  Text Only Masked LM : 1.568522\n",
      "  attr : 1.235898\n",
      "  feat : 0.08355578\n",
      "  obj : 3.299327\n",
      "\n"
     ]
    },
    {
     "name": "stderr",
     "output_type": "stream",
     "text": [
      " 27%|███████████████████▎                                                    | 10001/37402 [1:08:36<2:57:18,  2.58it/s]"
     ]
    },
    {
     "name": "stdout",
     "output_type": "stream",
     "text": [
      "Folder: snap/vqa_test \n",
      " Epoch 13 Iter: 10000/37402\n",
      "  Masked Tags : 1.162351\n",
      "  Text Only Masked LM : 1.5927\n",
      "  attr : 1.227928\n",
      "  feat : 0.08337066\n",
      "  obj : 3.302764\n",
      "\n"
     ]
    },
    {
     "name": "stderr",
     "output_type": "stream",
     "text": [
      " 28%|████████████████████▏                                                   | 10501/37402 [1:12:04<2:54:16,  2.57it/s]"
     ]
    },
    {
     "name": "stdout",
     "output_type": "stream",
     "text": [
      "Folder: snap/vqa_test \n",
      " Epoch 13 Iter: 10500/37402\n",
      "  Masked Tags : 1.164705\n",
      "  Text Only Masked LM : 1.585963\n",
      "  attr : 1.240941\n",
      "  feat : 0.0827715\n",
      "  obj : 3.284494\n",
      "\n"
     ]
    },
    {
     "name": "stderr",
     "output_type": "stream",
     "text": [
      " 29%|█████████████████████▏                                                  | 11001/37402 [1:15:30<2:58:28,  2.47it/s]"
     ]
    },
    {
     "name": "stdout",
     "output_type": "stream",
     "text": [
      "Folder: snap/vqa_test \n",
      " Epoch 13 Iter: 11000/37402\n",
      "  Masked Tags : 1.151455\n",
      "  Text Only Masked LM : 1.528146\n",
      "  attr : 1.229078\n",
      "  feat : 0.08430165\n",
      "  obj : 3.252832\n",
      "\n"
     ]
    },
    {
     "name": "stderr",
     "output_type": "stream",
     "text": [
      " 31%|██████████████████████▏                                                 | 11501/37402 [1:19:05<3:04:38,  2.34it/s]"
     ]
    },
    {
     "name": "stdout",
     "output_type": "stream",
     "text": [
      "Folder: snap/vqa_test \n",
      " Epoch 13 Iter: 11500/37402\n",
      "  Masked Tags : 1.146204\n",
      "  Text Only Masked LM : 1.587909\n",
      "  attr : 1.235765\n",
      "  feat : 0.08196705\n",
      "  obj : 3.271279\n",
      "\n"
     ]
    },
    {
     "name": "stderr",
     "output_type": "stream",
     "text": [
      " 32%|███████████████████████                                                 | 12001/37402 [1:22:36<2:33:13,  2.76it/s]"
     ]
    },
    {
     "name": "stdout",
     "output_type": "stream",
     "text": [
      "Folder: snap/vqa_test \n",
      " Epoch 13 Iter: 12000/37402\n",
      "  Masked Tags : 1.127874\n",
      "  Text Only Masked LM : 1.523314\n",
      "  attr : 1.236983\n",
      "  feat : 0.08289499\n",
      "  obj : 3.278905\n",
      "\n"
     ]
    },
    {
     "name": "stderr",
     "output_type": "stream",
     "text": [
      " 33%|████████████████████████                                                | 12501/37402 [1:26:05<3:07:52,  2.21it/s]"
     ]
    },
    {
     "name": "stdout",
     "output_type": "stream",
     "text": [
      "Folder: snap/vqa_test \n",
      " Epoch 13 Iter: 12500/37402\n",
      "  Masked Tags : 1.158209\n",
      "  Text Only Masked LM : 1.585113\n",
      "  attr : 1.235787\n",
      "  feat : 0.08324897\n",
      "  obj : 3.308406\n",
      "\n"
     ]
    },
    {
     "name": "stderr",
     "output_type": "stream",
     "text": [
      " 35%|█████████████████████████                                               | 13001/37402 [1:29:36<3:32:27,  1.91it/s]"
     ]
    },
    {
     "name": "stdout",
     "output_type": "stream",
     "text": [
      "Folder: snap/vqa_test \n",
      " Epoch 13 Iter: 13000/37402\n",
      "  Masked Tags : 1.131649\n",
      "  Text Only Masked LM : 1.560566\n",
      "  attr : 1.231614\n",
      "  feat : 0.08121184\n",
      "  obj : 3.264436\n",
      "\n"
     ]
    },
    {
     "name": "stderr",
     "output_type": "stream",
     "text": [
      " 36%|█████████████████████████▉                                              | 13501/37402 [1:32:59<2:42:41,  2.45it/s]"
     ]
    },
    {
     "name": "stdout",
     "output_type": "stream",
     "text": [
      "Folder: snap/vqa_test \n",
      " Epoch 13 Iter: 13500/37402\n",
      "  Masked Tags : 1.137346\n",
      "  Text Only Masked LM : 1.565405\n",
      "  attr : 1.232644\n",
      "  feat : 0.08298766\n",
      "  obj : 3.273015\n",
      "\n"
     ]
    },
    {
     "name": "stderr",
     "output_type": "stream",
     "text": [
      " 37%|██████████████████████████▉                                             | 14001/37402 [1:36:19<2:41:47,  2.41it/s]"
     ]
    },
    {
     "name": "stdout",
     "output_type": "stream",
     "text": [
      "Folder: snap/vqa_test \n",
      " Epoch 13 Iter: 14000/37402\n",
      "  Masked Tags : 1.122454\n",
      "  Text Only Masked LM : 1.523698\n",
      "  attr : 1.221401\n",
      "  feat : 0.08138752\n",
      "  obj : 3.268151\n",
      "\n"
     ]
    },
    {
     "name": "stderr",
     "output_type": "stream",
     "text": [
      " 39%|███████████████████████████▉                                            | 14501/37402 [1:39:43<2:35:18,  2.46it/s]"
     ]
    },
    {
     "name": "stdout",
     "output_type": "stream",
     "text": [
      "Folder: snap/vqa_test \n",
      " Epoch 13 Iter: 14500/37402\n",
      "  Masked Tags : 1.161314\n",
      "  Text Only Masked LM : 1.511583\n",
      "  attr : 1.227063\n",
      "  feat : 0.08308768\n",
      "  obj : 3.302659\n",
      "\n"
     ]
    },
    {
     "name": "stderr",
     "output_type": "stream",
     "text": [
      " 40%|████████████████████████████▉                                           | 15001/37402 [1:43:04<2:38:13,  2.36it/s]"
     ]
    },
    {
     "name": "stdout",
     "output_type": "stream",
     "text": [
      "Folder: snap/vqa_test \n",
      " Epoch 13 Iter: 15000/37402\n",
      "  Masked Tags : 1.156013\n",
      "  Text Only Masked LM : 1.566017\n",
      "  attr : 1.209282\n",
      "  feat : 0.08327424\n",
      "  obj : 3.26646\n",
      "\n"
     ]
    },
    {
     "name": "stderr",
     "output_type": "stream",
     "text": [
      " 41%|█████████████████████████████▊                                          | 15501/37402 [1:46:30<2:24:16,  2.53it/s]"
     ]
    },
    {
     "name": "stdout",
     "output_type": "stream",
     "text": [
      "Folder: snap/vqa_test \n",
      " Epoch 13 Iter: 15500/37402\n",
      "  Masked Tags : 1.132147\n",
      "  Text Only Masked LM : 1.556305\n",
      "  attr : 1.216457\n",
      "  feat : 0.08261703\n",
      "  obj : 3.288714\n",
      "\n"
     ]
    },
    {
     "name": "stderr",
     "output_type": "stream",
     "text": [
      " 43%|██████████████████████████████▊                                         | 16001/37402 [1:50:01<2:02:33,  2.91it/s]"
     ]
    },
    {
     "name": "stdout",
     "output_type": "stream",
     "text": [
      "Folder: snap/vqa_test \n",
      " Epoch 13 Iter: 16000/37402\n",
      "  Masked Tags : 1.143582\n",
      "  Text Only Masked LM : 1.588422\n",
      "  attr : 1.221238\n",
      "  feat : 0.08304252\n",
      "  obj : 3.269223\n",
      "\n"
     ]
    },
    {
     "name": "stderr",
     "output_type": "stream",
     "text": [
      " 44%|███████████████████████████████▊                                        | 16501/37402 [1:53:32<2:12:26,  2.63it/s]"
     ]
    },
    {
     "name": "stdout",
     "output_type": "stream",
     "text": [
      "Folder: snap/vqa_test \n",
      " Epoch 13 Iter: 16500/37402\n",
      "  Masked Tags : 1.139746\n",
      "  Text Only Masked LM : 1.576201\n",
      "  attr : 1.237568\n",
      "  feat : 0.08147944\n",
      "  obj : 3.302287\n",
      "\n"
     ]
    },
    {
     "name": "stderr",
     "output_type": "stream",
     "text": [
      " 45%|████████████████████████████████▋                                       | 17001/37402 [1:57:01<2:16:50,  2.48it/s]"
     ]
    },
    {
     "name": "stdout",
     "output_type": "stream",
     "text": [
      "Folder: snap/vqa_test \n",
      " Epoch 13 Iter: 17000/37402\n",
      "  Masked Tags : 1.162016\n",
      "  Text Only Masked LM : 1.564286\n",
      "  attr : 1.21942\n",
      "  feat : 0.08246528\n",
      "  obj : 3.265489\n",
      "\n"
     ]
    },
    {
     "name": "stderr",
     "output_type": "stream",
     "text": [
      " 47%|█████████████████████████████████▋                                      | 17501/37402 [2:00:31<2:10:08,  2.55it/s]"
     ]
    },
    {
     "name": "stdout",
     "output_type": "stream",
     "text": [
      "Folder: snap/vqa_test \n",
      " Epoch 13 Iter: 17500/37402\n",
      "  Masked Tags : 1.13518\n",
      "  Text Only Masked LM : 1.501882\n",
      "  attr : 1.220107\n",
      "  feat : 0.08171831\n",
      "  obj : 3.267205\n",
      "\n"
     ]
    },
    {
     "name": "stderr",
     "output_type": "stream",
     "text": [
      " 48%|██████████████████████████████████▋                                     | 18001/37402 [2:03:52<1:52:53,  2.86it/s]"
     ]
    },
    {
     "name": "stdout",
     "output_type": "stream",
     "text": [
      "Folder: snap/vqa_test \n",
      " Epoch 13 Iter: 18000/37402\n",
      "  Masked Tags : 1.145031\n",
      "  Text Only Masked LM : 1.515423\n",
      "  attr : 1.218944\n",
      "  feat : 0.08275008\n",
      "  obj : 3.257958\n",
      "\n"
     ]
    },
    {
     "name": "stderr",
     "output_type": "stream",
     "text": [
      " 49%|███████████████████████████████████▌                                    | 18501/37402 [2:07:21<1:59:47,  2.63it/s]"
     ]
    },
    {
     "name": "stdout",
     "output_type": "stream",
     "text": [
      "Folder: snap/vqa_test \n",
      " Epoch 13 Iter: 18500/37402\n",
      "  Masked Tags : 1.128884\n",
      "  Text Only Masked LM : 1.544578\n",
      "  attr : 1.230529\n",
      "  feat : 0.08267125\n",
      "  obj : 3.308764\n",
      "\n"
     ]
    },
    {
     "name": "stderr",
     "output_type": "stream",
     "text": [
      " 51%|████████████████████████████████████▌                                   | 19001/37402 [2:10:51<2:08:46,  2.38it/s]"
     ]
    },
    {
     "name": "stdout",
     "output_type": "stream",
     "text": [
      "Folder: snap/vqa_test \n",
      " Epoch 13 Iter: 19000/37402\n",
      "  Masked Tags : 1.110629\n",
      "  Text Only Masked LM : 1.623345\n",
      "  attr : 1.22578\n",
      "  feat : 0.08546333\n",
      "  obj : 3.276792\n",
      "\n"
     ]
    },
    {
     "name": "stderr",
     "output_type": "stream",
     "text": [
      " 52%|█████████████████████████████████████▌                                  | 19501/37402 [2:14:19<1:51:16,  2.68it/s]"
     ]
    },
    {
     "name": "stdout",
     "output_type": "stream",
     "text": [
      "Folder: snap/vqa_test \n",
      " Epoch 13 Iter: 19500/37402\n",
      "  Masked Tags : 1.144913\n",
      "  Text Only Masked LM : 1.577571\n",
      "  attr : 1.23625\n",
      "  feat : 0.08400106\n",
      "  obj : 3.299625\n",
      "\n"
     ]
    },
    {
     "name": "stderr",
     "output_type": "stream",
     "text": [
      " 53%|██████████████████████████████████████▌                                 | 20001/37402 [2:17:41<2:00:14,  2.41it/s]"
     ]
    },
    {
     "name": "stdout",
     "output_type": "stream",
     "text": [
      "Folder: snap/vqa_test \n",
      " Epoch 13 Iter: 20000/37402\n",
      "  Masked Tags : 1.156181\n",
      "  Text Only Masked LM : 1.572895\n",
      "  attr : 1.223709\n",
      "  feat : 0.07999037\n",
      "  obj : 3.271866\n",
      "\n"
     ]
    },
    {
     "name": "stderr",
     "output_type": "stream",
     "text": [
      " 55%|███████████████████████████████████████▍                                | 20501/37402 [2:21:18<1:41:28,  2.78it/s]"
     ]
    },
    {
     "name": "stdout",
     "output_type": "stream",
     "text": [
      "Folder: snap/vqa_test \n",
      " Epoch 13 Iter: 20500/37402\n",
      "  Masked Tags : 1.156429\n",
      "  Text Only Masked LM : 1.560128\n",
      "  attr : 1.23817\n",
      "  feat : 0.08378734\n",
      "  obj : 3.290822\n",
      "\n"
     ]
    },
    {
     "name": "stderr",
     "output_type": "stream",
     "text": [
      " 56%|████████████████████████████████████████▍                               | 21001/37402 [2:24:46<1:28:44,  3.08it/s]"
     ]
    },
    {
     "name": "stdout",
     "output_type": "stream",
     "text": [
      "Folder: snap/vqa_test \n",
      " Epoch 13 Iter: 21000/37402\n",
      "  Masked Tags : 1.132627\n",
      "  Text Only Masked LM : 1.55145\n",
      "  attr : 1.223607\n",
      "  feat : 0.08303705\n",
      "  obj : 3.268724\n",
      "\n"
     ]
    },
    {
     "name": "stderr",
     "output_type": "stream",
     "text": [
      " 57%|█████████████████████████████████████████▍                              | 21501/37402 [2:28:11<1:24:43,  3.13it/s]"
     ]
    },
    {
     "name": "stdout",
     "output_type": "stream",
     "text": [
      "Folder: snap/vqa_test \n",
      " Epoch 13 Iter: 21500/37402\n",
      "  Masked Tags : 1.137418\n",
      "  Text Only Masked LM : 1.551862\n",
      "  attr : 1.21457\n",
      "  feat : 0.08362003\n",
      "  obj : 3.286012\n",
      "\n"
     ]
    },
    {
     "name": "stderr",
     "output_type": "stream",
     "text": [
      " 59%|██████████████████████████████████████████▎                             | 22001/37402 [2:31:43<1:56:17,  2.21it/s]"
     ]
    },
    {
     "name": "stdout",
     "output_type": "stream",
     "text": [
      "Folder: snap/vqa_test \n",
      " Epoch 13 Iter: 22000/37402\n",
      "  Masked Tags : 1.13792\n",
      "  Text Only Masked LM : 1.583839\n",
      "  attr : 1.232033\n",
      "  feat : 0.08252227\n",
      "  obj : 3.247847\n",
      "\n"
     ]
    },
    {
     "name": "stderr",
     "output_type": "stream",
     "text": [
      " 60%|███████████████████████████████████████████▎                            | 22501/37402 [2:35:10<2:12:44,  1.87it/s]"
     ]
    },
    {
     "name": "stdout",
     "output_type": "stream",
     "text": [
      "Folder: snap/vqa_test \n",
      " Epoch 13 Iter: 22500/37402\n",
      "  Masked Tags : 1.15943\n",
      "  Text Only Masked LM : 1.544407\n",
      "  attr : 1.227334\n",
      "  feat : 0.08197701\n",
      "  obj : 3.26345\n",
      "\n"
     ]
    },
    {
     "name": "stderr",
     "output_type": "stream",
     "text": [
      " 61%|████████████████████████████████████████████▎                           | 23001/37402 [2:38:47<1:26:44,  2.77it/s]"
     ]
    },
    {
     "name": "stdout",
     "output_type": "stream",
     "text": [
      "Folder: snap/vqa_test \n",
      " Epoch 13 Iter: 23000/37402\n",
      "  Masked Tags : 1.130123\n",
      "  Text Only Masked LM : 1.56075\n",
      "  attr : 1.242599\n",
      "  feat : 0.08211327\n",
      "  obj : 3.29225\n",
      "\n"
     ]
    },
    {
     "name": "stderr",
     "output_type": "stream",
     "text": [
      " 63%|█████████████████████████████████████████████▏                          | 23501/37402 [2:42:15<1:52:30,  2.06it/s]"
     ]
    },
    {
     "name": "stdout",
     "output_type": "stream",
     "text": [
      "Folder: snap/vqa_test \n",
      " Epoch 13 Iter: 23500/37402\n",
      "  Masked Tags : 1.154176\n",
      "  Text Only Masked LM : 1.598041\n",
      "  attr : 1.247343\n",
      "  feat : 0.08275612\n",
      "  obj : 3.254372\n",
      "\n"
     ]
    },
    {
     "name": "stderr",
     "output_type": "stream",
     "text": [
      " 64%|██████████████████████████████████████████████▏                         | 24001/37402 [2:45:48<1:42:37,  2.18it/s]"
     ]
    },
    {
     "name": "stdout",
     "output_type": "stream",
     "text": [
      "Folder: snap/vqa_test \n",
      " Epoch 13 Iter: 24000/37402\n",
      "  Masked Tags : 1.146083\n",
      "  Text Only Masked LM : 1.56605\n",
      "  attr : 1.220743\n",
      "  feat : 0.08072481\n",
      "  obj : 3.274634\n",
      "\n"
     ]
    },
    {
     "name": "stderr",
     "output_type": "stream",
     "text": [
      " 66%|███████████████████████████████████████████████▏                        | 24501/37402 [2:49:14<2:04:42,  1.72it/s]"
     ]
    },
    {
     "name": "stdout",
     "output_type": "stream",
     "text": [
      "Folder: snap/vqa_test \n",
      " Epoch 13 Iter: 24500/37402\n",
      "  Masked Tags : 1.172024\n",
      "  Text Only Masked LM : 1.568612\n",
      "  attr : 1.219918\n",
      "  feat : 0.08475542\n",
      "  obj : 3.246997\n",
      "\n"
     ]
    },
    {
     "name": "stderr",
     "output_type": "stream",
     "text": [
      " 67%|████████████████████████████████████████████████▏                       | 25001/37402 [2:52:48<1:04:44,  3.19it/s]"
     ]
    },
    {
     "name": "stdout",
     "output_type": "stream",
     "text": [
      "Folder: snap/vqa_test \n",
      " Epoch 13 Iter: 25000/37402\n",
      "  Masked Tags : 1.129686\n",
      "  Text Only Masked LM : 1.547136\n",
      "  attr : 1.243368\n",
      "  feat : 0.08209431\n",
      "  obj : 3.289414\n",
      "\n"
     ]
    },
    {
     "name": "stderr",
     "output_type": "stream",
     "text": [
      " 68%|█████████████████████████████████████████████████                       | 25501/37402 [2:56:13<1:17:35,  2.56it/s]"
     ]
    },
    {
     "name": "stdout",
     "output_type": "stream",
     "text": [
      "Folder: snap/vqa_test \n",
      " Epoch 13 Iter: 25500/37402\n",
      "  Masked Tags : 1.105331\n",
      "  Text Only Masked LM : 1.527907\n",
      "  attr : 1.254428\n",
      "  feat : 0.08053514\n",
      "  obj : 3.277782\n",
      "\n"
     ]
    },
    {
     "name": "stderr",
     "output_type": "stream",
     "text": [
      " 70%|██████████████████████████████████████████████████                      | 26001/37402 [2:59:43<1:12:51,  2.61it/s]"
     ]
    },
    {
     "name": "stdout",
     "output_type": "stream",
     "text": [
      "Folder: snap/vqa_test \n",
      " Epoch 13 Iter: 26000/37402\n",
      "  Masked Tags : 1.141336\n",
      "  Text Only Masked LM : 1.548748\n",
      "  attr : 1.237334\n",
      "  feat : 0.08222087\n",
      "  obj : 3.246562\n",
      "\n"
     ]
    },
    {
     "name": "stderr",
     "output_type": "stream",
     "text": [
      " 71%|███████████████████████████████████████████████████                     | 26501/37402 [3:03:15<1:13:14,  2.48it/s]"
     ]
    },
    {
     "name": "stdout",
     "output_type": "stream",
     "text": [
      "Folder: snap/vqa_test \n",
      " Epoch 13 Iter: 26500/37402\n",
      "  Masked Tags : 1.149769\n",
      "  Text Only Masked LM : 1.543855\n",
      "  attr : 1.242601\n",
      "  feat : 0.08322478\n",
      "  obj : 3.279486\n",
      "\n"
     ]
    },
    {
     "name": "stderr",
     "output_type": "stream",
     "text": [
      " 72%|█████████████████████████████████████████████████████▍                    | 27001/37402 [3:06:44<58:14,  2.98it/s]"
     ]
    },
    {
     "name": "stdout",
     "output_type": "stream",
     "text": [
      "Folder: snap/vqa_test \n",
      " Epoch 13 Iter: 27000/37402\n",
      "  Masked Tags : 1.130938\n",
      "  Text Only Masked LM : 1.551372\n",
      "  attr : 1.251654\n",
      "  feat : 0.08089278\n",
      "  obj : 3.298037\n",
      "\n"
     ]
    },
    {
     "name": "stderr",
     "output_type": "stream",
     "text": [
      " 74%|████████████████████████████████████████████████████▉                   | 27501/37402 [3:10:07<1:32:39,  1.78it/s]"
     ]
    },
    {
     "name": "stdout",
     "output_type": "stream",
     "text": [
      "Folder: snap/vqa_test \n",
      " Epoch 13 Iter: 27500/37402\n",
      "  Masked Tags : 1.135844\n",
      "  Text Only Masked LM : 1.534726\n",
      "  attr : 1.226293\n",
      "  feat : 0.08381071\n",
      "  obj : 3.299796\n",
      "\n"
     ]
    },
    {
     "name": "stderr",
     "output_type": "stream",
     "text": [
      " 75%|███████████████████████████████████████████████████████▍                  | 28001/37402 [3:13:27<50:59,  3.07it/s]"
     ]
    },
    {
     "name": "stdout",
     "output_type": "stream",
     "text": [
      "Folder: snap/vqa_test \n",
      " Epoch 13 Iter: 28000/37402\n",
      "  Masked Tags : 1.135335\n",
      "  Text Only Masked LM : 1.5196\n",
      "  attr : 1.227397\n",
      "  feat : 0.08208456\n",
      "  obj : 3.290954\n",
      "\n"
     ]
    },
    {
     "name": "stderr",
     "output_type": "stream",
     "text": [
      " 76%|████████████████████████████████████████████████████████▍                 | 28501/37402 [3:16:54<51:29,  2.88it/s]"
     ]
    },
    {
     "name": "stdout",
     "output_type": "stream",
     "text": [
      "Folder: snap/vqa_test \n",
      " Epoch 13 Iter: 28500/37402\n",
      "  Masked Tags : 1.166831\n",
      "  Text Only Masked LM : 1.550899\n",
      "  attr : 1.226234\n",
      "  feat : 0.08206917\n",
      "  obj : 3.250696\n",
      "\n"
     ]
    },
    {
     "name": "stderr",
     "output_type": "stream",
     "text": [
      " 78%|█████████████████████████████████████████████████████████▍                | 29001/37402 [3:20:26<58:27,  2.40it/s]"
     ]
    },
    {
     "name": "stdout",
     "output_type": "stream",
     "text": [
      "Folder: snap/vqa_test \n",
      " Epoch 13 Iter: 29000/37402\n",
      "  Masked Tags : 1.122556\n",
      "  Text Only Masked LM : 1.558519\n",
      "  attr : 1.232919\n",
      "  feat : 0.08065227\n",
      "  obj : 3.277366\n",
      "\n"
     ]
    },
    {
     "name": "stderr",
     "output_type": "stream",
     "text": [
      " 79%|██████████████████████████████████████████████████████████▎               | 29501/37402 [3:23:49<49:31,  2.66it/s]"
     ]
    },
    {
     "name": "stdout",
     "output_type": "stream",
     "text": [
      "Folder: snap/vqa_test \n",
      " Epoch 13 Iter: 29500/37402\n",
      "  Masked Tags : 1.146375\n",
      "  Text Only Masked LM : 1.50468\n",
      "  attr : 1.235756\n",
      "  feat : 0.08527367\n",
      "  obj : 3.273922\n",
      "\n"
     ]
    },
    {
     "name": "stderr",
     "output_type": "stream",
     "text": [
      " 80%|███████████████████████████████████████████████████████████▎              | 30002/37402 [3:27:21<44:07,  2.80it/s]"
     ]
    },
    {
     "name": "stdout",
     "output_type": "stream",
     "text": [
      "Folder: snap/vqa_test \n",
      " Epoch 13 Iter: 30000/37402\n",
      "  Masked Tags : 1.149192\n",
      "  Text Only Masked LM : 1.563185\n",
      "  attr : 1.228911\n",
      "  feat : 0.0815441\n",
      "  obj : 3.281652\n",
      "\n"
     ]
    },
    {
     "name": "stderr",
     "output_type": "stream",
     "text": [
      " 82%|████████████████████████████████████████████████████████████▎             | 30501/37402 [3:30:42<41:41,  2.76it/s]"
     ]
    },
    {
     "name": "stdout",
     "output_type": "stream",
     "text": [
      "Folder: snap/vqa_test \n",
      " Epoch 13 Iter: 30500/37402\n",
      "  Masked Tags : 1.133118\n",
      "  Text Only Masked LM : 1.54836\n",
      "  attr : 1.230481\n",
      "  feat : 0.0811307\n",
      "  obj : 3.268896\n",
      "\n"
     ]
    },
    {
     "name": "stderr",
     "output_type": "stream",
     "text": [
      " 83%|█████████████████████████████████████████████████████████████▎            | 31001/37402 [3:34:17<44:24,  2.40it/s]"
     ]
    },
    {
     "name": "stdout",
     "output_type": "stream",
     "text": [
      "Folder: snap/vqa_test \n",
      " Epoch 13 Iter: 31000/37402\n",
      "  Masked Tags : 1.167801\n",
      "  Text Only Masked LM : 1.619685\n",
      "  attr : 1.230178\n",
      "  feat : 0.08137475\n",
      "  obj : 3.289537\n",
      "\n"
     ]
    },
    {
     "name": "stderr",
     "output_type": "stream",
     "text": [
      " 84%|██████████████████████████████████████████████████████████████▎           | 31501/37402 [3:37:43<48:55,  2.01it/s]"
     ]
    },
    {
     "name": "stdout",
     "output_type": "stream",
     "text": [
      "Folder: snap/vqa_test \n",
      " Epoch 13 Iter: 31500/37402\n",
      "  Masked Tags : 1.133307\n",
      "  Text Only Masked LM : 1.572864\n",
      "  attr : 1.25729\n",
      "  feat : 0.08121266\n",
      "  obj : 3.266926\n",
      "\n"
     ]
    },
    {
     "name": "stderr",
     "output_type": "stream",
     "text": [
      " 86%|███████████████████████████████████████████████████████████████▎          | 32001/37402 [3:41:19<33:51,  2.66it/s]"
     ]
    },
    {
     "name": "stdout",
     "output_type": "stream",
     "text": [
      "Folder: snap/vqa_test \n",
      " Epoch 13 Iter: 32000/37402\n",
      "  Masked Tags : 1.133039\n",
      "  Text Only Masked LM : 1.60659\n",
      "  attr : 1.234949\n",
      "  feat : 0.08221322\n",
      "  obj : 3.249831\n",
      "\n"
     ]
    },
    {
     "name": "stderr",
     "output_type": "stream",
     "text": [
      " 87%|████████████████████████████████████████████████████████████████▎         | 32501/37402 [3:44:47<33:15,  2.46it/s]"
     ]
    },
    {
     "name": "stdout",
     "output_type": "stream",
     "text": [
      "Folder: snap/vqa_test \n",
      " Epoch 13 Iter: 32500/37402\n",
      "  Masked Tags : 1.151917\n",
      "  Text Only Masked LM : 1.550056\n",
      "  attr : 1.221058\n",
      "  feat : 0.0808944\n",
      "  obj : 3.277084\n",
      "\n"
     ]
    },
    {
     "name": "stderr",
     "output_type": "stream",
     "text": [
      " 88%|█████████████████████████████████████████████████████████████████▎        | 33001/37402 [3:48:15<28:30,  2.57it/s]"
     ]
    },
    {
     "name": "stdout",
     "output_type": "stream",
     "text": [
      "Folder: snap/vqa_test \n",
      " Epoch 13 Iter: 33000/37402\n",
      "  Masked Tags : 1.123219\n",
      "  Text Only Masked LM : 1.568863\n",
      "  attr : 1.234665\n",
      "  feat : 0.08299795\n",
      "  obj : 3.260208\n",
      "\n"
     ]
    },
    {
     "name": "stderr",
     "output_type": "stream",
     "text": [
      " 90%|██████████████████████████████████████████████████████████████████▎       | 33501/37402 [3:51:52<28:28,  2.28it/s]"
     ]
    },
    {
     "name": "stdout",
     "output_type": "stream",
     "text": [
      "Folder: snap/vqa_test \n",
      " Epoch 13 Iter: 33500/37402\n",
      "  Masked Tags : 1.103173\n",
      "  Text Only Masked LM : 1.563359\n",
      "  attr : 1.250096\n",
      "  feat : 0.08142788\n",
      "  obj : 3.312821\n",
      "\n"
     ]
    },
    {
     "name": "stderr",
     "output_type": "stream",
     "text": [
      " 91%|███████████████████████████████████████████████████████████████████▎      | 34001/37402 [3:55:26<35:11,  1.61it/s]"
     ]
    },
    {
     "name": "stdout",
     "output_type": "stream",
     "text": [
      "Folder: snap/vqa_test \n",
      " Epoch 13 Iter: 34000/37402\n",
      "  Masked Tags : 1.134375\n",
      "  Text Only Masked LM : 1.592877\n",
      "  attr : 1.220735\n",
      "  feat : 0.08487307\n",
      "  obj : 3.26593\n",
      "\n"
     ]
    },
    {
     "name": "stderr",
     "output_type": "stream",
     "text": [
      " 92%|████████████████████████████████████████████████████████████████████▎     | 34501/37402 [3:58:51<19:01,  2.54it/s]"
     ]
    },
    {
     "name": "stdout",
     "output_type": "stream",
     "text": [
      "Folder: snap/vqa_test \n",
      " Epoch 13 Iter: 34500/37402\n",
      "  Masked Tags : 1.132331\n",
      "  Text Only Masked LM : 1.520089\n",
      "  attr : 1.246595\n",
      "  feat : 0.08064616\n",
      "  obj : 3.303348\n",
      "\n"
     ]
    },
    {
     "name": "stderr",
     "output_type": "stream",
     "text": [
      " 94%|█████████████████████████████████████████████████████████████████████▏    | 35001/37402 [4:02:25<16:55,  2.37it/s]"
     ]
    },
    {
     "name": "stdout",
     "output_type": "stream",
     "text": [
      "Folder: snap/vqa_test \n",
      " Epoch 13 Iter: 35000/37402\n",
      "  Masked Tags : 1.131553\n",
      "  Text Only Masked LM : 1.540582\n",
      "  attr : 1.223655\n",
      "  feat : 0.08249887\n",
      "  obj : 3.293378\n",
      "\n"
     ]
    },
    {
     "name": "stderr",
     "output_type": "stream",
     "text": [
      " 95%|██████████████████████████████████████████████████████████████████████▏   | 35501/37402 [4:05:58<10:36,  2.99it/s]"
     ]
    },
    {
     "name": "stdout",
     "output_type": "stream",
     "text": [
      "Folder: snap/vqa_test \n",
      " Epoch 13 Iter: 35500/37402\n",
      "  Masked Tags : 1.154264\n",
      "  Text Only Masked LM : 1.560004\n",
      "  attr : 1.228213\n",
      "  feat : 0.08346612\n",
      "  obj : 3.279051\n",
      "\n"
     ]
    },
    {
     "name": "stderr",
     "output_type": "stream",
     "text": [
      " 96%|███████████████████████████████████████████████████████████████████████▏  | 36001/37402 [4:09:30<08:28,  2.75it/s]"
     ]
    },
    {
     "name": "stdout",
     "output_type": "stream",
     "text": [
      "Folder: snap/vqa_test \n",
      " Epoch 13 Iter: 36000/37402\n",
      "  Masked Tags : 1.126102\n",
      "  Text Only Masked LM : 1.569196\n",
      "  attr : 1.245417\n",
      "  feat : 0.08388414\n",
      "  obj : 3.256969\n",
      "\n"
     ]
    },
    {
     "name": "stderr",
     "output_type": "stream",
     "text": [
      " 98%|████████████████████████████████████████████████████████████████████████▏ | 36501/37402 [4:12:58<05:38,  2.66it/s]"
     ]
    },
    {
     "name": "stdout",
     "output_type": "stream",
     "text": [
      "Folder: snap/vqa_test \n",
      " Epoch 13 Iter: 36500/37402\n",
      "  Masked Tags : 1.128974\n",
      "  Text Only Masked LM : 1.564212\n",
      "  attr : 1.241402\n",
      "  feat : 0.08376112\n",
      "  obj : 3.257486\n",
      "\n"
     ]
    },
    {
     "name": "stderr",
     "output_type": "stream",
     "text": [
      " 99%|█████████████████████████████████████████████████████████████████████████▏| 37001/37402 [4:16:30<02:13,  2.99it/s]"
     ]
    },
    {
     "name": "stdout",
     "output_type": "stream",
     "text": [
      "Folder: snap/vqa_test \n",
      " Epoch 13 Iter: 37000/37402\n",
      "  Masked Tags : 1.136349\n",
      "  Text Only Masked LM : 1.52232\n",
      "  attr : 1.24583\n",
      "  feat : 0.08267098\n",
      "  obj : 3.290653\n",
      "\n"
     ]
    },
    {
     "name": "stderr",
     "output_type": "stream",
     "text": [
      "100%|██████████████████████████████████████████████████████████████████████████| 37402/37402 [4:19:17<00:00,  2.40it/s]\n"
     ]
    },
    {
     "name": "stdout",
     "output_type": "stream",
     "text": [
      "The training loss for Epoch 13 is 1.5267\n"
     ]
    },
    {
     "name": "stderr",
     "output_type": "stream",
     "text": [
      "100%|████████████████████████████████████████████████████████████████████████████████| 782/782 [08:13<00:00,  1.58it/s]\n"
     ]
    },
    {
     "name": "stdout",
     "output_type": "stream",
     "text": [
      "Evaluation:\n",
      "  Masked LM : 1.916334\n",
      "  Masked Tags : 1.28844\n",
      "  attr : 1.289802\n",
      "  feat : 0.08254828\n",
      "  obj : 3.231707\n",
      "\n",
      "\n",
      "\n",
      "\n",
      "\n",
      "\n",
      "\n",
      "\n",
      "\n"
     ]
    },
    {
     "name": "stderr",
     "output_type": "stream",
     "text": [
      "  1%|█                                                                           | 501/37402 [03:18<3:46:28,  2.72it/s]"
     ]
    },
    {
     "name": "stdout",
     "output_type": "stream",
     "text": [
      "Folder: snap/vqa_test \n",
      " Epoch 14 Iter: 500/37402\n",
      "  Masked Tags : 1.130632\n",
      "  Text Only Masked LM : 1.323118\n",
      "  attr : 1.241258\n",
      "  feat : 0.0814017\n",
      "  obj : 3.264873\n",
      "\n"
     ]
    },
    {
     "name": "stderr",
     "output_type": "stream",
     "text": [
      "  3%|██                                                                         | 1001/37402 [06:41<3:59:16,  2.54it/s]"
     ]
    },
    {
     "name": "stdout",
     "output_type": "stream",
     "text": [
      "Folder: snap/vqa_test \n",
      " Epoch 14 Iter: 1000/37402\n",
      "  Masked Tags : 1.1092\n",
      "  Text Only Masked LM : 1.526662\n",
      "  attr : 1.228327\n",
      "  feat : 0.08188722\n",
      "  obj : 3.292008\n",
      "\n"
     ]
    },
    {
     "name": "stderr",
     "output_type": "stream",
     "text": [
      "  4%|███                                                                        | 1501/37402 [10:03<3:27:17,  2.89it/s]"
     ]
    },
    {
     "name": "stdout",
     "output_type": "stream",
     "text": [
      "Folder: snap/vqa_test \n",
      " Epoch 14 Iter: 1500/37402\n",
      "  Masked Tags : 1.119599\n",
      "  Text Only Masked LM : 1.536246\n",
      "  attr : 1.244351\n",
      "  feat : 0.08159864\n",
      "  obj : 3.267385\n",
      "\n"
     ]
    },
    {
     "name": "stderr",
     "output_type": "stream",
     "text": [
      "  5%|████                                                                       | 2001/37402 [13:35<3:44:41,  2.63it/s]"
     ]
    },
    {
     "name": "stdout",
     "output_type": "stream",
     "text": [
      "Folder: snap/vqa_test \n",
      " Epoch 14 Iter: 2000/37402\n",
      "  Masked Tags : 1.101831\n",
      "  Text Only Masked LM : 1.539711\n",
      "  attr : 1.241977\n",
      "  feat : 0.08206175\n",
      "  obj : 3.278757\n",
      "\n"
     ]
    },
    {
     "name": "stderr",
     "output_type": "stream",
     "text": [
      "  7%|█████                                                                      | 2501/37402 [17:02<3:50:50,  2.52it/s]"
     ]
    },
    {
     "name": "stdout",
     "output_type": "stream",
     "text": [
      "Folder: snap/vqa_test \n",
      " Epoch 14 Iter: 2500/37402\n",
      "  Masked Tags : 1.12055\n",
      "  Text Only Masked LM : 1.541032\n",
      "  attr : 1.227739\n",
      "  feat : 0.08193452\n",
      "  obj : 3.2926\n",
      "\n"
     ]
    },
    {
     "name": "stderr",
     "output_type": "stream",
     "text": [
      "  8%|██████                                                                     | 3001/37402 [20:28<3:29:25,  2.74it/s]"
     ]
    },
    {
     "name": "stdout",
     "output_type": "stream",
     "text": [
      "Folder: snap/vqa_test \n",
      " Epoch 14 Iter: 3000/37402\n",
      "  Masked Tags : 1.126316\n",
      "  Text Only Masked LM : 1.523741\n",
      "  attr : 1.212836\n",
      "  feat : 0.0824093\n",
      "  obj : 3.292549\n",
      "\n"
     ]
    },
    {
     "name": "stderr",
     "output_type": "stream",
     "text": [
      "  9%|███████                                                                    | 3501/37402 [23:58<3:56:42,  2.39it/s]"
     ]
    },
    {
     "name": "stdout",
     "output_type": "stream",
     "text": [
      "Folder: snap/vqa_test \n",
      " Epoch 14 Iter: 3500/37402\n",
      "  Masked Tags : 1.116204\n",
      "  Text Only Masked LM : 1.552221\n",
      "  attr : 1.224905\n",
      "  feat : 0.08115678\n",
      "  obj : 3.253852\n",
      "\n"
     ]
    },
    {
     "name": "stderr",
     "output_type": "stream",
     "text": [
      " 11%|████████                                                                   | 4001/37402 [27:23<3:10:37,  2.92it/s]"
     ]
    },
    {
     "name": "stdout",
     "output_type": "stream",
     "text": [
      "Folder: snap/vqa_test \n",
      " Epoch 14 Iter: 4000/37402\n",
      "  Masked Tags : 1.123693\n",
      "  Text Only Masked LM : 1.51319\n",
      "  attr : 1.232474\n",
      "  feat : 0.08181309\n",
      "  obj : 3.290291\n",
      "\n"
     ]
    },
    {
     "name": "stderr",
     "output_type": "stream",
     "text": [
      " 12%|█████████                                                                  | 4501/37402 [30:53<4:12:12,  2.17it/s]"
     ]
    },
    {
     "name": "stdout",
     "output_type": "stream",
     "text": [
      "Folder: snap/vqa_test \n",
      " Epoch 14 Iter: 4500/37402\n",
      "  Masked Tags : 1.129275\n",
      "  Text Only Masked LM : 1.547782\n",
      "  attr : 1.243452\n",
      "  feat : 0.08079686\n",
      "  obj : 3.286476\n",
      "\n"
     ]
    },
    {
     "name": "stderr",
     "output_type": "stream",
     "text": [
      " 13%|██████████                                                                 | 5001/37402 [34:19<4:43:30,  1.90it/s]"
     ]
    },
    {
     "name": "stdout",
     "output_type": "stream",
     "text": [
      "Folder: snap/vqa_test \n",
      " Epoch 14 Iter: 5000/37402\n",
      "  Masked Tags : 1.147501\n",
      "  Text Only Masked LM : 1.55442\n",
      "  attr : 1.254763\n",
      "  feat : 0.08314921\n",
      "  obj : 3.292736\n",
      "\n"
     ]
    },
    {
     "name": "stderr",
     "output_type": "stream",
     "text": [
      " 15%|███████████                                                                | 5501/37402 [37:54<3:35:55,  2.46it/s]"
     ]
    },
    {
     "name": "stdout",
     "output_type": "stream",
     "text": [
      "Folder: snap/vqa_test \n",
      " Epoch 14 Iter: 5500/37402\n",
      "  Masked Tags : 1.125788\n",
      "  Text Only Masked LM : 1.571057\n",
      "  attr : 1.248642\n",
      "  feat : 0.08461683\n",
      "  obj : 3.256566\n",
      "\n"
     ]
    },
    {
     "name": "stderr",
     "output_type": "stream",
     "text": [
      " 16%|████████████                                                               | 6001/37402 [41:29<2:57:14,  2.95it/s]"
     ]
    },
    {
     "name": "stdout",
     "output_type": "stream",
     "text": [
      "Folder: snap/vqa_test \n",
      " Epoch 14 Iter: 6000/37402\n",
      "  Masked Tags : 1.119356\n",
      "  Text Only Masked LM : 1.539474\n",
      "  attr : 1.251243\n",
      "  feat : 0.08281196\n",
      "  obj : 3.288871\n",
      "\n"
     ]
    },
    {
     "name": "stderr",
     "output_type": "stream",
     "text": [
      " 17%|█████████████                                                              | 6501/37402 [44:58<3:22:49,  2.54it/s]"
     ]
    },
    {
     "name": "stdout",
     "output_type": "stream",
     "text": [
      "Folder: snap/vqa_test \n",
      " Epoch 14 Iter: 6500/37402\n",
      "  Masked Tags : 1.121133\n",
      "  Text Only Masked LM : 1.528184\n",
      "  attr : 1.23067\n",
      "  feat : 0.08130339\n",
      "  obj : 3.277091\n",
      "\n"
     ]
    },
    {
     "name": "stderr",
     "output_type": "stream",
     "text": [
      " 19%|██████████████                                                             | 7001/37402 [48:25<3:08:09,  2.69it/s]"
     ]
    },
    {
     "name": "stdout",
     "output_type": "stream",
     "text": [
      "Folder: snap/vqa_test \n",
      " Epoch 14 Iter: 7000/37402\n",
      "  Masked Tags : 1.113839\n",
      "  Text Only Masked LM : 1.521997\n",
      "  attr : 1.228972\n",
      "  feat : 0.08014439\n",
      "  obj : 3.276212\n",
      "\n"
     ]
    },
    {
     "name": "stderr",
     "output_type": "stream",
     "text": [
      " 20%|███████████████                                                            | 7501/37402 [51:50<3:30:29,  2.37it/s]"
     ]
    },
    {
     "name": "stdout",
     "output_type": "stream",
     "text": [
      "Folder: snap/vqa_test \n",
      " Epoch 14 Iter: 7500/37402\n",
      "  Masked Tags : 1.133316\n",
      "  Text Only Masked LM : 1.543397\n",
      "  attr : 1.245753\n",
      "  feat : 0.08465991\n",
      "  obj : 3.283184\n",
      "\n"
     ]
    },
    {
     "name": "stderr",
     "output_type": "stream",
     "text": [
      " 21%|████████████████                                                           | 8001/37402 [55:11<4:53:30,  1.67it/s]"
     ]
    },
    {
     "name": "stdout",
     "output_type": "stream",
     "text": [
      "Folder: snap/vqa_test \n",
      " Epoch 14 Iter: 8000/37402\n",
      "  Masked Tags : 1.123977\n",
      "  Text Only Masked LM : 1.538626\n",
      "  attr : 1.255464\n",
      "  feat : 0.08350546\n",
      "  obj : 3.280858\n",
      "\n"
     ]
    },
    {
     "name": "stderr",
     "output_type": "stream",
     "text": [
      " 23%|█████████████████                                                          | 8501/37402 [58:40<4:12:09,  1.91it/s]"
     ]
    },
    {
     "name": "stdout",
     "output_type": "stream",
     "text": [
      "Folder: snap/vqa_test \n",
      " Epoch 14 Iter: 8500/37402\n",
      "  Masked Tags : 1.145947\n",
      "  Text Only Masked LM : 1.537485\n",
      "  attr : 1.240342\n",
      "  feat : 0.08245704\n",
      "  obj : 3.235889\n",
      "\n"
     ]
    },
    {
     "name": "stderr",
     "output_type": "stream",
     "text": [
      " 24%|█████████████████▌                                                       | 9001/37402 [1:02:06<2:59:08,  2.64it/s]"
     ]
    },
    {
     "name": "stdout",
     "output_type": "stream",
     "text": [
      "Folder: snap/vqa_test \n",
      " Epoch 14 Iter: 9000/37402\n",
      "  Masked Tags : 1.093034\n",
      "  Text Only Masked LM : 1.545804\n",
      "  attr : 1.214427\n",
      "  feat : 0.08145318\n",
      "  obj : 3.270236\n",
      "\n"
     ]
    },
    {
     "name": "stderr",
     "output_type": "stream",
     "text": [
      " 25%|██████████████████▌                                                      | 9502/37402 [1:05:25<3:07:40,  2.48it/s]"
     ]
    },
    {
     "name": "stdout",
     "output_type": "stream",
     "text": [
      "Folder: snap/vqa_test \n",
      " Epoch 14 Iter: 9500/37402\n",
      "  Masked Tags : 1.130527\n",
      "  Text Only Masked LM : 1.539703\n",
      "  attr : 1.240634\n",
      "  feat : 0.08196664\n",
      "  obj : 3.286836\n",
      "\n"
     ]
    },
    {
     "name": "stderr",
     "output_type": "stream",
     "text": [
      " 27%|███████████████████▎                                                    | 10001/37402 [1:08:57<2:21:14,  3.23it/s]"
     ]
    },
    {
     "name": "stdout",
     "output_type": "stream",
     "text": [
      "Folder: snap/vqa_test \n",
      " Epoch 14 Iter: 10000/37402\n",
      "  Masked Tags : 1.11462\n",
      "  Text Only Masked LM : 1.529027\n",
      "  attr : 1.216488\n",
      "  feat : 0.08308047\n",
      "  obj : 3.268212\n",
      "\n"
     ]
    },
    {
     "name": "stderr",
     "output_type": "stream",
     "text": [
      " 28%|████████████████████▏                                                   | 10501/37402 [1:12:20<3:55:45,  1.90it/s]"
     ]
    },
    {
     "name": "stdout",
     "output_type": "stream",
     "text": [
      "Folder: snap/vqa_test \n",
      " Epoch 14 Iter: 10500/37402\n",
      "  Masked Tags : 1.093628\n",
      "  Text Only Masked LM : 1.504708\n",
      "  attr : 1.235237\n",
      "  feat : 0.0823702\n",
      "  obj : 3.295631\n",
      "\n"
     ]
    },
    {
     "name": "stderr",
     "output_type": "stream",
     "text": [
      " 29%|█████████████████████▏                                                  | 11001/37402 [1:15:49<3:10:07,  2.31it/s]"
     ]
    },
    {
     "name": "stdout",
     "output_type": "stream",
     "text": [
      "Folder: snap/vqa_test \n",
      " Epoch 14 Iter: 11000/37402\n",
      "  Masked Tags : 1.105394\n",
      "  Text Only Masked LM : 1.546732\n",
      "  attr : 1.239048\n",
      "  feat : 0.08241487\n",
      "  obj : 3.275266\n",
      "\n"
     ]
    },
    {
     "name": "stderr",
     "output_type": "stream",
     "text": [
      " 31%|██████████████████████▏                                                 | 11501/37402 [1:19:19<2:25:19,  2.97it/s]"
     ]
    },
    {
     "name": "stdout",
     "output_type": "stream",
     "text": [
      "Folder: snap/vqa_test \n",
      " Epoch 14 Iter: 11500/37402\n",
      "  Masked Tags : 1.114071\n",
      "  Text Only Masked LM : 1.536234\n",
      "  attr : 1.240598\n",
      "  feat : 0.08332882\n",
      "  obj : 3.264498\n",
      "\n"
     ]
    },
    {
     "name": "stderr",
     "output_type": "stream",
     "text": [
      " 32%|███████████████████████                                                 | 12001/37402 [1:22:53<3:00:02,  2.35it/s]"
     ]
    },
    {
     "name": "stdout",
     "output_type": "stream",
     "text": [
      "Folder: snap/vqa_test \n",
      " Epoch 14 Iter: 12000/37402\n",
      "  Masked Tags : 1.141981\n",
      "  Text Only Masked LM : 1.495958\n",
      "  attr : 1.237289\n",
      "  feat : 0.08319251\n",
      "  obj : 3.256752\n",
      "\n"
     ]
    },
    {
     "name": "stderr",
     "output_type": "stream",
     "text": [
      " 33%|████████████████████████                                                | 12501/37402 [1:26:19<2:45:25,  2.51it/s]"
     ]
    },
    {
     "name": "stdout",
     "output_type": "stream",
     "text": [
      "Folder: snap/vqa_test \n",
      " Epoch 14 Iter: 12500/37402\n",
      "  Masked Tags : 1.148146\n",
      "  Text Only Masked LM : 1.503404\n",
      "  attr : 1.242381\n",
      "  feat : 0.08268187\n",
      "  obj : 3.251875\n",
      "\n"
     ]
    },
    {
     "name": "stderr",
     "output_type": "stream",
     "text": [
      " 35%|█████████████████████████                                               | 13001/37402 [1:29:51<2:22:18,  2.86it/s]"
     ]
    },
    {
     "name": "stdout",
     "output_type": "stream",
     "text": [
      "Folder: snap/vqa_test \n",
      " Epoch 14 Iter: 13000/37402\n",
      "  Masked Tags : 1.117536\n",
      "  Text Only Masked LM : 1.564287\n",
      "  attr : 1.225316\n",
      "  feat : 0.08279315\n",
      "  obj : 3.274026\n",
      "\n"
     ]
    },
    {
     "name": "stderr",
     "output_type": "stream",
     "text": [
      " 36%|█████████████████████████▉                                              | 13501/37402 [1:33:15<2:44:19,  2.42it/s]"
     ]
    },
    {
     "name": "stdout",
     "output_type": "stream",
     "text": [
      "Folder: snap/vqa_test \n",
      " Epoch 14 Iter: 13500/37402\n",
      "  Masked Tags : 1.096651\n",
      "  Text Only Masked LM : 1.517042\n",
      "  attr : 1.235289\n",
      "  feat : 0.08153343\n",
      "  obj : 3.248245\n",
      "\n"
     ]
    },
    {
     "name": "stderr",
     "output_type": "stream",
     "text": [
      " 37%|██████████████████████████▉                                             | 14001/37402 [1:36:48<2:54:03,  2.24it/s]"
     ]
    },
    {
     "name": "stdout",
     "output_type": "stream",
     "text": [
      "Folder: snap/vqa_test \n",
      " Epoch 14 Iter: 14000/37402\n",
      "  Masked Tags : 1.116995\n",
      "  Text Only Masked LM : 1.5196\n",
      "  attr : 1.23629\n",
      "  feat : 0.08230977\n",
      "  obj : 3.276211\n",
      "\n"
     ]
    },
    {
     "name": "stderr",
     "output_type": "stream",
     "text": [
      " 39%|███████████████████████████▉                                            | 14502/37402 [1:40:25<2:11:15,  2.91it/s]"
     ]
    },
    {
     "name": "stdout",
     "output_type": "stream",
     "text": [
      "Folder: snap/vqa_test \n",
      " Epoch 14 Iter: 14500/37402\n",
      "  Masked Tags : 1.143837\n",
      "  Text Only Masked LM : 1.557506\n",
      "  attr : 1.230115\n",
      "  feat : 0.08334688\n",
      "  obj : 3.302595\n",
      "\n"
     ]
    },
    {
     "name": "stderr",
     "output_type": "stream",
     "text": [
      " 40%|████████████████████████████▉                                           | 15001/37402 [1:43:55<3:30:56,  1.77it/s]"
     ]
    },
    {
     "name": "stdout",
     "output_type": "stream",
     "text": [
      "Folder: snap/vqa_test \n",
      " Epoch 14 Iter: 15000/37402\n",
      "  Masked Tags : 1.122482\n",
      "  Text Only Masked LM : 1.49027\n",
      "  attr : 1.216755\n",
      "  feat : 0.08187591\n",
      "  obj : 3.278431\n",
      "\n"
     ]
    },
    {
     "name": "stderr",
     "output_type": "stream",
     "text": [
      " 41%|█████████████████████████████▊                                          | 15501/37402 [1:47:31<2:33:59,  2.37it/s]"
     ]
    },
    {
     "name": "stdout",
     "output_type": "stream",
     "text": [
      "Folder: snap/vqa_test \n",
      " Epoch 14 Iter: 15500/37402\n",
      "  Masked Tags : 1.143647\n",
      "  Text Only Masked LM : 1.486972\n",
      "  attr : 1.238849\n",
      "  feat : 0.08280641\n",
      "  obj : 3.266784\n",
      "\n"
     ]
    },
    {
     "name": "stderr",
     "output_type": "stream",
     "text": [
      " 43%|██████████████████████████████▊                                         | 16001/37402 [1:50:58<2:09:42,  2.75it/s]"
     ]
    },
    {
     "name": "stdout",
     "output_type": "stream",
     "text": [
      "Folder: snap/vqa_test \n",
      " Epoch 14 Iter: 16000/37402\n",
      "  Masked Tags : 1.129759\n",
      "  Text Only Masked LM : 1.531691\n",
      "  attr : 1.250402\n",
      "  feat : 0.08153236\n",
      "  obj : 3.266232\n",
      "\n"
     ]
    },
    {
     "name": "stderr",
     "output_type": "stream",
     "text": [
      " 44%|███████████████████████████████▊                                        | 16501/37402 [1:54:27<2:29:05,  2.34it/s]"
     ]
    },
    {
     "name": "stdout",
     "output_type": "stream",
     "text": [
      "Folder: snap/vqa_test \n",
      " Epoch 14 Iter: 16500/37402\n",
      "  Masked Tags : 1.129931\n",
      "  Text Only Masked LM : 1.486818\n",
      "  attr : 1.243741\n",
      "  feat : 0.0820263\n",
      "  obj : 3.285343\n",
      "\n"
     ]
    },
    {
     "name": "stderr",
     "output_type": "stream",
     "text": [
      " 45%|████████████████████████████████▋                                       | 17001/37402 [1:57:59<2:53:34,  1.96it/s]"
     ]
    },
    {
     "name": "stdout",
     "output_type": "stream",
     "text": [
      "Folder: snap/vqa_test \n",
      " Epoch 14 Iter: 17000/37402\n",
      "  Masked Tags : 1.116651\n",
      "  Text Only Masked LM : 1.495631\n",
      "  attr : 1.252563\n",
      "  feat : 0.08168225\n",
      "  obj : 3.280567\n",
      "\n"
     ]
    },
    {
     "name": "stderr",
     "output_type": "stream",
     "text": [
      " 47%|█████████████████████████████████▋                                      | 17501/37402 [2:01:31<1:51:23,  2.98it/s]"
     ]
    },
    {
     "name": "stdout",
     "output_type": "stream",
     "text": [
      "Folder: snap/vqa_test \n",
      " Epoch 14 Iter: 17500/37402\n",
      "  Masked Tags : 1.134526\n",
      "  Text Only Masked LM : 1.526639\n",
      "  attr : 1.234403\n",
      "  feat : 0.08326313\n",
      "  obj : 3.269404\n",
      "\n"
     ]
    },
    {
     "name": "stderr",
     "output_type": "stream",
     "text": [
      " 48%|██████████████████████████████████▋                                     | 18001/37402 [2:05:07<2:24:45,  2.23it/s]"
     ]
    },
    {
     "name": "stdout",
     "output_type": "stream",
     "text": [
      "Folder: snap/vqa_test \n",
      " Epoch 14 Iter: 18000/37402\n",
      "  Masked Tags : 1.122192\n",
      "  Text Only Masked LM : 1.532752\n",
      "  attr : 1.227682\n",
      "  feat : 0.08274898\n",
      "  obj : 3.272953\n",
      "\n"
     ]
    },
    {
     "name": "stderr",
     "output_type": "stream",
     "text": [
      " 49%|███████████████████████████████████▌                                    | 18501/37402 [2:08:44<2:35:34,  2.02it/s]"
     ]
    },
    {
     "name": "stdout",
     "output_type": "stream",
     "text": [
      "Folder: snap/vqa_test \n",
      " Epoch 14 Iter: 18500/37402\n",
      "  Masked Tags : 1.132517\n",
      "  Text Only Masked LM : 1.531123\n",
      "  attr : 1.238122\n",
      "  feat : 0.08289863\n",
      "  obj : 3.269968\n",
      "\n"
     ]
    },
    {
     "name": "stderr",
     "output_type": "stream",
     "text": [
      " 51%|████████████████████████████████████▌                                   | 19001/37402 [2:12:12<2:29:11,  2.06it/s]"
     ]
    },
    {
     "name": "stdout",
     "output_type": "stream",
     "text": [
      "Folder: snap/vqa_test \n",
      " Epoch 14 Iter: 19000/37402\n",
      "  Masked Tags : 1.119034\n",
      "  Text Only Masked LM : 1.459933\n",
      "  attr : 1.245799\n",
      "  feat : 0.08260806\n",
      "  obj : 3.287334\n",
      "\n"
     ]
    },
    {
     "name": "stderr",
     "output_type": "stream",
     "text": [
      " 52%|█████████████████████████████████████▌                                  | 19501/37402 [2:15:44<2:21:16,  2.11it/s]"
     ]
    },
    {
     "name": "stdout",
     "output_type": "stream",
     "text": [
      "Folder: snap/vqa_test \n",
      " Epoch 14 Iter: 19500/37402\n",
      "  Masked Tags : 1.117588\n",
      "  Text Only Masked LM : 1.540579\n",
      "  attr : 1.246775\n",
      "  feat : 0.08142824\n",
      "  obj : 3.31059\n",
      "\n"
     ]
    },
    {
     "name": "stderr",
     "output_type": "stream",
     "text": [
      " 53%|██████████████████████████████████████▌                                 | 20001/37402 [2:19:15<2:02:38,  2.36it/s]"
     ]
    },
    {
     "name": "stdout",
     "output_type": "stream",
     "text": [
      "Folder: snap/vqa_test \n",
      " Epoch 14 Iter: 20000/37402\n",
      "  Masked Tags : 1.131886\n",
      "  Text Only Masked LM : 1.507127\n",
      "  attr : 1.214394\n",
      "  feat : 0.08383885\n",
      "  obj : 3.257682\n",
      "\n"
     ]
    },
    {
     "name": "stderr",
     "output_type": "stream",
     "text": [
      " 55%|███████████████████████████████████████▍                                | 20501/37402 [2:22:53<1:41:42,  2.77it/s]"
     ]
    },
    {
     "name": "stdout",
     "output_type": "stream",
     "text": [
      "Folder: snap/vqa_test \n",
      " Epoch 14 Iter: 20500/37402\n",
      "  Masked Tags : 1.119519\n",
      "  Text Only Masked LM : 1.487285\n",
      "  attr : 1.241462\n",
      "  feat : 0.08234205\n",
      "  obj : 3.262482\n",
      "\n"
     ]
    },
    {
     "name": "stderr",
     "output_type": "stream",
     "text": [
      " 56%|████████████████████████████████████████▍                               | 21001/37402 [2:26:26<2:29:23,  1.83it/s]"
     ]
    },
    {
     "name": "stdout",
     "output_type": "stream",
     "text": [
      "Folder: snap/vqa_test \n",
      " Epoch 14 Iter: 21000/37402\n",
      "  Masked Tags : 1.12086\n",
      "  Text Only Masked LM : 1.498455\n",
      "  attr : 1.251293\n",
      "  feat : 0.08069701\n",
      "  obj : 3.286583\n",
      "\n"
     ]
    },
    {
     "name": "stderr",
     "output_type": "stream",
     "text": [
      " 57%|█████████████████████████████████████████▍                              | 21501/37402 [2:30:04<1:34:00,  2.82it/s]"
     ]
    },
    {
     "name": "stdout",
     "output_type": "stream",
     "text": [
      "Folder: snap/vqa_test \n",
      " Epoch 14 Iter: 21500/37402\n",
      "  Masked Tags : 1.123782\n",
      "  Text Only Masked LM : 1.537455\n",
      "  attr : 1.242205\n",
      "  feat : 0.08158053\n",
      "  obj : 3.273928\n",
      "\n"
     ]
    },
    {
     "name": "stderr",
     "output_type": "stream",
     "text": [
      " 59%|██████████████████████████████████████████▎                             | 22001/37402 [2:33:33<1:27:08,  2.95it/s]"
     ]
    },
    {
     "name": "stdout",
     "output_type": "stream",
     "text": [
      "Folder: snap/vqa_test \n",
      " Epoch 14 Iter: 22000/37402\n",
      "  Masked Tags : 1.107371\n",
      "  Text Only Masked LM : 1.481159\n",
      "  attr : 1.243983\n",
      "  feat : 0.0817935\n",
      "  obj : 3.248576\n",
      "\n"
     ]
    },
    {
     "name": "stderr",
     "output_type": "stream",
     "text": [
      " 60%|███████████████████████████████████████████▎                            | 22501/37402 [2:37:12<1:29:18,  2.78it/s]"
     ]
    },
    {
     "name": "stdout",
     "output_type": "stream",
     "text": [
      "Folder: snap/vqa_test \n",
      " Epoch 14 Iter: 22500/37402\n",
      "  Masked Tags : 1.109773\n",
      "  Text Only Masked LM : 1.526314\n",
      "  attr : 1.219115\n",
      "  feat : 0.08398791\n",
      "  obj : 3.228695\n",
      "\n"
     ]
    },
    {
     "name": "stderr",
     "output_type": "stream",
     "text": [
      " 61%|████████████████████████████████████████████▎                           | 23001/37402 [2:40:46<1:42:33,  2.34it/s]"
     ]
    },
    {
     "name": "stdout",
     "output_type": "stream",
     "text": [
      "Folder: snap/vqa_test \n",
      " Epoch 14 Iter: 23000/37402\n",
      "  Masked Tags : 1.108407\n",
      "  Text Only Masked LM : 1.517248\n",
      "  attr : 1.231106\n",
      "  feat : 0.08283683\n",
      "  obj : 3.299629\n",
      "\n"
     ]
    },
    {
     "name": "stderr",
     "output_type": "stream",
     "text": [
      " 63%|█████████████████████████████████████████████▏                          | 23501/37402 [2:44:21<1:09:02,  3.36it/s]"
     ]
    },
    {
     "name": "stdout",
     "output_type": "stream",
     "text": [
      "Folder: snap/vqa_test \n",
      " Epoch 14 Iter: 23500/37402\n",
      "  Masked Tags : 1.079385\n",
      "  Text Only Masked LM : 1.518648\n",
      "  attr : 1.24466\n",
      "  feat : 0.08250977\n",
      "  obj : 3.276039\n",
      "\n"
     ]
    },
    {
     "name": "stderr",
     "output_type": "stream",
     "text": [
      " 64%|██████████████████████████████████████████████▏                         | 24001/37402 [2:48:00<1:19:10,  2.82it/s]"
     ]
    },
    {
     "name": "stdout",
     "output_type": "stream",
     "text": [
      "Folder: snap/vqa_test \n",
      " Epoch 14 Iter: 24000/37402\n",
      "  Masked Tags : 1.10995\n",
      "  Text Only Masked LM : 1.548752\n",
      "  attr : 1.235471\n",
      "  feat : 0.08317081\n",
      "  obj : 3.26836\n",
      "\n"
     ]
    },
    {
     "name": "stderr",
     "output_type": "stream",
     "text": [
      " 66%|███████████████████████████████████████████████▏                        | 24501/37402 [2:51:29<1:47:42,  2.00it/s]"
     ]
    },
    {
     "name": "stdout",
     "output_type": "stream",
     "text": [
      "Folder: snap/vqa_test \n",
      " Epoch 14 Iter: 24500/37402\n",
      "  Masked Tags : 1.093368\n",
      "  Text Only Masked LM : 1.498319\n",
      "  attr : 1.227281\n",
      "  feat : 0.08404203\n",
      "  obj : 3.268632\n",
      "\n"
     ]
    },
    {
     "name": "stderr",
     "output_type": "stream",
     "text": [
      " 67%|████████████████████████████████████████████████▏                       | 25001/37402 [2:54:55<1:50:08,  1.88it/s]"
     ]
    },
    {
     "name": "stdout",
     "output_type": "stream",
     "text": [
      "Folder: snap/vqa_test \n",
      " Epoch 14 Iter: 25000/37402\n",
      "  Masked Tags : 1.104154\n",
      "  Text Only Masked LM : 1.539887\n",
      "  attr : 1.209472\n",
      "  feat : 0.08278892\n",
      "  obj : 3.313618\n",
      "\n"
     ]
    },
    {
     "name": "stderr",
     "output_type": "stream",
     "text": [
      " 68%|█████████████████████████████████████████████████                       | 25501/37402 [2:58:23<1:28:52,  2.23it/s]"
     ]
    },
    {
     "name": "stdout",
     "output_type": "stream",
     "text": [
      "Folder: snap/vqa_test \n",
      " Epoch 14 Iter: 25500/37402\n",
      "  Masked Tags : 1.09981\n",
      "  Text Only Masked LM : 1.567143\n",
      "  attr : 1.211578\n",
      "  feat : 0.08234248\n",
      "  obj : 3.29226\n",
      "\n"
     ]
    },
    {
     "name": "stderr",
     "output_type": "stream",
     "text": [
      " 70%|██████████████████████████████████████████████████                      | 26001/37402 [3:01:57<1:26:33,  2.20it/s]"
     ]
    },
    {
     "name": "stdout",
     "output_type": "stream",
     "text": [
      "Folder: snap/vqa_test \n",
      " Epoch 14 Iter: 26000/37402\n",
      "  Masked Tags : 1.110491\n",
      "  Text Only Masked LM : 1.525844\n",
      "  attr : 1.244464\n",
      "  feat : 0.08203553\n",
      "  obj : 3.263065\n",
      "\n"
     ]
    },
    {
     "name": "stderr",
     "output_type": "stream",
     "text": [
      " 71%|███████████████████████████████████████████████████                     | 26501/37402 [3:05:38<1:16:34,  2.37it/s]"
     ]
    },
    {
     "name": "stdout",
     "output_type": "stream",
     "text": [
      "Folder: snap/vqa_test \n",
      " Epoch 14 Iter: 26500/37402\n",
      "  Masked Tags : 1.118541\n",
      "  Text Only Masked LM : 1.515524\n",
      "  attr : 1.228348\n",
      "  feat : 0.08290735\n",
      "  obj : 3.269391\n",
      "\n"
     ]
    },
    {
     "name": "stderr",
     "output_type": "stream",
     "text": [
      " 72%|█████████████████████████████████████████████████████▍                    | 27001/37402 [3:09:04<51:20,  3.38it/s]"
     ]
    },
    {
     "name": "stdout",
     "output_type": "stream",
     "text": [
      "Folder: snap/vqa_test \n",
      " Epoch 14 Iter: 27000/37402\n",
      "  Masked Tags : 1.118717\n",
      "  Text Only Masked LM : 1.516861\n",
      "  attr : 1.226564\n",
      "  feat : 0.08392192\n",
      "  obj : 3.289708\n",
      "\n"
     ]
    },
    {
     "name": "stderr",
     "output_type": "stream",
     "text": [
      " 74%|████████████████████████████████████████████████████▉                   | 27501/37402 [3:12:34<1:03:11,  2.61it/s]"
     ]
    },
    {
     "name": "stdout",
     "output_type": "stream",
     "text": [
      "Folder: snap/vqa_test \n",
      " Epoch 14 Iter: 27500/37402\n",
      "  Masked Tags : 1.122725\n",
      "  Text Only Masked LM : 1.498966\n",
      "  attr : 1.219491\n",
      "  feat : 0.08141778\n",
      "  obj : 3.2926\n",
      "\n"
     ]
    },
    {
     "name": "stderr",
     "output_type": "stream",
     "text": [
      " 75%|███████████████████████████████████████████████████████▍                  | 28002/37402 [3:16:14<54:19,  2.88it/s]"
     ]
    },
    {
     "name": "stdout",
     "output_type": "stream",
     "text": [
      "Folder: snap/vqa_test \n",
      " Epoch 14 Iter: 28000/37402\n",
      "  Masked Tags : 1.108473\n",
      "  Text Only Masked LM : 1.544993\n",
      "  attr : 1.238568\n",
      "  feat : 0.08170065\n",
      "  obj : 3.316579\n",
      "\n"
     ]
    },
    {
     "name": "stderr",
     "output_type": "stream",
     "text": [
      " 76%|██████████████████████████████████████████████████████▊                 | 28501/37402 [3:19:49<1:02:09,  2.39it/s]"
     ]
    },
    {
     "name": "stdout",
     "output_type": "stream",
     "text": [
      "Folder: snap/vqa_test \n",
      " Epoch 14 Iter: 28500/37402\n",
      "  Masked Tags : 1.121132\n",
      "  Text Only Masked LM : 1.542197\n",
      "  attr : 1.224803\n",
      "  feat : 0.08138483\n",
      "  obj : 3.301088\n",
      "\n"
     ]
    },
    {
     "name": "stderr",
     "output_type": "stream",
     "text": [
      " 78%|█████████████████████████████████████████████████████████▍                | 29001/37402 [3:23:26<55:09,  2.54it/s]"
     ]
    },
    {
     "name": "stdout",
     "output_type": "stream",
     "text": [
      "Folder: snap/vqa_test \n",
      " Epoch 14 Iter: 29000/37402\n",
      "  Masked Tags : 1.089588\n",
      "  Text Only Masked LM : 1.546749\n",
      "  attr : 1.242342\n",
      "  feat : 0.08293007\n",
      "  obj : 3.292058\n",
      "\n"
     ]
    },
    {
     "name": "stderr",
     "output_type": "stream",
     "text": [
      " 79%|████████████████████████████████████████████████████████▊               | 29501/37402 [3:27:02<1:04:19,  2.05it/s]"
     ]
    },
    {
     "name": "stdout",
     "output_type": "stream",
     "text": [
      "Folder: snap/vqa_test \n",
      " Epoch 14 Iter: 29500/37402\n",
      "  Masked Tags : 1.127978\n",
      "  Text Only Masked LM : 1.493669\n",
      "  attr : 1.238334\n",
      "  feat : 0.08350335\n",
      "  obj : 3.278204\n",
      "\n"
     ]
    },
    {
     "name": "stderr",
     "output_type": "stream",
     "text": [
      " 80%|███████████████████████████████████████████████████████████▎              | 30001/37402 [3:30:59<57:12,  2.16it/s]"
     ]
    },
    {
     "name": "stdout",
     "output_type": "stream",
     "text": [
      "Folder: snap/vqa_test \n",
      " Epoch 14 Iter: 30000/37402\n",
      "  Masked Tags : 1.086334\n",
      "  Text Only Masked LM : 1.517956\n",
      "  attr : 1.217572\n",
      "  feat : 0.08222076\n",
      "  obj : 3.296804\n",
      "\n"
     ]
    },
    {
     "name": "stderr",
     "output_type": "stream",
     "text": [
      " 81%|████████████████████████████████████████████████████████████▎             | 30463/37402 [3:34:23<34:34,  3.35it/s]"
     ]
    }
   ],
   "source": [
    "lxmert.train(train_tuple, valid_tuple)"
   ]
  },
  {
   "cell_type": "code",
   "execution_count": null,
   "id": "41e33c37",
   "metadata": {},
   "outputs": [],
   "source": []
  }
 ],
 "metadata": {
  "kernelspec": {
   "display_name": "Python 3",
   "language": "python",
   "name": "python3"
  },
  "language_info": {
   "codemirror_mode": {
    "name": "ipython",
    "version": 3
   },
   "file_extension": ".py",
   "mimetype": "text/x-python",
   "name": "python",
   "nbconvert_exporter": "python",
   "pygments_lexer": "ipython3",
   "version": "3.7.11"
  }
 },
 "nbformat": 4,
 "nbformat_minor": 5
}
