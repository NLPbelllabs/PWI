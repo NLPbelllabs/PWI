{
 "cells": [
  {
   "cell_type": "code",
   "execution_count": 3,
   "id": "429489c9",
   "metadata": {},
   "outputs": [
    {
     "name": "stdout",
     "output_type": "stream",
     "text": [
      "Populating the interactive namespace from numpy and matplotlib\n"
     ]
    }
   ],
   "source": [
    "%pylab inline"
   ]
  },
  {
   "cell_type": "code",
   "execution_count": 5,
   "id": "4f72c3b4",
   "metadata": {},
   "outputs": [],
   "source": [
    "import os\n",
    "import collections\n",
    "\n",
    "import torch\n",
    "import torch.nn as nn\n",
    "from torch.utils.data.dataloader import DataLoader\n",
    "from tqdm import tqdm\n",
    "import h5py\n",
    "import pandas as pd\n",
    "import json\n",
    "import tabulate\n",
    "\n",
    "from numpy import dot\n",
    "from numpy.linalg import norm\n",
    "\n",
    "def cos_sim(a,b):\n",
    "    return dot(a, b)/(norm(a)*norm(b))\n"
   ]
  },
  {
   "cell_type": "code",
   "execution_count": 7,
   "id": "db44c0b7",
   "metadata": {},
   "outputs": [
    {
     "name": "stderr",
     "output_type": "stream",
     "text": [
      "INFO:lxrt.tokenization:loading vocabulary file C:/Users/lab/work/Anna/nlp-tutorial/5-2.BERT/bert-base-multilingual-uncased\\vocab.txt\n"
     ]
    },
    {
     "name": "stdout",
     "output_type": "stream",
     "text": [
      "self.symbolic_embedding_number: 4003\n"
     ]
    }
   ],
   "source": [
    "\n",
    "from param import args\n",
    "\n",
    "'''predefined at param.py'''\n",
    "args.config = r'configs/vqa_multilingual.json'\n",
    "args.output = r'snap/vqa_multilingual_model'\n",
    "args.test = 'val'\n",
    "#args.load = r'snap/vqa'\n",
    "args.weight_disable = True\n",
    "args.kl_divergence = False\n",
    "args.multiGPU =False\n",
    "args.num_workers =0\n",
    "args.save_folder =\"test\"\n",
    "\n",
    "'''modify src\\tools\\sharearray cache path to current folder'''\n",
    "\n",
    "from pretrain.qa_answer_table import AnswerTable,load_lxmert_qa, load_lxmert_from_sgg_and_lxmert_pretrain, load_lxmert_from_pretrain_noqa\n",
    "from tasks.vqa_model import VQAModel\n",
    "from tasks.vqa_data import VQADataset, VQATorchDataset, VQAEvaluator\n",
    "\n",
    "from utils import load_lxmert_sgg\n",
    "\n",
    "'''load tokenizer'''\n",
    "from lxrt.tokenization import BertTokenizer\n",
    "\n",
    "tokenizer = BertTokenizer.from_pretrained(\n",
    "    args.huggingface+args.tokenizer,\n",
    "    do_lower_case=True\n",
    ")\n",
    "\n",
    "DataTuple = collections.namedtuple(\"DataTuple\", 'dataset loader evaluator')"
   ]
  },
  {
   "cell_type": "code",
   "execution_count": 12,
   "id": "9e1ba957",
   "metadata": {},
   "outputs": [],
   "source": [
    "from src.PWI_func import VQA,PWI_FixedReplace_QuesModify_Embed,a2b,b2c,shift,list_mul,get_data_tuple"
   ]
  },
  {
   "cell_type": "markdown",
   "id": "658d754b",
   "metadata": {},
   "source": [
    "# '''load trained VQA model'''\n"
   ]
  },
  {
   "cell_type": "code",
   "execution_count": 14,
   "id": "9d03d5cb",
   "metadata": {
    "scrolled": true
   },
   "outputs": [
    {
     "name": "stdout",
     "output_type": "stream",
     "text": [
      "None\n",
      "None\n",
      "snap/vqa_multilingual/Epoch45GEOnly.pth\n",
      "splits: train,nominival\n",
      "Load 632117 data from split(s) train,nominival.\n",
      "['train']\n",
      "'train2014_obj36.h5_boxes': returning memmapped view.\n",
      "'train2014_obj36.h5_objects_id': returning memmapped view.\n",
      "'train2014_obj36.h5_objects_conf': returning memmapped view.\n",
      "'train2014_obj36.h5_attrs_id': returning memmapped view.\n",
      "'train2014_obj36.h5_attrs_conf': returning memmapped view.\n",
      "data/mscoco_imgfeat/train2014_obj36.h5 82783\n",
      "Created ['train']\n"
     ]
    },
    {
     "name": "stderr",
     "output_type": "stream",
     "text": [
      "INFO:lxrt.tokenization:loading vocabulary file C:/Users/lab/work/Anna/nlp-tutorial/5-2.BERT/bert-base-multilingual-uncased\\vocab.txt\n"
     ]
    },
    {
     "name": "stdout",
     "output_type": "stream",
     "text": [
      "Use 443757 data in torch dataset\n",
      "\n",
      "data/vocabs/attributes_vocab.txt\n",
      "data/vocabs/attributes_de_vocab.txt\n",
      "data/vocabs/objects_vocab.txt\n",
      "data/vocabs/objects_de_vocab.txt\n",
      "splits: minival\n",
      "Load 25994 data from split(s) minival.\n",
      "['minival']\n",
      "'val2014_obj36.h5_boxes': returning memmapped view.\n",
      "'val2014_obj36.h5_objects_id': returning memmapped view.\n",
      "'val2014_obj36.h5_objects_conf': returning memmapped view.\n",
      "'val2014_obj36.h5_attrs_id': returning memmapped view.\n",
      "'val2014_obj36.h5_attrs_conf': returning memmapped view.\n"
     ]
    },
    {
     "name": "stderr",
     "output_type": "stream",
     "text": [
      "INFO:lxrt.tokenization:loading vocabulary file C:/Users/lab/work/Anna/nlp-tutorial/5-2.BERT/bert-base-multilingual-uncased\\vocab.txt\n",
      "INFO:lxrt.tokenization:loading vocabulary file C:/Users/lab/work/Anna/nlp-tutorial/5-2.BERT/bert-base-multilingual-uncased\\vocab.txt\n"
     ]
    },
    {
     "name": "stdout",
     "output_type": "stream",
     "text": [
      "data/mscoco_imgfeat/val2014_obj36.h5 40504\n",
      "Created ['minival']\n",
      "Use 25994 data in torch dataset\n",
      "\n",
      "data/vocabs/attributes_vocab.txt\n",
      "data/vocabs/attributes_de_vocab.txt\n",
      "data/vocabs/objects_vocab.txt\n",
      "data/vocabs/objects_de_vocab.txt\n",
      "#################################\n",
      "args.output_attention: True\n"
     ]
    },
    {
     "name": "stderr",
     "output_type": "stream",
     "text": [
      "INFO:lxrt.modeling:loading archive file C:/Users/lab/work/Anna/nlp-tutorial/5-2.BERT/bert-base-multilingual-uncased\n",
      "INFO:lxrt.modeling:Model config {\n",
      "  \"architectures\": [\n",
      "    \"BertForMaskedLM\"\n",
      "  ],\n",
      "  \"attention_probs_dropout_prob\": 0.1,\n",
      "  \"directionality\": \"bidi\",\n",
      "  \"hidden_act\": \"gelu\",\n",
      "  \"hidden_dropout_prob\": 0.1,\n",
      "  \"hidden_size\": 768,\n",
      "  \"initializer_range\": 0.02,\n",
      "  \"intermediate_size\": 3072,\n",
      "  \"layer_norm_eps\": 1e-12,\n",
      "  \"max_position_embeddings\": 512,\n",
      "  \"model_type\": \"bert\",\n",
      "  \"num_attention_heads\": 12,\n",
      "  \"num_hidden_layers\": 12,\n",
      "  \"pad_token_id\": 0,\n",
      "  \"pooler_fc_size\": 768,\n",
      "  \"pooler_num_attention_heads\": 12,\n",
      "  \"pooler_num_fc_layers\": 3,\n",
      "  \"pooler_size_per_head\": 128,\n",
      "  \"pooler_type\": \"first_token_transform\",\n",
      "  \"symbolic_embedding_number\": 4003,\n",
      "  \"type_vocab_size\": 2,\n",
      "  \"vocab_size\": 105879\n",
      "}\n",
      "\n"
     ]
    },
    {
     "name": "stdout",
     "output_type": "stream",
     "text": [
      "LXRT encoder with 12 l_layers, 0 x_layers, and 0 r_layers.\n",
      "\n",
      "\n",
      "!! Has 12 layers\n"
     ]
    },
    {
     "name": "stderr",
     "output_type": "stream",
     "text": [
      "INFO:lxrt.modeling:Weights of LXRTFeatureExtractionAttention not initialized from pretrained model: ['bert.embeddings.symbolic_embedding.weight', 'bert.embeddings.token_type_embeddings_visual.weight', 'bert.embeddings.position_embeddings_visual.weight', 'bert.embeddings.visn_fc.weight', 'bert.embeddings.visn_fc.bias', 'bert.embeddings.visn_layer_norm.weight', 'bert.embeddings.visn_layer_norm.bias', 'bert.embeddings.box_fc.weight', 'bert.embeddings.box_fc.bias', 'bert.embeddings.box_layer_norm.weight', 'bert.embeddings.box_layer_norm.bias', 'bert.embeddings.tag_layer_norm.weight', 'bert.embeddings.tag_layer_norm.bias', 'bert.encoder.visn_fc.visn_fc.weight', 'bert.encoder.visn_fc.visn_fc.bias', 'bert.encoder.visn_fc.visn_layer_norm.weight', 'bert.encoder.visn_fc.visn_layer_norm.bias', 'bert.encoder.visn_fc.box_fc.weight', 'bert.encoder.visn_fc.box_fc.bias', 'bert.encoder.visn_fc.box_layer_norm.weight', 'bert.encoder.visn_fc.box_layer_norm.bias']\n",
      "INFO:lxrt.modeling:Weights from pretrained model not used in LXRTFeatureExtractionAttention: ['cls.predictions.bias', 'cls.predictions.transform.dense.weight', 'cls.predictions.transform.dense.bias', 'cls.predictions.decoder.weight', 'cls.seq_relationship.weight', 'cls.seq_relationship.bias', 'cls.predictions.transform.LayerNorm.weight', 'cls.predictions.transform.LayerNorm.bias']\n",
      "INFO:lxrt.tokenization:loading vocabulary file C:/Users/lab/work/Anna/nlp-tutorial/5-2.BERT/bert-base-multilingual-uncased\\vocab.txt\n"
     ]
    },
    {
     "name": "stdout",
     "output_type": "stream",
     "text": [
      "Load QA pre-trained LXMERT from snap/vqa_multilingual/Epoch45GEOnly.pth \n",
      "Loaded 0 answers from LXRTQA pre-training and 0 not\n",
      "\n",
      "BertAdam Total Iters: 693350\n",
      "BERTAdam lr 5e-05 total_steps 693350  warmup 0.1\n"
     ]
    }
   ],
   "source": [
    "\n",
    "'''load vqa fine-tuned model'''\n",
    "args.load_lxmert_pretrain = None# \"snap/pretrained/CC_Unsupervised_LXRT.pth\"\n",
    "args.load_lxmert_qa = \"snap/vqa_multilingual/BEST.pth\"\n",
    "\n",
    "epoch=45\n",
    "\n",
    "args.load_lxmert_qa = \"snap/vqa_multilingual/Epoch%dGEOnly.pth\"%epoch\n",
    "\n",
    "\n",
    "\n",
    "args.load_lxmert = None\n",
    "print(args.load_lxmert)\n",
    "print(args.load_lxmert_pretrain)\n",
    "print(args.load_lxmert_qa)\n",
    "\n",
    "vqa = VQA();"
   ]
  },
  {
   "cell_type": "code",
   "execution_count": 92,
   "id": "4873d30d",
   "metadata": {},
   "outputs": [
    {
     "name": "stdout",
     "output_type": "stream",
     "text": [
      "11 ['wagen', 'zug', 'flugzeug', 'fernsehen', 'uhr', 'telefon', 'kamera', 'hund', 'kuh', 'baum', 'berg']\n",
      "11 ['hund', 'kuh', 'ente', 'mais', 'stein', 'blatt', 'zeitschrift', 'wagen', 'zug', 'wein', 'haar']\n",
      "11 11 11\n",
      "11\n"
     ]
    }
   ],
   "source": [
    "object_file = \"object_list_bilingual_train\"\n",
    "object_file = \"object_list_bilingual_train_GETags\"\n",
    "\n",
    "if object_file == \"object_list_bilingual_train\":\n",
    "    from data.PWI.object_list_bilingual import food_list,animal_list,food_list_cate,pseudo_list,hypernymy_list\n",
    "elif object_file == \"object_list_bilingual_train_GETags\":\n",
    "    from data.PWI.object_list_bilingual_GETags import food_list,animal_list,food_list_cate,pseudo_list,hypernymy_list\n",
    "    \n",
    "print(len(food_list),food_list)\n",
    "print(len(animal_list),animal_list)\n",
    "print(len(food_list_cate),len(pseudo_list),len(hypernymy_list))\n",
    "Nscan = len(food_list)\n",
    "print(Nscan)"
   ]
  },
  {
   "cell_type": "code",
   "execution_count": 98,
   "id": "1ae1cdd4",
   "metadata": {
    "scrolled": false
   },
   "outputs": [
    {
     "name": "stdout",
     "output_type": "stream",
     "text": [
      "11 ['wagen', 'zug', 'flugzeug', 'fernsehen', 'uhr', 'telefon', 'kamera', 'hund', 'kuh', 'baum', 'berg']\n",
      "11 ['hund', 'kuh', 'ente', 'mais', 'stein', 'blatt', 'zeitschrift', 'wagen', 'zug', 'wein', 'haar']\n",
      "875\n",
      "train_Anna_embed_v2\n",
      "train_Anna_embed_v2\n",
      "splits: train_Anna_embed_v2\n",
      "Load 875 data from split(s) train_Anna_embed_v2.\n",
      "['train']\n",
      "'train2014_obj36.h5_boxes': returning memmapped view.\n",
      "'train2014_obj36.h5_objects_id': returning memmapped view.\n",
      "'train2014_obj36.h5_objects_conf': returning memmapped view.\n",
      "'train2014_obj36.h5_attrs_id': returning memmapped view.\n",
      "'train2014_obj36.h5_attrs_conf': returning memmapped view.\n"
     ]
    },
    {
     "name": "stderr",
     "output_type": "stream",
     "text": [
      "INFO:lxrt.tokenization:loading vocabulary file C:/Users/lab/work/Anna/nlp-tutorial/5-2.BERT/bert-base-multilingual-uncased\\vocab.txt\n"
     ]
    },
    {
     "name": "stdout",
     "output_type": "stream",
     "text": [
      "data/mscoco_imgfeat/train2014_obj36.h5 82783\n",
      "Created ['train']\n",
      "Use 875 data in torch dataset\n",
      "\n",
      "data/vocabs/attributes_vocab.txt\n",
      "data/vocabs/attributes_de_vocab.txt\n",
      "data/vocabs/objects_vocab.txt\n",
      "data/vocabs/objects_de_vocab.txt\n",
      "[1652]\n",
      "[1768]\n"
     ]
    },
    {
     "name": "stderr",
     "output_type": "stream",
     "text": [
      "100%|██████████████████████████████████████████████████████████████████████████████████| 14/14 [00:07<00:00,  1.88it/s]\n",
      "100%|██████████████████████████████████████████████████████████████████████████████████| 14/14 [00:08<00:00,  1.67it/s]\n"
     ]
    },
    {
     "name": "stdout",
     "output_type": "stream",
     "text": [
      "875\n",
      "483\n",
      "483\n",
      "483\n"
     ]
    },
    {
     "name": "stderr",
     "output_type": "stream",
     "text": [
      "100%|██████████████████████████████████████████████████████████████████████████████████| 14/14 [00:07<00:00,  1.89it/s]\n",
      "100%|██████████████████████████████████████████████████████████████████████████████████| 14/14 [00:07<00:00,  1.89it/s]\n",
      "100%|██████████████████████████████████████████████████████████████████████████████████| 14/14 [00:07<00:00,  1.89it/s]\n",
      "100%|██████████████████████████████████████████████████████████████████████████████████| 14/14 [00:08<00:00,  1.66it/s]\n"
     ]
    },
    {
     "name": "stdout",
     "output_type": "stream",
     "text": [
      "483\n",
      "11 ['wagen', 'zug', 'flugzeug', 'fernsehen', 'uhr', 'telefon', 'kamera', 'hund', 'kuh', 'baum', 'berg']\n",
      "11 ['hund', 'kuh', 'ente', 'mais', 'stein', 'blatt', 'zeitschrift', 'wagen', 'zug', 'wein', 'haar']\n",
      "873\n",
      "train_Anna_embed_v2\n",
      "train_Anna_embed_v2\n",
      "splits: train_Anna_embed_v2\n",
      "Load 873 data from split(s) train_Anna_embed_v2.\n",
      "['train']\n",
      "'train2014_obj36.h5_boxes': returning memmapped view.\n",
      "'train2014_obj36.h5_objects_id': returning memmapped view.\n",
      "'train2014_obj36.h5_objects_conf': returning memmapped view.\n",
      "'train2014_obj36.h5_attrs_id': returning memmapped view.\n",
      "'train2014_obj36.h5_attrs_conf': returning memmapped view.\n"
     ]
    },
    {
     "name": "stderr",
     "output_type": "stream",
     "text": [
      "INFO:lxrt.tokenization:loading vocabulary file C:/Users/lab/work/Anna/nlp-tutorial/5-2.BERT/bert-base-multilingual-uncased\\vocab.txt\n"
     ]
    },
    {
     "name": "stdout",
     "output_type": "stream",
     "text": [
      "data/mscoco_imgfeat/train2014_obj36.h5 82783\n",
      "Created ['train']\n",
      "Use 873 data in torch dataset\n",
      "\n",
      "data/vocabs/attributes_vocab.txt\n",
      "data/vocabs/attributes_de_vocab.txt\n",
      "data/vocabs/objects_vocab.txt\n",
      "data/vocabs/objects_de_vocab.txt\n",
      "[1670]\n",
      "[2100]\n"
     ]
    },
    {
     "name": "stderr",
     "output_type": "stream",
     "text": [
      "100%|██████████████████████████████████████████████████████████████████████████████████| 14/14 [00:06<00:00,  2.07it/s]\n",
      "100%|██████████████████████████████████████████████████████████████████████████████████| 14/14 [00:07<00:00,  1.83it/s]\n"
     ]
    },
    {
     "name": "stdout",
     "output_type": "stream",
     "text": [
      "873\n",
      "447\n",
      "447\n",
      "447\n"
     ]
    },
    {
     "name": "stderr",
     "output_type": "stream",
     "text": [
      "100%|██████████████████████████████████████████████████████████████████████████████████| 14/14 [00:06<00:00,  2.08it/s]\n",
      "100%|██████████████████████████████████████████████████████████████████████████████████| 14/14 [00:06<00:00,  2.09it/s]\n",
      "100%|██████████████████████████████████████████████████████████████████████████████████| 14/14 [00:07<00:00,  1.82it/s]\n",
      "100%|██████████████████████████████████████████████████████████████████████████████████| 14/14 [00:06<00:00,  2.08it/s]\n"
     ]
    },
    {
     "name": "stdout",
     "output_type": "stream",
     "text": [
      "447\n",
      "11 ['wagen', 'zug', 'flugzeug', 'fernsehen', 'uhr', 'telefon', 'kamera', 'hund', 'kuh', 'baum', 'berg']\n",
      "11 ['hund', 'kuh', 'ente', 'mais', 'stein', 'blatt', 'zeitschrift', 'wagen', 'zug', 'wein', 'haar']\n",
      "763\n",
      "train_Anna_embed_v2\n",
      "train_Anna_embed_v2\n",
      "splits: train_Anna_embed_v2\n",
      "Load 763 data from split(s) train_Anna_embed_v2.\n",
      "['train']\n",
      "'train2014_obj36.h5_boxes': returning memmapped view.\n",
      "'train2014_obj36.h5_objects_id': returning memmapped view.\n",
      "'train2014_obj36.h5_objects_conf': returning memmapped view.\n",
      "'train2014_obj36.h5_attrs_id': returning memmapped view.\n",
      "'train2014_obj36.h5_attrs_conf': returning memmapped view.\n"
     ]
    },
    {
     "name": "stderr",
     "output_type": "stream",
     "text": [
      "INFO:lxrt.tokenization:loading vocabulary file C:/Users/lab/work/Anna/nlp-tutorial/5-2.BERT/bert-base-multilingual-uncased\\vocab.txt\n"
     ]
    },
    {
     "name": "stdout",
     "output_type": "stream",
     "text": [
      "data/mscoco_imgfeat/train2014_obj36.h5 82783\n",
      "Created ['train']\n",
      "Use 763 data in torch dataset\n",
      "\n",
      "data/vocabs/attributes_vocab.txt\n",
      "data/vocabs/attributes_de_vocab.txt\n",
      "data/vocabs/objects_vocab.txt\n",
      "data/vocabs/objects_de_vocab.txt\n",
      "[1731]\n",
      "[1448]\n"
     ]
    },
    {
     "name": "stderr",
     "output_type": "stream",
     "text": [
      "100%|██████████████████████████████████████████████████████████████████████████████████| 12/12 [00:06<00:00,  1.73it/s]\n",
      "100%|██████████████████████████████████████████████████████████████████████████████████| 12/12 [00:05<00:00,  2.04it/s]\n"
     ]
    },
    {
     "name": "stdout",
     "output_type": "stream",
     "text": [
      "763\n",
      "2\n",
      "2\n",
      "2\n"
     ]
    },
    {
     "name": "stderr",
     "output_type": "stream",
     "text": [
      "100%|██████████████████████████████████████████████████████████████████████████████████| 12/12 [00:05<00:00,  2.03it/s]\n",
      "100%|██████████████████████████████████████████████████████████████████████████████████| 12/12 [00:05<00:00,  2.03it/s]\n",
      "100%|██████████████████████████████████████████████████████████████████████████████████| 12/12 [00:06<00:00,  1.75it/s]\n",
      "100%|██████████████████████████████████████████████████████████████████████████████████| 12/12 [00:05<00:00,  2.03it/s]\n"
     ]
    },
    {
     "name": "stdout",
     "output_type": "stream",
     "text": [
      "2\n",
      "11 ['wagen', 'zug', 'flugzeug', 'fernsehen', 'uhr', 'telefon', 'kamera', 'hund', 'kuh', 'baum', 'berg']\n",
      "11 ['hund', 'kuh', 'ente', 'mais', 'stein', 'blatt', 'zeitschrift', 'wagen', 'zug', 'wein', 'haar']\n",
      "352\n",
      "train_Anna_embed_v2\n",
      "train_Anna_embed_v2\n",
      "splits: train_Anna_embed_v2\n",
      "Load 352 data from split(s) train_Anna_embed_v2.\n",
      "['train']\n",
      "'train2014_obj36.h5_boxes': returning memmapped view.\n",
      "'train2014_obj36.h5_objects_id': returning memmapped view.\n",
      "'train2014_obj36.h5_objects_conf': returning memmapped view.\n",
      "'train2014_obj36.h5_attrs_id': returning memmapped view.\n",
      "'train2014_obj36.h5_attrs_conf': returning memmapped view.\n"
     ]
    },
    {
     "name": "stderr",
     "output_type": "stream",
     "text": [
      "INFO:lxrt.tokenization:loading vocabulary file C:/Users/lab/work/Anna/nlp-tutorial/5-2.BERT/bert-base-multilingual-uncased\\vocab.txt\n"
     ]
    },
    {
     "name": "stdout",
     "output_type": "stream",
     "text": [
      "data/mscoco_imgfeat/train2014_obj36.h5 82783\n",
      "Created ['train']\n",
      "Use 352 data in torch dataset\n",
      "\n",
      "data/vocabs/attributes_vocab.txt\n",
      "data/vocabs/attributes_de_vocab.txt\n",
      "data/vocabs/objects_vocab.txt\n",
      "data/vocabs/objects_de_vocab.txt\n",
      "[1643]\n",
      "[1787]\n"
     ]
    },
    {
     "name": "stderr",
     "output_type": "stream",
     "text": [
      "100%|████████████████████████████████████████████████████████████████████████████████████| 6/6 [00:03<00:00,  1.79it/s]\n",
      "100%|████████████████████████████████████████████████████████████████████████████████████| 6/6 [00:03<00:00,  1.79it/s]\n"
     ]
    },
    {
     "name": "stdout",
     "output_type": "stream",
     "text": [
      "352\n",
      "4\n",
      "4\n",
      "4\n"
     ]
    },
    {
     "name": "stderr",
     "output_type": "stream",
     "text": [
      "100%|████████████████████████████████████████████████████████████████████████████████████| 6/6 [00:04<00:00,  1.39it/s]\n",
      "100%|████████████████████████████████████████████████████████████████████████████████████| 6/6 [00:03<00:00,  1.79it/s]\n",
      "100%|████████████████████████████████████████████████████████████████████████████████████| 6/6 [00:03<00:00,  1.80it/s]\n",
      "100%|████████████████████████████████████████████████████████████████████████████████████| 6/6 [00:03<00:00,  1.78it/s]\n"
     ]
    },
    {
     "name": "stdout",
     "output_type": "stream",
     "text": [
      "4\n",
      "11 ['wagen', 'zug', 'flugzeug', 'fernsehen', 'uhr', 'telefon', 'kamera', 'hund', 'kuh', 'baum', 'berg']\n",
      "11 ['hund', 'kuh', 'ente', 'mais', 'stein', 'blatt', 'zeitschrift', 'wagen', 'zug', 'wein', 'haar']\n",
      "438\n",
      "train_Anna_embed_v2\n",
      "train_Anna_embed_v2\n",
      "splits: train_Anna_embed_v2\n",
      "Load 438 data from split(s) train_Anna_embed_v2.\n",
      "['train']\n",
      "'train2014_obj36.h5_boxes': returning memmapped view.\n",
      "'train2014_obj36.h5_objects_id': returning memmapped view.\n",
      "'train2014_obj36.h5_objects_conf': returning memmapped view.\n",
      "'train2014_obj36.h5_attrs_id': returning memmapped view.\n",
      "'train2014_obj36.h5_attrs_conf': returning memmapped view.\n"
     ]
    },
    {
     "name": "stderr",
     "output_type": "stream",
     "text": [
      "INFO:lxrt.tokenization:loading vocabulary file C:/Users/lab/work/Anna/nlp-tutorial/5-2.BERT/bert-base-multilingual-uncased\\vocab.txt\n"
     ]
    },
    {
     "name": "stdout",
     "output_type": "stream",
     "text": [
      "data/mscoco_imgfeat/train2014_obj36.h5 82783\n",
      "Created ['train']\n",
      "Use 438 data in torch dataset\n",
      "\n",
      "data/vocabs/attributes_vocab.txt\n",
      "data/vocabs/attributes_de_vocab.txt\n",
      "data/vocabs/objects_vocab.txt\n",
      "data/vocabs/objects_de_vocab.txt\n",
      "[1718]\n",
      "[94]\n"
     ]
    },
    {
     "name": "stderr",
     "output_type": "stream",
     "text": [
      "100%|████████████████████████████████████████████████████████████████████████████████████| 7/7 [00:03<00:00,  1.97it/s]\n",
      "100%|████████████████████████████████████████████████████████████████████████████████████| 7/7 [00:04<00:00,  1.56it/s]\n"
     ]
    },
    {
     "name": "stdout",
     "output_type": "stream",
     "text": [
      "438\n",
      "236\n",
      "236\n",
      "236\n"
     ]
    },
    {
     "name": "stderr",
     "output_type": "stream",
     "text": [
      "100%|████████████████████████████████████████████████████████████████████████████████████| 7/7 [00:03<00:00,  1.98it/s]\n",
      "100%|████████████████████████████████████████████████████████████████████████████████████| 7/7 [00:03<00:00,  1.98it/s]\n",
      "100%|████████████████████████████████████████████████████████████████████████████████████| 7/7 [00:03<00:00,  1.98it/s]\n",
      "100%|████████████████████████████████████████████████████████████████████████████████████| 7/7 [00:03<00:00,  1.97it/s]\n"
     ]
    },
    {
     "name": "stdout",
     "output_type": "stream",
     "text": [
      "236\n",
      "11 ['wagen', 'zug', 'flugzeug', 'fernsehen', 'uhr', 'telefon', 'kamera', 'hund', 'kuh', 'baum', 'berg']\n",
      "11 ['hund', 'kuh', 'ente', 'mais', 'stein', 'blatt', 'zeitschrift', 'wagen', 'zug', 'wein', 'haar']\n",
      "1427\n",
      "train_Anna_embed_v2\n",
      "train_Anna_embed_v2\n",
      "splits: train_Anna_embed_v2\n",
      "Load 1427 data from split(s) train_Anna_embed_v2.\n",
      "['train']\n",
      "'train2014_obj36.h5_boxes': returning memmapped view.\n",
      "'train2014_obj36.h5_objects_id': returning memmapped view.\n",
      "'train2014_obj36.h5_objects_conf': returning memmapped view.\n",
      "'train2014_obj36.h5_attrs_id': returning memmapped view.\n",
      "'train2014_obj36.h5_attrs_conf': returning memmapped view.\n"
     ]
    },
    {
     "name": "stderr",
     "output_type": "stream",
     "text": [
      "INFO:lxrt.tokenization:loading vocabulary file C:/Users/lab/work/Anna/nlp-tutorial/5-2.BERT/bert-base-multilingual-uncased\\vocab.txt\n"
     ]
    },
    {
     "name": "stdout",
     "output_type": "stream",
     "text": [
      "data/mscoco_imgfeat/train2014_obj36.h5 82783\n",
      "Created ['train']\n",
      "Use 1427 data in torch dataset\n",
      "\n",
      "data/vocabs/attributes_vocab.txt\n",
      "data/vocabs/attributes_de_vocab.txt\n",
      "data/vocabs/objects_vocab.txt\n",
      "data/vocabs/objects_de_vocab.txt\n",
      "[2062]\n",
      "[707]\n"
     ]
    },
    {
     "name": "stderr",
     "output_type": "stream",
     "text": [
      "100%|██████████████████████████████████████████████████████████████████████████████████| 23/23 [00:12<00:00,  1.86it/s]\n",
      "100%|██████████████████████████████████████████████████████████████████████████████████| 23/23 [00:13<00:00,  1.73it/s]\n"
     ]
    },
    {
     "name": "stdout",
     "output_type": "stream",
     "text": [
      "1427\n",
      "429\n",
      "429\n",
      "429\n"
     ]
    },
    {
     "name": "stderr",
     "output_type": "stream",
     "text": [
      "100%|██████████████████████████████████████████████████████████████████████████████████| 23/23 [00:12<00:00,  1.86it/s]\n",
      "100%|██████████████████████████████████████████████████████████████████████████████████| 23/23 [00:13<00:00,  1.71it/s]\n",
      "100%|██████████████████████████████████████████████████████████████████████████████████| 23/23 [00:13<00:00,  1.66it/s]\n",
      "100%|██████████████████████████████████████████████████████████████████████████████████| 23/23 [00:14<00:00,  1.64it/s]\n"
     ]
    },
    {
     "name": "stdout",
     "output_type": "stream",
     "text": [
      "429\n",
      "11 ['wagen', 'zug', 'flugzeug', 'fernsehen', 'uhr', 'telefon', 'kamera', 'hund', 'kuh', 'baum', 'berg']\n",
      "11 ['hund', 'kuh', 'ente', 'mais', 'stein', 'blatt', 'zeitschrift', 'wagen', 'zug', 'wein', 'haar']\n",
      "902\n",
      "train_Anna_embed_v2\n",
      "train_Anna_embed_v2\n",
      "splits: train_Anna_embed_v2\n",
      "Load 902 data from split(s) train_Anna_embed_v2.\n",
      "['train']\n",
      "'train2014_obj36.h5_boxes': returning memmapped view.\n",
      "'train2014_obj36.h5_objects_id': returning memmapped view.\n",
      "'train2014_obj36.h5_objects_conf': returning memmapped view.\n",
      "'train2014_obj36.h5_attrs_id': returning memmapped view.\n",
      "'train2014_obj36.h5_attrs_conf': returning memmapped view.\n"
     ]
    },
    {
     "name": "stderr",
     "output_type": "stream",
     "text": [
      "INFO:lxrt.tokenization:loading vocabulary file C:/Users/lab/work/Anna/nlp-tutorial/5-2.BERT/bert-base-multilingual-uncased\\vocab.txt\n"
     ]
    },
    {
     "name": "stdout",
     "output_type": "stream",
     "text": [
      "data/mscoco_imgfeat/train2014_obj36.h5 82783\n",
      "Created ['train']\n",
      "Use 902 data in torch dataset\n",
      "\n",
      "data/vocabs/attributes_vocab.txt\n",
      "data/vocabs/attributes_de_vocab.txt\n",
      "data/vocabs/objects_vocab.txt\n",
      "data/vocabs/objects_de_vocab.txt\n",
      "[2339]\n",
      "[349]\n"
     ]
    },
    {
     "name": "stderr",
     "output_type": "stream",
     "text": [
      "100%|██████████████████████████████████████████████████████████████████████████████████| 15/15 [00:07<00:00,  1.90it/s]\n",
      "100%|██████████████████████████████████████████████████████████████████████████████████| 15/15 [00:08<00:00,  1.69it/s]\n"
     ]
    },
    {
     "name": "stdout",
     "output_type": "stream",
     "text": [
      "902\n",
      "69\n",
      "69\n",
      "69\n"
     ]
    },
    {
     "name": "stderr",
     "output_type": "stream",
     "text": [
      "100%|██████████████████████████████████████████████████████████████████████████████████| 15/15 [00:07<00:00,  1.90it/s]\n",
      "100%|██████████████████████████████████████████████████████████████████████████████████| 15/15 [00:07<00:00,  1.90it/s]\n",
      "100%|██████████████████████████████████████████████████████████████████████████████████| 15/15 [00:08<00:00,  1.68it/s]\n",
      "100%|██████████████████████████████████████████████████████████████████████████████████| 15/15 [00:07<00:00,  1.90it/s]\n"
     ]
    },
    {
     "name": "stdout",
     "output_type": "stream",
     "text": [
      "69\n",
      "11 ['wagen', 'zug', 'flugzeug', 'fernsehen', 'uhr', 'telefon', 'kamera', 'hund', 'kuh', 'baum', 'berg']\n",
      "11 ['hund', 'kuh', 'ente', 'mais', 'stein', 'blatt', 'zeitschrift', 'wagen', 'zug', 'wein', 'haar']\n",
      "1514\n",
      "train_Anna_embed_v2\n",
      "train_Anna_embed_v2\n",
      "splits: train_Anna_embed_v2\n",
      "Load 1514 data from split(s) train_Anna_embed_v2.\n",
      "['train']\n",
      "'train2014_obj36.h5_boxes': returning memmapped view.\n",
      "'train2014_obj36.h5_objects_id': returning memmapped view.\n",
      "'train2014_obj36.h5_objects_conf': returning memmapped view.\n",
      "'train2014_obj36.h5_attrs_id': returning memmapped view.\n",
      "'train2014_obj36.h5_attrs_conf': returning memmapped view.\n"
     ]
    },
    {
     "name": "stderr",
     "output_type": "stream",
     "text": [
      "INFO:lxrt.tokenization:loading vocabulary file C:/Users/lab/work/Anna/nlp-tutorial/5-2.BERT/bert-base-multilingual-uncased\\vocab.txt\n"
     ]
    },
    {
     "name": "stdout",
     "output_type": "stream",
     "text": [
      "data/mscoco_imgfeat/train2014_obj36.h5 82783\n",
      "Created ['train']\n",
      "Use 1514 data in torch dataset\n",
      "\n",
      "data/vocabs/attributes_vocab.txt\n",
      "data/vocabs/attributes_de_vocab.txt\n",
      "data/vocabs/objects_vocab.txt\n",
      "data/vocabs/objects_de_vocab.txt\n",
      "[1717]\n",
      "[1930]\n"
     ]
    },
    {
     "name": "stderr",
     "output_type": "stream",
     "text": [
      "100%|██████████████████████████████████████████████████████████████████████████████████| 24/24 [00:14<00:00,  1.67it/s]\n",
      "100%|██████████████████████████████████████████████████████████████████████████████████| 24/24 [00:13<00:00,  1.80it/s]\n"
     ]
    },
    {
     "name": "stdout",
     "output_type": "stream",
     "text": [
      "1514\n",
      "778\n",
      "778\n",
      "778\n"
     ]
    },
    {
     "name": "stderr",
     "output_type": "stream",
     "text": [
      "100%|██████████████████████████████████████████████████████████████████████████████████| 24/24 [00:14<00:00,  1.67it/s]\n",
      "100%|██████████████████████████████████████████████████████████████████████████████████| 24/24 [00:13<00:00,  1.80it/s]\n",
      "100%|██████████████████████████████████████████████████████████████████████████████████| 24/24 [00:14<00:00,  1.67it/s]\n",
      "100%|██████████████████████████████████████████████████████████████████████████████████| 24/24 [00:13<00:00,  1.79it/s]\n"
     ]
    },
    {
     "name": "stdout",
     "output_type": "stream",
     "text": [
      "778\n",
      "11 ['wagen', 'zug', 'flugzeug', 'fernsehen', 'uhr', 'telefon', 'kamera', 'hund', 'kuh', 'baum', 'berg']\n",
      "11 ['hund', 'kuh', 'ente', 'mais', 'stein', 'blatt', 'zeitschrift', 'wagen', 'zug', 'wein', 'haar']\n",
      "874\n",
      "train_Anna_embed_v2\n",
      "train_Anna_embed_v2\n",
      "splits: train_Anna_embed_v2\n",
      "Load 874 data from split(s) train_Anna_embed_v2.\n",
      "['train']\n",
      "'train2014_obj36.h5_boxes': returning memmapped view.\n",
      "'train2014_obj36.h5_objects_id': returning memmapped view.\n",
      "'train2014_obj36.h5_objects_conf': returning memmapped view.\n",
      "'train2014_obj36.h5_attrs_id': returning memmapped view.\n",
      "'train2014_obj36.h5_attrs_conf': returning memmapped view.\n"
     ]
    },
    {
     "name": "stderr",
     "output_type": "stream",
     "text": [
      "INFO:lxrt.tokenization:loading vocabulary file C:/Users/lab/work/Anna/nlp-tutorial/5-2.BERT/bert-base-multilingual-uncased\\vocab.txt\n"
     ]
    },
    {
     "name": "stdout",
     "output_type": "stream",
     "text": [
      "data/mscoco_imgfeat/train2014_obj36.h5 82783\n",
      "Created ['train']\n",
      "Use 874 data in torch dataset\n",
      "\n",
      "data/vocabs/attributes_vocab.txt\n",
      "data/vocabs/attributes_de_vocab.txt\n",
      "data/vocabs/objects_vocab.txt\n",
      "data/vocabs/objects_de_vocab.txt\n",
      "[1697]\n",
      "[1001]\n"
     ]
    },
    {
     "name": "stderr",
     "output_type": "stream",
     "text": [
      "100%|██████████████████████████████████████████████████████████████████████████████████| 14/14 [00:06<00:00,  2.04it/s]\n",
      "100%|██████████████████████████████████████████████████████████████████████████████████| 14/14 [00:06<00:00,  2.05it/s]\n"
     ]
    },
    {
     "name": "stdout",
     "output_type": "stream",
     "text": [
      "874\n",
      "337\n",
      "337\n",
      "337\n"
     ]
    },
    {
     "name": "stderr",
     "output_type": "stream",
     "text": [
      "100%|██████████████████████████████████████████████████████████████████████████████████| 14/14 [00:06<00:00,  2.05it/s]\n",
      "100%|██████████████████████████████████████████████████████████████████████████████████| 14/14 [00:07<00:00,  1.78it/s]\n",
      "100%|██████████████████████████████████████████████████████████████████████████████████| 14/14 [00:06<00:00,  2.04it/s]\n",
      "100%|██████████████████████████████████████████████████████████████████████████████████| 14/14 [00:06<00:00,  2.05it/s]\n"
     ]
    },
    {
     "name": "stdout",
     "output_type": "stream",
     "text": [
      "337\n",
      "11 ['wagen', 'zug', 'flugzeug', 'fernsehen', 'uhr', 'telefon', 'kamera', 'hund', 'kuh', 'baum', 'berg']\n",
      "11 ['hund', 'kuh', 'ente', 'mais', 'stein', 'blatt', 'zeitschrift', 'wagen', 'zug', 'wein', 'haar']\n",
      "959\n",
      "train_Anna_embed_v2\n",
      "train_Anna_embed_v2\n",
      "splits: train_Anna_embed_v2\n",
      "Load 959 data from split(s) train_Anna_embed_v2.\n",
      "['train']\n",
      "'train2014_obj36.h5_boxes': returning memmapped view.\n",
      "'train2014_obj36.h5_objects_id': returning memmapped view.\n",
      "'train2014_obj36.h5_objects_conf': returning memmapped view.\n",
      "'train2014_obj36.h5_attrs_id': returning memmapped view.\n",
      "'train2014_obj36.h5_attrs_conf': returning memmapped view.\n"
     ]
    },
    {
     "name": "stderr",
     "output_type": "stream",
     "text": [
      "INFO:lxrt.tokenization:loading vocabulary file C:/Users/lab/work/Anna/nlp-tutorial/5-2.BERT/bert-base-multilingual-uncased\\vocab.txt\n"
     ]
    },
    {
     "name": "stdout",
     "output_type": "stream",
     "text": [
      "data/mscoco_imgfeat/train2014_obj36.h5 82783\n",
      "Created ['train']\n",
      "Use 959 data in torch dataset\n",
      "\n",
      "data/vocabs/attributes_vocab.txt\n",
      "data/vocabs/attributes_de_vocab.txt\n",
      "data/vocabs/objects_vocab.txt\n",
      "data/vocabs/objects_de_vocab.txt\n",
      "[1891]\n",
      "[1539]\n"
     ]
    },
    {
     "name": "stderr",
     "output_type": "stream",
     "text": [
      "100%|██████████████████████████████████████████████████████████████████████████████████| 15/15 [00:08<00:00,  1.80it/s]\n",
      "100%|██████████████████████████████████████████████████████████████████████████████████| 15/15 [00:08<00:00,  1.81it/s]\n"
     ]
    },
    {
     "name": "stdout",
     "output_type": "stream",
     "text": [
      "959\n",
      "447\n",
      "447\n",
      "447\n"
     ]
    },
    {
     "name": "stderr",
     "output_type": "stream",
     "text": [
      "100%|██████████████████████████████████████████████████████████████████████████████████| 15/15 [00:09<00:00,  1.61it/s]\n",
      "100%|██████████████████████████████████████████████████████████████████████████████████| 15/15 [00:08<00:00,  1.81it/s]\n",
      "100%|██████████████████████████████████████████████████████████████████████████████████| 15/15 [00:09<00:00,  1.60it/s]\n",
      "100%|██████████████████████████████████████████████████████████████████████████████████| 15/15 [00:08<00:00,  1.80it/s]\n"
     ]
    },
    {
     "name": "stdout",
     "output_type": "stream",
     "text": [
      "447\n",
      "11 ['wagen', 'zug', 'flugzeug', 'fernsehen', 'uhr', 'telefon', 'kamera', 'hund', 'kuh', 'baum', 'berg']\n",
      "11 ['hund', 'kuh', 'ente', 'mais', 'stein', 'blatt', 'zeitschrift', 'wagen', 'zug', 'wein', 'haar']\n",
      "529\n",
      "train_Anna_embed_v2\n",
      "train_Anna_embed_v2\n",
      "splits: train_Anna_embed_v2\n",
      "Load 529 data from split(s) train_Anna_embed_v2.\n",
      "['train']\n",
      "'train2014_obj36.h5_boxes': returning memmapped view.\n",
      "'train2014_obj36.h5_objects_id': returning memmapped view.\n",
      "'train2014_obj36.h5_objects_conf': returning memmapped view.\n",
      "'train2014_obj36.h5_attrs_id': returning memmapped view.\n",
      "'train2014_obj36.h5_attrs_conf': returning memmapped view.\n"
     ]
    },
    {
     "name": "stderr",
     "output_type": "stream",
     "text": [
      "INFO:lxrt.tokenization:loading vocabulary file C:/Users/lab/work/Anna/nlp-tutorial/5-2.BERT/bert-base-multilingual-uncased\\vocab.txt\n"
     ]
    },
    {
     "name": "stdout",
     "output_type": "stream",
     "text": [
      "data/mscoco_imgfeat/train2014_obj36.h5 82783\n",
      "Created ['train']\n",
      "Use 529 data in torch dataset\n",
      "\n",
      "data/vocabs/attributes_vocab.txt\n",
      "data/vocabs/attributes_de_vocab.txt\n",
      "data/vocabs/objects_vocab.txt\n",
      "data/vocabs/objects_de_vocab.txt\n",
      "[1812]\n",
      "[2862]\n"
     ]
    },
    {
     "name": "stderr",
     "output_type": "stream",
     "text": [
      "100%|████████████████████████████████████████████████████████████████████████████████████| 9/9 [00:04<00:00,  1.95it/s]\n",
      "100%|████████████████████████████████████████████████████████████████████████████████████| 9/9 [00:04<00:00,  1.95it/s]\n"
     ]
    },
    {
     "name": "stdout",
     "output_type": "stream",
     "text": [
      "529\n",
      "95\n",
      "95\n",
      "95\n"
     ]
    },
    {
     "name": "stderr",
     "output_type": "stream",
     "text": [
      "100%|████████████████████████████████████████████████████████████████████████████████████| 9/9 [00:05<00:00,  1.58it/s]\n",
      "100%|████████████████████████████████████████████████████████████████████████████████████| 9/9 [00:04<00:00,  1.94it/s]\n",
      "100%|████████████████████████████████████████████████████████████████████████████████████| 9/9 [00:04<00:00,  1.95it/s]\n",
      "100%|████████████████████████████████████████████████████████████████████████████████████| 9/9 [00:04<00:00,  1.95it/s]\n"
     ]
    },
    {
     "name": "stdout",
     "output_type": "stream",
     "text": [
      "95\n"
     ]
    },
    {
     "data": {
      "image/png": "[encoded data removed]",
      "text/plain": [
       "<Figure size 1008x288 with 4 Axes>"
      ]
     },
     "metadata": {
      "needs_background": "light"
     },
     "output_type": "display_data"
    },
    {
     "data": {
      "image/png": "[encoded data removed]",
      "text/plain": [
       "<Figure size 1008x288 with 4 Axes>"
      ]
     },
     "metadata": {
      "needs_background": "light"
     },
     "output_type": "display_data"
    },
    {
     "data": {
      "image/png": "[encoded data removed]",
      "text/plain": [
       "<Figure size 1008x288 with 4 Axes>"
      ]
     },
     "metadata": {
      "needs_background": "light"
     },
     "output_type": "display_data"
    },
    {
     "data": {
      "image/png": "[encoded data removed]",
      "text/plain": [
       "<Figure size 1008x288 with 4 Axes>"
      ]
     },
     "metadata": {
      "needs_background": "light"
     },
     "output_type": "display_data"
    },
    {
     "data": {
      "image/png": "[encoded data removed]",
      "text/plain": [
       "<Figure size 1008x288 with 4 Axes>"
      ]
     },
     "metadata": {
      "needs_background": "light"
     },
     "output_type": "display_data"
    },
    {
     "data": {
      "image/png": "[encoded data removed]",
      "text/plain": [
       "<Figure size 1008x288 with 4 Axes>"
      ]
     },
     "metadata": {
      "needs_background": "light"
     },
     "output_type": "display_data"
    },
    {
     "data": {
      "image/png": "[encoded data removed]",
      "text/plain": [
       "<Figure size 1008x288 with 4 Axes>"
      ]
     },
     "metadata": {
      "needs_background": "light"
     },
     "output_type": "display_data"
    },
    {
     "data": {
      "image/png": "[encoded data removed]",
      "text/plain": [
       "<Figure size 1008x288 with 4 Axes>"
      ]
     },
     "metadata": {
      "needs_background": "light"
     },
     "output_type": "display_data"
    },
    {
     "data": {
      "image/png": "[encoded data removed]",
      "text/plain": [
       "<Figure size 1008x288 with 4 Axes>"
      ]
     },
     "metadata": {
      "needs_background": "light"
     },
     "output_type": "display_data"
    },
    {
     "data": {
      "image/png": "[encoded data removed]",
      "text/plain": [
       "<Figure size 1008x288 with 4 Axes>"
      ]
     },
     "metadata": {
      "needs_background": "light"
     },
     "output_type": "display_data"
    },
    {
     "data": {
      "image/png": "[encoded data removed]",
      "text/plain": [
       "<Figure size 1008x288 with 4 Axes>"
      ]
     },
     "metadata": {
      "needs_background": "light"
     },
     "output_type": "display_data"
    }
   ],
   "source": [
    "'''use original questions'''\n",
    "def quesfunc(sent):\n",
    "    return sent\n",
    "\n",
    "from unidecode import unidecode\n",
    "'''modified for multilingual VQA'''\n",
    "symbolic_objects= [unidecode(s).lower() for s in tset.symbolic_vocab.objects]\n",
    "\n",
    "for food_idid in range(0,Nscan):\n",
    "    if object_file == \"object_list_bilingual_train\":\n",
    "        from data.PWI.object_list_bilingual import food_list,animal_list,food_list_cate,pseudo_list,hypernymy_list\n",
    "    elif object_file == \"object_list_bilingual_train_GETags\":\n",
    "        from data.PWI.object_list_bilingual_GETags import food_list,animal_list,food_list_cate,pseudo_list,hypernymy_list\n",
    "    \n",
    "    \n",
    "    print(len(food_list),food_list)\n",
    "    print(len(animal_list),animal_list)\n",
    "\n",
    "    #food_idid=1\n",
    "    food_list=[food_list[food_idid]]\n",
    "    \n",
    "    animal_list=[animal_list[food_idid]]\n",
    "    food_list_cate=[food_list_cate[food_idid]]\n",
    "    pseudo_list=[pseudo_list[food_idid]]\n",
    "    hypernymy_list=[hypernymy_list[food_idid]]\n",
    "    \n",
    "    if object_file == \"object_list_bilingual_train\":\n",
    "        use_list=food_list\n",
    "    elif object_file == \"object_list_bilingual_train_GETags\":\n",
    "        use_list=hypernymy_list \n",
    "        \n",
    "    target_object=food_list[0]\n",
    "    answer_item=use_list[0]\n",
    "    data = []\n",
    "    word_ref=target_object\n",
    "\n",
    "    #dataset_name='nominival'\n",
    "    dataset_name='train'\n",
    "\n",
    "    description='embed_v2'\n",
    "\n",
    "    dataset_tailor=\"{}_Anna_{}\".format(dataset_name,description)\n",
    "\n",
    "    data.extend(json.load(open(\"data/vqa/{}.json\".format(dataset_name))))\n",
    "    data_food=[]\n",
    "    for i in range(len(data)):\n",
    "        for item in data[i]['label'].keys():\n",
    "            if item in use_list:\n",
    "                data_food.append(data[i])\n",
    "    print(len(data_food))\n",
    "    import json\n",
    "    with open(\"data/vqa/\"+dataset_tailor+\".json\", 'w') as f:\n",
    "        json.dump(data_food, f)\n",
    "    print(dataset_tailor)\n",
    "\n",
    "    '''start vqa test'''\n",
    "\n",
    "    '''\n",
    "    1) dataset_tailor is the dataset with food_list in answers\n",
    "    2) keep shuffle=False for a consistent order between different model evaluations\n",
    "    '''\n",
    "\n",
    "    vqa.model.eval()\n",
    "    print(dataset_tailor)\n",
    "    eval_tuple = get_data_tuple(dataset_tailor,bs=64,shuffle=False, drop_last=False)\n",
    "\n",
    "    '''\n",
    "    1) tset.symbolic_vocab.objects\n",
    "    with a length of 1600\n",
    "    including all the objects from RNN\n",
    "    2) dset.ans2label\n",
    "    with a length of 3129\n",
    "    including all the answers from VQA\n",
    "    '''\n",
    "\n",
    "    food_obj_id = [symbolic_objects.index(food_tmp) for food_tmp in food_list]\n",
    "    food_ans_id = [dset.ans2label[food_tmp] for food_tmp in use_list]\n",
    "    print(food_obj_id)\n",
    "    print(food_ans_id)\n",
    "\n",
    "    # animal_obj_id = [tset.symbolic_vocab.objects.index(animal_tmp) for animal_tmp in animal_list]\n",
    "    # animal_ans_id = [dset.ans2label[animal_tmp] for animal_tmp in animal_list]\n",
    "    # print(animal_obj_id)\n",
    "    # print(animal_ans_id)\n",
    "    '''no tags'''\n",
    "    \n",
    "    target_list = food_list\n",
    "    use_category = food_obj_id\n",
    "    replace_obj_id = food_list # not used but need to define\n",
    "\n",
    "    quesid6 = PWI_FixedReplace_QuesModify_Embed(quesfunc,vqa,\n",
    "                               eval_tuple,\n",
    "                               tset,\n",
    "                               tokenizer,\n",
    "                               replace_obj_id,\n",
    "                               use_category,\n",
    "                               ans_filter = None,\n",
    "                               replace_en=False,\n",
    "                               feat_filter_en=True,\n",
    "                               No_tags=True\n",
    "                              )\n",
    "\n",
    "    \n",
    "    '''no replacement'''\n",
    "    target_list = food_list\n",
    "    use_category = food_obj_id\n",
    "    replace_obj_id = food_list # not used but need to define\n",
    "\n",
    "    quesid0 = PWI_FixedReplace_QuesModify_Embed(quesfunc,vqa,\n",
    "                               eval_tuple,\n",
    "                               tset,\n",
    "                               tokenizer,\n",
    "                               replace_obj_id,\n",
    "                               use_category,\n",
    "                               ans_filter = None,\n",
    "                               replace_en=False,\n",
    "                               feat_filter_en=True,\n",
    "                               No_tags=False\n",
    "                              )\n",
    "\n",
    "    LM_choice = quesid0['LM_ans']\n",
    "    print(len(LM_choice))\n",
    "    LM_choice_id = [symbolic_objects.index(_tmp) if _tmp in use_list else 9999 for _tmp in LM_choice ]\n",
    "\n",
    "    ans_intargetlist=[(i,sco,ans) for i,(sco,ans,multi_ans,N_obj) in enumerate(zip(quesid0['LM_ans_score'],\n",
    "                                                                           quesid0['LM_ans'],\n",
    "                                                                           quesid0['multi_ans'],\n",
    "                                                                           quesid0['N_obj_pick']\n",
    "                                                                                )) if ans in use_list and N_obj>0]\n",
    "    target_select_id =[i[0] for i in ans_intargetlist]\n",
    "    print(len(ans_intargetlist))\n",
    "    print(len(target_select_id))\n",
    "\n",
    "    score0=[]\n",
    "    for i,score,ans in ans_intargetlist:\n",
    "        score0.append(quesid0['logit'][i][dset.ans2label[ans]].item())\n",
    "\n",
    "    dict_use=quesid0\n",
    "    quesid_new={}\n",
    "    quesid_new['image_feats_bert']=[]\n",
    "    quesid_new['image_tags_bert']=[]\n",
    "    quesid_new['image_obj']=[]\n",
    "    for i,(feats_bert,tags_bert,obj_id) in enumerate(zip(dict_use['image_feats_bert'],\n",
    "                                                         dict_use['image_tags_bert'],\n",
    "                                                         dict_use['image_obj'])):\n",
    "        if i in target_select_id:\n",
    "            #print(i,feats_bert.shape)\n",
    "            #print(i,tags_bert.shape)\n",
    "            #print(i,obj_id)\n",
    "            quesid_new['image_feats_bert'].append(feats_bert)\n",
    "            quesid_new['image_tags_bert'].append(tags_bert)\n",
    "            quesid_new['image_obj'].append(obj_id)\n",
    "    print(len(quesid_new['image_feats_bert']))\n",
    "    \n",
    "\n",
    "    hidden_0,_ = plot_cs_singleobj(quesid_new);\n",
    "\n",
    "#     for offset_id in range(Nscan):\n",
    "\n",
    "#         if object_file == \"object_list_bilingual_train\":\n",
    "#             from data.PWI.object_list_bilingual import food_list,animal_list,food_list_cate,pseudo_list,hypernymy_list \n",
    "\n",
    "    #target_list = food_list\n",
    "    #use_category = food_obj_id\n",
    "    replace_obj_id = food_list_cate # not used but need to define\n",
    "    quesid1 = PWI_FixedReplace_QuesModify_Embed(quesfunc,vqa,\n",
    "                               eval_tuple,\n",
    "                               tset,\n",
    "                               tokenizer,\n",
    "                               replace_obj_id,\n",
    "                               use_category,\n",
    "                               ans_filter = None,\n",
    "                               replace_en=True,\n",
    "                               feat_filter_en=True,\n",
    "                               No_tags=False\n",
    "                              )\n",
    "    score_noreplace=[]\n",
    "    for i,score,ans in ans_intargetlist:\n",
    "        score_noreplace.append(quesid1['logit'][i][dset.ans2label[ans]].item())\n",
    "\n",
    "    dict_use=quesid1\n",
    "    quesid_new={}\n",
    "    quesid_new['image_feats_bert']=[]\n",
    "    quesid_new['image_tags_bert']=[]\n",
    "    quesid_new['image_obj']=[]\n",
    "    for i,(feats_bert,tags_bert,obj_id) in enumerate(zip(dict_use['image_feats_bert'],\n",
    "                                                         dict_use['image_tags_bert'],\n",
    "                                                         dict_use['image_obj'])):\n",
    "        if i in target_select_id:\n",
    "            #print(i,feats_bert.shape)\n",
    "            #print(i,tags_bert.shape)\n",
    "            #print(i,obj_id)\n",
    "            quesid_new['image_feats_bert'].append(feats_bert)\n",
    "            quesid_new['image_tags_bert'].append(tags_bert)\n",
    "            quesid_new['image_obj'].append(obj_id)\n",
    "    #print(len(quesid_new['image_feats_bert']))\n",
    "\n",
    "    hidden_1,_ = plot_cs_singleobj(quesid_new);\n",
    "\n",
    "\n",
    "    replace_obj_id = animal_list # not used but need to define\n",
    "    quesid2 = PWI_FixedReplace_QuesModify_Embed(quesfunc,vqa,\n",
    "                               eval_tuple,\n",
    "                               tset,\n",
    "                               tokenizer,\n",
    "                               replace_obj_id,\n",
    "                               use_category,\n",
    "                               ans_filter = None,\n",
    "                               replace_en=True,\n",
    "                               feat_filter_en=True,\n",
    "                               No_tags=False\n",
    "                              )\n",
    "    score_wreplace=[]\n",
    "    for i,score,ans in ans_intargetlist:\n",
    "        score_wreplace.append(quesid2['logit'][i][dset.ans2label[ans]].item())\n",
    "        \n",
    "    dict_use=quesid2\n",
    "    quesid_new={}\n",
    "    quesid_new['image_feats_bert']=[]\n",
    "    quesid_new['image_tags_bert']=[]\n",
    "    quesid_new['image_obj']=[]\n",
    "    for i,(feats_bert,tags_bert,obj_id) in enumerate(zip(dict_use['image_feats_bert'],\n",
    "                                                         dict_use['image_tags_bert'],\n",
    "                                                         dict_use['image_obj'])):\n",
    "        if i in target_select_id:\n",
    "            #print(i,feats_bert.shape)\n",
    "            #print(i,tags_bert.shape)\n",
    "            #print(i,obj_id)\n",
    "            quesid_new['image_feats_bert'].append(feats_bert)\n",
    "            quesid_new['image_tags_bert'].append(tags_bert)\n",
    "            quesid_new['image_obj'].append(obj_id)\n",
    "    #print(len(quesid_new['image_feats_bert']))\n",
    "\n",
    "    hidden_2,_ = plot_cs_singleobj(quesid_new);\n",
    "\n",
    "    replace_obj_id = pseudo_list # not used but need to define\n",
    "\n",
    "    quesid5 = PWI_FixedReplace_QuesModify_Embed(quesfunc,vqa,\n",
    "                               eval_tuple,\n",
    "                               tset,\n",
    "                               tokenizer,\n",
    "                               replace_obj_id,\n",
    "                               use_category,\n",
    "                               ans_filter = None,\n",
    "                               replace_en=True,\n",
    "                               feat_filter_en=True,\n",
    "                               No_tags=False\n",
    "                              )\n",
    "    score_pseudo=[]\n",
    "    for i,score,ans in ans_intargetlist:\n",
    "        score_pseudo.append(quesid5['logit'][i][dset.ans2label[ans]].item())\n",
    "    dict_use=quesid5\n",
    "    quesid_new={}\n",
    "    quesid_new['image_feats_bert']=[]\n",
    "    quesid_new['image_tags_bert']=[]\n",
    "    quesid_new['image_obj']=[]\n",
    "    for i,(feats_bert,tags_bert,obj_id) in enumerate(zip(dict_use['image_feats_bert'],\n",
    "                                                         dict_use['image_tags_bert'],\n",
    "                                                         dict_use['image_obj'])):\n",
    "        if i in target_select_id:\n",
    "            #print(i,feats_bert.shape)\n",
    "            #print(i,tags_bert.shape)\n",
    "            #print(i,obj_id)\n",
    "            quesid_new['image_feats_bert'].append(feats_bert)\n",
    "            quesid_new['image_tags_bert'].append(tags_bert)\n",
    "            quesid_new['image_obj'].append(obj_id)\n",
    "    #print(len(quesid_new['image_feats_bert']))\n",
    "\n",
    "\n",
    "    hidden_3,_ = plot_cs_singleobj(quesid_new);\n",
    "\n",
    "    #if offset_id == 0:\n",
    "    replace_obj_id = hypernymy_list # not used but need to define\n",
    "    quesid4 = PWI_FixedReplace_QuesModify_Embed(quesfunc,vqa,\n",
    "                               eval_tuple,\n",
    "                               tset,\n",
    "                               tokenizer,\n",
    "                               replace_obj_id,\n",
    "                               use_category,\n",
    "                               ans_filter = None,\n",
    "                               replace_en=True,\n",
    "                               feat_filter_en=True,\n",
    "                               No_tags=False\n",
    "                              ) \n",
    "    score_hyponymy=[]\n",
    "    for i,score,ans in ans_intargetlist:\n",
    "        score_hyponymy.append(quesid4['logit'][i][dset.ans2label[ans]].item())\n",
    "    dict_use=quesid4\n",
    "    quesid_new={}\n",
    "    quesid_new['image_feats_bert']=[]\n",
    "    quesid_new['image_tags_bert']=[]\n",
    "    quesid_new['image_obj']=[]\n",
    "    for i,(feats_bert,tags_bert,obj_id) in enumerate(zip(dict_use['image_feats_bert'],\n",
    "                                                         dict_use['image_tags_bert'],\n",
    "                                                         dict_use['image_obj'])):\n",
    "        if i in target_select_id:\n",
    "            #print(i,feats_bert.shape)\n",
    "            #print(i,tags_bert.shape)\n",
    "            #print(i,obj_id)\n",
    "            quesid_new['image_feats_bert'].append(feats_bert)\n",
    "            quesid_new['image_tags_bert'].append(tags_bert)\n",
    "            quesid_new['image_obj'].append(obj_id)\n",
    "    print(len(quesid_new['image_feats_bert']))\n",
    "\n",
    "    hidden_4,_ = plot_cs_singleobj(quesid_new);\n",
    "\n",
    "    cs_index = 0#food_list.index(answer_item)\n",
    "    s_no=[]\n",
    "    s_same=[]\n",
    "    s_diff=[]\n",
    "    s_pseudo=[]\n",
    "    s_hyponymy=[]\n",
    "    #s_notags=[]\n",
    "    for i,score,ans in ans_intargetlist:\n",
    "        if ans==answer_item:\n",
    "            s_no.append(quesid0['logit'][i][dset.ans2label[ans]].item())\n",
    "            s_same.append(quesid1['logit'][i][dset.ans2label[ans]].item())\n",
    "            s_diff.append(quesid2['logit'][i][dset.ans2label[ans]].item())\n",
    "            s_pseudo.append(quesid5['logit'][i][dset.ans2label[ans]].item())\n",
    "            s_hyponymy.append(quesid4['logit'][i][dset.ans2label[ans]].item())\n",
    "            #s_notags.append(quesid6['logit'][i][dset.ans2label[ans]].item())\n",
    "    s_no=np.array(s_no)\n",
    "    s_same=np.array(s_same)\n",
    "    s_diff=np.array(s_diff)\n",
    "    s_pseudo=np.array(s_pseudo)\n",
    "    s_hyponymy=np.array(s_hyponymy)\n",
    "    #s_notags=np.array(s_notags)\n",
    "    p_no=-log2(s_no)\n",
    "    p_sa=-log2(s_same)\n",
    "    p_di=-log2(s_diff)\n",
    "    p_ps=-log2(s_pseudo)\n",
    "    p_hy=-log2(s_hyponymy)\n",
    "    #p_notags=-log2(s_notags)\n",
    "\n",
    "    f_sa=p_no-p_sa\n",
    "    f_di=p_no-p_di\n",
    "    f_ps=p_no-p_ps\n",
    "    f_hy=p_no-p_hy\n",
    "    #f_notags=p_no-p_notags\n",
    "    ans_pos=0\n",
    "    cs_same=[cos_sim(a,b) for a,b in zip(hidden_0[target_object],hidden_1[food_list_cate[ans_pos]])]\n",
    "    cs_diff=[cos_sim(a,b) for a,b in zip(hidden_0[target_object],hidden_2[animal_list[ans_pos]])]\n",
    "    cs_pseudo=[cos_sim(a,b) for a,b in zip(hidden_0[target_object],hidden_3[pseudo_list[ans_pos]])]\n",
    "    cs_hypernymy=[cos_sim(a,b) for a,b in zip(hidden_0[target_object],hidden_4[hypernymy_list[ans_pos]])]\n",
    "    #cs_notags=[cos_sim(a,b) for a,b in zip(hidden_0[answer_item],hidden_4[hypernymy_list[ans_pos]])]\n",
    "\n",
    "    fig, ax = plt.subplots(1, 4,figsize=[14,4],sharey=True)\n",
    "    #fig.suptitle('Horizontally stacked subplots')\n",
    "    ax[0].scatter(f_sa,cs_same,s=1)\n",
    "    ax[0].set_title('same category \\n %s to %s'%(answer_item,food_list_cate[ans_pos]))\n",
    "    ax[0].set_aspect('auto')\n",
    "    ax[0].set_xlim([-10,1])\n",
    "    ax[0].set_ylim([0.1,1.05])\n",
    "    ax[1].scatter(f_di,cs_diff,s=1)\n",
    "    ax[1].set_title('diff category \\n %s to %s'%(answer_item,animal_list[ans_pos]))\n",
    "    ax[1].set_aspect('auto')\n",
    "    ax[1].set_xlim([-10,1])\n",
    "    ax[2].scatter(f_ps,cs_pseudo,s=1)\n",
    "    ax[2].set_title('pseudo \\n %s to %s'%(answer_item,pseudo_list[ans_pos]))\n",
    "    ax[2].set_aspect('auto')\n",
    "    ax[2].set_xlim([-10,1])\n",
    "    ax[3].scatter(f_hy,cs_hypernymy,s=1)\n",
    "    ax[3].set_title('hypernymy \\n %s to %s'%(answer_item,hypernymy_list[ans_pos]))\n",
    "    ax[3].set_aspect('auto')\n",
    "    ax[3].set_xlim([-10,1])\n",
    "#         ax[0].scatter(f_no,cs_notags,s=1)\n",
    "#         ax[4].set_title('hypernymy \\n %s to none'%(answer_item))\n",
    "#         ax[4].set_aspect('auto')\n",
    "#         ax[4].set_xlim([-10,1])\n",
    "    savefig('./save/figures/%s_%s_epoch%d_multilingual_GE.jpg'%(dataset_name,target_object,epoch))\n",
    "    filename0='./save/embed/%s_%s_epoch%d_multilingual_GE.npz'%(dataset_name,target_object,epoch)\n",
    "    savez(filename0,\n",
    "         quesid0=quesid0,\n",
    "         quesid1=quesid1,\n",
    "         quesid2=quesid2,\n",
    "         quesid5=quesid5,\n",
    "         quesid4=quesid4,\n",
    "          quesid6=quesid6,\n",
    "          target_object=target_object,\n",
    "          #offset_id=offset_id,\n",
    "          object_file=object_file,\n",
    "          ans_intargetlist=ans_intargetlist\n",
    "        )"
   ]
  },
  {
   "cell_type": "code",
   "execution_count": null,
   "id": "b45aef1a",
   "metadata": {},
   "outputs": [],
   "source": []
  }
 ],
 "metadata": {
  "kernelspec": {
   "display_name": "Python 3",
   "language": "python",
   "name": "python3"
  },
  "language_info": {
   "codemirror_mode": {
    "name": "ipython",
    "version": 3
   },
   "file_extension": ".py",
   "mimetype": "text/x-python",
   "name": "python",
   "nbconvert_exporter": "python",
   "pygments_lexer": "ipython3",
   "version": "3.7.11"
  }
 },
 "nbformat": 4,
 "nbformat_minor": 5
}
